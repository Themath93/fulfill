{
 "cells": [
  {
   "cell_type": "code",
   "execution_count": 5,
   "id": "b96a5270",
   "metadata": {},
   "outputs": [],
   "source": [
    "import xlwings as xw\n",
    "import pandas as pd\n",
    "wb_cy = xw.Book('cytiva.xlsm')\n",
    "SHEET_NAMES =  ['Temp_DB', 'Shipment information', '인수증', \n",
    "'대리점송장', '대리점 출고대기', '로컬리스트', 'In-Transit part report', '기타리스트',\n",
    " '출고리스트', 'Cytiva Inventory BIN']"
   ]
  },
  {
   "cell_type": "code",
   "execution_count": 2,
   "id": "bf876924",
   "metadata": {},
   "outputs": [],
   "source": [
    "import win32com.client as cli"
   ]
  },
  {
   "cell_type": "code",
   "execution_count": 3,
   "id": "71a9f72d",
   "metadata": {},
   "outputs": [],
   "source": [
    "\n",
    "outlook = cli.Dispatch(\"Outlook.Application\").GetNamespace(\"MAPI\") # 아웃룩\n",
    "inbox = outlook.GetDefaultFolder(6) # 받은편지함\n",
    "msg = inbox.Items #메세지 정보\n",
    "msg_counter = msg.count # 총갯수\n"
   ]
  },
  {
   "cell_type": "code",
   "execution_count": 4,
   "id": "91a27076",
   "metadata": {},
   "outputs": [
    {
     "name": "stdout",
     "output_type": "stream",
     "text": [
      "SVC_CCH_noturgent\n",
      "SVC_LMR_noturgent\n",
      "SVC_LWW_noturgent\n"
     ]
    }
   ],
   "source": [
    "part_request = []\n",
    "for ms in inbox.Items:\n",
    "    if 'SVC' in ms.Subject:\n",
    "        print(ms.Subject)\n",
    "        part_request.append(ms)"
   ]
  },
  {
   "cell_type": "code",
   "execution_count": 98,
   "id": "4bd417ce",
   "metadata": {},
   "outputs": [],
   "source": [
    "body_exam = part_request[0].Body\n",
    "body = body_exam[:body_exam.rfind('}')+1]\n",
    "body\n",
    "json_body = json.loads(body)\n",
    "\n",
    "json_body.keys()\n",
    "dict_data = json_body['data']\n",
    "\n",
    "\n",
    "\n",
    "# dict_data\n"
   ]
  },
  {
   "cell_type": "code",
   "execution_count": null,
   "id": "c2232a02",
   "metadata": {},
   "outputs": [],
   "source": []
  },
  {
   "cell_type": "code",
   "execution_count": 99,
   "id": "71d99c0c",
   "metadata": {},
   "outputs": [
    {
     "data": {
      "text/plain": [
       "0"
      ]
     },
     "execution_count": 99,
     "metadata": {},
     "output_type": "execute_result"
    }
   ],
   "source": [
    "#출고요청일\n",
    "json_body['meta']['std_day']\n",
    "#배송요청일\n",
    "dict_data['req_day']\n",
    "#배송요청시간\n",
    "dict_data['req_time']\n",
    "#담당자\n",
    "dict_data['fe_initial']\n",
    "#긴급여부\n",
    "dict_data['is_urgent']"
   ]
  },
  {
   "cell_type": "code",
   "execution_count": 189,
   "id": "656512b2",
   "metadata": {},
   "outputs": [
    {
     "data": {
      "text/plain": [
       "465"
      ]
     },
     "execution_count": 189,
     "metadata": {},
     "output_type": "execute_result"
    }
   ],
   "source": [
    "body_exam.rfind('}')\n"
   ]
  },
  {
   "cell_type": "code",
   "execution_count": 190,
   "id": "3642ced0",
   "metadata": {},
   "outputs": [],
   "source": [
    "body = body_exam[:body_exam.rfind('}')+1]"
   ]
  },
  {
   "cell_type": "code",
   "execution_count": 191,
   "id": "b719095c",
   "metadata": {},
   "outputs": [],
   "source": [
    "json_body = json.loads(body)"
   ]
  },
  {
   "cell_type": "code",
   "execution_count": 192,
   "id": "8bcf40c8",
   "metadata": {},
   "outputs": [
    {
     "data": {
      "text/plain": [
       "dict_keys(['fe_name', 'fe_initial', 'req_day', 'req_time', 'address', 'del_met', 'is_return', 'recipient', 'is_urgent', 'parts', 'del_instruction'])"
      ]
     },
     "execution_count": 192,
     "metadata": {},
     "output_type": "execute_result"
    }
   ],
   "source": [
    "# 요청일자\n",
    "json_body['meta']['std_day']\n",
    "\n",
    "json_body['meta']['cols'].keys()"
   ]
  },
  {
   "cell_type": "code",
   "execution_count": 176,
   "id": "3bf0e680",
   "metadata": {},
   "outputs": [
    {
     "data": {
      "text/plain": [
       "['박재헌',\n",
       " 'KR_PJH',\n",
       " '2023-01-13',\n",
       " '18:00',\n",
       " '인천 연수구 송도동 218-3 삼성바이오로직스 5공장',\n",
       " '퀵',\n",
       " 0,\n",
       " '박재헌',\n",
       " 0,\n",
       " {'28999466': 2, '29159123': 1, '15921499': 1}]"
      ]
     },
     "execution_count": 176,
     "metadata": {},
     "output_type": "execute_result"
    }
   ],
   "source": [
    "json_body['data']"
   ]
  },
  {
   "cell_type": "code",
   "execution_count": 195,
   "id": "a1a9f528",
   "metadata": {},
   "outputs": [
    {
     "data": {
      "text/plain": [
       "{'fe_name': '박재헌',\n",
       " 'fe_initial': 'KR_PJH',\n",
       " 'req_day': '2023-01-07',\n",
       " 'req_time': '18:00',\n",
       " 'address': '인천 연수구 송도동 218-3 삼성바이오로직스 5공장',\n",
       " 'del_met': '퀵',\n",
       " 'is_return': 0,\n",
       " 'recipient': '박재헌',\n",
       " 'is_urgent': 0,\n",
       " 'parts': {'28999466': 2, '29159123': 1, '15921499': 1},\n",
       " 'del_instruction': None}"
      ]
     },
     "execution_count": 195,
     "metadata": {},
     "output_type": "execute_result"
    }
   ],
   "source": [
    "dict_data = dict(zip(json_body['meta']['cols'].keys(),json_body['data']))\n",
    "dict_data"
   ]
  },
  {
   "cell_type": "code",
   "execution_count": 198,
   "id": "458ad5cb",
   "metadata": {
    "scrolled": true
   },
   "outputs": [
    {
     "data": {
      "text/plain": [
       "0"
      ]
     },
     "execution_count": 198,
     "metadata": {},
     "output_type": "execute_result"
    }
   ],
   "source": [
    "#출고요청일\n",
    "json_body['meta']['std_day']\n",
    "#배송요청일\n",
    "dict_data['req_day']\n",
    "#배송요청시간\n",
    "dict_data['req_time']\n",
    "#담당자\n",
    "dict_data['fe_initial']\n",
    "#긴급여부\n",
    "dict_data['is_urgent']"
   ]
  },
  {
   "cell_type": "code",
   "execution_count": null,
   "id": "5cd954b7",
   "metadata": {},
   "outputs": [],
   "source": []
  },
  {
   "cell_type": "code",
   "execution_count": 40,
   "id": "30f22cbf",
   "metadata": {},
   "outputs": [],
   "source": [
    "ws_main=wb_cy.sheets['통합제어']"
   ]
  },
  {
   "cell_type": "code",
   "execution_count": 9,
   "id": "14d49a39",
   "metadata": {},
   "outputs": [],
   "source": [
    "cel_left = ws_main.range('J12').left\n",
    "cel_top = ws_main.range('J12').top"
   ]
  },
  {
   "cell_type": "code",
   "execution_count": 10,
   "id": "fe8f4fe2",
   "metadata": {},
   "outputs": [],
   "source": [
    "cel_width = ws_main.range('J12').width\n",
    "cel_height = ws_main.range('J12').height"
   ]
  },
  {
   "cell_type": "code",
   "execution_count": 11,
   "id": "d42420f1",
   "metadata": {},
   "outputs": [],
   "source": [
    "ws_main.api.Shapes.AddShape(125, cel_left, cel_top, cel_width, cel_height)\n",
    "ws_main.shapes[-1].name = part_request[0].Subject\n",
    "ws_main.shapes[-1].text = 'OutLook_link'\n"
   ]
  },
  {
   "cell_type": "code",
   "execution_count": null,
   "id": "8fefb264",
   "metadata": {},
   "outputs": [],
   "source": []
  },
  {
   "cell_type": "code",
   "execution_count": null,
   "id": "b4faa084",
   "metadata": {},
   "outputs": [],
   "source": [
    "## 온클릭 매크로연결\n",
    "ws_main.shapes[-1].api.OnAction = "
   ]
  },
  {
   "cell_type": "code",
   "execution_count": 41,
   "id": "31138e37",
   "metadata": {
    "scrolled": true
   },
   "outputs": [
    {
     "data": {
      "text/plain": [
       "[<Shape 'Picture 2' in <Sheet [cytiva.xlsm]통합제어>>,\n",
       " <Shape 'Rectangle 59' in <Sheet [cytiva.xlsm]통합제어>>,\n",
       " <Shape 'Picture 60' in <Sheet [cytiva.xlsm]통합제어>>,\n",
       " <Shape 'Group 18' in <Sheet [cytiva.xlsm]통합제어>>,\n",
       " <Shape 'Rectangle 21' in <Sheet [cytiva.xlsm]통합제어>>,\n",
       " <Shape 'Graphic 23' in <Sheet [cytiva.xlsm]통합제어>>,\n",
       " <Shape 'Rectangle 35' in <Sheet [cytiva.xlsm]통합제어>>,\n",
       " <Shape 'Rectangle 36' in <Sheet [cytiva.xlsm]통합제어>>,\n",
       " <Shape '닥터바이오' in <Sheet [cytiva.xlsm]통합제어>>,\n",
       " <Shape '닥터바이오' in <Sheet [cytiva.xlsm]통합제어>>,\n",
       " <Shape '닥터바이오' in <Sheet [cytiva.xlsm]통합제어>>,\n",
       " <Shape 'Group 2' in <Sheet [cytiva.xlsm]통합제어>>,\n",
       " <Shape '닥터바이오' in <Sheet [cytiva.xlsm]통합제어>>,\n",
       " <Shape 'Isosceles Triangle 1' in <Sheet [cytiva.xlsm]통합제어>>,\n",
       " <Shape '사각형: 잘린 대각선 방향 모서리 40' in <Sheet [cytiva.xlsm]통합제어>>,\n",
       " <Shape '닥터바이오' in <Sheet [cytiva.xlsm]통합제어>>,\n",
       " <Shape '닥터바이오' in <Sheet [cytiva.xlsm]통합제어>>,\n",
       " <Shape '사각형: 잘린 대각선 방향 모서리 40' in <Sheet [cytiva.xlsm]통합제어>>,\n",
       " <Shape 'Rectangle 61' in <Sheet [cytiva.xlsm]통합제어>>,\n",
       " <Shape 'Rectangle 62' in <Sheet [cytiva.xlsm]통합제어>>,\n",
       " <Shape 'Rectangle 63' in <Sheet [cytiva.xlsm]통합제어>>,\n",
       " <Shape '(cytiva_part_request)_20230106_PJH_urgent' in <Sheet [cytiva.xlsm]통합제어>>]"
      ]
     },
     "execution_count": 41,
     "metadata": {},
     "output_type": "execute_result"
    }
   ],
   "source": [
    "list(ws_main.shapes)"
   ]
  },
  {
   "cell_type": "code",
   "execution_count": 152,
   "id": "912e746e",
   "metadata": {},
   "outputs": [],
   "source": [
    "ws_main.shapes[-1].delete()"
   ]
  },
  {
   "cell_type": "code",
   "execution_count": 8,
   "id": "20cc48c4",
   "metadata": {},
   "outputs": [],
   "source": [
    "def get_df_rng(sheet=wb_cy.selection.sheet):\n",
    "    \"\"\"\n",
    "    실제 값이 들어가있는 범위 구하기\n",
    "    \"\"\"\n",
    "    sel_sht = sheet\n",
    "    row_start_nm = sel_sht.range('A2').end('down').row\n",
    "    row_end_nm = sel_sht.range('A1048576').end('up').row\n",
    "    \n",
    "    col_nm = sel_sht.range('XFD'+str(row_start_nm)).end('left').column\n",
    "    \n",
    "    return (row_start_nm,1),(row_end_nm,col_nm)"
   ]
  },
  {
   "cell_type": "code",
   "execution_count": 12,
   "id": "cece9bd6",
   "metadata": {},
   "outputs": [],
   "source": [
    "def get_df_rng(sheet=wb_cy.selection.sheet):\n",
    "    \"\"\"\n",
    "    실제 값이 들어가있는 범위 구하기\n",
    "    \"\"\"\n",
    "    sel_sht = sheet\n",
    "    row_start_nm = sel_sht.range('J11').end('down').row\n",
    "    row_end_nm = sel_sht.range('J1048576').end('up').row\n",
    "    \n",
    "    col_nm = sel_sht.range('XFD'+str(row_start_nm)).end('left').column\n",
    "    \n",
    "    return (row_start_nm,1),(row_end_nm,col_nm)"
   ]
  },
  {
   "cell_type": "code",
   "execution_count": 13,
   "id": "c178c051",
   "metadata": {},
   "outputs": [
    {
     "data": {
      "text/plain": [
       "((13, 1), (13, 16))"
      ]
     },
     "execution_count": 13,
     "metadata": {},
     "output_type": "execute_result"
    }
   ],
   "source": [
    "get_df_rng()"
   ]
  },
  {
   "cell_type": "code",
   "execution_count": 76,
   "id": "39d89159",
   "metadata": {},
   "outputs": [],
   "source": [
    "def get_empty_row(sheet=wb_cy.selection.sheet,col=1):\n",
    "    \"\"\"\n",
    "    특정컬럼의 마지막 값의 행번호 구하기\n",
    "    \"\"\"\n",
    "    sel_sht = sheet\n",
    "    col_num = col\n",
    "    if type(col) == int :\n",
    "        row_start_nm = sel_sht.range(1048576,col).end('up').row + 1 \n",
    "    elif type(col) == str :\n",
    "        row_start_nm = sel_sht.range(col+str(1048576)).end('up').row + 1 \n",
    "    return row_start_nm"
   ]
  },
  {
   "cell_type": "code",
   "execution_count": 9,
   "id": "edd81ec4",
   "metadata": {},
   "outputs": [
    {
     "data": {
      "text/plain": [
       "18"
      ]
     },
     "execution_count": 9,
     "metadata": {},
     "output_type": "execute_result"
    }
   ],
   "source": [
    "get_empty_row(ws_main,10)"
   ]
  },
  {
   "cell_type": "markdown",
   "id": "aedf75c2",
   "metadata": {},
   "source": [
    "## 아웃룩 Display() 박스에 각 매크로로 해당하는 메일 연결하기\n",
    "- 일정 주기 코드로 메일리스트를 받아서 행으로 표현한다.\n",
    "- 각 메일에 Daily로 Unique한 값을 주어 구별가능하도록 한다.\n",
    "- 각 메일 옆에는 네모박스를 생성한다. 해당 네모박스에는 유니크한 이름을 매긴다.\n",
    "- xw.sheet.shapes를 사용하여 네모박스이 고유 이름을 사용 하여 하나의 매크로 **connect_mail** 로 연결한다.\n",
    "- connect_mail 매서드 실행을 입력받으면 클릭된 박스 이름을 매칭하여 해당 메일로 연결해준다"
   ]
  },
  {
   "cell_type": "code",
   "execution_count": 71,
   "id": "a470f2e4",
   "metadata": {},
   "outputs": [
    {
     "name": "stdout",
     "output_type": "stream",
     "text": [
      "SVC_20230108_KTH_urgent\n",
      "SVC_20230111_PJA_urgent\n"
     ]
    }
   ],
   "source": [
    "service_request = 'SVC'\n",
    "\n",
    "\n",
    "part_request = []\n",
    "for ms in inbox.Items:\n",
    "    if service_request in ms.Subject:\n",
    "        print(ms.Subject)\n",
    "        part_request.append(ms)"
   ]
  },
  {
   "cell_type": "code",
   "execution_count": 11,
   "id": "e158ebf6",
   "metadata": {},
   "outputs": [
    {
     "data": {
      "text/plain": [
       "12"
      ]
     },
     "execution_count": 11,
     "metadata": {},
     "output_type": "execute_result"
    }
   ],
   "source": [
    "get_empty_row(ws_main,'J')"
   ]
  },
  {
   "cell_type": "code",
   "execution_count": 12,
   "id": "a8cda34c",
   "metadata": {},
   "outputs": [],
   "source": [
    "## 서비스 출고요청 메일 엑셀로 연결"
   ]
  },
  {
   "cell_type": "code",
   "execution_count": 49,
   "id": "5964f6f5",
   "metadata": {},
   "outputs": [
    {
     "ename": "IndexError",
     "evalue": "list index out of range",
     "output_type": "error",
     "traceback": [
      "\u001b[1;31m---------------------------------------------------------------------------\u001b[0m",
      "\u001b[1;31mIndexError\u001b[0m                                Traceback (most recent call last)",
      "Cell \u001b[1;32mIn [49], line 7\u001b[0m\n\u001b[0;32m      5\u001b[0m cel_height \u001b[38;5;241m=\u001b[39m ws_main\u001b[38;5;241m.\u001b[39mrange(\u001b[38;5;124m'\u001b[39m\u001b[38;5;124mJ\u001b[39m\u001b[38;5;124m'\u001b[39m\u001b[38;5;241m+\u001b[39m\u001b[38;5;28mstr\u001b[39m(get_empty_row(ws_main,\u001b[38;5;124m'\u001b[39m\u001b[38;5;124mJ\u001b[39m\u001b[38;5;124m'\u001b[39m)))\u001b[38;5;241m.\u001b[39mheight\n\u001b[0;32m      6\u001b[0m ws_main\u001b[38;5;241m.\u001b[39mapi\u001b[38;5;241m.\u001b[39mShapes\u001b[38;5;241m.\u001b[39mAddShape(\u001b[38;5;241m125\u001b[39m, cel_left, cel_top, cel_width, cel_height)\n\u001b[1;32m----> 7\u001b[0m ws_main\u001b[38;5;241m.\u001b[39mshapes[\u001b[38;5;241m-\u001b[39m\u001b[38;5;241m1\u001b[39m]\u001b[38;5;241m.\u001b[39mname \u001b[38;5;241m=\u001b[39m \u001b[43mpart_request\u001b[49m\u001b[43m[\u001b[49m\u001b[38;5;241;43m2\u001b[39;49m\u001b[43m]\u001b[49m\u001b[38;5;241m.\u001b[39mSubject\u001b[38;5;241m.\u001b[39msplit(\u001b[38;5;124m'\u001b[39m\u001b[38;5;124m)\u001b[39m\u001b[38;5;124m'\u001b[39m)[\u001b[38;5;241m1\u001b[39m]\n\u001b[0;32m      8\u001b[0m ws_main\u001b[38;5;241m.\u001b[39mshapes[\u001b[38;5;241m-\u001b[39m\u001b[38;5;241m1\u001b[39m]\u001b[38;5;241m.\u001b[39mtext \u001b[38;5;241m=\u001b[39m \u001b[38;5;124m'\u001b[39m\u001b[38;5;124m메일확인하기\u001b[39m\u001b[38;5;124m'\u001b[39m\n\u001b[0;32m      9\u001b[0m ws_main\u001b[38;5;241m.\u001b[39mrange(\u001b[38;5;124m'\u001b[39m\u001b[38;5;124mJ\u001b[39m\u001b[38;5;124m'\u001b[39m\u001b[38;5;241m+\u001b[39m\u001b[38;5;28mstr\u001b[39m(get_empty_row(ws_main,\u001b[38;5;124m'\u001b[39m\u001b[38;5;124mJ\u001b[39m\u001b[38;5;124m'\u001b[39m)))\u001b[38;5;241m.\u001b[39mvalue \u001b[38;5;241m=\u001b[39m \u001b[38;5;241m3\u001b[39m\n",
      "\u001b[1;31mIndexError\u001b[0m: list index out of range"
     ]
    }
   ],
   "source": [
    "# 빈셀의 좌우 상하 폭 확인\n",
    "cel_left = ws_main.range('J'+str(get_empty_row(ws_main,'J'))).left\n",
    "cel_top = ws_main.range('J'+str(get_empty_row(ws_main,'J'))).top\n",
    "cel_width = ws_main.range('J'+str(get_empty_row(ws_main,'J'))).width\n",
    "cel_height = ws_main.range('J'+str(get_empty_row(ws_main,'J'))).height\n",
    "ws_main.api.Shapes.AddShape(125, cel_left, cel_top, cel_width, cel_height)\n",
    "ws_main.shapes[-1].name = part_request[2].Subject.split(')')[1]\n",
    "ws_main.shapes[-1].text = '메일확인하기'\n",
    "ws_main.range('J'+str(get_empty_row(ws_main,'J'))).value = 3\n"
   ]
  },
  {
   "cell_type": "code",
   "execution_count": 75,
   "id": "3f240d34",
   "metadata": {},
   "outputs": [],
   "source": [
    "# 박스생성하여 메일의 서브젝트 이름 설정하기기\n",
    "for idx, ms in enumerate(part_request) :\n",
    "    cel_left = ws_main.range('J'+str(get_empty_row(ws_main,'J'))).left\n",
    "    cel_top = ws_main.range('J'+str(get_empty_row(ws_main,'J'))).top\n",
    "    cel_width = ws_main.range('J'+str(get_empty_row(ws_main,'J'))).width\n",
    "    cel_height = ws_main.range('J'+str(get_empty_row(ws_main,'J'))).height\n",
    "    ws_main.api.Shapes.AddShape(125, cel_left, cel_top, cel_width, cel_height)\n",
    "    ws_main.shapes[-1].name = ms.Subject\n",
    "    ws_main.shapes[-1].text = '메일확인하기'\n",
    "    # index는 1부터 시작\n",
    "    ws_main.range('J'+str(get_empty_row(ws_main,'J'))).value = idx + 1\n"
   ]
  },
  {
   "cell_type": "code",
   "execution_count": 83,
   "id": "23fbd0f4",
   "metadata": {},
   "outputs": [
    {
     "data": {
      "text/plain": [
       "[]"
      ]
     },
     "execution_count": 83,
     "metadata": {},
     "output_type": "execute_result"
    }
   ],
   "source": [
    "# 도형리스트\n",
    "shape_list = list(ws_main.shapes)\n",
    "df_shape_list = pd.DataFrame(shape_list)\n",
    "# 서비스만 추출하기\n",
    "service_request = 'SVC'\n",
    "shape_fe = []\n",
    "\n",
    "for shp in shape_list:\n",
    "    if service_request in shp.name :\n",
    "        shape_fe.append(shp)\n",
    "        shp.api.OnAction = 'connect_email'\n",
    "shape_fe"
   ]
  },
  {
   "cell_type": "code",
   "execution_count": 16,
   "id": "8fc3edaf",
   "metadata": {},
   "outputs": [],
   "source": [
    "shape_fe[0]\n",
    "shape_fe[0].api.OnAction = 'test_1'"
   ]
  },
  {
   "cell_type": "code",
   "execution_count": 56,
   "id": "23f4f009",
   "metadata": {},
   "outputs": [],
   "source": [
    "wb_cy.selection\n",
    "\n"
   ]
  },
  {
   "cell_type": "code",
   "execution_count": 123,
   "id": "5b5062fb",
   "metadata": {},
   "outputs": [
    {
     "data": {
      "text/plain": [
       "<Range [cytiva.xlsm]통합제어!$1:$1048576>"
      ]
     },
     "execution_count": 123,
     "metadata": {},
     "output_type": "execute_result"
    }
   ],
   "source": [
    "shape_fe[0].Display()"
   ]
  },
  {
   "cell_type": "code",
   "execution_count": 58,
   "id": "948f513d",
   "metadata": {},
   "outputs": [
    {
     "data": {
      "text/plain": [
       "'(cytiva_part_request)_20230106_PJH_urgent'"
      ]
     },
     "execution_count": 58,
     "metadata": {},
     "output_type": "execute_result"
    }
   ],
   "source": [
    "shape_fe[0].name"
   ]
  },
  {
   "cell_type": "code",
   "execution_count": 23,
   "id": "1ec084f6",
   "metadata": {},
   "outputs": [
    {
     "ename": "NameError",
     "evalue": "name 'Application' is not defined",
     "output_type": "error",
     "traceback": [
      "\u001b[1;31m---------------------------------------------------------------------------\u001b[0m",
      "\u001b[1;31mNameError\u001b[0m                                 Traceback (most recent call last)",
      "Cell \u001b[1;32mIn [23], line 1\u001b[0m\n\u001b[1;32m----> 1\u001b[0m wb_cy\u001b[38;5;241m.\u001b[39mapi\u001b[38;5;241m.\u001b[39mActiveSheet\u001b[38;5;241m.\u001b[39mShapes(\u001b[43mApplication\u001b[49m\u001b[38;5;241m.\u001b[39mCaller)\u001b[38;5;241m.\u001b[39mName\n",
      "\u001b[1;31mNameError\u001b[0m: name 'Application' is not defined"
     ]
    }
   ],
   "source": [
    "wb_cy.api.ActiveSheet.Shapes(Application.Caller).Name"
   ]
  },
  {
   "cell_type": "code",
   "execution_count": 77,
   "id": "7241a88c",
   "metadata": {},
   "outputs": [],
   "source": [
    "def connect_email_with_shape():\n",
    "    \n",
    "    outlook = cli.Dispatch(\"Outlook.Application\").GetNamespace(\"MAPI\") # 아웃룩\n",
    "    inbox = outlook.GetDefaultFolder(6) # 받은편지함\n",
    "    msg = inbox.Items #메세지 정보\n",
    "    \n",
    "    part_request = []\n",
    "    service_request = 'SVC'\n",
    "    for ms in msg:\n",
    "        if service_request in ms.Subject:\n",
    "            part_request.append(ms)\n",
    "    # 박스생성하여 메일의 서브젝트 이름 설정하기기\n",
    "    for idx, ms in enumerate(part_request) :\n",
    "        cel_left = ws_main.range('J'+str(get_empty_row(ws_main,'J'))).left\n",
    "        cel_top = ws_main.range('J'+str(get_empty_row(ws_main,'J'))).top\n",
    "        cel_width = ws_main.range('J'+str(get_empty_row(ws_main,'J'))).width\n",
    "        cel_height = ws_main.range('J'+str(get_empty_row(ws_main,'J'))).height\n",
    "        ws_main.api.Shapes.AddShape(125, cel_left, cel_top, cel_width, cel_height)\n",
    "        ws_main.shapes[-1].name = ms.Subject\n",
    "        ws_main.shapes[-1].text = '메일열기'\n",
    "        \n",
    "        \n",
    "        \n",
    "        ms_body = (ms.Body)\n",
    "        body = ms_body[:ms_body.rfind('}')+1]\n",
    "        json_body = json.loads(body)\n",
    "        dict_data = dict(zip(json_body['meta']['cols'].keys(),json_body['data']))\n",
    "        # 메일 내용 채우기\n",
    "        # index는 1부터 시작\n",
    "        ws_main.range('J'+str(get_empty_row(ws_main,'J'))).value = idx + 1\n",
    "        # 메일제목 K\n",
    "        ws_main.range('K'+str(get_empty_row(ws_main,'K'))).value = ms.Subject\n",
    "        # 출고요청일 L\n",
    "        ws_main.range('L'+str(get_empty_row(ws_main,'L'))).value = json_body['meta']['std_day']\n",
    "        # 배송요청일 M\n",
    "        ws_main.range('M'+str(get_empty_row(ws_main,'M'))).value = dict_data['req_day']+' '+dict_data['req_time']\n",
    "        # 담당자 N\n",
    "        ws_main.range('N'+str(get_empty_row(ws_main,'N'))).value = dict_data['fe_initial']\n",
    "        # 긴급여부 O\n",
    "        ws_main.range('O'+str(get_empty_row(ws_main,'O'))).value = dict_data['is_urgent']\n",
    "    # 도형리스트\n",
    "    shape_list = list(ws_main.shapes)\n",
    "    df_shape_list = pd.DataFrame(shape_list)\n",
    "    # 서비스만 추출하기\n",
    "\n",
    "    shape_fe = []\n",
    "\n",
    "    for shp in shape_list:\n",
    "        if service_request in shp.name :\n",
    "            shape_fe.append(shp)\n",
    "            shp.api.OnAction = 'connect_email'\n",
    "    "
   ]
  },
  {
   "cell_type": "code",
   "execution_count": 80,
   "id": "9c1e1698",
   "metadata": {},
   "outputs": [],
   "source": [
    "ws_main =wb_cy.sheets['통합제어']"
   ]
  },
  {
   "cell_type": "code",
   "execution_count": 81,
   "id": "11661653",
   "metadata": {},
   "outputs": [],
   "source": [
    "connect_email_with_shape()"
   ]
  },
  {
   "cell_type": "code",
   "execution_count": 82,
   "id": "d130bb60",
   "metadata": {},
   "outputs": [
    {
     "ename": "NameError",
     "evalue": "name 'dict_data' is not defined",
     "output_type": "error",
     "traceback": [
      "\u001b[1;31m---------------------------------------------------------------------------\u001b[0m",
      "\u001b[1;31mNameError\u001b[0m                                 Traceback (most recent call last)",
      "Cell \u001b[1;32mIn [82], line 1\u001b[0m\n\u001b[1;32m----> 1\u001b[0m \u001b[43mdict_data\u001b[49m\n",
      "\u001b[1;31mNameError\u001b[0m: name 'dict_data' is not defined"
     ]
    }
   ],
   "source": []
  },
  {
   "cell_type": "code",
   "execution_count": 71,
   "id": "0174762a",
   "metadata": {},
   "outputs": [
    {
     "ename": "NameError",
     "evalue": "name 'dict_data' is not defined",
     "output_type": "error",
     "traceback": [
      "\u001b[1;31m---------------------------------------------------------------------------\u001b[0m",
      "\u001b[1;31mNameError\u001b[0m                                 Traceback (most recent call last)",
      "Cell \u001b[1;32mIn [71], line 1\u001b[0m\n\u001b[1;32m----> 1\u001b[0m \u001b[43mdict_data\u001b[49m\n",
      "\u001b[1;31mNameError\u001b[0m: name 'dict_data' is not defined"
     ]
    }
   ],
   "source": [
    "dict_data"
   ]
  },
  {
   "cell_type": "code",
   "execution_count": 213,
   "id": "17fdd9c3",
   "metadata": {},
   "outputs": [
    {
     "name": "stdout",
     "output_type": "stream",
     "text": [
      "{\"meta\": {\"desc\": \"service_part_reqeust\", \"cols\": {\"fe_name\": \"fe_이름\", \"fe_initial\": \"trunkstock_id\", \"req_day\": \"요청일\", \"req_time\": \"요청시간\", \"address\": \"주소\", \"del_met\": \"배송방법\", \"is_return\": \"왕복배송여부\", \"recipient\": \"수령인\", \"is_urgent\": \"긴급여부\", \"parts\": \"요청파트\", \"del_instruction\": \"배송요청사항\"}, \"std_day\": \"2023-01-06\"}, \"data\": [\"박재헌\", \"KR_PJH\", \"2023-01-07\", \"18:00\", \"인천 연수구 송도동 218-3 삼성바이오로직스 5공장\", \"퀵\", 0, \"박재헌\", 0, {\"28999466\": 2, \"29159123\": 1, \"15921499\": 1}, null]}\r\n",
      "\r\n",
      " <https://mail.naver.com/readReceipt/notify/?img=RZYXFo3qW6wSFx29hAn%2FFotXFxMmKxF4p6J4Fx%2BoMqbmMqF4aAUmpxu9FEIo%2BrkSKAuZ74lR74l4b4u516YQar30D6eTWvIT%2BB3nWreO74RZ.gif> \t\n",
      "{\"meta\": {\"desc\": \"service_part_reqeust\", \"cols\": {\"fe_name\": \"fe_이름\", \"fe_initial\": \"trunkstock_id\", \"req_day\": \"요청일\", \"req_time\": \"요청시간\", \"address\": \"주소\", \"del_met\": \"배송방법\", \"is_return\": \"왕복배송여부\", \"recipient\": \"수령인\", \"is_urgent\": \"긴급여부\", \"parts\": \"요청파트\", \"del_instruction\": \"배송요청사항\"}, \"std_day\": \"2023-01-06\"}, \"data\": [\"박재헌\", \"KR_PJH\", \"2023-01-07\", \"18:00\", \"인천 연수구 송도동 218-3 삼성바이오로직스 5공장\", \"퀵\", 0, \"박재헌\", 0, {\"28999466\": 2, \"29159123\": 1, \"15921499\": 1}, null]}\n"
     ]
    }
   ],
   "source": [
    "connect_email_with_shape()"
   ]
  },
  {
   "cell_type": "code",
   "execution_count": 97,
   "id": "41a26dc0",
   "metadata": {},
   "outputs": [],
   "source": [
    "def get_email_obj():\n",
    "\n",
    "    outlook = cli.Dispatch(\"Outlook.Application\").GetNamespace(\"MAPI\") # 아웃룩\n",
    "    inbox = outlook.GetDefaultFolder(6) # 받은편지함\n",
    "    msg = inbox.Items #메세지 정보\n",
    "\n",
    "    part_request = []\n",
    "    service_request = 'SVC'\n",
    "    for ms in msg:\n",
    "        if service_request in ms.Subject:\n",
    "            part_request.append(ms)\n",
    "    # 서비스만 추출하기\n",
    "\n",
    "    return part_request"
   ]
  },
  {
   "cell_type": "code",
   "execution_count": 98,
   "id": "2bbfff21",
   "metadata": {},
   "outputs": [
    {
     "data": {
      "text/plain": [
       "[<COMObject <unknown>>, <COMObject <unknown>>]"
      ]
     },
     "execution_count": 98,
     "metadata": {},
     "output_type": "execute_result"
    }
   ],
   "source": [
    "get_email_obj()"
   ]
  },
  {
   "cell_type": "code",
   "execution_count": 99,
   "id": "ffec9004",
   "metadata": {
    "scrolled": true
   },
   "outputs": [
    {
     "name": "stdout",
     "output_type": "stream",
     "text": [
      "SVC_20230108_KTH_urgent\n"
     ]
    }
   ],
   "source": [
    "shape_name = 'SVC_20230108_KTH_urgent'\n",
    "\n",
    "\n",
    "ms_list = get_email_obj()\n",
    "\n",
    "for ms in ms_list:\n",
    "    if shape_name in ms.Subject:\n",
    "        print(ms)\n",
    "        ms.Display()"
   ]
  },
  {
   "cell_type": "code",
   "execution_count": 220,
   "id": "3fc094b1",
   "metadata": {},
   "outputs": [],
   "source": [
    "from datetime import datetime"
   ]
  },
  {
   "cell_type": "code",
   "execution_count": null,
   "id": "128ecef4",
   "metadata": {},
   "outputs": [],
   "source": []
  },
  {
   "cell_type": "code",
   "execution_count": 265,
   "id": "89dd2608",
   "metadata": {},
   "outputs": [
    {
     "data": {
      "text/plain": [
       "'23년01월12일 06시03분'"
      ]
     },
     "execution_count": 265,
     "metadata": {},
     "output_type": "execute_result"
    }
   ],
   "source": [
    "datetime.today().strftime(\"%y년%m월%d일 %H시%M분\")"
   ]
  },
  {
   "cell_type": "code",
   "execution_count": 226,
   "id": "ba2df0d1",
   "metadata": {},
   "outputs": [
    {
     "data": {
      "text/plain": [
       "datetime.datetime(2023, 1, 12, 18, 0)"
      ]
     },
     "execution_count": 226,
     "metadata": {},
     "output_type": "execute_result"
    }
   ],
   "source": [
    "# left_time 계산\n",
    "ws_main.range('M13').value"
   ]
  },
  {
   "cell_type": "code",
   "execution_count": 239,
   "id": "744f66a6",
   "metadata": {},
   "outputs": [],
   "source": [
    "left_time = ws_main.range('M13').value - datetime.today()"
   ]
  },
  {
   "cell_type": "code",
   "execution_count": 248,
   "id": "7d7caf41",
   "metadata": {},
   "outputs": [],
   "source": [
    "# 시간\n",
    "left_hour = round(left_time.total_seconds()/60 //60)\n",
    "# 분\n",
    "left_min = round(left_time.total_seconds()/60 %60)"
   ]
  },
  {
   "cell_type": "code",
   "execution_count": 254,
   "id": "43f5034c",
   "metadata": {},
   "outputs": [
    {
     "data": {
      "text/plain": [
       "'12시간 3분 남음'"
      ]
     },
     "execution_count": 254,
     "metadata": {},
     "output_type": "execute_result"
    }
   ],
   "source": [
    "str(left_hour) + '시간 ' + str(left_min)+'분 남음'"
   ]
  },
  {
   "cell_type": "code",
   "execution_count": 15,
   "id": "e64d73b5",
   "metadata": {},
   "outputs": [],
   "source": [
    "def clear_form(sheet = wb_cy.selection.sheet):\n",
    "\n",
    "    current_sheet = sheet\n",
    "    \n",
    "    #통합제어 시트일 경우\n",
    "    if current_sheet.name == '통합제어':\n",
    "        \n",
    "        \n",
    "    else:\n",
    "    \n",
    "        status_cel = current_sheet.range(\"AAA4\").end('left')\n",
    "\n",
    "        current_sheet.range(\"C2:C7\").clear_contents()\n",
    "        status_cel.color = None\n",
    "        status_cel.value = \"waiting_for_out\"\n",
    "        current_sheet.range(\"C4\").value = \"=TODAY()+1\""
   ]
  },
  {
   "cell_type": "code",
   "execution_count": 16,
   "id": "cd52c441",
   "metadata": {},
   "outputs": [],
   "source": [
    "ws_main = wb_cy.sheets['통합제어']"
   ]
  },
  {
   "cell_type": "code",
   "execution_count": 33,
   "id": "3851d957",
   "metadata": {},
   "outputs": [],
   "source": [
    "def main_clear(type=None):\n",
    "    \n",
    "    if type != None:\n",
    "        \n",
    "        shapes = ws_main.shapes\n",
    "        last_row = get_empty_row(ws_main,'J')\n",
    "        for shp in shapes :\n",
    "            if type in shp.name :\n",
    "                shp.delete()\n",
    "\n",
    "        ws_main.range(\"J12:R\"+str(last_row)).clear_contents()\n",
    "    else :\n",
    "        pass"
   ]
  },
  {
   "cell_type": "code",
   "execution_count": 73,
   "id": "fc3daf03",
   "metadata": {},
   "outputs": [],
   "source": [
    "main_clear('SVC')"
   ]
  },
  {
   "cell_type": "code",
   "execution_count": 40,
   "id": "88e9fa35",
   "metadata": {},
   "outputs": [
    {
     "data": {
      "text/plain": [
       "[<Shape 'SVC_20230112_PJH_urgent' in <Sheet [cytiva.xlsm]통합제어>>,\n",
       " <Shape 'SVC_20230112_HGD_noturgent' in <Sheet [cytiva.xlsm]통합제어>>]"
      ]
     },
     "execution_count": 40,
     "metadata": {},
     "output_type": "execute_result"
    }
   ],
   "source": [
    "shp_svc = []\n",
    "for shp in shapes :\n",
    "    if 'SVC' in shp.name :\n",
    "        shp_svc.append(shp)\n",
    "shp_svc"
   ]
  },
  {
   "cell_type": "code",
   "execution_count": 72,
   "id": "b98a483c",
   "metadata": {},
   "outputs": [],
   "source": [
    "shp_svc[0].api.TextFrame.HorizontalAlignment = 2\n",
    "shp_svc[0].api.TextFrame.VerticalAlignment = 2"
   ]
  },
  {
   "cell_type": "markdown",
   "id": "43ca32f3",
   "metadata": {},
   "source": [
    "## JSON\n",
    "- 모든 출고요청의 형태는 JSON형태로 받는다"
   ]
  },
  {
   "cell_type": "code",
   "execution_count": 59,
   "id": "43efc425",
   "metadata": {},
   "outputs": [],
   "source": [
    "import json"
   ]
  },
  {
   "cell_type": "code",
   "execution_count": 62,
   "id": "e84ee1d4",
   "metadata": {},
   "outputs": [],
   "source": [
    "parts_json = json.loads('[{\"part_no\": \"11000322\", \"serial_no\": null, \"qty\": 2, \"currnet_stock\": \"KR_SERV01\", \"transfer_to\": \"KR_HGD\", \"BIN\": null}, {\"part_no\": \"18117251\", \"serial_no\": null, \"qty\": 1, \"currnet_stock\": \"KR_SERV01\", \"transfer_to\": \"KR_HGD\", \"BIN\": null}, {\"part_no\": \"28404190\", \"serial_no\": null, \"qty\": 1, \"currnet_stock\": \"KR_SERV01\", \"transfer_to\": \"KR_CCH\", \"BIN\": null}]')"
   ]
  },
  {
   "cell_type": "code",
   "execution_count": 67,
   "id": "9c594152",
   "metadata": {},
   "outputs": [],
   "source": [
    "fe_name = '최찬희'\n",
    "fe_initial = 'KR_CCH'\n",
    "req_day = '2023-01-16'\n",
    "req_time = '18:00'\n",
    "address = '인천 연수구 송도동 218-3 삼성바이오로직스 5공장'\n",
    "del_met = '퀵'\n",
    "is_return = 0\n",
    "recipient = '최찬희'\n",
    "is_urgent = 0\n",
    "req_parts = parts_json\n",
    "del_instruction = None\n",
    "contact = '010-1234-1234'\n",
    "tmp_data = [fe_name, fe_initial, req_day, req_time, address, del_met, is_return, recipient, is_urgent, req_parts, del_instruction, contact]"
   ]
  },
  {
   "cell_type": "code",
   "execution_count": null,
   "id": "0e825222",
   "metadata": {},
   "outputs": [],
   "source": []
  },
  {
   "cell_type": "code",
   "execution_count": 68,
   "id": "4f222039",
   "metadata": {},
   "outputs": [
    {
     "data": {
      "text/plain": [
       "(12, 12)"
      ]
     },
     "execution_count": 68,
     "metadata": {},
     "output_type": "execute_result"
    }
   ],
   "source": [
    "len(cols),len(tmp_data)\n"
   ]
  },
  {
   "cell_type": "code",
   "execution_count": 69,
   "id": "d3b715a1",
   "metadata": {},
   "outputs": [],
   "source": [
    "cols = ['fe_name', 'fe_initial', 'req_day', 'req_time', 'address',\n",
    "        'del_met', 'is_return', 'recipient', 'is_urgent','parts',\n",
    "       'del_instruction','contact']\n",
    "tmp = zip(cols,tmp_data)\n",
    "data = dict(tmp)\n",
    "\n",
    "res = {\n",
    "    'meta':{\n",
    "        'desc':'service_part_reqeust',\n",
    "        'cols':{\n",
    "            \"fe_name\":\"fe_이름\",'fe_initial':'trunkstock_id','req_day':'요청일','req_time':'요청시간','address':'주소',\n",
    "            'del_met':'배송방법','is_return':'왕복배송여부','recipient':'수령인','is_urgent':'긴급여부', 'parts':'요청파트'\n",
    "            ,'del_instruction':'배송요청사항','contact':'전화번호'\n",
    "        },\n",
    "        'std_day':'2023-01-06'\n",
    "    },\n",
    "    'data':data\n",
    "}\n"
   ]
  },
  {
   "cell_type": "code",
   "execution_count": 70,
   "id": "7fc96dbe",
   "metadata": {},
   "outputs": [
    {
     "data": {
      "text/plain": [
       "'{\"meta\": {\"desc\": \"service_part_reqeust\", \"cols\": {\"fe_name\": \"fe_이름\", \"fe_initial\": \"trunkstock_id\", \"req_day\": \"요청일\", \"req_time\": \"요청시간\", \"address\": \"주소\", \"del_met\": \"배송방법\", \"is_return\": \"왕복배송여부\", \"recipient\": \"수령인\", \"is_urgent\": \"긴급여부\", \"parts\": \"요청파트\", \"del_instruction\": \"배송요청사항\", \"contact\": \"전화번호\"}, \"std_day\": \"2023-01-06\"}, \"data\": {\"fe_name\": \"최찬희\", \"fe_initial\": \"KR_CCH\", \"req_day\": \"2023-01-16\", \"req_time\": \"18:00\", \"address\": \"인천 연수구 송도동 218-3 삼성바이오로직스 5공장\", \"del_met\": \"퀵\", \"is_return\": 0, \"recipient\": \"최찬희\", \"is_urgent\": 0, \"parts\": [{\"part_no\": \"11000322\", \"serial_no\": null, \"qty\": 2, \"currnet_stock\": \"KR_SERV01\", \"transfer_to\": \"KR_HGD\", \"BIN\": null}, {\"part_no\": \"18117251\", \"serial_no\": null, \"qty\": 1, \"currnet_stock\": \"KR_SERV01\", \"transfer_to\": \"KR_HGD\", \"BIN\": null}, {\"part_no\": \"28404190\", \"serial_no\": null, \"qty\": 1, \"currnet_stock\": \"KR_SERV01\", \"transfer_to\": \"KR_CCH\", \"BIN\": null}], \"del_instruction\": null, \"contact\": \"010-1234-1234\"}}'"
      ]
     },
     "execution_count": 70,
     "metadata": {},
     "output_type": "execute_result"
    }
   ],
   "source": [
    "req_json = json.dumps(res,ensure_ascii=False)\n",
    "req_json"
   ]
  },
  {
   "cell_type": "code",
   "execution_count": 54,
   "id": "ca809768",
   "metadata": {},
   "outputs": [],
   "source": []
  },
  {
   "cell_type": "code",
   "execution_count": 55,
   "id": "0eee9c7f",
   "metadata": {},
   "outputs": [
    {
     "data": {
      "text/plain": [
       "[{'part_no': '11000322',\n",
       "  'serial_no': None,\n",
       "  'qty': 2,\n",
       "  'currnet_stock': 'KR_SERV01',\n",
       "  'transfer_to': 'KR_HGD',\n",
       "  'BIN': None},\n",
       " {'part_no': '18117251',\n",
       "  'serial_no': None,\n",
       "  'qty': 1,\n",
       "  'currnet_stock': 'KR_SERV01',\n",
       "  'transfer_to': 'KR_HGD',\n",
       "  'BIN': None},\n",
       " {'part_no': '28404190',\n",
       "  'serial_no': None,\n",
       "  'qty': 1,\n",
       "  'currnet_stock': 'KR_SERV01',\n",
       "  'transfer_to': 'KR_HGD',\n",
       "  'BIN': None}]"
      ]
     },
     "execution_count": 55,
     "metadata": {},
     "output_type": "execute_result"
    }
   ],
   "source": [
    "parts_json"
   ]
  },
  {
   "cell_type": "code",
   "execution_count": 147,
   "id": "802c6938",
   "metadata": {},
   "outputs": [
    {
     "data": {
      "text/plain": [
       "'2023-01-06'"
      ]
     },
     "execution_count": 147,
     "metadata": {},
     "output_type": "execute_result"
    }
   ],
   "source": [
    "loads_json['meta']['std_day']"
   ]
  },
  {
   "cell_type": "code",
   "execution_count": 51,
   "id": "719124ac",
   "metadata": {},
   "outputs": [
    {
     "data": {
      "text/plain": [
       "{'meta': {'desc': 'service_part_reqeust',\n",
       "  'cols': {'fe_name': 'fe_이름',\n",
       "   'fe_initial': 'trunkstock_id',\n",
       "   'req_day': '요청일',\n",
       "   'req_time': '요청시간',\n",
       "   'address': '주소',\n",
       "   'del_met': '배송방법',\n",
       "   'is_return': '왕복배송여부',\n",
       "   'recipient': '수령인',\n",
       "   'is_urgent': '긴급여부',\n",
       "   'parts': '요청파트',\n",
       "   'del_instruction': '배송요청사항',\n",
       "   'contact': '전화번호'},\n",
       "  'std_day': '2023-01-06'},\n",
       " 'data': {'fe_name': '홍길동',\n",
       "  'fe_initial': 'KR_HGD',\n",
       "  'req_day': '2023-01-16',\n",
       "  'req_time': '18:00',\n",
       "  'address': '인천 연수구 송도동 218-3 삼성바이오로직스 5공장',\n",
       "  'del_met': '퀵',\n",
       "  'is_return': 0,\n",
       "  'recipient': '홍길동',\n",
       "  'is_urgent': 0,\n",
       "  'parts': '[{\"part_no\": \"11000322\", \"serial_no\": null, \"qty\": 2, \"currnet_stock\": \"KR_SERV01\", \"transfer_to\": \"KR_HGD\", \"BIN\": null}, {\"part_no\": \"18117251\", \"serial_no\": null, \"qty\": 1, \"currnet_stock\": \"KR_SERV01\", \"transfer_to\": \"KR_HGD\", \"BIN\": null}, {\"part_no\": \"28404190\", \"serial_no\": null, \"qty\": 1, \"currnet_stock\": \"KR_SERV01\", \"transfer_to\": \"KR_HGD\", \"BIN\": null}]',\n",
       "  'del_instruction': None,\n",
       "  'contact': '010-1234-1234'}}"
      ]
     },
     "execution_count": 51,
     "metadata": {},
     "output_type": "execute_result"
    }
   ],
   "source": [
    "loads_json"
   ]
  },
  {
   "cell_type": "code",
   "execution_count": null,
   "id": "ff8b101b",
   "metadata": {},
   "outputs": [],
   "source": []
  },
  {
   "cell_type": "code",
   "execution_count": 45,
   "id": "3b73857a",
   "metadata": {},
   "outputs": [
    {
     "data": {
      "text/plain": [
       "'{\"meta\": {\"desc\": \"service_part_reqeust\", \"cols\": {\"fe_name\": \"fe_이름\", \"fe_initial\": \"trunkstock_id\", \"req_day\": \"요청일\", \"req_time\": \"요청시간\", \"address\": \"주소\", \"del_met\": \"배송방법\", \"is_return\": \"왕복배송여부\", \"recipient\": \"수령인\", \"is_urgent\": \"긴급여부\", \"parts\": \"요청파트\", \"del_instruction\": \"배송요청사항\", \"contact\": \"전화번호\"}, \"std_day\": \"2023-01-06\"}, \"data\": {\"fe_name\": \"홍길동\", \"fe_initial\": \"KR_HGD\", \"req_day\": \"2023-01-16\", \"req_time\": \"18:00\", \"address\": \"인천 연수구 송도동 218-3 삼성바이오로직스 5공장\", \"del_met\": \"퀵\", \"is_return\": 0, \"recipient\": \"홍길동\", \"is_urgent\": 0, \"parts\": \"[{\\\\\"part_no\\\\\": \\\\\"11000322\\\\\", \\\\\"serial_no\\\\\": null, \\\\\"qty\\\\\": 2, \\\\\"currnet_stock\\\\\": \\\\\"KR_SERV01\\\\\", \\\\\"transfer_to\\\\\": \\\\\"KR_HGD\\\\\", \\\\\"BIN\\\\\": null}, {\\\\\"part_no\\\\\": \\\\\"18117251\\\\\", \\\\\"serial_no\\\\\": null, \\\\\"qty\\\\\": 1, \\\\\"currnet_stock\\\\\": \\\\\"KR_SERV01\\\\\", \\\\\"transfer_to\\\\\": \\\\\"KR_HGD\\\\\", \\\\\"BIN\\\\\": null}, {\\\\\"part_no\\\\\": \\\\\"28404190\\\\\", \\\\\"serial_no\\\\\": null, \\\\\"qty\\\\\": 1, \\\\\"currnet_stock\\\\\": \\\\\"KR_SERV01\\\\\", \\\\\"transfer_to\\\\\": \\\\\"KR_HGD\\\\\", \\\\\"BIN\\\\\": null}]\", \"del_instruction\": null, \"contact\": \"010-1234-1234\"}}'"
      ]
     },
     "execution_count": 45,
     "metadata": {},
     "output_type": "execute_result"
    }
   ],
   "source": [
    "json.dumps(loads_json,ensure_ascii=False)"
   ]
  }
 ],
 "metadata": {
  "kernelspec": {
   "display_name": "Python 3 (ipykernel)",
   "language": "python",
   "name": "python3"
  },
  "language_info": {
   "codemirror_mode": {
    "name": "ipython",
    "version": 3
   },
   "file_extension": ".py",
   "mimetype": "text/x-python",
   "name": "python",
   "nbconvert_exporter": "python",
   "pygments_lexer": "ipython3",
   "version": "3.10.9"
  }
 },
 "nbformat": 4,
 "nbformat_minor": 5
}

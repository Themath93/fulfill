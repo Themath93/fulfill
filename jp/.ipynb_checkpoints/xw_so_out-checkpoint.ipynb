{
 "cells": [
  {
   "cell_type": "code",
   "execution_count": 2,
   "id": "3ef5bb7d",
   "metadata": {},
   "outputs": [],
   "source": [
    "# xlwings 임포트하기 기본.\n",
    "import xlwings as xw"
   ]
  },
  {
   "cell_type": "markdown",
   "id": "5b280a52",
   "metadata": {},
   "source": [
    "## 출고하는 행 번호 및 시트 이름 반환\n",
    "\n",
    "- sheet번호로 하면 절대안됨, 사용자는 언제든 실수든 의도든 변경이 가능하기 때문\n",
    "    - **sheet 이름으로 찾아갈 것**\n"
   ]
  },
  {
   "cell_type": "code",
   "execution_count": 3,
   "id": "90244ddf",
   "metadata": {},
   "outputs": [],
   "source": [
    "import os, sys\n",
    "from pathlib import Path"
   ]
  },
  {
   "cell_type": "code",
   "execution_count": 4,
   "id": "ef6bfebd",
   "metadata": {},
   "outputs": [],
   "source": [
    "cy_path = Path.cwd().parent.joinpath('cytiva.xlsm')"
   ]
  },
  {
   "cell_type": "code",
   "execution_count": 5,
   "id": "385e5cb0",
   "metadata": {},
   "outputs": [
    {
     "data": {
      "text/plain": [
       "'cytiva.xlsm'"
      ]
     },
     "execution_count": 5,
     "metadata": {},
     "output_type": "execute_result"
    }
   ],
   "source": [
    "xw.books[0].name"
   ]
  },
  {
   "cell_type": "code",
   "execution_count": 6,
   "id": "a50e261f",
   "metadata": {},
   "outputs": [
    {
     "name": "stdout",
     "output_type": "stream",
     "text": [
      "cytiva.xlsm\n"
     ]
    }
   ],
   "source": [
    "# 실행되고있는 엑셀 문서 이름 찾기\n",
    "for book in xw.books:\n",
    "    print(book.name)"
   ]
  },
  {
   "cell_type": "code",
   "execution_count": 7,
   "id": "f00b8851",
   "metadata": {},
   "outputs": [
    {
     "data": {
      "text/plain": [
       "<Book [cytiva.xlsm]>"
      ]
     },
     "execution_count": 7,
     "metadata": {},
     "output_type": "execute_result"
    }
   ],
   "source": [
    "# 'C:/Users/lms46/Desktop/fulfill/cytiva.xlsx'\n",
    "# cy_path -> cytiva.xlsx 찾기\n",
    "xw.Book(cy_path)"
   ]
  },
  {
   "cell_type": "code",
   "execution_count": 8,
   "id": "3ac974f4",
   "metadata": {},
   "outputs": [],
   "source": [
    "## cytiva 통합문서 변수 선언\n",
    "wb_cy = xw.Book(cy_path)"
   ]
  },
  {
   "cell_type": "code",
   "execution_count": 8,
   "id": "f072c4d2",
   "metadata": {},
   "outputs": [
    {
     "data": {
      "text/plain": [
       "'Shipment information'"
      ]
     },
     "execution_count": 8,
     "metadata": {},
     "output_type": "execute_result"
    }
   ],
   "source": [
    "wb_cy.selection.sheet.name"
   ]
  },
  {
   "cell_type": "code",
   "execution_count": 9,
   "id": "2b3875d7",
   "metadata": {},
   "outputs": [
    {
     "data": {
      "text/plain": [
       "'$C$8'"
      ]
     },
     "execution_count": 9,
     "metadata": {},
     "output_type": "execute_result"
    }
   ],
   "source": [
    "wb_cy.selection.api.SpecialCells(12).Address"
   ]
  },
  {
   "cell_type": "code",
   "execution_count": null,
   "id": "138fb40e",
   "metadata": {},
   "outputs": [],
   "source": []
  },
  {
   "cell_type": "code",
   "execution_count": 10,
   "id": "93514211",
   "metadata": {},
   "outputs": [],
   "source": [
    "def row_nm_check(xw_book_name=xw.books[0]):\n",
    "    \"\"\"\n",
    "    Return Dict, get activated sheet's name(str), get selected row's number(list)\n",
    "    \"\"\"\n",
    "    sel_rng = xw_book_name.selection.api.SpecialCells(12).Address.split(\",\")\n",
    "    \n",
    "    \n",
    "    range_list = []\n",
    "    \n",
    "    for rng in sel_rng:\n",
    "\n",
    "        if \":\" in rng:\n",
    "            num_0 = rng.split(\":\")[0].split(\"$\")[-1]\n",
    "            num_1 = rng.split(\":\")[1].split(\"$\")[-1]\n",
    "            #범위선택이 한 컬럼이 아닌 여러 컬럼을 동시에 선택된 경우\n",
    "            if num_0 == num_1 :\n",
    "                range_list.append(num_0)\n",
    "            else : \n",
    "                range_list.append(str(num_0) + ',' + str(num_1))\n",
    "        else :\n",
    "            range_list.append(rng.split(\"$\")[-1])\n",
    "            \n",
    "    dict_row_num_sheet_name = {\"sheet_name\":xw_book_name.selection.sheet.name,'selectIon_row_nm':range_list}\n",
    "    return dict_row_num_sheet_name"
   ]
  },
  {
   "cell_type": "code",
   "execution_count": 11,
   "id": "c24b3a4d",
   "metadata": {},
   "outputs": [
    {
     "data": {
      "text/plain": [
       "'Shipment information'"
      ]
     },
     "execution_count": 11,
     "metadata": {},
     "output_type": "execute_result"
    }
   ],
   "source": [
    "# 선택한 행 시트 이름\n",
    "\n",
    "row_nm_check(wb_cy)['sheet_name']"
   ]
  },
  {
   "cell_type": "code",
   "execution_count": 12,
   "id": "d5d142ba",
   "metadata": {},
   "outputs": [],
   "source": [
    "## 출고행 번호 리스트 -> 문자열로 변환\n",
    "def get_row_list_to_string(seleted_row_list) :\n",
    "    return ' '.join(seleted_row_list).replace(',','~').replace(' ', ', ')\n",
    "\n"
   ]
  },
  {
   "cell_type": "code",
   "execution_count": 13,
   "id": "d3b07e25",
   "metadata": {},
   "outputs": [
    {
     "data": {
      "text/plain": [
       "'20~22'"
      ]
     },
     "execution_count": 13,
     "metadata": {},
     "output_type": "execute_result"
    }
   ],
   "source": [
    "get_row_list_to_string(row_nm_check(wb_cy)['selectIon_row_nm'])"
   ]
  },
  {
   "cell_type": "markdown",
   "id": "44966d47",
   "metadata": {},
   "source": [
    "## SO 출고하기\n",
    "- 로컬 품목 같이 출고하는 경우 고려\n",
    "\n",
    "1. 출고 행 선택하기\n",
    "    - 우선 \"C2:C7\" 행 값 비우기\n",
    "    - 출고대기 상태 변경\n",
    "    - \"C4\" 값으로 자동으로 =TODAY()+1 입력\n",
    "    - \"C2\" 값에 선택한 행 자동입력\n",
    "    - ship_date 컬럼이 비어있는지 확인\n",
    "2. 빈 정보가 없는지 확인\n",
    "    - 하하\n",
    "    \n",
    "    \n",
    "    "
   ]
  },
  {
   "cell_type": "code",
   "execution_count": 20,
   "id": "597d5fde",
   "metadata": {},
   "outputs": [],
   "source": []
  },
  {
   "cell_type": "code",
   "execution_count": 14,
   "id": "1a26aebe",
   "metadata": {
    "scrolled": true
   },
   "outputs": [
    {
     "data": {
      "text/plain": [
       "['20~22', None, datetime.datetime(2022, 12, 16, 0, 0), None, None]"
      ]
     },
     "execution_count": 14,
     "metadata": {},
     "output_type": "execute_result"
    }
   ],
   "source": [
    "\n",
    "ws_shi=wb_cy.sheets['Shipment information']\n",
    "ws_local = wb_cy.sheets['로컬리스트']\n",
    "\n",
    "# 1-1 \n",
    "ws_shi.range(\"C2:C7\").clear_contents()\n",
    "\n",
    "ws_local.range(\"C2:C7\").clear_contents()\n",
    "# 1-2\n",
    "ws_shi.range(\"H4\").color = (255,255,255)\n",
    "ws_shi.range(\"H4\").value = \"출고 대기\"\n",
    "ws_shi.range(\"C4\").value = \"=TODAY()+1\"\n",
    "\n",
    "ws_local.range(\"E4\").value = \"로컬 출고 대기\"\n",
    "ws_local.range(\"E4\").color = (255,255,255)\n",
    "\n",
    "# 1-3\n",
    "ws_shi.range(\"C2\").value = get_row_list_to_string(row_nm_check(wb_cy)['selectIon_row_nm'])\n",
    "\n",
    "\n",
    "si_sht_list = wb_cy.sheets['Shipment information'].range('C2:C6').value\n",
    "\n",
    "si_sht_list"
   ]
  },
  {
   "cell_type": "code",
   "execution_count": 15,
   "id": "ca64c945",
   "metadata": {},
   "outputs": [
    {
     "name": "stdout",
     "output_type": "stream",
     "text": [
      "['담당자', '배송방법', '인수증방식']\n"
     ]
    }
   ],
   "source": [
    "# 2-1\n",
    "si_sht_list = wb_cy.sheets['Shipment information'].range('C2:C6').value\n",
    "si_sht_list_name = wb_cy.sheets['Shipment information'].range('B2:B6').value\n",
    "none_list = []\n",
    "must_fill = []\n",
    "for index, val in enumerate(si_sht_list):\n",
    "    if val == None:\n",
    "        none_list.append(index)\n",
    "        \n",
    "# 필수 입력분이 누락되었을 경우\n",
    "if len(none_list) > 0 :\n",
    "    \n",
    "    for val in none_list:\n",
    "        must_fill.append(si_sht_list_name[val])\n",
    "    \n",
    "    \n",
    "## must_fill == [] 일 경우 출고를 시작 할 수 있게된다.\n",
    "\n",
    "\n",
    "# Local출고 체크\n",
    "else:\n",
    "    print(\"로컬출고체크\")"
   ]
  },
  {
   "cell_type": "code",
   "execution_count": 23,
   "id": "a6679f66",
   "metadata": {},
   "outputs": [
    {
     "name": "stdout",
     "output_type": "stream",
     "text": [
      "로컬품목 있음\n"
     ]
    }
   ],
   "source": [
    "ans_local = wb_cy.app.api.InputBox(\"Local출고 품목이 있을 경우 1, 없을경우 0 을 입력해주세요.\",\n",
    "                                   \"Local Check\",\n",
    "                                   \"1 또는 0만 입력해주세요. 취소는 취소버튼을 눌러주세요.\",\n",
    "                                   Type=1)\n",
    "\n",
    "if ans_local == 1 :\n",
    "    print(\"로컬품목 있음\")\n",
    "    ws_shi.range(\"H4\").color = (255,255,0)\n",
    "    ws_shi.range(\"H4\").value = 'Local 출고 행 입력필요'\n",
    "    ws_shi.range(\"C7\").value = \"need_row_nums\"\n",
    "    ##여기서 로컬페이지 actvate \n",
    "    local_act_ob()\n",
    "    \n",
    "elif ans_local == 0 :\n",
    "    print(\"로컬품목 없음\")\n",
    "    ws_shi.range(\"C7\").value = \"no_local\"\n",
    "    ws_shi.range(\"H4\").color = (0,255,255)\n",
    "    ws_shi.range(\"H4\").value = '출고 준비 완료(ShipConfirm 클릭 시 출고 진행)'\n",
    "    \n",
    "elif ans_local == False :\n",
    "    print(\"출고 취소\")\n",
    "    ws_shi.range(\"C2:C7\").clear_contents()\n",
    "    ws_shi.range(\"C4\").value = \"=TODAY()+1\"\n",
    "    ws_shi.range(\"H4\").color = (255,255,255)\n",
    "    ws_shi.range(\"H4\").value = \"출고 대기\"\n",
    "    ## clear_form() 매서드호출 하여 초기화"
   ]
  },
  {
   "cell_type": "code",
   "execution_count": 22,
   "id": "e1784999",
   "metadata": {},
   "outputs": [],
   "source": [
    "# 로컬출고일 경우 로컬리스트 시트로 이동 후 로컬 출고를 지시한다.\n",
    "\n",
    "def local_act_ob() : \n",
    "    ws_local = wb_cy.sheets['로컬리스트']\n",
    "    for index, val in enumerate(ws_shi.range(\"C2:C6\").value) :\n",
    "        ws_local.range(\"C\"+ str(index+3)).value = val\n",
    "\n",
    "    \n",
    "    ws_local.activate()\n",
    "\n",
    "    ws_local.range(\"E4\").value = \"로컬 출고(출고 행 선택 후 LocalReady 버튼 클릭)\"\n",
    "    ws_local.range(\"E4\").color = (0,255,255)\n",
    "\n"
   ]
  },
  {
   "cell_type": "code",
   "execution_count": 25,
   "id": "5555fb1d",
   "metadata": {},
   "outputs": [
    {
     "name": "stdout",
     "output_type": "stream",
     "text": [
      "로컬 출고 확인\n"
     ]
    }
   ],
   "source": [
    "## LocalReday 버튼\n",
    "\n",
    "## L/C 출고 행 채우기\n",
    "local_row_nums = get_row_list_to_string(row_nm_check(wb_cy)['selectIon_row_nm'])\n",
    "\n",
    "confirm_local = wb_cy.app.api.InputBox(\"행 번호 : \" + local_row_nums + \" 출고가 맞습니까? 맞으면 1, 틀리면 0\",\n",
    "                                   \"Local Check\",\n",
    "                                   \"1 또는 0만 입력해주세요. 취소는 취소버튼을 눌러주세요.\",\n",
    "                                   Type=1)\n",
    "\n",
    "\n",
    "if confirm_local == 1 :\n",
    "    print(\"로컬 출고 확인\")\n",
    "    ws_local.range(\"C2\").value = local_row_nums\n",
    "    ws_shi.activate()\n",
    "    ws_shi.range(\"C7\").value = local_row_nums\n",
    "    ws_shi.range(\"H4\").color = (0,255,255)\n",
    "    ws_shi.range(\"H4\").value = '출고 준비 완료(ShipConfirm 클릭 시 출고 진행)'\n",
    "    \n",
    "elif confirm_local == 0 :\n",
    "    ws_local.range(\"C2\").clear_contents()\n",
    "    print(\"로컬 출고 행 번호가 아님\")\n",
    "\n",
    "elif confirm_local == False :\n",
    "    print(\"취소\")\n"
   ]
  },
  {
   "cell_type": "code",
   "execution_count": null,
   "id": "20354699",
   "metadata": {},
   "outputs": [],
   "source": [
    "def local_reday():\n",
    "    ws_shi=wb_cy.sheets['Shipment information']\n",
    "    ws_local = wb_cy.sheets['로컬리스트']\n",
    "    local_row_nums = get_row_list_to_string(row_nm_check(wb_cy)['selectIon_row_nm'])\n",
    "\n",
    "    confirm_local = wb_cy.app.api.InputBox(\"행 번호 : \" + local_row_nums + \" 출고가 맞습니까? 맞으면 1, 틀리면 0\",\n",
    "                                       \"Local Check\",\n",
    "                                       \"1 또는 0만 입력해주세요. 취소는 취소버튼을 눌러주세요.\",\n",
    "                                       Type=1)\n",
    "\n",
    "\n",
    "    if confirm_local == 1 :\n",
    "        print(\"로컬 출고 확인\")\n",
    "        ws_local.range(\"C2\").value = local_row_nums\n",
    "        ws_shi.activate()\n",
    "        ws_shi.range(\"C7\").value = local_row_nums\n",
    "        ws_shi.range(\"H4\").color = (0,255,255)\n",
    "        ws_shi.range(\"H4\").value = '출고 준비 완료(ShipConfirm 클릭 시 출고 진행)'\n",
    "\n",
    "    elif confirm_local == 0 :\n",
    "        ws_local.range(\"C2\").clear_contents()\n",
    "        print(\"로컬 출고 행 번호가 아님\")\n",
    "\n",
    "    elif confirm_local == False :\n",
    "        print(\"취소\")\n",
    "    "
   ]
  },
  {
   "cell_type": "code",
   "execution_count": 27,
   "id": "edd50f9a",
   "metadata": {},
   "outputs": [],
   "source": [
    "import pandas as pd"
   ]
  },
  {
   "cell_type": "code",
   "execution_count": 67,
   "id": "379c8d9f",
   "metadata": {},
   "outputs": [
    {
     "data": {
      "text/plain": [
       "['20468~20477', '20483~20484', '20491']"
      ]
     },
     "execution_count": 67,
     "metadata": {},
     "output_type": "execute_result"
    }
   ],
   "source": [
    "# ShipConfirm 버튼\n",
    "\n",
    "so_row = ws_shi.range(\"C2\").value\n",
    "lc_row = ws_shi.range(\"C7\").value\n",
    "so_row.replace(' ','').split(',')\n",
    "\n"
   ]
  },
  {
   "cell_type": "code",
   "execution_count": 69,
   "id": "c5a0f6dd",
   "metadata": {
    "scrolled": false
   },
   "outputs": [
    {
     "data": {
      "text/html": [
       "<div>\n",
       "<style scoped>\n",
       "    .dataframe tbody tr th:only-of-type {\n",
       "        vertical-align: middle;\n",
       "    }\n",
       "\n",
       "    .dataframe tbody tr th {\n",
       "        vertical-align: top;\n",
       "    }\n",
       "\n",
       "    .dataframe thead th {\n",
       "        text-align: right;\n",
       "    }\n",
       "</style>\n",
       "<table border=\"1\" class=\"dataframe\">\n",
       "  <thead>\n",
       "    <tr style=\"text-align: right;\">\n",
       "      <th></th>\n",
       "      <th>0</th>\n",
       "      <th>1</th>\n",
       "      <th>2</th>\n",
       "      <th>3</th>\n",
       "      <th>4</th>\n",
       "      <th>5</th>\n",
       "      <th>6</th>\n",
       "      <th>7</th>\n",
       "      <th>8</th>\n",
       "      <th>9</th>\n",
       "      <th>10</th>\n",
       "      <th>11</th>\n",
       "      <th>12</th>\n",
       "      <th>13</th>\n",
       "      <th>14</th>\n",
       "      <th>15</th>\n",
       "      <th>16</th>\n",
       "      <th>17</th>\n",
       "    </tr>\n",
       "  </thead>\n",
       "  <tbody>\n",
       "    <tr>\n",
       "      <th>0</th>\n",
       "      <td>STO0165597</td>\n",
       "      <td>115394016</td>\n",
       "      <td>140148519</td>\n",
       "      <td>1</td>\n",
       "      <td>2022-10-24</td>\n",
       "      <td>2124780</td>\n",
       "      <td>8981.0</td>\n",
       "      <td>None</td>\n",
       "      <td>에스티팜</td>\n",
       "      <td>2022-10-31</td>\n",
       "      <td>None</td>\n",
       "      <td>None</td>\n",
       "      <td>None</td>\n",
       "      <td>KJJ_2022-M-021</td>\n",
       "      <td>UPD3352242</td>\n",
       "      <td>None</td>\n",
       "      <td>None</td>\n",
       "      <td>None</td>\n",
       "    </tr>\n",
       "    <tr>\n",
       "      <th>1</th>\n",
       "      <td>STO0165597</td>\n",
       "      <td>115394016</td>\n",
       "      <td>140148520</td>\n",
       "      <td>1</td>\n",
       "      <td>2022-10-24</td>\n",
       "      <td>2124780</td>\n",
       "      <td>NaN</td>\n",
       "      <td>None</td>\n",
       "      <td>에스티팜</td>\n",
       "      <td>2022-10-31</td>\n",
       "      <td>None</td>\n",
       "      <td>None</td>\n",
       "      <td>None</td>\n",
       "      <td>KJJ_2022-M-021</td>\n",
       "      <td>UPD3352240</td>\n",
       "      <td>None</td>\n",
       "      <td>None</td>\n",
       "      <td>None</td>\n",
       "    </tr>\n",
       "    <tr>\n",
       "      <th>2</th>\n",
       "      <td>STO0165597</td>\n",
       "      <td>115394016</td>\n",
       "      <td>140148521</td>\n",
       "      <td>1</td>\n",
       "      <td>2022-10-24</td>\n",
       "      <td>2124780</td>\n",
       "      <td>NaN</td>\n",
       "      <td>None</td>\n",
       "      <td>에스티팜</td>\n",
       "      <td>2022-10-31</td>\n",
       "      <td>None</td>\n",
       "      <td>None</td>\n",
       "      <td>None</td>\n",
       "      <td>KJJ_2022-M-021</td>\n",
       "      <td>UPD3352252</td>\n",
       "      <td>None</td>\n",
       "      <td>None</td>\n",
       "      <td>None</td>\n",
       "    </tr>\n",
       "    <tr>\n",
       "      <th>3</th>\n",
       "      <td>STO0165597</td>\n",
       "      <td>115394016</td>\n",
       "      <td>140148534</td>\n",
       "      <td>1</td>\n",
       "      <td>2022-10-24</td>\n",
       "      <td>2124780</td>\n",
       "      <td>NaN</td>\n",
       "      <td>None</td>\n",
       "      <td>에스티팜</td>\n",
       "      <td>2022-10-31</td>\n",
       "      <td>None</td>\n",
       "      <td>None</td>\n",
       "      <td>None</td>\n",
       "      <td>KJJ_2022-M-021</td>\n",
       "      <td>UPD3352249</td>\n",
       "      <td>None</td>\n",
       "      <td>None</td>\n",
       "      <td>None</td>\n",
       "    </tr>\n",
       "    <tr>\n",
       "      <th>4</th>\n",
       "      <td>STO0165597</td>\n",
       "      <td>115394016</td>\n",
       "      <td>140148535</td>\n",
       "      <td>1</td>\n",
       "      <td>2022-10-24</td>\n",
       "      <td>2124780</td>\n",
       "      <td>NaN</td>\n",
       "      <td>None</td>\n",
       "      <td>에스티팜</td>\n",
       "      <td>2022-10-31</td>\n",
       "      <td>None</td>\n",
       "      <td>None</td>\n",
       "      <td>None</td>\n",
       "      <td>KJJ_2022-M-021</td>\n",
       "      <td>UPD3352251</td>\n",
       "      <td>None</td>\n",
       "      <td>None</td>\n",
       "      <td>None</td>\n",
       "    </tr>\n",
       "    <tr>\n",
       "      <th>5</th>\n",
       "      <td>STO0165597</td>\n",
       "      <td>115394017</td>\n",
       "      <td>140139580</td>\n",
       "      <td>1</td>\n",
       "      <td>2022-10-24</td>\n",
       "      <td>2125001</td>\n",
       "      <td>10992.0</td>\n",
       "      <td>None</td>\n",
       "      <td>삼성바이오로직스</td>\n",
       "      <td>2022-10-31</td>\n",
       "      <td>None</td>\n",
       "      <td>None</td>\n",
       "      <td>None</td>\n",
       "      <td>SVC_PO4500032639</td>\n",
       "      <td>UPD3351756</td>\n",
       "      <td>None</td>\n",
       "      <td>None</td>\n",
       "      <td>None</td>\n",
       "    </tr>\n",
       "    <tr>\n",
       "      <th>6</th>\n",
       "      <td>STO0165597</td>\n",
       "      <td>115394017</td>\n",
       "      <td>140139582</td>\n",
       "      <td>1</td>\n",
       "      <td>2022-10-24</td>\n",
       "      <td>2125001</td>\n",
       "      <td>NaN</td>\n",
       "      <td>None</td>\n",
       "      <td>삼성바이오로직스</td>\n",
       "      <td>2022-10-31</td>\n",
       "      <td>None</td>\n",
       "      <td>None</td>\n",
       "      <td>None</td>\n",
       "      <td>SVC_PO4500032639</td>\n",
       "      <td>UPD3351685</td>\n",
       "      <td>None</td>\n",
       "      <td>None</td>\n",
       "      <td>None</td>\n",
       "    </tr>\n",
       "    <tr>\n",
       "      <th>7</th>\n",
       "      <td>STO0165597</td>\n",
       "      <td>115394017</td>\n",
       "      <td>140147742</td>\n",
       "      <td>1</td>\n",
       "      <td>2022-10-24</td>\n",
       "      <td>2125226</td>\n",
       "      <td>7301.0</td>\n",
       "      <td>None</td>\n",
       "      <td>삼성바이오로직스</td>\n",
       "      <td>2022-10-31</td>\n",
       "      <td>None</td>\n",
       "      <td>None</td>\n",
       "      <td>None</td>\n",
       "      <td>SVC_PO4500033405</td>\n",
       "      <td>UPD3351698</td>\n",
       "      <td>None</td>\n",
       "      <td>None</td>\n",
       "      <td>None</td>\n",
       "    </tr>\n",
       "    <tr>\n",
       "      <th>8</th>\n",
       "      <td>STO0165597</td>\n",
       "      <td>115394017</td>\n",
       "      <td>140147742</td>\n",
       "      <td>1</td>\n",
       "      <td>2022-10-24</td>\n",
       "      <td>2125325</td>\n",
       "      <td>911.0</td>\n",
       "      <td>None</td>\n",
       "      <td>삼성바이오로직스</td>\n",
       "      <td>2022-10-31</td>\n",
       "      <td>None</td>\n",
       "      <td>None</td>\n",
       "      <td>None</td>\n",
       "      <td>LCY_PO#4500033426</td>\n",
       "      <td>UPD3352005</td>\n",
       "      <td>None</td>\n",
       "      <td>None</td>\n",
       "      <td>None</td>\n",
       "    </tr>\n",
       "    <tr>\n",
       "      <th>9</th>\n",
       "      <td>STO0165597</td>\n",
       "      <td>115394018</td>\n",
       "      <td>140140599</td>\n",
       "      <td>1</td>\n",
       "      <td>2022-10-24</td>\n",
       "      <td>2125289</td>\n",
       "      <td>565.0</td>\n",
       "      <td>None</td>\n",
       "      <td>삼성바이오에피스</td>\n",
       "      <td>2022-10-31</td>\n",
       "      <td>None</td>\n",
       "      <td>None</td>\n",
       "      <td>None</td>\n",
       "      <td>SVC_PO4500036748</td>\n",
       "      <td>UPD3351729</td>\n",
       "      <td>None</td>\n",
       "      <td>None</td>\n",
       "      <td>None</td>\n",
       "    </tr>\n",
       "    <tr>\n",
       "      <th>0</th>\n",
       "      <td>STO0165597</td>\n",
       "      <td>115394023</td>\n",
       "      <td>140139405</td>\n",
       "      <td>1</td>\n",
       "      <td>2022-10-24</td>\n",
       "      <td>800598</td>\n",
       "      <td>2921.0</td>\n",
       "      <td>None</td>\n",
       "      <td>에스에프씨</td>\n",
       "      <td>2022-10-31</td>\n",
       "      <td>None</td>\n",
       "      <td>None</td>\n",
       "      <td>None</td>\n",
       "      <td>SHL_SFC_Q-266186 V0_Oligo Pilot</td>\n",
       "      <td>UPD3351872</td>\n",
       "      <td>None</td>\n",
       "      <td>None</td>\n",
       "      <td>None</td>\n",
       "    </tr>\n",
       "    <tr>\n",
       "      <th>1</th>\n",
       "      <td>STO0165597</td>\n",
       "      <td>115394024</td>\n",
       "      <td>140138466</td>\n",
       "      <td>1</td>\n",
       "      <td>2022-10-24</td>\n",
       "      <td>2122133</td>\n",
       "      <td>12999.0</td>\n",
       "      <td>None</td>\n",
       "      <td>바이넥스 오송공장</td>\n",
       "      <td>2022-10-31</td>\n",
       "      <td>None</td>\n",
       "      <td>None</td>\n",
       "      <td>None</td>\n",
       "      <td>BJH_Binex_EP1-D-20887/8_CaptoS/Q</td>\n",
       "      <td>UPD3351866</td>\n",
       "      <td>None</td>\n",
       "      <td>None</td>\n",
       "      <td>None</td>\n",
       "    </tr>\n",
       "    <tr>\n",
       "      <th>0</th>\n",
       "      <td>STO0165597</td>\n",
       "      <td>115394008</td>\n",
       "      <td>140138518</td>\n",
       "      <td>1</td>\n",
       "      <td>2022-10-24</td>\n",
       "      <td>2120686</td>\n",
       "      <td>136789</td>\n",
       "      <td>None</td>\n",
       "      <td>삼성바이오로직스</td>\n",
       "      <td>2022-10-31</td>\n",
       "      <td>None</td>\n",
       "      <td>None</td>\n",
       "      <td>None</td>\n",
       "      <td>4500027149</td>\n",
       "      <td>UPD3352081</td>\n",
       "      <td>None</td>\n",
       "      <td>None</td>\n",
       "      <td>None</td>\n",
       "    </tr>\n",
       "  </tbody>\n",
       "</table>\n",
       "</div>"
      ],
      "text/plain": [
       "           0          1          2  3          4        5        6     7   \\\n",
       "0  STO0165597  115394016  140148519  1 2022-10-24  2124780   8981.0  None   \n",
       "1  STO0165597  115394016  140148520  1 2022-10-24  2124780      NaN  None   \n",
       "2  STO0165597  115394016  140148521  1 2022-10-24  2124780      NaN  None   \n",
       "3  STO0165597  115394016  140148534  1 2022-10-24  2124780      NaN  None   \n",
       "4  STO0165597  115394016  140148535  1 2022-10-24  2124780      NaN  None   \n",
       "5  STO0165597  115394017  140139580  1 2022-10-24  2125001  10992.0  None   \n",
       "6  STO0165597  115394017  140139582  1 2022-10-24  2125001      NaN  None   \n",
       "7  STO0165597  115394017  140147742  1 2022-10-24  2125226   7301.0  None   \n",
       "8  STO0165597  115394017  140147742  1 2022-10-24  2125325    911.0  None   \n",
       "9  STO0165597  115394018  140140599  1 2022-10-24  2125289    565.0  None   \n",
       "0  STO0165597  115394023  140139405  1 2022-10-24   800598   2921.0  None   \n",
       "1  STO0165597  115394024  140138466  1 2022-10-24  2122133  12999.0  None   \n",
       "0  STO0165597  115394008  140138518  1 2022-10-24  2120686   136789  None   \n",
       "\n",
       "          8          9     10    11    12                                13  \\\n",
       "0       에스티팜 2022-10-31  None  None  None                    KJJ_2022-M-021   \n",
       "1       에스티팜 2022-10-31  None  None  None                    KJJ_2022-M-021   \n",
       "2       에스티팜 2022-10-31  None  None  None                    KJJ_2022-M-021   \n",
       "3       에스티팜 2022-10-31  None  None  None                    KJJ_2022-M-021   \n",
       "4       에스티팜 2022-10-31  None  None  None                    KJJ_2022-M-021   \n",
       "5   삼성바이오로직스 2022-10-31  None  None  None                  SVC_PO4500032639   \n",
       "6   삼성바이오로직스 2022-10-31  None  None  None                  SVC_PO4500032639   \n",
       "7   삼성바이오로직스 2022-10-31  None  None  None                  SVC_PO4500033405   \n",
       "8   삼성바이오로직스 2022-10-31  None  None  None                 LCY_PO#4500033426   \n",
       "9   삼성바이오에피스 2022-10-31  None  None  None                  SVC_PO4500036748   \n",
       "0      에스에프씨 2022-10-31  None  None  None   SHL_SFC_Q-266186 V0_Oligo Pilot   \n",
       "1  바이넥스 오송공장 2022-10-31  None  None  None  BJH_Binex_EP1-D-20887/8_CaptoS/Q   \n",
       "0   삼성바이오로직스 2022-10-31  None  None  None                        4500027149   \n",
       "\n",
       "           14    15    16    17  \n",
       "0  UPD3352242  None  None  None  \n",
       "1  UPD3352240  None  None  None  \n",
       "2  UPD3352252  None  None  None  \n",
       "3  UPD3352249  None  None  None  \n",
       "4  UPD3352251  None  None  None  \n",
       "5  UPD3351756  None  None  None  \n",
       "6  UPD3351685  None  None  None  \n",
       "7  UPD3351698  None  None  None  \n",
       "8  UPD3352005  None  None  None  \n",
       "9  UPD3351729  None  None  None  \n",
       "0  UPD3351872  None  None  None  \n",
       "1  UPD3351866  None  None  None  \n",
       "0  UPD3352081  None  None  None  "
      ]
     },
     "execution_count": 69,
     "metadata": {},
     "output_type": "execute_result"
    }
   ],
   "source": [
    "# 행 번호 df로 반환 \n",
    "\n",
    "so_row_list = so_row.replace(' ','').split(',')\n",
    "df_so = pd.DataFrame()\n",
    "\n",
    "for row in so_row_list :\n",
    "    \n",
    "    # 연속된 행인 경우\n",
    "    if '~' in row :\n",
    "        df_so = pd.concat([df_so,pd.DataFrame(ws_shi.range('A' + row.split('~')[0] + ':' + 'R' +row.split('~')[1]).options(numbers=int).value)]) \n",
    "    else : \n",
    "        df_so = pd.concat([df_so,pd.DataFrame(ws_shi.range('A' + row + ':' + 'R' + row ).options(numbers=int).value).T])\n",
    "df_so = \n"
   ]
  },
  {
   "cell_type": "code",
   "execution_count": 63,
   "id": "b44947a8",
   "metadata": {},
   "outputs": [
    {
     "name": "stdout",
     "output_type": "stream",
     "text": [
      "['3249, 3253, 3279, 3314, 3460, 4224', '성유진님', datetime.datetime(2022, 12, 16, 0, 0), '일반배송', 'P/L', '15~17']\n"
     ]
    }
   ],
   "source": [
    "if '출고 준비 완료' in ws_shi.range('H4').value:\n",
    "\n",
    "    print(ws_shi.range(\"C2:C7\").value)"
   ]
  },
  {
   "cell_type": "code",
   "execution_count": 60,
   "id": "f8473b1f",
   "metadata": {},
   "outputs": [
    {
     "data": {
      "text/plain": [
       "'2022-12-16'"
      ]
     },
     "execution_count": 60,
     "metadata": {},
     "output_type": "execute_result"
    }
   ],
   "source": [
    "ws_shi.range(\"C2:C7\").value[2].date().isoformat()"
   ]
  },
  {
   "cell_type": "code",
   "execution_count": 50,
   "id": "aa415108",
   "metadata": {},
   "outputs": [
    {
     "data": {
      "text/html": [
       "<div>\n",
       "<style scoped>\n",
       "    .dataframe tbody tr th:only-of-type {\n",
       "        vertical-align: middle;\n",
       "    }\n",
       "\n",
       "    .dataframe tbody tr th {\n",
       "        vertical-align: top;\n",
       "    }\n",
       "\n",
       "    .dataframe thead th {\n",
       "        text-align: right;\n",
       "    }\n",
       "</style>\n",
       "<table border=\"1\" class=\"dataframe\">\n",
       "  <thead>\n",
       "    <tr style=\"text-align: right;\">\n",
       "      <th></th>\n",
       "      <th>0</th>\n",
       "      <th>1</th>\n",
       "      <th>2</th>\n",
       "      <th>3</th>\n",
       "      <th>4</th>\n",
       "      <th>5</th>\n",
       "      <th>6</th>\n",
       "      <th>7</th>\n",
       "      <th>8</th>\n",
       "      <th>9</th>\n",
       "      <th>10</th>\n",
       "      <th>11</th>\n",
       "      <th>12</th>\n",
       "      <th>13</th>\n",
       "      <th>14</th>\n",
       "      <th>15</th>\n",
       "      <th>16</th>\n",
       "      <th>17</th>\n",
       "    </tr>\n",
       "  </thead>\n",
       "  <tbody>\n",
       "    <tr>\n",
       "      <th>0</th>\n",
       "      <td>STO0151193</td>\n",
       "      <td>105655235.0</td>\n",
       "      <td>119081704.0</td>\n",
       "      <td>1.0</td>\n",
       "      <td>2021-05-26</td>\n",
       "      <td>800145.0</td>\n",
       "      <td>10896.13</td>\n",
       "      <td>None</td>\n",
       "      <td>이연제약</td>\n",
       "      <td>2021-06-03</td>\n",
       "      <td>2021-09-10</td>\n",
       "      <td>2021-09-29</td>\n",
       "      <td>None</td>\n",
       "      <td>SJ_JKJ_Reyon_AKTA ReadyFlux XL system</td>\n",
       "      <td>UPD3106916</td>\n",
       "      <td>None</td>\n",
       "      <td>None</td>\n",
       "      <td>13627.0</td>\n",
       "    </tr>\n",
       "  </tbody>\n",
       "</table>\n",
       "</div>"
      ],
      "text/plain": [
       "           0            1            2    3          4         5         6   \\\n",
       "0  STO0151193  105655235.0  119081704.0  1.0 2021-05-26  800145.0  10896.13   \n",
       "\n",
       "     7     8          9          10         11    12  \\\n",
       "0  None  이연제약 2021-06-03 2021-09-10 2021-09-29  None   \n",
       "\n",
       "                                      13          14    15    16       17  \n",
       "0  SJ_JKJ_Reyon_AKTA ReadyFlux XL system  UPD3106916  None  None  13627.0  "
      ]
     },
     "execution_count": 50,
     "metadata": {},
     "output_type": "execute_result"
    }
   ],
   "source": []
  },
  {
   "cell_type": "code",
   "execution_count": 139,
   "id": "d6e830f8",
   "metadata": {},
   "outputs": [],
   "source": [
    "\n",
    "# 춢고할 수 있는 행인지 먼저 확인하기\n",
    "if row_nm_check(wb_cy)['sheet_name'] == 'Shipment information' :\n",
    "    wb_cy.sheets['Shipment information'].range('C2:C8').value\n",
    "    "
   ]
  },
  {
   "cell_type": "code",
   "execution_count": 11,
   "id": "fa8c8155",
   "metadata": {},
   "outputs": [],
   "source": [
    "from datetime import datetime"
   ]
  },
  {
   "cell_type": "code",
   "execution_count": 12,
   "id": "653bcb64",
   "metadata": {},
   "outputs": [],
   "source": [
    "\n",
    "ws_si=wb_cy.sheets['Shipment information']\n",
    "ws_lc = wb_cy.sheets['로컬리스트']"
   ]
  },
  {
   "cell_type": "code",
   "execution_count": 19,
   "id": "8c6e75e4",
   "metadata": {
    "scrolled": true
   },
   "outputs": [
    {
     "data": {
      "text/plain": [
       "'2938~2952, 2959~2963'"
      ]
     },
     "execution_count": 19,
     "metadata": {},
     "output_type": "execute_result"
    }
   ],
   "source": [
    "ws_si.range(\"C2\").options(numbers=int).value"
   ]
  },
  {
   "cell_type": "code",
   "execution_count": 9,
   "id": "3a3728e9",
   "metadata": {},
   "outputs": [],
   "source": [
    "import pandas as pd"
   ]
  },
  {
   "cell_type": "code",
   "execution_count": 13,
   "id": "320ceed0",
   "metadata": {},
   "outputs": [],
   "source": [
    "so_row = ws_si.range(\"C2\").value\n",
    "lc_row = ws_si.range(\"C7\").value"
   ]
  },
  {
   "cell_type": "code",
   "execution_count": 21,
   "id": "0bcdb248",
   "metadata": {},
   "outputs": [],
   "source": [
    "## 얻은 행번호 DF로 만들기\n",
    "\n",
    "so_row_list = so_row.replace(' ','').split(',')\n",
    "df_so = pd.DataFrame()\n",
    "\n",
    "for row in so_row_list :\n",
    "    \n",
    "    # 연속된 행인 경우\n",
    "    if '~' in row :\n",
    "        df_so = pd.concat([df_so,pd.DataFrame(ws_si.range('A' + row.split('~')[0] + ':' + 'R' +row.split('~')[1]).options(numbers=int).value)]) \n",
    "    else : \n",
    "        df_so = pd.concat([df_so,pd.DataFrame(ws_si.range('A' + row + ':' + 'R' + row ).options(numbers=int).value).T])\n",
    "\n",
    "df_so.rename(columns={17:'si_index'},inplace=True)"
   ]
  },
  {
   "cell_type": "code",
   "execution_count": 23,
   "id": "dca08d00",
   "metadata": {},
   "outputs": [],
   "source": [
    "import copy"
   ]
  },
  {
   "cell_type": "code",
   "execution_count": 44,
   "id": "9e11953d",
   "metadata": {},
   "outputs": [
    {
     "name": "stdout",
     "output_type": "stream",
     "text": [
      "[12341, 'c', 'c', 'c', 'c', 'c', 'c', 'c', 'c', 'c', 'c', 'c', 'c', 'c', 'c', 'd', 12355, 'c', 'c', 'c', 'c']\n"
     ]
    }
   ],
   "source": [
    "# 연속된 숫자 표현\n",
    "\n",
    "# 'c'는 연속된 숫자, 'd'는 분리필요\n",
    "\n",
    "idx_list = list(df_so['si_index'])\n",
    "\n",
    "idx_cal = [idx_list[0]]\n",
    "tmp = idx_list[0]\n",
    "\n",
    "for val in idx_list:\n",
    "    if tmp == val:\n",
    "        continue\n",
    "    elif tmp == val - 1 :\n",
    "        idx_cal.append('c')\n",
    "        tmp = val\n",
    "    else :\n",
    "        idx_cal.append('d')\n",
    "        idx_cal.append(tmp)\n",
    "        tmp = val\n",
    "        \n",
    "print(idx_cal)"
   ]
  },
  {
   "cell_type": "code",
   "execution_count": 61,
   "id": "1d2b6fe5",
   "metadata": {
    "scrolled": true
   },
   "outputs": [],
   "source": [
    "# \n",
    "idx_cal = list(map(str, idx_cal))\n",
    "d_count = idx_cal.count('d')"
   ]
  },
  {
   "cell_type": "code",
   "execution_count": 106,
   "id": "f31f2ea5",
   "metadata": {},
   "outputs": [
    {
     "data": {
      "text/plain": [
       "'221223'"
      ]
     },
     "execution_count": 106,
     "metadata": {},
     "output_type": "execute_result"
    }
   ],
   "source": [
    "today= datetime.today().date().isoformat().replace('-','')[2:]\n",
    "today"
   ]
  },
  {
   "cell_type": "code",
   "execution_count": 110,
   "id": "a4dd8737",
   "metadata": {},
   "outputs": [
    {
     "data": {
      "text/plain": [
       "'221223_12341C12355A12355C12359'"
      ]
     },
     "execution_count": 110,
     "metadata": {},
     "output_type": "execute_result"
    }
   ],
   "source": [
    "\n",
    "idx_done = ''.join(idx_cal).split('d')\n",
    "idx_list_fin = []\n",
    "today= datetime.today().date().isoformat().replace('-','')[2:]\n",
    "fin_idx = today\n",
    "\n",
    "for idx in range(d_count+1):\n",
    "    val = idx_done[idx]\n",
    "    if 'c' in val :\n",
    "        c_count = val.count('c')\n",
    "        val = val.replace('c','')\n",
    "        idx_list_fin.append(val + 'C' +str(int(val) + c_count))\n",
    "    else :\n",
    "        idx_list_fin.append(val)\n",
    "idx_list_fin\n",
    "\n",
    "fin_idx = fin_idx + '_'+'A'.join(idx_list_fin)\n",
    "fin_idx"
   ]
  },
  {
   "cell_type": "code",
   "execution_count": null,
   "id": "14343c17",
   "metadata": {},
   "outputs": [],
   "source": []
  },
  {
   "cell_type": "code",
   "execution_count": 51,
   "id": "7728e4bc",
   "metadata": {},
   "outputs": [
    {
     "data": {
      "text/plain": [
       "['12355', 'c', 'c', 'c', 'c']"
      ]
     },
     "execution_count": 51,
     "metadata": {},
     "output_type": "execute_result"
    }
   ],
   "source": [
    "idx_cal[15:][1:]"
   ]
  },
  {
   "cell_type": "code",
   "execution_count": 50,
   "id": "f51c50dc",
   "metadata": {
    "scrolled": true
   },
   "outputs": [
    {
     "data": {
      "text/plain": [
       "['12341', 'c', 'c', 'c', 'c', 'c', 'c', 'c', 'c', 'c', 'c', 'c', 'c', 'c', 'c']"
      ]
     },
     "execution_count": 50,
     "metadata": {},
     "output_type": "execute_result"
    }
   ],
   "source": [
    "idx_cal[:15]"
   ]
  },
  {
   "cell_type": "code",
   "execution_count": 113,
   "id": "0a319b4c",
   "metadata": {},
   "outputs": [
    {
     "data": {
      "text/plain": [
       "[12602, 12603, 12652, 12656, 12682, 12717, 12863, 13627, 13938, 15240, 15285]"
      ]
     },
     "execution_count": 113,
     "metadata": {},
     "output_type": "execute_result"
    }
   ],
   "source": [
    "idx_list"
   ]
  },
  {
   "cell_type": "markdown",
   "id": "9fd6a23a",
   "metadata": {},
   "source": [
    "## Unique 키값만들기\n",
    "\n",
    "1. 출고하는 행, 품목의 개수가 몇개든 출고기록은 1개로 기록됨\n",
    "\n"
   ]
  },
  {
   "cell_type": "code",
   "execution_count": 115,
   "id": "45e7c011",
   "metadata": {},
   "outputs": [
    {
     "data": {
      "text/plain": [
       "'221223_12602C12603A12603A12652A12656A12682A12717A12863A13627A13938A15240'"
      ]
     },
     "execution_count": 115,
     "metadata": {},
     "output_type": "execute_result"
    }
   ],
   "source": [
    "\n",
    "def get_idx():\n",
    "\n",
    "    # 연속된 숫자 표현\n",
    "\n",
    "    # 'c'는 연속된 숫자, 'd'는 분리필요\n",
    "\n",
    "    idx_list = list(df_so['si_index'])\n",
    "\n",
    "    idx_cal = [idx_list[0]]\n",
    "    tmp = idx_list[0]\n",
    "\n",
    "    for val in idx_list:\n",
    "        if tmp == val:\n",
    "            continue\n",
    "        elif tmp == val - 1 :\n",
    "            idx_cal.append('c')\n",
    "            tmp = val\n",
    "        else :\n",
    "            idx_cal.append('d')\n",
    "            idx_cal.append(tmp)\n",
    "            tmp = val\n",
    "\n",
    "    idx_cal = list(map(str, idx_cal))\n",
    "    d_count = idx_cal.count('d')\n",
    "\n",
    "    idx_done = ''.join(idx_cal).split('d')\n",
    "    idx_list_fin = []\n",
    "\n",
    "    today= datetime.today().date().isoformat().replace('-','')[2:]\n",
    "    fin_idx = today\n",
    "\n",
    "    for idx in range(d_count+1):\n",
    "        val = idx_done[idx]\n",
    "        if 'c' in val :\n",
    "            c_count = val.count('c')\n",
    "            val = val.replace('c','')\n",
    "            idx_list_fin.append(val + 'C' +str(int(val) + c_count))\n",
    "        else :\n",
    "            idx_list_fin.append(val)\n",
    "\n",
    "    fin_idx = fin_idx + '_'+'A'.join(idx_list_fin)\n",
    "\n",
    "    return fin_idx"
   ]
  },
  {
   "cell_type": "code",
   "execution_count": null,
   "id": "59577f45",
   "metadata": {},
   "outputs": [],
   "source": []
  },
  {
   "cell_type": "code",
   "execution_count": 18,
   "id": "01328f7b",
   "metadata": {},
   "outputs": [
    {
     "data": {
      "text/plain": [
       "xlwings.main.Range"
      ]
     },
     "execution_count": 18,
     "metadata": {},
     "output_type": "execute_result"
    }
   ],
   "source": [
    "## 시트만 입력하면 출고해야하는 index 값들 출력,\n",
    "\n",
    "# 출고행 번호\n",
    "out_row_nums = ws_lc.range(\"C2\").options(numbers=int).value\n",
    "\n",
    "# index 행 위치 == 9 고정\n",
    "\n",
    "# 해당시트의 column의 개수 찾기\n",
    "col_count = ws_lc.range(\"XFD9\").end('left').column\n",
    "\n",
    "type(ws_lc.range(9,1))"
   ]
  },
  {
   "cell_type": "code",
   "execution_count": 19,
   "id": "3ad5988b",
   "metadata": {},
   "outputs": [
    {
     "data": {
      "text/plain": [
       "['입고일',\n",
       " 'CAT NO',\n",
       " 'DESCRIPTION',\n",
       " \"Q'TY\",\n",
       " 'Your Ref./Our Ref.',\n",
       " 'receipt no.',\n",
       " 'Customer Ref.',\n",
       " None,\n",
       " 'REMARK',\n",
       " 'lc_index']"
      ]
     },
     "execution_count": 19,
     "metadata": {},
     "output_type": "execute_result"
    }
   ],
   "source": [
    "# column의 이름 리스트로 받기\n",
    "col_names = ws_lc.range(ws_lc.range(9,1),ws_lc.range(9,col_count)).value\n",
    "col_names"
   ]
  },
  {
   "cell_type": "code",
   "execution_count": 24,
   "id": "7c4e5f22",
   "metadata": {},
   "outputs": [
    {
     "name": "stdout",
     "output_type": "stream",
     "text": [
      "9\n"
     ]
    }
   ],
   "source": [
    "# '_index'가 포함된 리스트의 순서 얻기\n",
    "col_names = pd.Series(col_names).fillna('None')\n",
    "for idx ,i in enumerate(col_names):\n",
    "    if i == None:\n",
    "        continue\n",
    "    elif '_index' in i :\n",
    "        print(idx)"
   ]
  },
  {
   "cell_type": "code",
   "execution_count": 73,
   "id": "9285fdbe",
   "metadata": {},
   "outputs": [],
   "source": [
    "\n",
    "\n",
    "def get_out_table(sheet_name,index_row_number=9):\n",
    "    \n",
    "    out_row_nums = sheet_name.range(\"C2\").options(numbers=int).value\n",
    "    col_count = sheet_name.range(\"XFD9\").end('left').column\n",
    "    idx_row_num = index_row_number\n",
    "    col_names = sheet_name.range(sheet_name.range(int(idx_row_num),1),sheet_name.range(int(idx_row_num),col_count)).value\n",
    "    \n",
    "    for idx ,i in enumerate(col_names):\n",
    "        \n",
    "        if i == None:\n",
    "            continue\n",
    "        elif '_index' in i :\n",
    "            col_num = idx\n",
    "    \n",
    "    df_so = pd.DataFrame()\n",
    "    \n",
    "    try :\n",
    "        row_list = out_row_nums.replace(' ','').split(',')\n",
    "    except:\n",
    "        row_list = [out_row_nums]\n",
    "    \n",
    "    for row in row_list :\n",
    "\n",
    "        # 연속된 행인 경우\n",
    "        if '~' in str(row) :\n",
    "            left_row =int(row.split('~')[0])\n",
    "            right_row = int(row.split('~')[1])\n",
    "            rng = sheet_name.range(sheet_name.range(left_row,1),sheet_name.range(right_row,col_count))\n",
    "            df_so = pd.concat([df_so,pd.DataFrame(sheet_name.range(rng).options(numbers=int).value)]) \n",
    "        else :\n",
    "            left_row =int(row)\n",
    "            right_row = int(row)\n",
    "            rng = sheet_name.range(sheet_name.range(left_row,1),sheet_name.range(right_row,col_count))\n",
    "            df_so = pd.concat([df_so,pd.DataFrame(sheet_name.range(rng).options(numbers=int).value).T])\n",
    "\n",
    "    \n",
    "    return list(df_so[col_num])"
   ]
  },
  {
   "cell_type": "code",
   "execution_count": 77,
   "id": "b58f7152",
   "metadata": {},
   "outputs": [
    {
     "data": {
      "text/plain": [
       "[24321,\n",
       " 26363,\n",
       " 26364,\n",
       " 26423,\n",
       " 26476,\n",
       " 26551,\n",
       " 26667,\n",
       " 26832,\n",
       " 26923,\n",
       " 26924,\n",
       " 29618,\n",
       " 29623,\n",
       " 29624,\n",
       " 29626,\n",
       " 29628]"
      ]
     },
     "execution_count": 77,
     "metadata": {},
     "output_type": "execute_result"
    }
   ],
   "source": [
    "get_out_table(ws_si)"
   ]
  },
  {
   "cell_type": "code",
   "execution_count": 151,
   "id": "f234fc0c",
   "metadata": {},
   "outputs": [],
   "source": [
    "def get_idx(sheet_name):\n",
    "    \"\"\"\n",
    "    xlwings.main.Sheet를 인수로 입력\n",
    "    \"\"\"\n",
    "    # 연속된 숫자 표현\n",
    "\n",
    "    # 'c'는 연속된 숫자, 'd'는 분리필요\n",
    "\n",
    "    idx_list = get_out_table(sheet_name)\n",
    "\n",
    "    idx_cal = [idx_list[0]]\n",
    "    tmp = idx_list[0]\n",
    "    for val in idx_list:\n",
    "        if tmp == val:\n",
    "            continue\n",
    "        elif tmp == val - 1 :\n",
    "            idx_cal.append('c')\n",
    "            tmp = val\n",
    "        else :\n",
    "            idx_cal.append('d')\n",
    "            idx_cal.append(val) \n",
    "            tmp = val\n",
    "    \n",
    "    idx_cal = list(map(str, idx_cal))\n",
    "    d_count = idx_cal.count('d')\n",
    "\n",
    "    idx_done = ''.join(idx_cal).split('d')\n",
    "    idx_list_fin = []\n",
    "\n",
    "    \n",
    "    fin_idx = sheets_names[sheet_name.name]\n",
    "    \n",
    "    for idx in range(d_count+1):\n",
    "        val = idx_done[idx]\n",
    "        if 'c' in val :\n",
    "            c_count = val.count('c')\n",
    "            val = val.replace('c','')\n",
    "            idx_list_fin.append(val + 'C' +str(int(val) + c_count))\n",
    "        else :\n",
    "            idx_list_fin.append(val)\n",
    "\n",
    "    fin_idx = fin_idx + '_'+'A'.join(idx_list_fin)\n",
    "\n",
    "    return fin_idx"
   ]
  },
  {
   "cell_type": "code",
   "execution_count": 149,
   "id": "3d9ff833",
   "metadata": {},
   "outputs": [
    {
     "data": {
      "text/plain": [
       "{'Shipment information': 'si',\n",
       " '인수증': 'so_pod',\n",
       " '대리점송장': 'br',\n",
       " '대리점 출고대기': 'br_d',\n",
       " '로컬리스트': 'lc',\n",
       " 'In-Transit part report': 'svmx',\n",
       " '기타리스트': 'else',\n",
       " '출고리스트': 'sc',\n",
       " '툴리스트': 'tool'}"
      ]
     },
     "execution_count": 149,
     "metadata": {},
     "output_type": "execute_result"
    }
   ],
   "source": [
    "wb_cy.sheet_names\n",
    "wb_sht_list = ['Shipment information',\n",
    " '인수증',\n",
    " '대리점송장',\n",
    " '대리점 출고대기',\n",
    " '로컬리스트',\n",
    " 'In-Transit part report',\n",
    " '기타리스트',\n",
    " '출고리스트','툴리스트']\n",
    "\n",
    "abbreviation=['si','so_pod','br','br_d','lc','svmx','else','sc','tool']\n",
    "\n",
    "abb_sheets_names = dict(zip(wb_sht_list,abbreviation))\n",
    "abb_sheets_names"
   ]
  },
  {
   "cell_type": "code",
   "execution_count": 134,
   "id": "f4d0e2c1",
   "metadata": {
    "scrolled": false
   },
   "outputs": [
    {
     "data": {
      "text/plain": [
       "'si_24321A26363C26364A26423A26476A26551A26667A26832A26923C26924A29618A29623C29624A29626A29628'"
      ]
     },
     "execution_count": 134,
     "metadata": {},
     "output_type": "execute_result"
    }
   ],
   "source": [
    "get_idx(ws_si)"
   ]
  },
  {
   "cell_type": "code",
   "execution_count": 150,
   "id": "583c1dfe",
   "metadata": {},
   "outputs": [],
   "source": [
    "reverse_abb_sheets_names= dict(map(reversed,abb_sheets_names.items()))"
   ]
  },
  {
   "cell_type": "code",
   "execution_count": 182,
   "id": "279f8246",
   "metadata": {
    "scrolled": true
   },
   "outputs": [],
   "source": [
    "wb_cy.selection.sheet.range(\"H4\").color = None"
   ]
  },
  {
   "cell_type": "code",
   "execution_count": 203,
   "id": "20d47ff0",
   "metadata": {},
   "outputs": [
    {
     "data": {
      "text/plain": [
       "'5'"
      ]
     },
     "execution_count": 203,
     "metadata": {},
     "output_type": "execute_result"
    }
   ],
   "source": [
    "tmp_idx = str(wb_cy.sheets['temp_db'].range(\"C500000\").end('up').row )\n",
    "tmp_idx"
   ]
  },
  {
   "cell_type": "code",
   "execution_count": 222,
   "id": "0642512c",
   "metadata": {},
   "outputs": [
    {
     "ename": "TypeError",
     "evalue": "RangeRows.__call__() missing 1 required positional argument: 'key'",
     "output_type": "error",
     "traceback": [
      "\u001b[1;31m---------------------------------------------------------------------------\u001b[0m",
      "\u001b[1;31mTypeError\u001b[0m                                 Traceback (most recent call last)",
      "Cell \u001b[1;32mIn [222], line 1\u001b[0m\n\u001b[1;32m----> 1\u001b[0m \u001b[43mwb_cy\u001b[49m\u001b[38;5;241;43m.\u001b[39;49m\u001b[43mselection\u001b[49m\u001b[38;5;241;43m.\u001b[39;49m\u001b[43mrows\u001b[49m\u001b[43m(\u001b[49m\u001b[43m)\u001b[49m\n",
      "\u001b[1;31mTypeError\u001b[0m: RangeRows.__call__() missing 1 required positional argument: 'key'"
     ]
    }
   ],
   "source": []
  },
  {
   "cell_type": "code",
   "execution_count": 156,
   "id": "1db0cad3",
   "metadata": {},
   "outputs": [],
   "source": [
    "def get_out_info(sheet_name):\n",
    "    \n",
    "    info_list = sheet_name.range(\"C3:C7\").value\n",
    "    info_list[1]=info_list[1].date().isoformat()\n",
    "    today= datetime.today().date().isoformat().replace('-','')\n",
    "    tmp_idx = str(wb_cy.sheets['temp_db'].range(\"C500000\").end('up').column + 1 )\n",
    "    out_idx = today + '_' + tmp_idx\n",
    "    \n",
    "    info_list.insert(0,get_idx(sheet_name))\n",
    "    info_list.insert(0,out_idx)\n",
    "    \n",
    "    return info_list"
   ]
  },
  {
   "cell_type": "code",
   "execution_count": 157,
   "id": "74166718",
   "metadata": {},
   "outputs": [
    {
     "data": {
      "text/plain": [
       "['20221227_4',\n",
       " 'si_24321A26363C26364A26423A26476A26551A26667A26832A26923C26924A29618A29623C29624A29626A29628',\n",
       " '홍길동',\n",
       " '2022-12-26',\n",
       " '일반배송',\n",
       " 'P/L',\n",
       " 'no_local']"
      ]
     },
     "execution_count": 157,
     "metadata": {},
     "output_type": "execute_result"
    }
   ],
   "source": [
    "get_out_info(ws_si)"
   ]
  },
  {
   "cell_type": "code",
   "execution_count": 107,
   "id": "65c686a4",
   "metadata": {},
   "outputs": [
    {
     "data": {
      "text/plain": [
       "['홍길동', datetime.datetime(2022, 12, 26, 0, 0), '일반배송', 'P/L', 'no_local']"
      ]
     },
     "execution_count": 107,
     "metadata": {},
     "output_type": "execute_result"
    }
   ],
   "source": [
    "ws_si.range(\"C3:C7\").value"
   ]
  },
  {
   "cell_type": "code",
   "execution_count": 104,
   "id": "57c2a7ab",
   "metadata": {
    "scrolled": true
   },
   "outputs": [
    {
     "data": {
      "text/plain": [
       "['out_idx',\n",
       " 'sht_row_idx',\n",
       " 'person_in_charge',\n",
       " 'ship_date',\n",
       " 'del_med',\n",
       " 'pod_med',\n",
       " 'is_local']"
      ]
     },
     "execution_count": 104,
     "metadata": {},
     "output_type": "execute_result"
    }
   ],
   "source": [
    "wb_cy.sheets['temp_db'].range(\"C2:I2\").value"
   ]
  },
  {
   "cell_type": "code",
   "execution_count": null,
   "id": "042c9bc1",
   "metadata": {},
   "outputs": [],
   "source": [
    "# 출고_인덱스 (unique)\n",
    "# out_idx == today +'_' + '번호 1부터시작'\n",
    "# sht_row_idx == get_idx(ws_si) => 시트 약자 + 해당시트 행의 idx번호\n",
    "# person_in_charge == "
   ]
  },
  {
   "cell_type": "code",
   "execution_count": 162,
   "id": "86e3b9ad",
   "metadata": {},
   "outputs": [
    {
     "data": {
      "text/plain": [
       "'Temp_DB'"
      ]
     },
     "execution_count": 162,
     "metadata": {},
     "output_type": "execute_result"
    }
   ],
   "source": [
    "wb_cy.selection.sheet.name"
   ]
  },
  {
   "cell_type": "code",
   "execution_count": 223,
   "id": "8e783813",
   "metadata": {},
   "outputs": [
    {
     "data": {
      "text/plain": [
       "'lc_10'"
      ]
     },
     "execution_count": 223,
     "metadata": {},
     "output_type": "execute_result"
    }
   ],
   "source": [
    "## ship_confirm() \n",
    "# 로컬품목과 함께출고\n",
    "get_idx(ws_lc)"
   ]
  },
  {
   "cell_type": "code",
   "execution_count": 198,
   "id": "b9cf7892",
   "metadata": {},
   "outputs": [
    {
     "data": {
      "text/plain": [
       "'ship_is_ready'"
      ]
     },
     "execution_count": 198,
     "metadata": {},
     "output_type": "execute_result"
    }
   ],
   "source": [
    "# status가 적혀있는 문구 주소\n",
    "wb_cy.selection.sheet.range(\"AAA4\").end('left')"
   ]
  }
 ],
 "metadata": {
  "kernelspec": {
   "display_name": "Python 3 (ipykernel)",
   "language": "python",
   "name": "python3"
  },
  "language_info": {
   "codemirror_mode": {
    "name": "ipython",
    "version": 3
   },
   "file_extension": ".py",
   "mimetype": "text/x-python",
   "name": "python",
   "nbconvert_exporter": "python",
   "pygments_lexer": "ipython3",
   "version": "3.10.9"
  }
 },
 "nbformat": 4,
 "nbformat_minor": 5
}

{
 "cells": [
  {
   "cell_type": "code",
   "execution_count": 1,
   "id": "b6216338",
   "metadata": {},
   "outputs": [],
   "source": [
    "import cx_Oracle\n",
    "import os\n",
    "import pandas as pd\n",
    "import xlwings as xw\n",
    "import json\n",
    "import datetime as dt\n",
    "wb_cy = xw.Book('cytiva.xlsm')\n",
    "SHEET_NAMES =  ['Temp_DB', 'Shipment information', '인수증', \n",
    "'대리점송장', '대리점 출고대기', '로컬리스트', 'In-Transit part report', '기타리스트',\n",
    " '출고리스트', 'Cytiva Inventory BIN']\n",
    "LOCATION = r\"C:\\Users\\lms46\\Desktop\\fulfill\\instantclient_fulfill\"\n",
    "os.environ[\"PATH\"] = LOCATION + \";\" + os.environ[\"PATH\"]\n",
    "cx_Oracle.init_oracle_client(lib_dir=LOCATION)\n",
    "\n",
    "connection = cx_Oracle.connect(\n",
    "    user='dw_fulfill', password='fulfillment123QWE!@#', dsn='fulfill_high'\n",
    "\n",
    ")\n",
    "cursor = connection.cursor()\n"
   ]
  },
  {
   "cell_type": "code",
   "execution_count": 25,
   "id": "a92fb038",
   "metadata": {},
   "outputs": [],
   "source": [
    "connection = cx_Oracle.connect(\n",
    "    user='dw_fulfill', password='fulfillment123QWE!@#', dsn='fulfill_high'\n",
    "\n",
    ")\n",
    "cursor = connection.cursor()"
   ]
  },
  {
   "cell_type": "code",
   "execution_count": 26,
   "id": "250d1d09",
   "metadata": {},
   "outputs": [
    {
     "data": {
      "text/plain": [
       "9"
      ]
     },
     "execution_count": 26,
     "metadata": {},
     "output_type": "execute_result"
    }
   ],
   "source": [
    "soout_col_names = ['SO_INDEX', 'SHT_ROW_IDX', 'PERSON_IN_CHARGE', 'SHIP_DATE', 'DM_KEY', 'POD_KEY', 'IS_LOCAL','POD_DATE', 'TIMELINE']\n",
    "len(soout_col_names)"
   ]
  },
  {
   "cell_type": "code",
   "execution_count": 64,
   "id": "ef601983",
   "metadata": {},
   "outputs": [
    {
     "data": {
      "text/html": [
       "<div>\n",
       "<style scoped>\n",
       "    .dataframe tbody tr th:only-of-type {\n",
       "        vertical-align: middle;\n",
       "    }\n",
       "\n",
       "    .dataframe tbody tr th {\n",
       "        vertical-align: top;\n",
       "    }\n",
       "\n",
       "    .dataframe thead th {\n",
       "        text-align: right;\n",
       "    }\n",
       "</style>\n",
       "<table border=\"1\" class=\"dataframe\">\n",
       "  <thead>\n",
       "    <tr style=\"text-align: right;\">\n",
       "      <th></th>\n",
       "      <th>SHT_ROW_IDX</th>\n",
       "      <th>PERSON_IN_CHARGE</th>\n",
       "      <th>SHIP_DATE</th>\n",
       "      <th>DM_KEY</th>\n",
       "      <th>POD_KEY</th>\n",
       "      <th>IS_LOCAL</th>\n",
       "      <th>POD_DATE</th>\n",
       "      <th>TIMELINE</th>\n",
       "    </tr>\n",
       "    <tr>\n",
       "      <th>SO_INDEX</th>\n",
       "      <th></th>\n",
       "      <th></th>\n",
       "      <th></th>\n",
       "      <th></th>\n",
       "      <th></th>\n",
       "      <th></th>\n",
       "      <th></th>\n",
       "      <th></th>\n",
       "    </tr>\n",
       "  </thead>\n",
       "  <tbody>\n",
       "    <tr>\n",
       "      <th>1</th>\n",
       "      <td>si_20475</td>\n",
       "      <td>하하</td>\n",
       "      <td>2023-03-01</td>\n",
       "      <td>DM_1</td>\n",
       "      <td>POD_1</td>\n",
       "      <td>no_local</td>\n",
       "      <td>None</td>\n",
       "      <td>{\"meta\": {\"desc\": \"data_update_timeline\", \"col...</td>\n",
       "    </tr>\n",
       "    <tr>\n",
       "      <th>6</th>\n",
       "      <td>si_20474</td>\n",
       "      <td>하하</td>\n",
       "      <td>2023-03-01</td>\n",
       "      <td>DM_1</td>\n",
       "      <td>POD_1</td>\n",
       "      <td>no_local</td>\n",
       "      <td>None</td>\n",
       "      <td>{\"meta\": {\"desc\": \"data_update_timeline\", \"col...</td>\n",
       "    </tr>\n",
       "    <tr>\n",
       "      <th>7</th>\n",
       "      <td>si_20444C20446</td>\n",
       "      <td>에이티지</td>\n",
       "      <td>2023-03-01</td>\n",
       "      <td>DM_1</td>\n",
       "      <td>POD_1</td>\n",
       "      <td>lc_46C49</td>\n",
       "      <td>None</td>\n",
       "      <td>{\"meta\": {\"desc\": \"data_update_timeline\", \"col...</td>\n",
       "    </tr>\n",
       "    <tr>\n",
       "      <th>11</th>\n",
       "      <td>si_20449</td>\n",
       "      <td>에케테스트</td>\n",
       "      <td>2023-03-05</td>\n",
       "      <td>DM_1</td>\n",
       "      <td>POD_1</td>\n",
       "      <td>lc_1471</td>\n",
       "      <td>None</td>\n",
       "      <td>{\"meta\": {\"desc\": \"data_update_timeline\", \"col...</td>\n",
       "    </tr>\n",
       "    <tr>\n",
       "      <th>12</th>\n",
       "      <td>si_20455</td>\n",
       "      <td>하하</td>\n",
       "      <td>2023-03-01</td>\n",
       "      <td>DM_1</td>\n",
       "      <td>POD_1</td>\n",
       "      <td>lc_1469</td>\n",
       "      <td>None</td>\n",
       "      <td>{\"meta\": {\"desc\": \"data_update_timeline\", \"col...</td>\n",
       "    </tr>\n",
       "    <tr>\n",
       "      <th>13</th>\n",
       "      <td>only_local</td>\n",
       "      <td>온리로컬</td>\n",
       "      <td>2023-03-01</td>\n",
       "      <td>DM_1</td>\n",
       "      <td>POD_1</td>\n",
       "      <td>lc_1468</td>\n",
       "      <td>None</td>\n",
       "      <td>{\"meta\": {\"desc\": \"data_update_timeline\", \"col...</td>\n",
       "    </tr>\n",
       "  </tbody>\n",
       "</table>\n",
       "</div>"
      ],
      "text/plain": [
       "             SHT_ROW_IDX PERSON_IN_CHARGE   SHIP_DATE DM_KEY POD_KEY  \\\n",
       "SO_INDEX                                                               \n",
       "1               si_20475               하하  2023-03-01   DM_1   POD_1   \n",
       "6               si_20474               하하  2023-03-01   DM_1   POD_1   \n",
       "7         si_20444C20446             에이티지  2023-03-01   DM_1   POD_1   \n",
       "11              si_20449            에케테스트  2023-03-05   DM_1   POD_1   \n",
       "12              si_20455               하하  2023-03-01   DM_1   POD_1   \n",
       "13            only_local             온리로컬  2023-03-01   DM_1   POD_1   \n",
       "\n",
       "          IS_LOCAL POD_DATE                                           TIMELINE  \n",
       "SO_INDEX                                                                        \n",
       "1         no_local     None  {\"meta\": {\"desc\": \"data_update_timeline\", \"col...  \n",
       "6         no_local     None  {\"meta\": {\"desc\": \"data_update_timeline\", \"col...  \n",
       "7         lc_46C49     None  {\"meta\": {\"desc\": \"data_update_timeline\", \"col...  \n",
       "11         lc_1471     None  {\"meta\": {\"desc\": \"data_update_timeline\", \"col...  \n",
       "12         lc_1469     None  {\"meta\": {\"desc\": \"data_update_timeline\", \"col...  \n",
       "13         lc_1468     None  {\"meta\": {\"desc\": \"data_update_timeline\", \"col...  "
      ]
     },
     "execution_count": 64,
     "metadata": {},
     "output_type": "execute_result"
    }
   ],
   "source": [
    "df_soout = pd.DataFrame(cursor.execute(\"select * from so_out\").fetchall())\n",
    "df_soout.columns = soout_col_names\n",
    "df_soout = df_soout.sort_values('SO_INDEX')\n",
    "df_soout.set_index('SO_INDEX',inplace=True)\n",
    "df_soout"
   ]
  },
  {
   "cell_type": "markdown",
   "id": "1e9a7299",
   "metadata": {},
   "source": [
    "### POD xl sheet 만들기"
   ]
  },
  {
   "cell_type": "code",
   "execution_count": 41,
   "id": "cc9a1705",
   "metadata": {},
   "outputs": [
    {
     "data": {
      "text/plain": [
       "'si_20474'"
      ]
     },
     "execution_count": 41,
     "metadata": {},
     "output_type": "execute_result"
    }
   ],
   "source": [
    "tmp_si_idx = df_soout['SHT_ROW_IDX'][0]\n",
    "tmp_lc_idx = df_soout['IS_LOCAL'][0]"
   ]
  },
  {
   "cell_type": "code",
   "execution_count": 29,
   "id": "36f83c0b",
   "metadata": {},
   "outputs": [],
   "source": []
  },
  {
   "cell_type": "code",
   "execution_count": 65,
   "id": "a5cc308a",
   "metadata": {},
   "outputs": [
    {
     "data": {
      "text/plain": [
       "SHT_ROW_IDX                                            si_20444C20446\n",
       "PERSON_IN_CHARGE                                                 에이티지\n",
       "SHIP_DATE                                                  2023-03-01\n",
       "DM_KEY                                                           DM_1\n",
       "POD_KEY                                                         POD_1\n",
       "IS_LOCAL                                                     lc_46C49\n",
       "POD_DATE                                                         None\n",
       "TIMELINE            {\"meta\": {\"desc\": \"data_update_timeline\", \"col...\n",
       "Name: 7, dtype: object"
      ]
     },
     "execution_count": 65,
     "metadata": {},
     "output_type": "execute_result"
    }
   ],
   "source": [
    "df_soout"
   ]
  },
  {
   "cell_type": "code",
   "execution_count": 44,
   "id": "24989d68",
   "metadata": {},
   "outputs": [],
   "source": [
    "tmp_si_idx = df_soout['SHT_ROW_IDX'][0]\n",
    "tmp_lc_idx = df_soout['IS_LOCAL'][0]"
   ]
  },
  {
   "cell_type": "code",
   "execution_count": 47,
   "id": "b8769edc",
   "metadata": {},
   "outputs": [
    {
     "data": {
      "text/plain": [
       "['20474', 'local']"
      ]
     },
     "execution_count": 47,
     "metadata": {},
     "output_type": "execute_result"
    }
   ],
   "source": [
    "si_and_lc_list = [get_each_index_num(tmp_si_idx), get_each_index_num(tmp_lc_idx)]\n",
    "si_and_lc_list"
   ]
  },
  {
   "cell_type": "code",
   "execution_count": 124,
   "id": "d12755f8",
   "metadata": {},
   "outputs": [],
   "source": [
    "df_soout['SO_DETAIL'] = None\n",
    "df_soout['LC_DETAIL'] = None\n",
    "\n",
    "\n",
    "for so_index in range(len(df_soout)):\n",
    "    tmp_si_idx = df_soout['SHT_ROW_IDX'].iloc[so_index]\n",
    "    tmp_lc_idx = df_soout['IS_LOCAL'].iloc[so_index]\n",
    "    si_and_lc_list = [get_each_index_num(tmp_si_idx), get_each_index_num(tmp_lc_idx)]\n",
    "    df_so = pd.DataFrame()\n",
    "    df_lc = pd.DataFrame()\n",
    "    for i,val in enumerate(si_and_lc_list):\n",
    "\n",
    "        if val == 'local':\n",
    "            None\n",
    "        else:\n",
    "            if type(val) is list:\n",
    "                idx_list = val\n",
    "            elif type(val) is dict:\n",
    "                idx_list=val['idx_list']\n",
    "            else:\n",
    "                idx_list = [val]\n",
    "            for idx in idx_list:\n",
    "                if i == 0:\n",
    "                    db_obj = cursor.execute(f\"SELECT * FROM SHIPMENT_INFORMATION WHERE SI_INDEX = '{idx}'\").fetchone()\n",
    "                    df_db_obj = pd.DataFrame([db_obj])\n",
    "                    df_so = pd.concat([df_so,df_db_obj])\n",
    "                else:\n",
    "                    db_obj = cursor.execute(f\"SELECT * FROM LOCAL_LIST WHERE LC_INDEX = '{idx}'\").fetchone()\n",
    "                    df_db_obj = pd.DataFrame([db_obj])\n",
    "                    df_lc = pd.concat([df_lc,df_db_obj])\n",
    "                if not df_so.empty:\n",
    "                    df_soout['SO_DETAIL'].iloc[so_index] = df_so\n",
    "                if not df_lc.empty:\n",
    "                    df_soout['LC_DETAIL'].iloc[so_index] = df_lc\n"
   ]
  },
  {
   "cell_type": "code",
   "execution_count": 125,
   "id": "90a7b63e",
   "metadata": {
    "scrolled": true
   },
   "outputs": [
    {
     "data": {
      "text/html": [
       "<div>\n",
       "<style scoped>\n",
       "    .dataframe tbody tr th:only-of-type {\n",
       "        vertical-align: middle;\n",
       "    }\n",
       "\n",
       "    .dataframe tbody tr th {\n",
       "        vertical-align: top;\n",
       "    }\n",
       "\n",
       "    .dataframe thead th {\n",
       "        text-align: right;\n",
       "    }\n",
       "</style>\n",
       "<table border=\"1\" class=\"dataframe\">\n",
       "  <thead>\n",
       "    <tr style=\"text-align: right;\">\n",
       "      <th></th>\n",
       "      <th>SHT_ROW_IDX</th>\n",
       "      <th>PERSON_IN_CHARGE</th>\n",
       "      <th>SHIP_DATE</th>\n",
       "      <th>DM_KEY</th>\n",
       "      <th>POD_KEY</th>\n",
       "      <th>IS_LOCAL</th>\n",
       "      <th>POD_DATE</th>\n",
       "      <th>TIMELINE</th>\n",
       "      <th>SO_DETAIL</th>\n",
       "      <th>LC_DETAIL</th>\n",
       "      <th>ORDER_NO</th>\n",
       "      <th>SHIP_TO</th>\n",
       "    </tr>\n",
       "    <tr>\n",
       "      <th>SO_INDEX</th>\n",
       "      <th></th>\n",
       "      <th></th>\n",
       "      <th></th>\n",
       "      <th></th>\n",
       "      <th></th>\n",
       "      <th></th>\n",
       "      <th></th>\n",
       "      <th></th>\n",
       "      <th></th>\n",
       "      <th></th>\n",
       "      <th></th>\n",
       "      <th></th>\n",
       "    </tr>\n",
       "  </thead>\n",
       "  <tbody>\n",
       "    <tr>\n",
       "      <th>1</th>\n",
       "      <td>si_20475</td>\n",
       "      <td>하하</td>\n",
       "      <td>2023-03-01</td>\n",
       "      <td>DM_1</td>\n",
       "      <td>POD_1</td>\n",
       "      <td>no_local</td>\n",
       "      <td>None</td>\n",
       "      <td>{\"meta\": {\"desc\": \"data_update_timeline\", \"col...</td>\n",
       "      <td>0           1          2          3  4  ...</td>\n",
       "      <td>None</td>\n",
       "      <td>None</td>\n",
       "      <td>None</td>\n",
       "    </tr>\n",
       "    <tr>\n",
       "      <th>6</th>\n",
       "      <td>si_20474</td>\n",
       "      <td>하하</td>\n",
       "      <td>2023-03-01</td>\n",
       "      <td>DM_1</td>\n",
       "      <td>POD_1</td>\n",
       "      <td>no_local</td>\n",
       "      <td>None</td>\n",
       "      <td>{\"meta\": {\"desc\": \"data_update_timeline\", \"col...</td>\n",
       "      <td>0           1          2          3  4  ...</td>\n",
       "      <td>None</td>\n",
       "      <td>None</td>\n",
       "      <td>None</td>\n",
       "    </tr>\n",
       "    <tr>\n",
       "      <th>7</th>\n",
       "      <td>si_20444C20446</td>\n",
       "      <td>에이티지</td>\n",
       "      <td>2023-03-01</td>\n",
       "      <td>DM_1</td>\n",
       "      <td>POD_1</td>\n",
       "      <td>lc_46C49</td>\n",
       "      <td>None</td>\n",
       "      <td>{\"meta\": {\"desc\": \"data_update_timeline\", \"col...</td>\n",
       "      <td>0           1          2          3  4  ...</td>\n",
       "      <td>0           1           2              3   ...</td>\n",
       "      <td>None</td>\n",
       "      <td>None</td>\n",
       "    </tr>\n",
       "    <tr>\n",
       "      <th>11</th>\n",
       "      <td>si_20449</td>\n",
       "      <td>에케테스트</td>\n",
       "      <td>2023-03-05</td>\n",
       "      <td>DM_1</td>\n",
       "      <td>POD_1</td>\n",
       "      <td>lc_1471</td>\n",
       "      <td>None</td>\n",
       "      <td>{\"meta\": {\"desc\": \"data_update_timeline\", \"col...</td>\n",
       "      <td>0           1          2          3  4  ...</td>\n",
       "      <td>0           1         2                  ...</td>\n",
       "      <td>None</td>\n",
       "      <td>None</td>\n",
       "    </tr>\n",
       "    <tr>\n",
       "      <th>12</th>\n",
       "      <td>si_20455</td>\n",
       "      <td>하하</td>\n",
       "      <td>2023-03-01</td>\n",
       "      <td>DM_1</td>\n",
       "      <td>POD_1</td>\n",
       "      <td>lc_1469</td>\n",
       "      <td>None</td>\n",
       "      <td>{\"meta\": {\"desc\": \"data_update_timeline\", \"col...</td>\n",
       "      <td>0           1     2     3  4           5...</td>\n",
       "      <td>0           1         2                  ...</td>\n",
       "      <td>None</td>\n",
       "      <td>None</td>\n",
       "    </tr>\n",
       "    <tr>\n",
       "      <th>13</th>\n",
       "      <td>only_local</td>\n",
       "      <td>온리로컬</td>\n",
       "      <td>2023-03-01</td>\n",
       "      <td>DM_1</td>\n",
       "      <td>POD_1</td>\n",
       "      <td>lc_1468</td>\n",
       "      <td>None</td>\n",
       "      <td>{\"meta\": {\"desc\": \"data_update_timeline\", \"col...</td>\n",
       "      <td>None</td>\n",
       "      <td>0           1         2                  ...</td>\n",
       "      <td>None</td>\n",
       "      <td>None</td>\n",
       "    </tr>\n",
       "  </tbody>\n",
       "</table>\n",
       "</div>"
      ],
      "text/plain": [
       "             SHT_ROW_IDX PERSON_IN_CHARGE   SHIP_DATE DM_KEY POD_KEY  \\\n",
       "SO_INDEX                                                               \n",
       "1               si_20475               하하  2023-03-01   DM_1   POD_1   \n",
       "6               si_20474               하하  2023-03-01   DM_1   POD_1   \n",
       "7         si_20444C20446             에이티지  2023-03-01   DM_1   POD_1   \n",
       "11              si_20449            에케테스트  2023-03-05   DM_1   POD_1   \n",
       "12              si_20455               하하  2023-03-01   DM_1   POD_1   \n",
       "13            only_local             온리로컬  2023-03-01   DM_1   POD_1   \n",
       "\n",
       "          IS_LOCAL POD_DATE  \\\n",
       "SO_INDEX                      \n",
       "1         no_local     None   \n",
       "6         no_local     None   \n",
       "7         lc_46C49     None   \n",
       "11         lc_1471     None   \n",
       "12         lc_1469     None   \n",
       "13         lc_1468     None   \n",
       "\n",
       "                                                   TIMELINE  \\\n",
       "SO_INDEX                                                      \n",
       "1         {\"meta\": {\"desc\": \"data_update_timeline\", \"col...   \n",
       "6         {\"meta\": {\"desc\": \"data_update_timeline\", \"col...   \n",
       "7         {\"meta\": {\"desc\": \"data_update_timeline\", \"col...   \n",
       "11        {\"meta\": {\"desc\": \"data_update_timeline\", \"col...   \n",
       "12        {\"meta\": {\"desc\": \"data_update_timeline\", \"col...   \n",
       "13        {\"meta\": {\"desc\": \"data_update_timeline\", \"col...   \n",
       "\n",
       "                                                  SO_DETAIL  \\\n",
       "SO_INDEX                                                      \n",
       "1               0           1          2          3  4  ...   \n",
       "6               0           1          2          3  4  ...   \n",
       "7               0           1          2          3  4  ...   \n",
       "11              0           1          2          3  4  ...   \n",
       "12              0           1     2     3  4           5...   \n",
       "13                                                     None   \n",
       "\n",
       "                                                  LC_DETAIL ORDER_NO SHIP_TO  \n",
       "SO_INDEX                                                                      \n",
       "1                                                      None     None    None  \n",
       "6                                                      None     None    None  \n",
       "7            0           1           2              3   ...     None    None  \n",
       "11             0           1         2                  ...     None    None  \n",
       "12             0           1         2                  ...     None    None  \n",
       "13             0           1         2                  ...     None    None  "
      ]
     },
     "execution_count": 125,
     "metadata": {},
     "output_type": "execute_result"
    }
   ],
   "source": [
    "df_soout"
   ]
  },
  {
   "cell_type": "code",
   "execution_count": 128,
   "id": "49b4776a",
   "metadata": {},
   "outputs": [
    {
     "data": {
      "text/plain": [
       "True"
      ]
     },
     "execution_count": 128,
     "metadata": {},
     "output_type": "execute_result"
    }
   ],
   "source": [
    "df_soout['LC_DETAIL'].iloc[0] == None"
   ]
  },
  {
   "cell_type": "code",
   "execution_count": 123,
   "id": "ed88537c",
   "metadata": {},
   "outputs": [
    {
     "data": {
      "text/html": [
       "<div>\n",
       "<style scoped>\n",
       "    .dataframe tbody tr th:only-of-type {\n",
       "        vertical-align: middle;\n",
       "    }\n",
       "\n",
       "    .dataframe tbody tr th {\n",
       "        vertical-align: top;\n",
       "    }\n",
       "\n",
       "    .dataframe thead th {\n",
       "        text-align: right;\n",
       "    }\n",
       "</style>\n",
       "<table border=\"1\" class=\"dataframe\">\n",
       "  <thead>\n",
       "    <tr style=\"text-align: right;\">\n",
       "      <th></th>\n",
       "      <th>0</th>\n",
       "      <th>1</th>\n",
       "      <th>2</th>\n",
       "      <th>3</th>\n",
       "      <th>4</th>\n",
       "      <th>5</th>\n",
       "      <th>6</th>\n",
       "      <th>7</th>\n",
       "      <th>8</th>\n",
       "      <th>9</th>\n",
       "      <th>10</th>\n",
       "      <th>11</th>\n",
       "      <th>12</th>\n",
       "      <th>13</th>\n",
       "      <th>14</th>\n",
       "      <th>15</th>\n",
       "      <th>16</th>\n",
       "      <th>17</th>\n",
       "      <th>18</th>\n",
       "    </tr>\n",
       "  </thead>\n",
       "  <tbody>\n",
       "    <tr>\n",
       "      <th>0</th>\n",
       "      <td>20475</td>\n",
       "      <td>STO0165597</td>\n",
       "      <td>115394024</td>\n",
       "      <td>140138466</td>\n",
       "      <td>1</td>\n",
       "      <td>2022-10-24</td>\n",
       "      <td>2122133</td>\n",
       "      <td>12999.0</td>\n",
       "      <td>None</td>\n",
       "      <td>바이넥스 오송공장</td>\n",
       "      <td>2022-10-31</td>\n",
       "      <td>2023-03-01</td>\n",
       "      <td>None</td>\n",
       "      <td>None</td>\n",
       "      <td>BJH_Binex_EP1-D-20887/8_CaptoS/Q</td>\n",
       "      <td>UPD3351866</td>\n",
       "      <td>None</td>\n",
       "      <td>SHIP_CONFIRM</td>\n",
       "      <td>{\"meta\": {\"desc\": \"data_update_timeline\", \"col...</td>\n",
       "    </tr>\n",
       "  </tbody>\n",
       "</table>\n",
       "</div>"
      ],
      "text/plain": [
       "      0           1          2          3  4           5        6        7   \\\n",
       "0  20475  STO0165597  115394024  140138466  1  2022-10-24  2122133  12999.0   \n",
       "\n",
       "     8          9           10          11    12    13  \\\n",
       "0  None  바이넥스 오송공장  2022-10-31  2023-03-01  None  None   \n",
       "\n",
       "                                 14          15    16            17  \\\n",
       "0  BJH_Binex_EP1-D-20887/8_CaptoS/Q  UPD3351866  None  SHIP_CONFIRM   \n",
       "\n",
       "                                                  18  \n",
       "0  {\"meta\": {\"desc\": \"data_update_timeline\", \"col...  "
      ]
     },
     "execution_count": 123,
     "metadata": {},
     "output_type": "execute_result"
    }
   ],
   "source": [
    "df_soout['ORDER_NO'] = None\n",
    "df_soout['SHIP_TO'] = None\n",
    "for so_index in range(len(df_soout)):\n",
    "    order_list = []\n",
    "    shipto_list = []\n",
    "    if df_soout['SO_DETAIL'].iloc[so_index] != None:\n",
    "    \n",
    "    elif \n",
    "    "
   ]
  },
  {
   "cell_type": "code",
   "execution_count": 109,
   "id": "a76c8374",
   "metadata": {},
   "outputs": [],
   "source": [
    "# ORDER NM_LIST\n",
    "order_list = []\n",
    "list(df_soout['SO_DETAIL'].iloc[0][6])\n",
    "df_soout['LC_DETAIL'].iloc[0]"
   ]
  },
  {
   "cell_type": "code",
   "execution_count": 111,
   "id": "259e7410",
   "metadata": {},
   "outputs": [
    {
     "data": {
      "text/plain": [
       "['바이넥스 오송공장']"
      ]
     },
     "execution_count": 111,
     "metadata": {},
     "output_type": "execute_result"
    }
   ],
   "source": [
    "# SHIP TO LIST\n",
    "list(df_soout['SO_DETAIL'].iloc[0][9])"
   ]
  },
  {
   "cell_type": "code",
   "execution_count": null,
   "id": "f18e73f6",
   "metadata": {},
   "outputs": [],
   "source": []
  },
  {
   "cell_type": "code",
   "execution_count": 61,
   "id": "f9557c51",
   "metadata": {},
   "outputs": [],
   "source": [
    "def get_each_index_num(get_idx_str):\n",
    "    \"\"\"\n",
    "    DW테이블 SO_OUT상의 si_index 및 is_local 컬럼값을 넣으면 해당 row의 고유 키값을 dict형태로 반환\n",
    "\n",
    "    example : get_idx_str='si_13384A14171A14243C14244'  ==>\n",
    "    {'out_sht_id':'si','idx_list':[13384, 14171, 14243, 14244]}\n",
    "    \"\"\"\n",
    "    del_sht_id = get_idx_str.split('_')[0]\n",
    "    get_idx_str = get_idx_str.split('_')[1]\n",
    "    count_A = get_idx_str.count(\"A\")\n",
    "    count_C = get_idx_str.count(\"C\")\n",
    "    if count_A == 0 and count_C == 0:\n",
    "        return get_idx_str\n",
    "    procs_1 = get_idx_str.split(\"A\")\n",
    "    procs_1\n",
    "    A_list = []\n",
    "    C_list = []\n",
    "    for val in procs_1:\n",
    "        if val.count(\"C\") > 0 :\n",
    "            C_list.append(val)\n",
    "        else :\n",
    "            A_list.append(int(val))\n",
    "    \n",
    "    for c_val in C_list:      \n",
    "        tmp_c = c_val.split('C')\n",
    "        tmp_diff = int(tmp_c[1])-int(tmp_c[0])\n",
    "        fin_C_list = []\n",
    "        for i, val in enumerate(range(tmp_diff+1)):\n",
    "            fin_C_list.append(int(tmp_c[0]) + i)\n",
    "        A_list = A_list+fin_C_list\n",
    "            \n",
    "    return {'out_sht_id':del_sht_id,'idx_list':A_list}"
   ]
  }
 ],
 "metadata": {
  "kernelspec": {
   "display_name": "Python 3 (ipykernel)",
   "language": "python",
   "name": "python3"
  },
  "language_info": {
   "codemirror_mode": {
    "name": "ipython",
    "version": 3
   },
   "file_extension": ".py",
   "mimetype": "text/x-python",
   "name": "python",
   "nbconvert_exporter": "python",
   "pygments_lexer": "ipython3",
   "version": "3.10.10"
  }
 },
 "nbformat": 4,
 "nbformat_minor": 5
}

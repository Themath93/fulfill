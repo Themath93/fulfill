{
 "cells": [
  {
   "cell_type": "code",
   "execution_count": 1,
   "id": "8f38fa54",
   "metadata": {},
   "outputs": [],
   "source": [
    "import cx_Oracle\n",
    "import os\n",
    "import pandas as pd\n",
    "#!pip insall cx_Oracle\n",
    "import xlwings as xw\n",
    "import pandas as pd\n",
    "wb_cy = xw.Book('cytiva.xlsm')\n",
    "SHEET_NAMES =  ['Temp_DB', 'Shipment information', '인수증', \n",
    "'대리점송장', '대리점 출고대기', '로컬리스트', 'In-Transit part report', '기타리스트',\n",
    " '출고리스트', 'Cytiva Inventory BIN']\n",
    "LOCATION = r\"C:\\Users\\lms46\\Desktop\\fulfill\\instantclient_fulfill\"\n",
    "os.environ[\"PATH\"] = LOCATION + \";\" + os.environ[\"PATH\"]\n",
    "cx_Oracle.init_oracle_client(lib_dir=LOCATION)\n",
    "\n",
    "connection = cx_Oracle.connect(\n",
    "    user='dw_fulfill', password='fulfillment123QWE!@#', dsn='fulfill_high'\n",
    "\n",
    ")\n",
    "cursor = connection.cursor()"
   ]
  },
  {
   "cell_type": "code",
   "execution_count": 17,
   "id": "d20bb512",
   "metadata": {},
   "outputs": [],
   "source": [
    "import datetime as dt\n",
    "connection = cx_Oracle.connect(\n",
    "    user='dw_fulfill', password='fulfillment123QWE!@#', dsn='fulfill_high'\n",
    "\n",
    ")\n",
    "cursor = connection.cursor()"
   ]
  },
  {
   "cell_type": "code",
   "execution_count": 14,
   "id": "2e4a3128",
   "metadata": {},
   "outputs": [
    {
     "data": {
      "text/plain": [
       "'2023-02-10 08:05:28'"
      ]
     },
     "execution_count": 14,
     "metadata": {},
     "output_type": "execute_result"
    }
   ],
   "source": [
    "def get_current_time():\n",
    "    \"\"\"\n",
    "    현재시간 년,월,일 시,분,초 반환\n",
    "    \"\"\"\n",
    "    now = str(dt.datetime.now()).split('.')[0]\n",
    "\n",
    "    return now\n",
    "get_current_time()"
   ]
  },
  {
   "cell_type": "code",
   "execution_count": null,
   "id": "a9747e1b",
   "metadata": {},
   "outputs": [],
   "source": []
  },
  {
   "cell_type": "code",
   "execution_count": 16,
   "id": "91d0bf22",
   "metadata": {},
   "outputs": [
    {
     "data": {
      "text/plain": [
       "datetime.datetime(2023, 2, 7, 14, 49, 7)"
      ]
     },
     "execution_count": 16,
     "metadata": {},
     "output_type": "execute_result"
    }
   ],
   "source": [
    "sel_sht = wb_cy.selection.sheet\n",
    "sel_sht.range((3,\"J\")).options(dates=dt.datetime).value"
   ]
  },
  {
   "cell_type": "code",
   "execution_count": 32,
   "id": "ac9b2075",
   "metadata": {},
   "outputs": [
    {
     "data": {
      "text/plain": [
       "':1,:2,:3,:4'"
      ]
     },
     "execution_count": 32,
     "metadata": {},
     "output_type": "execute_result"
    }
   ],
   "source": [
    "test_df = pd.DataFrame([['4','2','3','4']])\n",
    "\n",
    "col_names = ['TEST', 'ADDRESS', 'EMAILS','UP_TIME']\n",
    "get_insert_values(col_names)"
   ]
  },
  {
   "cell_type": "code",
   "execution_count": 35,
   "id": "1faee706",
   "metadata": {},
   "outputs": [],
   "source": [
    "table_name = \"TEST\"\n",
    "test_df = pd.DataFrame([['4','2','3','4']])\n",
    "col_names = ['TEST', 'ADDRESS', 'EMAILS','UP_TIME']\n",
    "query = 'INSERT INTO '+ table_name + f' VALUES ({get_insert_values(col_names)})'\n",
    "\n",
    "test_df = test_df.values.tolist()\n",
    "test_df =list(pd.Series(test_df).map(tuple))\n",
    "cursor.executemany(query,test_df,batcherrors= True)\n",
    "cursor.execute(\"commit\")"
   ]
  },
  {
   "cell_type": "code",
   "execution_count": 18,
   "id": "eefb69ae",
   "metadata": {},
   "outputs": [],
   "source": [
    "def get_insert_values(col_list):\n",
    "\n",
    "    \"\"\"\n",
    "    cx_Oracle용 values 연속된 숫자 그룹 str만들때 사용 str 반환\n",
    "\n",
    "    \"\"\"\n",
    "    \n",
    "    list_len = len(col_list)\n",
    "\n",
    "    value_list = []\n",
    "    for i in range(1,list_len+1):\n",
    "        value_list.append(\":\"+str(i))\n",
    "    str_val = ','.join(value_list)\n",
    "    \n",
    "    return str_val"
   ]
  }
 ],
 "metadata": {
  "kernelspec": {
   "display_name": "Python 3 (ipykernel)",
   "language": "python",
   "name": "python3"
  },
  "language_info": {
   "codemirror_mode": {
    "name": "ipython",
    "version": 3
   },
   "file_extension": ".py",
   "mimetype": "text/x-python",
   "name": "python",
   "nbconvert_exporter": "python",
   "pygments_lexer": "ipython3",
   "version": "3.10.9"
  }
 },
 "nbformat": 4,
 "nbformat_minor": 5
}

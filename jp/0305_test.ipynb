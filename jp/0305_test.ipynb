{
 "cells": [
  {
   "cell_type": "code",
   "execution_count": 1,
   "id": "3e1caf5d",
   "metadata": {},
   "outputs": [],
   "source": [
    "import cx_Oracle\n",
    "import os\n",
    "import pandas as pd\n",
    "import xlwings as xw\n",
    "import json\n",
    "import datetime as dt\n",
    "my_date_handler = lambda year, month, day, **kwargs: \"%04i-%02i-%02i\" % (year, month, day)\n",
    "wb_cy = xw.Book('cytiva.xlsm')\n",
    "SHEET_NAMES =  ['Temp_DB', 'Shipment information', '인수증', \n",
    "'대리점송장', '대리점 출고대기', '로컬리스트', 'In-Transit part report', '기타리스트',\n",
    " '출고리스트', 'Cytiva Inventory BIN']\n",
    "LOCATION = r\"C:\\Users\\lms46\\Desktop\\fulfill\\instantclient_fulfill\"\n",
    "os.environ[\"PATH\"] = LOCATION + \";\" + os.environ[\"PATH\"]\n",
    "cx_Oracle.init_oracle_client(lib_dir=LOCATION)\n",
    "\n",
    "connection = cx_Oracle.connect(\n",
    "    user='dw_fulfill', password='fulfillment123QWE!@#', dsn='fulfill_high'\n",
    "\n",
    ")\n",
    "cursor = connection.cursor()\n"
   ]
  },
  {
   "cell_type": "code",
   "execution_count": 13,
   "id": "6f2bbd62",
   "metadata": {},
   "outputs": [
    {
     "data": {
      "text/plain": [
       "28794"
      ]
     },
     "execution_count": 13,
     "metadata": {},
     "output_type": "execute_result"
    }
   ],
   "source": [
    "req_date = '2023-02-15 00:54'\n",
    "now = str(dt.datetime.now()).split('.')[0]\n",
    "now_obj = dt.datetime.strptime(now, '%Y-%m-%d %H:%M:%S')\n",
    "req_date_obj = dt.datetime.strptime(req_date, '%Y-%m-%d %H:%M')\n",
    "cal_time = req_date_obj-now_obj\n",
    "abs(cal_time.days*24*60) +cal_time.seconds//60"
   ]
  },
  {
   "cell_type": "code",
   "execution_count": 47,
   "id": "d01a7f5e",
   "metadata": {},
   "outputs": [
    {
     "data": {
      "text/plain": [
       "<Range [cytiva.xlsm]통합제어!$I$12:$S$46>"
      ]
     },
     "execution_count": 47,
     "metadata": {},
     "output_type": "execute_result"
    }
   ],
   "source": [
    "sel_sht = wb_cy.selection.sheet\n",
    "last_row = sel_sht.range(\"J1048576\").end('up').row\n",
    "if last_row < 12 :\n",
    "    last_row = 12\n",
    "req_rng = sel_sht.range((12,\"I\"),(last_row,\"S\"))\n",
    "req_rng"
   ]
  },
  {
   "cell_type": "code",
   "execution_count": 61,
   "id": "dab7076f",
   "metadata": {},
   "outputs": [],
   "source": [
    "req_rng.api.Borders.LineStyle = -4142"
   ]
  },
  {
   "cell_type": "code",
   "execution_count": null,
   "id": "672a6462",
   "metadata": {},
   "outputs": [],
   "source": []
  }
 ],
 "metadata": {
  "kernelspec": {
   "display_name": "Python 3 (ipykernel)",
   "language": "python",
   "name": "python3"
  },
  "language_info": {
   "codemirror_mode": {
    "name": "ipython",
    "version": 3
   },
   "file_extension": ".py",
   "mimetype": "text/x-python",
   "name": "python",
   "nbconvert_exporter": "python",
   "pygments_lexer": "ipython3",
   "version": "3.10.10"
  }
 },
 "nbformat": 4,
 "nbformat_minor": 5
}

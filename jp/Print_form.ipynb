{
 "cells": [
  {
   "cell_type": "code",
   "execution_count": 90,
   "id": "761f032e",
   "metadata": {},
   "outputs": [],
   "source": [
    "import xlwings as xw\n",
    "import pandas as pd\n",
    "wb_cy = xw.Book('cytiva.xlsm')\n",
    "SHEET_NAMES =  ['Temp_DB', 'Shipment information', '인수증', \n",
    "'대리점송장', '대리점 출고대기', '로컬리스트', 'In-Transit part report', '기타리스트',\n",
    " '출고리스트', 'Cytiva Inventory BIN']"
   ]
  },
  {
   "cell_type": "code",
   "execution_count": 91,
   "id": "8f84ede4",
   "metadata": {},
   "outputs": [],
   "source": [
    "import win32com.client as cli"
   ]
  },
  {
   "cell_type": "code",
   "execution_count": 2,
   "id": "f3b353ac",
   "metadata": {},
   "outputs": [
    {
     "data": {
      "text/plain": [
       "Books([<Book [cytiva.xlsm]>])"
      ]
     },
     "execution_count": 2,
     "metadata": {},
     "output_type": "execute_result"
    }
   ],
   "source": [
    "xw.books"
   ]
  },
  {
   "cell_type": "code",
   "execution_count": 4,
   "id": "c9bc5bc1",
   "metadata": {},
   "outputs": [
    {
     "data": {
      "text/plain": [
       "<Book [print_form.xlsx]>"
      ]
     },
     "execution_count": 4,
     "metadata": {},
     "output_type": "execute_result"
    }
   ],
   "source": [
    "xw.Book('../print_form.xlsx')"
   ]
  },
  {
   "cell_type": "code",
   "execution_count": 6,
   "id": "1a600a6e",
   "metadata": {},
   "outputs": [],
   "source": [
    "form = '{\"meta\": {\"desc\": \"service_part_reqeust\", \"cols\": {\"fe_name\": \"fe_이름\", \"fe_initial\": \"trunkstock_id\", \"req_day\": \"요청일\", \"req_time\": \"요청시간\", \"address\": \"주소\", \"del_met\": \"배송방법\", \"is_return\": \"왕복배송여부\", \"recipient\": \"수령인\", \"is_urgent\": \"긴급여부\", \"parts\": \"요청파트\", \"del_instruction\": \"배송요청사항\"}, \"std_day\": \"2023-01-06\"}, \"data\": [\"홍길동\", \"KR_HGD\", \"2023-01-12\", \"18:00\", \"인천 연수구 송도동 218-3 삼성바이오로직스 5공장\", \"퀵\", 0, \"홍길동\", 0, {\"28999466\": 2, \"29159123\": 1, \"15921499\": 1}, null]}'"
   ]
  },
  {
   "cell_type": "code",
   "execution_count": 7,
   "id": "e50891ae",
   "metadata": {},
   "outputs": [],
   "source": [
    "import json"
   ]
  },
  {
   "cell_type": "code",
   "execution_count": 8,
   "id": "e60bd1af",
   "metadata": {},
   "outputs": [],
   "source": [
    "dict_form = json.loads(form)"
   ]
  },
  {
   "cell_type": "code",
   "execution_count": 9,
   "id": "87fc0baa",
   "metadata": {},
   "outputs": [
    {
     "data": {
      "text/plain": [
       "{'desc': 'service_part_reqeust',\n",
       " 'cols': {'fe_name': 'fe_이름',\n",
       "  'fe_initial': 'trunkstock_id',\n",
       "  'req_day': '요청일',\n",
       "  'req_time': '요청시간',\n",
       "  'address': '주소',\n",
       "  'del_met': '배송방법',\n",
       "  'is_return': '왕복배송여부',\n",
       "  'recipient': '수령인',\n",
       "  'is_urgent': '긴급여부',\n",
       "  'parts': '요청파트',\n",
       "  'del_instruction': '배송요청사항'},\n",
       " 'std_day': '2023-01-06'}"
      ]
     },
     "execution_count": 9,
     "metadata": {},
     "output_type": "execute_result"
    }
   ],
   "source": [
    "dict_form.keys()\n",
    "dict_form['meta']"
   ]
  },
  {
   "cell_type": "code",
   "execution_count": 10,
   "id": "9d72ff21",
   "metadata": {},
   "outputs": [
    {
     "data": {
      "text/plain": [
       "['홍길동',\n",
       " 'KR_HGD',\n",
       " '2023-01-12',\n",
       " '18:00',\n",
       " '인천 연수구 송도동 218-3 삼성바이오로직스 5공장',\n",
       " '퀵',\n",
       " 0,\n",
       " '홍길동',\n",
       " 0,\n",
       " {'28999466': 2, '29159123': 1, '15921499': 1},\n",
       " None]"
      ]
     },
     "execution_count": 10,
     "metadata": {},
     "output_type": "execute_result"
    }
   ],
   "source": [
    "dict_form['data']"
   ]
  },
  {
   "cell_type": "markdown",
   "id": "86732548",
   "metadata": {},
   "source": [
    "- Index E2\n",
    "- Printed Day\tE3\n",
    "- Recipient\tB6\n",
    "- Contact\tE6\n",
    "- Request Date\tA10\n",
    "- Address\tD10\n",
    "- Deilevery Instructions\tA14\n",
    "- parts_info\tB21\n"
   ]
  },
  {
   "cell_type": "code",
   "execution_count": 18,
   "id": "3793e393",
   "metadata": {},
   "outputs": [],
   "source": [
    "wb_pf = xw.Book('print_form.xlsx')"
   ]
  },
  {
   "cell_type": "code",
   "execution_count": 14,
   "id": "4ef6c66a",
   "metadata": {},
   "outputs": [],
   "source": [
    "wb_pf.sheets[0].range(\"A1\").value"
   ]
  },
  {
   "cell_type": "markdown",
   "id": "bbeb1c30",
   "metadata": {},
   "source": [
    "## 프린트하기\n",
    "- 양식채우기"
   ]
  },
  {
   "cell_type": "code",
   "execution_count": 19,
   "id": "91bcde5b",
   "metadata": {},
   "outputs": [],
   "source": [
    "wb_cy\n",
    "ws_svc = wb_pf.sheets['SVC']\n"
   ]
  },
  {
   "cell_type": "code",
   "execution_count": 205,
   "id": "600296e7",
   "metadata": {},
   "outputs": [],
   "source": [
    "from datetime import datetime"
   ]
  },
  {
   "cell_type": "code",
   "execution_count": 111,
   "id": "07841d99",
   "metadata": {},
   "outputs": [],
   "source": [
    "now = datetime.now().strftime(\"%Y-%m-%d %H:%M:%S\")"
   ]
  },
  {
   "cell_type": "code",
   "execution_count": 86,
   "id": "9182c886",
   "metadata": {},
   "outputs": [
    {
     "data": {
      "text/plain": [
       "'2023-01-13'"
      ]
     },
     "execution_count": 86,
     "metadata": {},
     "output_type": "execute_result"
    }
   ],
   "source": [
    "str(now.date())"
   ]
  },
  {
   "cell_type": "code",
   "execution_count": 206,
   "id": "b95bec94",
   "metadata": {},
   "outputs": [
    {
     "data": {
      "text/plain": [
       "{'fe_name': '홍길동',\n",
       " 'fe_initial': 'KR_HGD',\n",
       " 'req_day': '2023-01-12',\n",
       " 'req_time': '18:00',\n",
       " 'address': '인천 연수구 송도동 218-3 삼성바이오로직스 5공장',\n",
       " 'del_met': '퀵',\n",
       " 'is_return': 0,\n",
       " 'recipient': '홍길동',\n",
       " 'is_urgent': 0,\n",
       " 'parts': {'11000322': 2, '18117251': 1, '28404190': 1},\n",
       " 'del_instruction': None,\n",
       " 'contact': '010-1234-1234'}"
      ]
     },
     "execution_count": 206,
     "metadata": {},
     "output_type": "execute_result"
    }
   ],
   "source": [
    "form_data = dict_form['data']\n",
    "form_data"
   ]
  },
  {
   "cell_type": "code",
   "execution_count": 215,
   "id": "4c1a174f",
   "metadata": {},
   "outputs": [
    {
     "data": {
      "text/plain": [
       "[2, 1, 1]"
      ]
     },
     "execution_count": 215,
     "metadata": {},
     "output_type": "execute_result"
    }
   ],
   "source": [
    "list(form_data['parts'].values())"
   ]
  },
  {
   "cell_type": "code",
   "execution_count": 240,
   "id": "8c570eba",
   "metadata": {},
   "outputs": [
    {
     "data": {
      "text/plain": [
       "0"
      ]
     },
     "execution_count": 240,
     "metadata": {},
     "output_type": "execute_result"
    }
   ],
   "source": [
    "\n",
    "is_return = form_data['is_return']\n",
    "\n",
    "if is_return == 0 :\n",
    "    is_return = None:\n",
    "else :\n",
    "    is_return = '왕복'"
   ]
  },
  {
   "cell_type": "code",
   "execution_count": null,
   "id": "109bcce8",
   "metadata": {},
   "outputs": [],
   "source": [
    "is_urgent = form_data['is_urgent']\n",
    "\n",
    "if is_urgent == 0 :\n",
    "    is_urgent = None:\n",
    "else :\n",
    "    is_urgent = '긴급'\n"
   ]
  },
  {
   "cell_type": "markdown",
   "id": "a604e0b7",
   "metadata": {},
   "source": [
    "### parts JSON\n",
    "1. part_no\n",
    "2. serial_no\n",
    "3. qty\n",
    "4. currnet_stock"
   ]
  },
  {
   "cell_type": "code",
   "execution_count": 260,
   "id": "3aac0d26",
   "metadata": {},
   "outputs": [
    {
     "data": {
      "text/html": [
       "<div>\n",
       "<style scoped>\n",
       "    .dataframe tbody tr th:only-of-type {\n",
       "        vertical-align: middle;\n",
       "    }\n",
       "\n",
       "    .dataframe tbody tr th {\n",
       "        vertical-align: top;\n",
       "    }\n",
       "\n",
       "    .dataframe thead th {\n",
       "        text-align: right;\n",
       "    }\n",
       "</style>\n",
       "<table border=\"1\" class=\"dataframe\">\n",
       "  <thead>\n",
       "    <tr style=\"text-align: right;\">\n",
       "      <th></th>\n",
       "      <th>part_no</th>\n",
       "      <th>serial_no</th>\n",
       "      <th>qty</th>\n",
       "      <th>currnet_stock</th>\n",
       "      <th>transfer_to</th>\n",
       "      <th>BIN</th>\n",
       "    </tr>\n",
       "  </thead>\n",
       "  <tbody>\n",
       "    <tr>\n",
       "      <th>0</th>\n",
       "      <td>11000322</td>\n",
       "      <td>None</td>\n",
       "      <td>2</td>\n",
       "      <td>KR_SERV01</td>\n",
       "      <td>KR_HGD</td>\n",
       "      <td>None</td>\n",
       "    </tr>\n",
       "    <tr>\n",
       "      <th>1</th>\n",
       "      <td>18117251</td>\n",
       "      <td>None</td>\n",
       "      <td>1</td>\n",
       "      <td>KR_SERV01</td>\n",
       "      <td>KR_HGD</td>\n",
       "      <td>None</td>\n",
       "    </tr>\n",
       "    <tr>\n",
       "      <th>2</th>\n",
       "      <td>28404190</td>\n",
       "      <td>None</td>\n",
       "      <td>1</td>\n",
       "      <td>KR_SERV01</td>\n",
       "      <td>KR_HGD</td>\n",
       "      <td>None</td>\n",
       "    </tr>\n",
       "  </tbody>\n",
       "</table>\n",
       "</div>"
      ],
      "text/plain": [
       "    part_no serial_no qty currnet_stock transfer_to   BIN\n",
       "0  11000322      None   2     KR_SERV01      KR_HGD  None\n",
       "1  18117251      None   1     KR_SERV01      KR_HGD  None\n",
       "2  28404190      None   1     KR_SERV01      KR_HGD  None"
      ]
     },
     "execution_count": 260,
     "metadata": {},
     "output_type": "execute_result"
    }
   ],
   "source": [
    "cols = ['part_no', 'serial_no', 'qty', 'currnet_stock','transfer_to','BIN']\n",
    "part_no = ['11000322','18117251','28404190']\n",
    "serial_no = [None,None,None]\n",
    "qty = [2,1,1]\n",
    "currnet_stock = ['KR_SERV01','KR_SERV01','KR_SERV01']\n",
    "transfer_to = ['KR_HGD','KR_HGD','KR_HGD']\n",
    "BIN= [None,None,None]\n",
    "df = pd.DataFrame([part_no,serial_no,qty,currnet_stock,transfer_to,BIN],index=cols).T\n",
    "df"
   ]
  },
  {
   "cell_type": "code",
   "execution_count": 261,
   "id": "707afd6b",
   "metadata": {},
   "outputs": [
    {
     "data": {
      "text/plain": [
       "[{'part_no': '11000322',\n",
       "  'serial_no': None,\n",
       "  'qty': 2,\n",
       "  'currnet_stock': 'KR_SERV01',\n",
       "  'transfer_to': 'KR_HGD',\n",
       "  'BIN': None},\n",
       " {'part_no': '18117251',\n",
       "  'serial_no': None,\n",
       "  'qty': 1,\n",
       "  'currnet_stock': 'KR_SERV01',\n",
       "  'transfer_to': 'KR_HGD',\n",
       "  'BIN': None},\n",
       " {'part_no': '28404190',\n",
       "  'serial_no': None,\n",
       "  'qty': 1,\n",
       "  'currnet_stock': 'KR_SERV01',\n",
       "  'transfer_to': 'KR_HGD',\n",
       "  'BIN': None}]"
      ]
     },
     "execution_count": 261,
     "metadata": {},
     "output_type": "execute_result"
    }
   ],
   "source": [
    "data=[]\n",
    "for i in range(len(part_no)):\n",
    "    tmp = zip(cols,[part_no[i],serial_no[i],qty[i],currnet_stock[i],transfer_to[i],BIN[i]])\n",
    "    data.append(dict(tmp))\n",
    "data"
   ]
  },
  {
   "cell_type": "code",
   "execution_count": 276,
   "id": "f645b496",
   "metadata": {},
   "outputs": [
    {
     "data": {
      "text/plain": [
       "'[{\"part_no\": \"11000322\", \"serial_no\": null, \"qty\": 2, \"currnet_stock\": \"KR_SERV01\", \"transfer_to\": \"KR_HGD\", \"BIN\": null}, {\"part_no\": \"18117251\", \"serial_no\": null, \"qty\": 1, \"currnet_stock\": \"KR_SERV01\", \"transfer_to\": \"KR_HGD\", \"BIN\": null}, {\"part_no\": \"28404190\", \"serial_no\": null, \"qty\": 1, \"currnet_stock\": \"KR_SERV01\", \"transfer_to\": \"KR_HGD\", \"BIN\": null}]'"
      ]
     },
     "execution_count": 276,
     "metadata": {},
     "output_type": "execute_result"
    }
   ],
   "source": [
    "json.dumps(data,ensure_ascii=False,)"
   ]
  },
  {
   "cell_type": "code",
   "execution_count": 262,
   "id": "a21bad69",
   "metadata": {},
   "outputs": [],
   "source": [
    "cols = ['part_no', 'serial_no', 'qty', 'currnet_stock','transfer_to','BIN']\n",
    "\n",
    "res =  {\n",
    "    'meta':{\n",
    "        'desc':'요청파트정보',\n",
    "        'cols':{\n",
    "            'part_no':'파트번호',\n",
    "            'serial_no':'시리얼넘버',\n",
    "            'qty':'개수',\n",
    "            'currnet_stock':'현재시스템로케이션위치',\n",
    "            'transfer_to':'Transfer해야할 시스템로케이션',\n",
    "            'BIN':'파트물리적위치'\n",
    "        }\n",
    "        \n",
    "    },\n",
    "    'parts':data\n",
    "    \n",
    "}\n",
    "\n",
    "parts = json.dumps(res,ensure_ascii=False)\n",
    "json_parts = json.loads(parts)"
   ]
  },
  {
   "cell_type": "code",
   "execution_count": null,
   "id": "e8413473",
   "metadata": {},
   "outputs": [],
   "source": []
  },
  {
   "cell_type": "code",
   "execution_count": 263,
   "id": "4096aa12",
   "metadata": {},
   "outputs": [],
   "source": [
    "df_parts = pd.DataFrame(json_parts['parts'])\n",
    "df_parts.index = df_parts.index + 1"
   ]
  },
  {
   "cell_type": "code",
   "execution_count": 264,
   "id": "7f0384ad",
   "metadata": {},
   "outputs": [
    {
     "data": {
      "text/html": [
       "<div>\n",
       "<style scoped>\n",
       "    .dataframe tbody tr th:only-of-type {\n",
       "        vertical-align: middle;\n",
       "    }\n",
       "\n",
       "    .dataframe tbody tr th {\n",
       "        vertical-align: top;\n",
       "    }\n",
       "\n",
       "    .dataframe thead th {\n",
       "        text-align: right;\n",
       "    }\n",
       "</style>\n",
       "<table border=\"1\" class=\"dataframe\">\n",
       "  <thead>\n",
       "    <tr style=\"text-align: right;\">\n",
       "      <th></th>\n",
       "      <th>part_no</th>\n",
       "      <th>serial_no</th>\n",
       "      <th>qty</th>\n",
       "      <th>currnet_stock</th>\n",
       "      <th>transfer_to</th>\n",
       "      <th>BIN</th>\n",
       "    </tr>\n",
       "  </thead>\n",
       "  <tbody>\n",
       "    <tr>\n",
       "      <th>1</th>\n",
       "      <td>11000322</td>\n",
       "      <td>None</td>\n",
       "      <td>2</td>\n",
       "      <td>KR_SERV01</td>\n",
       "      <td>KR_HGD</td>\n",
       "      <td>None</td>\n",
       "    </tr>\n",
       "    <tr>\n",
       "      <th>2</th>\n",
       "      <td>18117251</td>\n",
       "      <td>None</td>\n",
       "      <td>1</td>\n",
       "      <td>KR_SERV01</td>\n",
       "      <td>KR_HGD</td>\n",
       "      <td>None</td>\n",
       "    </tr>\n",
       "    <tr>\n",
       "      <th>3</th>\n",
       "      <td>28404190</td>\n",
       "      <td>None</td>\n",
       "      <td>1</td>\n",
       "      <td>KR_SERV01</td>\n",
       "      <td>KR_HGD</td>\n",
       "      <td>None</td>\n",
       "    </tr>\n",
       "  </tbody>\n",
       "</table>\n",
       "</div>"
      ],
      "text/plain": [
       "    part_no serial_no  qty currnet_stock transfer_to   BIN\n",
       "1  11000322      None    2     KR_SERV01      KR_HGD  None\n",
       "2  18117251      None    1     KR_SERV01      KR_HGD  None\n",
       "3  28404190      None    1     KR_SERV01      KR_HGD  None"
      ]
     },
     "execution_count": 264,
     "metadata": {},
     "output_type": "execute_result"
    }
   ],
   "source": [
    "df_parts\n",
    "## Transfer_to, BIN 컬럼이 추가적으로 필요함\n"
   ]
  },
  {
   "cell_type": "code",
   "execution_count": 265,
   "id": "9a5bc882",
   "metadata": {},
   "outputs": [
    {
     "data": {
      "text/plain": [
       "<Sheet [cytiva.xlsm]Cytiva Inventory BIN>"
      ]
     },
     "execution_count": 265,
     "metadata": {},
     "output_type": "execute_result"
    }
   ],
   "source": [
    "bin_loc = wb_cy.sheets['Cytiva Inventory BIN']\n",
    "bin_loc"
   ]
  },
  {
   "cell_type": "code",
   "execution_count": 266,
   "id": "3cc8bbee",
   "metadata": {},
   "outputs": [
    {
     "data": {
      "text/plain": [
       "4"
      ]
     },
     "execution_count": 266,
     "metadata": {},
     "output_type": "execute_result"
    }
   ],
   "source": [
    "bin_last_row = bin_loc.range('A100000').end('up').row\n",
    "bin_last_col = bin_loc.range('AAA'+str(bin_last_row)).end('left').column\n",
    "bin_last_col"
   ]
  },
  {
   "cell_type": "code",
   "execution_count": 267,
   "id": "01233da0",
   "metadata": {},
   "outputs": [],
   "source": [
    "df_bin= pd.DataFrame(bin_loc.range((2,1),(bin_last_row,bin_last_col)).options(numbers=int).value)"
   ]
  },
  {
   "cell_type": "code",
   "execution_count": 268,
   "id": "09f847b1",
   "metadata": {},
   "outputs": [],
   "source": [
    "dict_bin = dict(zip(df_bin[0].astype(str),df_bin[1]))"
   ]
  },
  {
   "cell_type": "code",
   "execution_count": 269,
   "id": "e1c22811",
   "metadata": {},
   "outputs": [],
   "source": [
    "bin_list = []\n",
    "for part_no in df_parts[df_parts.columns[0]]:\n",
    "    bin_list.append(dict_bin[part_no])"
   ]
  },
  {
   "cell_type": "code",
   "execution_count": 270,
   "id": "e3f89c28",
   "metadata": {},
   "outputs": [
    {
     "data": {
      "text/plain": [
       "['2B1702', '2C1803', '2B1804']"
      ]
     },
     "execution_count": 270,
     "metadata": {},
     "output_type": "execute_result"
    }
   ],
   "source": [
    "bin_list"
   ]
  },
  {
   "cell_type": "code",
   "execution_count": 271,
   "id": "ef7260a3",
   "metadata": {},
   "outputs": [],
   "source": [
    "df_parts['BIN'] = bin_list"
   ]
  },
  {
   "cell_type": "code",
   "execution_count": 272,
   "id": "b9ed9282",
   "metadata": {},
   "outputs": [
    {
     "data": {
      "text/html": [
       "<div>\n",
       "<style scoped>\n",
       "    .dataframe tbody tr th:only-of-type {\n",
       "        vertical-align: middle;\n",
       "    }\n",
       "\n",
       "    .dataframe tbody tr th {\n",
       "        vertical-align: top;\n",
       "    }\n",
       "\n",
       "    .dataframe thead th {\n",
       "        text-align: right;\n",
       "    }\n",
       "</style>\n",
       "<table border=\"1\" class=\"dataframe\">\n",
       "  <thead>\n",
       "    <tr style=\"text-align: right;\">\n",
       "      <th></th>\n",
       "      <th>part_no</th>\n",
       "      <th>serial_no</th>\n",
       "      <th>qty</th>\n",
       "      <th>currnet_stock</th>\n",
       "      <th>transfer_to</th>\n",
       "      <th>BIN</th>\n",
       "    </tr>\n",
       "  </thead>\n",
       "  <tbody>\n",
       "    <tr>\n",
       "      <th>1</th>\n",
       "      <td>11000322</td>\n",
       "      <td>None</td>\n",
       "      <td>2</td>\n",
       "      <td>KR_SERV01</td>\n",
       "      <td>KR_HGD</td>\n",
       "      <td>2B1702</td>\n",
       "    </tr>\n",
       "    <tr>\n",
       "      <th>2</th>\n",
       "      <td>18117251</td>\n",
       "      <td>None</td>\n",
       "      <td>1</td>\n",
       "      <td>KR_SERV01</td>\n",
       "      <td>KR_HGD</td>\n",
       "      <td>2C1803</td>\n",
       "    </tr>\n",
       "    <tr>\n",
       "      <th>3</th>\n",
       "      <td>28404190</td>\n",
       "      <td>None</td>\n",
       "      <td>1</td>\n",
       "      <td>KR_SERV01</td>\n",
       "      <td>KR_HGD</td>\n",
       "      <td>2B1804</td>\n",
       "    </tr>\n",
       "  </tbody>\n",
       "</table>\n",
       "</div>"
      ],
      "text/plain": [
       "    part_no serial_no  qty currnet_stock transfer_to     BIN\n",
       "1  11000322      None    2     KR_SERV01      KR_HGD  2B1702\n",
       "2  18117251      None    1     KR_SERV01      KR_HGD  2C1803\n",
       "3  28404190      None    1     KR_SERV01      KR_HGD  2B1804"
      ]
     },
     "execution_count": 272,
     "metadata": {},
     "output_type": "execute_result"
    }
   ],
   "source": [
    "df_parts"
   ]
  },
  {
   "cell_type": "code",
   "execution_count": 259,
   "id": "ed8efa70",
   "metadata": {},
   "outputs": [],
   "source": [
    "# Index\n",
    "# 요청출고의 인덱스번호로결정 1 로가정\n",
    "ws_svc.range('E2').value = 1\n",
    "# Printed Day E3\n",
    "ws_svc.range('E3').value = now\n",
    "# Delievery Type E5\n",
    "is_return = form_data['is_return']\n",
    "if is_return == 0 :\n",
    "    is_return = None\n",
    "else :\n",
    "    is_return = '왕복'\n",
    "ws_svc.range('E5').value = is_return\n",
    "ws_svc.range('E3').value = now\n",
    "# Recipient B6\n",
    "ws_svc.range('B6').value = form_data['recipient']\n",
    "# Contact E6\n",
    "ws_svc.range('E6').value = form_data['contact']\n",
    "# Request day A10\n",
    "ws_svc.range('A10').value  = form_data['req_day']\n",
    "# request hour A11\n",
    "ws_svc.range('A11').value  = form_data['req_time']\n",
    "# Address D10\n",
    "ws_svc.range('D10').value = form_data['address']\n",
    "# Deilevery Instructions A14\n",
    "ws_svc.range('A14').value = form_data['del_instruction']\n",
    "# parts_info A20\n",
    "ws_svc.range('A20').value = df_parts\n",
    "\n",
    "# Depart From B41\n",
    "ws_svc.range('B41').value = '서울시 강서구 하늘길 247 3층 C구역'\n",
    "# TEL B42\n",
    "ws_svc.range('B42').value = '02-2660-3767'\n",
    "# Phone B43\n",
    "ws_svc.range('B43').value = '담당자 폰번호'\n",
    "# URGENT E41\n",
    "is_urgent = form_data['is_urgent']\n",
    "if is_urgent == 0 :\n",
    "    is_urgent = None       \n",
    "else :\n",
    "    is_urgent = '긴급' \n",
    "ws_svc.range('E41').value = is_urgent"
   ]
  },
  {
   "cell_type": "code",
   "execution_count": 289,
   "id": "2ee1521d",
   "metadata": {},
   "outputs": [],
   "source": [
    "import win32com.client as cli"
   ]
  },
  {
   "cell_type": "code",
   "execution_count": 300,
   "id": "17765595",
   "metadata": {},
   "outputs": [
    {
     "name": "stdout",
     "output_type": "stream",
     "text": [
      "SVC_20230114_CCH_noturgent\n"
     ]
    }
   ],
   "source": [
    "outlook = cli.Dispatch(\"Outlook.Application\").GetNamespace(\"MAPI\") # 아웃룩\n",
    "inbox = outlook.GetDefaultFolder(6) # 받은편지함\n",
    "msg = inbox.Items #메세지 정보\n",
    "msg_counter = msg.count # 총갯수\n",
    "\n",
    "part_request = []\n",
    "for ms in inbox.Items:\n",
    "    if 'SVC' in ms.Subject:\n",
    "        print(ms.Subject)\n",
    "        part_request.append(ms)"
   ]
  },
  {
   "cell_type": "code",
   "execution_count": 299,
   "id": "d3a6aec1",
   "metadata": {},
   "outputs": [
    {
     "data": {
      "text/html": [
       "<div>\n",
       "<style scoped>\n",
       "    .dataframe tbody tr th:only-of-type {\n",
       "        vertical-align: middle;\n",
       "    }\n",
       "\n",
       "    .dataframe tbody tr th {\n",
       "        vertical-align: top;\n",
       "    }\n",
       "\n",
       "    .dataframe thead th {\n",
       "        text-align: right;\n",
       "    }\n",
       "</style>\n",
       "<table border=\"1\" class=\"dataframe\">\n",
       "  <thead>\n",
       "    <tr style=\"text-align: right;\">\n",
       "      <th></th>\n",
       "      <th>part_no</th>\n",
       "      <th>serial_no</th>\n",
       "      <th>qty</th>\n",
       "      <th>currnet_stock</th>\n",
       "      <th>transfer_to</th>\n",
       "      <th>BIN</th>\n",
       "    </tr>\n",
       "  </thead>\n",
       "  <tbody>\n",
       "    <tr>\n",
       "      <th>0</th>\n",
       "      <td>11000322</td>\n",
       "      <td>None</td>\n",
       "      <td>2</td>\n",
       "      <td>KR_SERV01</td>\n",
       "      <td>KR_HGD</td>\n",
       "      <td>None</td>\n",
       "    </tr>\n",
       "    <tr>\n",
       "      <th>1</th>\n",
       "      <td>18117251</td>\n",
       "      <td>None</td>\n",
       "      <td>1</td>\n",
       "      <td>KR_SERV01</td>\n",
       "      <td>KR_HGD</td>\n",
       "      <td>None</td>\n",
       "    </tr>\n",
       "    <tr>\n",
       "      <th>2</th>\n",
       "      <td>28404190</td>\n",
       "      <td>None</td>\n",
       "      <td>1</td>\n",
       "      <td>KR_SERV01</td>\n",
       "      <td>KR_CCH</td>\n",
       "      <td>None</td>\n",
       "    </tr>\n",
       "  </tbody>\n",
       "</table>\n",
       "</div>"
      ],
      "text/plain": [
       "    part_no serial_no  qty currnet_stock transfer_to   BIN\n",
       "0  11000322      None    2     KR_SERV01      KR_HGD  None\n",
       "1  18117251      None    1     KR_SERV01      KR_HGD  None\n",
       "2  28404190      None    1     KR_SERV01      KR_CCH  None"
      ]
     },
     "execution_count": 299,
     "metadata": {},
     "output_type": "execute_result"
    }
   ],
   "source": [
    "body_exam = part_request[0].Body\n",
    "body = body_exam[:body_exam.rfind('}')+1]\n",
    "body\n",
    "json_body = json.loads(body)\n",
    "\n",
    "json_body.keys()\n",
    "\n",
    "form_data= json_body['data']\n",
    "df_parts = pd.DataFrame(form_data['parts'])\n",
    "df_parts"
   ]
  },
  {
   "cell_type": "code",
   "execution_count": 302,
   "id": "baa39080",
   "metadata": {},
   "outputs": [
    {
     "data": {
      "text/plain": [
       "'인천 연수구 송도동 218-3 삼성바이오로직스 5공장'"
      ]
     },
     "execution_count": 302,
     "metadata": {},
     "output_type": "execute_result"
    }
   ],
   "source": [
    "dict_data"
   ]
  },
  {
   "cell_type": "code",
   "execution_count": 310,
   "id": "87a55af8",
   "metadata": {},
   "outputs": [],
   "source": [
    "df_parts = pd.DataFrame(dict_data['parts'])\n"
   ]
  },
  {
   "cell_type": "code",
   "execution_count": 333,
   "id": "8b25b974",
   "metadata": {},
   "outputs": [
    {
     "data": {
      "text/plain": [
       "'SVC_20230114_CCH_noturgent_prfm'"
      ]
     },
     "execution_count": 333,
     "metadata": {},
     "output_type": "execute_result"
    }
   ],
   "source": [
    "part_request[0].Subject+'_prfm'"
   ]
  },
  {
   "cell_type": "code",
   "execution_count": 334,
   "id": "bfddf3d1",
   "metadata": {},
   "outputs": [],
   "source": [
    "def print_form(subject=None):\n",
    "    \"\"\"\n",
    "    \"\"\"\n",
    "       \n",
    "    wb_pf = xw.Book('print_form.xlsx')\n",
    "    ws_svc = wb_pf.sheets['SVC']\n",
    "    \n",
    "    outlook = cli.Dispatch(\"Outlook.Application\").GetNamespace(\"MAPI\") # 아웃룩\n",
    "    inbox = outlook.GetDefaultFolder(6) # 받은편지함\n",
    "    \n",
    "    \n",
    "    part_request = []\n",
    "    for ms in inbox.Items:\n",
    "        if subject in ms.Subject:\n",
    "            part_request.append(ms)\n",
    "            \n",
    "    \n",
    "    if 'SVC' in part_request[0].Subject:\n",
    "    \n",
    "\n",
    "        body_exam = part_request[0].Body\n",
    "        body = body_exam[:body_exam.rfind('}')+1]\n",
    "        body\n",
    "        json_body = json.loads(body)\n",
    "\n",
    "        json_body.keys()\n",
    "\n",
    "        form_data= json_body['data']\n",
    "        df_parts = pd.DataFrame(form_data['parts'])\n",
    "        df_parts\n",
    "        # Index\n",
    "\n",
    "        ws_svc.range('B21:H40').clear_contents()\n",
    "\n",
    "\n",
    "        # 요청출고의 인덱스번호로결정 1 로가정\n",
    "        ws_svc.range('E2').value = 1\n",
    "        # Printed Day E3\n",
    "        ws_svc.range('E3').value = now\n",
    "        # Delievery Type E5\n",
    "        is_return = form_data['is_return']\n",
    "        if is_return == 0 :\n",
    "            is_return = None\n",
    "        else :\n",
    "            is_return = '왕복'\n",
    "        ws_svc.range('E5').value = is_return\n",
    "        ws_svc.range('E3').value = now\n",
    "        # Recipient B6\n",
    "        ws_svc.range('B6').value = form_data['recipient']\n",
    "        # Contact E6\n",
    "        ws_svc.range('E6').value = form_data['contact']\n",
    "        # Request day A10\n",
    "        ws_svc.range('A10').value  = form_data['req_day']\n",
    "        # request hour A11\n",
    "        ws_svc.range('A11').value  = form_data['req_time']\n",
    "        # Address D10\n",
    "        ws_svc.range('D10').value = form_data['address']\n",
    "        # Deilevery Instructions A14\n",
    "        ws_svc.range('A14').value = form_data['del_instruction']\n",
    "        # parts_info A20\n",
    "        ws_svc.range('A20').value = df_parts\n",
    "        # Depart From B41\n",
    "        ws_svc.range('B41').value = '서울시 강서구 하늘길 247 3층 C구역'\n",
    "        # TEL B42\n",
    "        ws_svc.range('B42').value = '02-2660-3767'\n",
    "        # Phone B43\n",
    "        ws_svc.range('B43').value = '담당자 폰번호'\n",
    "        # URGENT E41\n",
    "        is_urgent = form_data['is_urgent']\n",
    "        if is_urgent == 0 :\n",
    "            is_urgent = None       \n",
    "        else :\n",
    "            is_urgent = '긴급' \n",
    "        ws_svc.range('E41').value = is_urgent\n",
    "\n",
    "\n"
   ]
  },
  {
   "cell_type": "code",
   "execution_count": 322,
   "id": "d262df84",
   "metadata": {},
   "outputs": [],
   "source": [
    "print_form()"
   ]
  },
  {
   "cell_type": "markdown",
   "id": "3ea61fad",
   "metadata": {},
   "source": [
    "## 프린팅하기"
   ]
  },
  {
   "cell_type": "code",
   "execution_count": 25,
   "id": "8818f2a9",
   "metadata": {},
   "outputs": [
    {
     "data": {
      "text/plain": [
       "True"
      ]
     },
     "execution_count": 25,
     "metadata": {},
     "output_type": "execute_result"
    }
   ],
   "source": [
    "wb_pf.sheets['SVC'].range(\"A1:H43\").api.PrintOut()"
   ]
  },
  {
   "cell_type": "code",
   "execution_count": 27,
   "id": "381e16d6",
   "metadata": {},
   "outputs": [
    {
     "data": {
      "text/plain": [
       "True"
      ]
     },
     "execution_count": 27,
     "metadata": {},
     "output_type": "execute_result"
    }
   ],
   "source": [
    "wb_pf.sheets['SVC'].range(\"A1:H43\").api.PrintPreview()"
   ]
  },
  {
   "cell_type": "markdown",
   "id": "5c91e710",
   "metadata": {},
   "source": [
    "# print_form.xlsx 안켜져있어도 프린트 기능 하기"
   ]
  },
  {
   "cell_type": "code",
   "execution_count": 26,
   "id": "d1d93be5",
   "metadata": {},
   "outputs": [],
   "source": [
    "import os\n",
    "import sys"
   ]
  },
  {
   "cell_type": "code",
   "execution_count": 85,
   "id": "dcb0f870",
   "metadata": {},
   "outputs": [],
   "source": [
    "pf_dir = \"C:\\\\Users\\\\lms46\\\\Desktop\\\\fulfill\\\\print_form.xlsx\"\n"
   ]
  },
  {
   "cell_type": "code",
   "execution_count": 80,
   "id": "b90be059",
   "metadata": {},
   "outputs": [],
   "source": [
    "form_dir = os.path.join(xl_dir[0]+\"\\\\\",xl_dir[1],xl_dir[2],xl_dir[3],xl_dir[4])"
   ]
  },
  {
   "cell_type": "code",
   "execution_count": 86,
   "id": "c5978d1c",
   "metadata": {},
   "outputs": [
    {
     "data": {
      "text/plain": [
       "<Book [print_form.xlsx]>"
      ]
     },
     "execution_count": 86,
     "metadata": {},
     "output_type": "execute_result"
    }
   ],
   "source": [
    "xw.Book(xl_dir)"
   ]
  },
  {
   "cell_type": "code",
   "execution_count": 87,
   "id": "fe1971f3",
   "metadata": {},
   "outputs": [
    {
     "data": {
      "text/plain": [
       "'C:\\\\Users\\\\lms46\\\\Desktop\\\\fulfill'"
      ]
     },
     "execution_count": 87,
     "metadata": {},
     "output_type": "execute_result"
    }
   ],
   "source": [
    "os.getcwd()"
   ]
  },
  {
   "cell_type": "code",
   "execution_count": 159,
   "id": "387131f6",
   "metadata": {},
   "outputs": [],
   "source": [
    "import time"
   ]
  },
  {
   "cell_type": "markdown",
   "id": "d2299bd3",
   "metadata": {},
   "source": [
    "# 메일 연동 방법\n",
    "1. 시스템으로 발송된 메일은 자동으로 DB에 내용 저장 mail_detail"
   ]
  },
  {
   "cell_type": "code",
   "execution_count": 187,
   "id": "f9d942f7",
   "metadata": {},
   "outputs": [],
   "source": [
    "# 다른 폴더 메일\n",
    "        \n",
    "request_folder = outlook.GetDefaultFolder(6).Parent.Folders('1_Requests')\n",
    "process_folder = outlook.GetDefaultFolder(6).Parent.Folders('2_Processing')\n",
    "shipped_folder = outlook.GetDefaultFolder(6).Parent.Folders('3_ShipConfirmed')"
   ]
  },
  {
   "cell_type": "code",
   "execution_count": 176,
   "id": "5e9575f8",
   "metadata": {},
   "outputs": [
    {
     "name": "stdout",
     "output_type": "stream",
     "text": [
      "SVC_CCH_23011901\n",
      "SVC_LMR_23011902\n",
      "SVC_LWW_23011903\n"
     ]
    }
   ],
   "source": [
    "outlook = cli.Dispatch(\"Outlook.Application\").GetNamespace(\"MAPI\") # 아웃룩\n",
    "inbox = outlook.GetDefaultFolder(6) # 받은편지함\n",
    "\n",
    "\n",
    "part_request = []\n",
    "for ms in inbox.Items:\n",
    "    if 'SVC' in ms.Subject:\n",
    "        print(ms.Subject)\n",
    "        part_request.append(ms)"
   ]
  },
  {
   "cell_type": "code",
   "execution_count": 188,
   "id": "96953e44",
   "metadata": {},
   "outputs": [
    {
     "name": "stdout",
     "output_type": "stream",
     "text": [
      "SVC_CCH_23011901\n",
      "SVC_LMR_23011902\n",
      "SVC_LWW_23011903\n",
      "SVC_CCH_23011901\n",
      "SVC_LMR_23011902\n",
      "SVC_LWW_23011903\n"
     ]
    }
   ],
   "source": [
    "outlook = cli.Dispatch(\"Outlook.Application\").GetNamespace(\"MAPI\") # 아웃룩\n",
    "inbox = outlook.GetDefaultFolder(6) # 받은편지함\n",
    "part_request = []\n",
    "for ms in inbox.Items:\n",
    "    if 'SVC' in ms.Subject:\n",
    "        print(ms.Subject)\n",
    "        part_request.append(ms)\n",
    "for ms in part_request:\n",
    "    if 'SVC' in ms.Subject:\n",
    "        print(ms)\n",
    "        ms.Move(request_folder)"
   ]
  },
  {
   "cell_type": "code",
   "execution_count": 189,
   "id": "3239ba52",
   "metadata": {},
   "outputs": [
    {
     "name": "stdout",
     "output_type": "stream",
     "text": [
      "SVC_CCH_23011901\n",
      "SVC_LMR_23011902\n",
      "SVC_LWW_23011903\n",
      "SVC_CCH_23011901\n",
      "SVC_LMR_23011902\n",
      "SVC_LWW_23011903\n"
     ]
    }
   ],
   "source": [
    "# 2번폴더로 이동\n",
    "outlook = cli.Dispatch(\"Outlook.Application\").GetNamespace(\"MAPI\") # 아웃룩\n",
    "request_folder = outlook.GetDefaultFolder(6).Parent.Folders('1_Requests') # 받은편지함\n",
    "part_request = []\n",
    "for ms in request_folder.Items:\n",
    "    if 'SVC' in ms.Subject:\n",
    "        print(ms.Subject)\n",
    "        part_request.append(ms)\n",
    "        \n",
    "for ms in part_request:\n",
    "    if 'SVC' in ms.Subject:\n",
    "        print(ms)\n",
    "        ms.Move(process_folder)"
   ]
  },
  {
   "cell_type": "code",
   "execution_count": 190,
   "id": "c5783692",
   "metadata": {},
   "outputs": [
    {
     "name": "stdout",
     "output_type": "stream",
     "text": [
      "SVC_CCH_23011901\n",
      "SVC_LMR_23011902\n",
      "SVC_LWW_23011903\n",
      "SVC_CCH_23011901\n",
      "SVC_LMR_23011902\n",
      "SVC_LWW_23011903\n"
     ]
    }
   ],
   "source": [
    "# 3번폴더로 이동\n",
    "outlook = cli.Dispatch(\"Outlook.Application\").GetNamespace(\"MAPI\") # 아웃룩\n",
    "process_folder = outlook.GetDefaultFolder(6).Parent.Folders('2_Processing') # 받은편지함\n",
    "part_request = []\n",
    "for ms in process_folder.Items:\n",
    "    if 'SVC' in ms.Subject:\n",
    "        print(ms.Subject)\n",
    "        part_request.append(ms)\n",
    "        \n",
    "for ms in part_request:\n",
    "    if 'SVC' in ms.Subject:\n",
    "        print(ms)\n",
    "        ms.Move(shipped_folder)"
   ]
  },
  {
   "cell_type": "code",
   "execution_count": 193,
   "id": "e6e913e4",
   "metadata": {},
   "outputs": [],
   "source": [
    "# 폴더이동 모듈\n",
    "outlook = cli.Dispatch(\"Outlook.Application\").GetNamespace(\"MAPI\")\n",
    "inbox = outlook.GetDefaultFolder(6) # 받은편지함\n",
    "request_folder = outlook.GetDefaultFolder(6).Parent.Folders('1_Requests') # 1번폴더\n",
    "process_folder = outlook.GetDefaultFolder(6).Parent.Folders('2_Processing') # 2번폴더\n",
    "shipped_folder = outlook.GetDefaultFolder(6).Parent.Folders('3_ShipConfirmed') # 3번폴더\n",
    "\n",
    "def move_mail(from_folder,to_folder,req_type=\"SVC\"):\n",
    "    part_request = []\n",
    "    for ms in from_folder.Items:\n",
    "        if req_type in ms.Subject:\n",
    "            part_request.append(ms)\n",
    "    \n",
    "    # from_folder내용이 없을 경우\n",
    "    if len(part_request) == 0:\n",
    "        return None\n",
    "    else :\n",
    "        for ms in part_request:\n",
    "            if req_type in ms.Subject:\n",
    "                ms.Move(to_folder)\n",
    "\n"
   ]
  },
  {
   "cell_type": "code",
   "execution_count": 197,
   "id": "4cb25326",
   "metadata": {},
   "outputs": [],
   "source": [
    "move_mail(inbox,process_folder)"
   ]
  },
  {
   "cell_type": "code",
   "execution_count": 200,
   "id": "869d1f13",
   "metadata": {},
   "outputs": [
    {
     "name": "stdout",
     "output_type": "stream",
     "text": [
      "SVC_CCH_23011901\n",
      "SVC_LMR_23011902\n",
      "SVC_LWW_23011903\n",
      "SVC_LWW_23012101\n"
     ]
    }
   ],
   "source": [
    "outlook = cli.Dispatch(\"Outlook.Application\").GetNamespace(\"MAPI\") # 아웃룩\n",
    "inbox = outlook.GetDefaultFolder(6) # 받은편지함\n",
    "\n",
    "\n",
    "part_request = []\n",
    "for ms in inbox.Items:\n",
    "    if 'SVC' in ms.Subject:\n",
    "        print(ms.Subject)\n",
    "        part_request.append(ms)"
   ]
  },
  {
   "cell_type": "markdown",
   "id": "f710f8c3",
   "metadata": {},
   "source": [
    "# DB 테이블\n",
    "\n",
    "## MAIL_STATUS\n",
    "- **MS_INDEX(PK)**\n",
    "- ML_SUB(FK)\n",
    "- ML_STATUS  --> ['REQUESTED','PROCESSING', 'SHIPPED']\n",
    "- ML_BIN --> ['1_Requests', '2_Processing', '3_ShipConfirmed']\n",
    "- STD_DAY(분까지)\n",
    "\n",
    "## MAIL_DETAIL\n",
    "- **ML_SUB(PK)**\n",
    "- ML_TYPE_NM(FK)\n",
    "- STD_DAY(분까지)\n",
    "- ML_BODY\n",
    "\n",
    "## MAIL_TYPE\n",
    "- **ML_TYPE_NM(PK)**\n",
    "- TYPE_NAME\n",
    "- 0:'SVC', 1:'SO', 2:'DEMO', 99:'else'"
   ]
  },
  {
   "cell_type": "code",
   "execution_count": 243,
   "id": "c6979d30",
   "metadata": {},
   "outputs": [],
   "source": [
    "from datetime import datetime as dt"
   ]
  },
  {
   "cell_type": "code",
   "execution_count": 220,
   "id": "5aa860a0",
   "metadata": {},
   "outputs": [
    {
     "name": "stdout",
     "output_type": "stream",
     "text": [
      "SVC_CCH_23011901\n",
      "SVC_LMR_23011902\n",
      "SVC_LWW_23011903\n"
     ]
    }
   ],
   "source": [
    "outlook = cli.Dispatch(\"Outlook.Application\").GetNamespace(\"MAPI\") # 아웃룩\n",
    "inbox = outlook.GetDefaultFolder(6) # 받은편지함\n",
    "\n",
    "\n",
    "part_request = []\n",
    "for ms in inbox.Items:\n",
    "    if 'SVC' in ms.Subject:\n",
    "        print(ms.Subject)\n",
    "        part_request.append(ms)"
   ]
  },
  {
   "cell_type": "code",
   "execution_count": 246,
   "id": "1300a547",
   "metadata": {
    "scrolled": false
   },
   "outputs": [
    {
     "data": {
      "text/plain": [
       "'2023-01-21 16:22:42'"
      ]
     },
     "execution_count": 246,
     "metadata": {},
     "output_type": "execute_result"
    }
   ],
   "source": [
    "### MAIL_DETAIL\n",
    "\n",
    "# ML_SUB(PK)\n",
    "part_request[0].Subject\n",
    "\n",
    "# ML_TYPE_NM\n",
    "0\n",
    "\n",
    "# STD_DAY\n",
    "str(part_request[0].CreationTime).split('.')[0]\n",
    "\n",
    "# ML_BODY\n",
    "part_request[0].Body.split(\"\\r\\n\")[0]\n",
    "\n",
    "\n",
    "\n",
    "#############################################################################\n",
    "#############################################################################\n",
    "\n",
    "### MAIL_STATUS\n",
    "\n",
    "\n",
    "# MS_INDEX(PK) \n",
    "# 자동 증분\n",
    "\n",
    "# ML_SUB(FK)\n",
    "part_request[0].Subject\n",
    "\n",
    "# ML_STATUS\n",
    "ml_status[0]\n",
    "\n",
    "# ML_BIN\n",
    "ml_folders[0]\n",
    "\n",
    "# STD_DAY(분까지)\n",
    "str(dt.now()).split('.')[0]"
   ]
  },
  {
   "cell_type": "code",
   "execution_count": 347,
   "id": "1ef55d90",
   "metadata": {},
   "outputs": [],
   "source": [
    "def get_insert_values(argu):\n",
    "    list_len = len(argu)\n",
    "\n",
    "    value_list = []\n",
    "    for i in range(1,list_len+1):\n",
    "        value_list.append(\":\"+str(i))\n",
    "    str_val = ','.join(value_list)\n",
    "    \n",
    "    return str_val\n"
   ]
  },
  {
   "cell_type": "code",
   "execution_count": 360,
   "id": "57ca4f72",
   "metadata": {
    "scrolled": false
   },
   "outputs": [
    {
     "name": "stdout",
     "output_type": "stream",
     "text": [
      "SVC_CCH_23011901\n",
      "SVC_LMR_23011902\n",
      "SVC_LWW_23011903\n"
     ]
    }
   ],
   "source": [
    "\n",
    "outlook = cli.Dispatch(\"Outlook.Application\").GetNamespace(\"MAPI\") # 아웃룩\n",
    "inbox = outlook.GetDefaultFolder(6) # 받은편지함\n",
    "request_folder = outlook.GetDefaultFolder(6).Parent.Folders('1_Requests') # 1번폴더\n",
    "process_folder = outlook.GetDefaultFolder(6).Parent.Folders('2_Processing') # 2번폴더\n",
    "shipped_folder = outlook.GetDefaultFolder(6).Parent.Folders('3_ShipConfirmed') # 3번폴더\n",
    "\n",
    "# 폴더리스트\n",
    "folder_list = [inbox,request_folder,process_folder,shipped_folder]\n",
    "\n",
    "# 상태리스트\n",
    "ml_status= ['REQUESTED','PROCESSING', 'SHIPPED']\n",
    "ml_folders = ['1_Requests', '2_Processing', '3_ShipConfirmed']\n",
    "\n",
    "\n",
    "# 테이블리스트 \n",
    "tb_list = ['MAIL_DETAIL' ,'MAIL_STATUS']\n",
    "\n",
    "\n",
    "\n",
    "part_request = []\n",
    "for ms in inbox.Items:\n",
    "    if 'SVC' in ms.Subject:\n",
    "        print(ms.Subject)\n",
    "        part_request.append(ms)\n",
    "\n",
    "    df_list_md=[]\n",
    "    df_list_ms=[]\n",
    "    \n",
    "for ms in part_request:\n",
    "    query_list=[]\n",
    "\n",
    "    tmp_md = []\n",
    "    tmp_ms = []\n",
    "    ### MAIL_DETAIL\n",
    "    # ML_SUB(PK)\n",
    "    tmp_md.append(ms.Subject)\n",
    "    # ML_TYPE_NM\n",
    "    tmp_md.append(0)\n",
    "    # STD_DAY\n",
    "    tmp_md.append(str(ms.CreationTime).split('.')[0])\n",
    "    # ML_BODY\n",
    "    tmp_md.append(ms.Body.split(\"\\r\\n\")[0])\n",
    "    #############################################################################\n",
    "    ### MAIL_STATUS\n",
    "    # MS_INDEX(PK) \n",
    "    # 자동 증분\n",
    "#     tmp_ms.append(None)\n",
    "    # ML_SUB(FK)\n",
    "    tmp_ms.append(ms.Subject)\n",
    "    # ML_STATUS\n",
    "    tmp_ms.append(ml_status[0])\n",
    "    # ML_BIN\n",
    "    tmp_ms.append(request_folder.Name)\n",
    "    # STD_DAY(분까지)\n",
    "    tmp_ms.append(str(dt.now()).split('.')[0])\n",
    "    query_list = [\n",
    "    f'INSERT INTO MAIL_DETAIL (\"ML_SUB\", \"ML_TYPE_NM\", \"STD_DAY\", \"ML_BODY\") VALUES({get_insert_values(tmp_md)})',\n",
    "    f'INSERT INTO MAIL_STATUS (\"ML_SUB\", \"ML_STATUS\", \"UP_TIME\", \"ML_BIN\") VALUES({get_insert_values(tmp_ms)})'        \n",
    "    ]\n",
    "    \n",
    "    df_list_md.append(tmp_md)\n",
    "    df_list_ms.append(tmp_ms)\n",
    "\n",
    "    \n",
    "df_md = pd.DataFrame(df_list_md).values.tolist()\n",
    "df_tuple_md =list(pd.Series(df_list_md).map(tuple))\n",
    "cursor.executemany(query_list[0],df_tuple_md,batcherrors= True)\n",
    "cursor.execute(\"commit\")\n",
    "\n",
    "df_ms = pd.DataFrame(df_list_ms).values.tolist()\n",
    "df_tuple_ms =list(pd.Series(df_list_ms).map(tuple))\n",
    "cursor.executemany(query_list[0],df_tuple_ms,batcherrors= True)\n",
    "cursor.execute(\"commit\")\n",
    "\n",
    "# #     print(query_list)\n",
    "# #     print(tmp)\n",
    "#     for idx,query in enumerate(query_list):\n",
    "#         print(tuple(tmp[idx]))\n",
    "#         cursor.executemany(query ,tuple(tmp[idx]))\n",
    "#     cursor.execute(\"commit\")"
   ]
  },
  {
   "cell_type": "code",
   "execution_count": 349,
   "id": "d4064275",
   "metadata": {},
   "outputs": [],
   "source": [
    "df_list = df_md.values.tolist()"
   ]
  },
  {
   "cell_type": "code",
   "execution_count": 350,
   "id": "da6f1195",
   "metadata": {},
   "outputs": [
    {
     "data": {
      "text/plain": [
       "['INSERT INTO MAIL_DETAIL (\"ML_SUB\", \"ML_TYPE_NM\", \"STD_DAY\", \"ML_BODY\") VALUES(:1,:2,:3,:4)',\n",
       " 'INSERT INTO MAIL_STATUS (\"MS_INDEX\", \"ML_SUB\", \"ML_STATUS\", \"UP_TIME\", \"ML_BIN\") VALUES(:1,:2,:3,:4,:5)']"
      ]
     },
     "execution_count": 350,
     "metadata": {},
     "output_type": "execute_result"
    }
   ],
   "source": [
    "df_tuple_md =list(pd.Series(df_list).map(tuple))\n",
    "df_tuple\n",
    "query_list"
   ]
  },
  {
   "cell_type": "code",
   "execution_count": 351,
   "id": "db7f3bb4",
   "metadata": {},
   "outputs": [],
   "source": [
    "cursor.executemany(query_list[0],df_tuple_md,batcherrors= True)"
   ]
  },
  {
   "cell_type": "code",
   "execution_count": 357,
   "id": "25612ba4",
   "metadata": {},
   "outputs": [],
   "source": [
    "cursor.execute(\"commit\")"
   ]
  },
  {
   "cell_type": "code",
   "execution_count": 356,
   "id": "f9c5251c",
   "metadata": {},
   "outputs": [
    {
     "data": {
      "text/plain": [
       "[(None, 'SVC_CCH_23011901', 'REQUESTED', '1_Requests', '2023-01-21 18:38:09'),\n",
       " (None, 'SVC_LMR_23011902', 'REQUESTED', '1_Requests', '2023-01-21 18:38:09'),\n",
       " (None, 'SVC_LWW_23011903', 'REQUESTED', '1_Requests', '2023-01-21 18:38:09')]"
      ]
     },
     "execution_count": 356,
     "metadata": {},
     "output_type": "execute_result"
    }
   ],
   "source": [
    "df_tuple_ms"
   ]
  },
  {
   "cell_type": "code",
   "execution_count": 361,
   "id": "555a3ba2",
   "metadata": {},
   "outputs": [],
   "source": [
    "## ms 넣기\n",
    "df_list = df_ms.values.tolist()\n",
    "df_tuple_ms =list(pd.Series(df_list).map(tuple))\n",
    "\n",
    "cursor.executemany(query_list[1],df_tuple_ms,batcherrors= True)\n",
    "cursor.execute(\"commit\")"
   ]
  },
  {
   "cell_type": "code",
   "execution_count": 302,
   "id": "cf802686",
   "metadata": {},
   "outputs": [
    {
     "data": {
      "text/plain": [
       "(1, 2, 3, 4)"
      ]
     },
     "execution_count": 302,
     "metadata": {},
     "output_type": "execute_result"
    }
   ],
   "source": [
    "tuple([1,2,3,4])"
   ]
  },
  {
   "cell_type": "code",
   "execution_count": 362,
   "id": "94eb892d",
   "metadata": {},
   "outputs": [],
   "source": [
    "# folder_list\n",
    "move_mail(folder_list[0],folder_list[1])"
   ]
  },
  {
   "cell_type": "code",
   "execution_count": null,
   "id": "37992113",
   "metadata": {},
   "outputs": [],
   "source": [
    "def move_mail(from_folder,to_folder,req_type=\"SVC\"):\n",
    "    part_request = []\n",
    "    for ms in from_folder.Items:\n",
    "        if req_type in ms.Subject:\n",
    "            part_request.append(ms)\n",
    "    \n",
    "    # from_folder내용이 없을 경우\n",
    "    if len(part_request) == 0:\n",
    "        return None\n",
    "    else :\n",
    "        for ms in part_request:\n",
    "            if req_type in ms.Subject:\n",
    "                ms.Move(to_folder)"
   ]
  },
  {
   "cell_type": "code",
   "execution_count": 363,
   "id": "dbc59a79",
   "metadata": {},
   "outputs": [],
   "source": [
    "## insert용 values만들기 매서드\n",
    "def get_insert_values(argu):\n",
    "    list_len = len(argu)\n",
    "\n",
    "    value_list = []\n",
    "    for i in range(1,list_len+1):\n",
    "        value_list.append(\":\"+str(i))\n",
    "    str_val = ','.join(value_list)\n",
    "    \n",
    "    return str_val"
   ]
  },
  {
   "cell_type": "code",
   "execution_count": null,
   "id": "b5dbb6ef",
   "metadata": {},
   "outputs": [],
   "source": [
    "# 메일 excel 출력 함수\n",
    "# \"SVC\" 한정\n",
    "\n",
    "def \n",
    "\n",
    "outlook = cli.Dispatch(\"Outlook.Application\").GetNamespace(\"MAPI\") # 아웃룩\n",
    "inbox = outlook.GetDefaultFolder(6) # 받은편지함\n",
    "request_folder = outlook.GetDefaultFolder(6).Parent.Folders('1_Requests') # 1번폴더\n",
    "process_folder = outlook.GetDefaultFolder(6).Parent.Folders('2_Processing') # 2번폴더\n",
    "shipped_folder = outlook.GetDefaultFolder(6).Parent.Folders('3_ShipConfirmed') # 3번폴더\n",
    "\n",
    "# 폴더리스트\n",
    "folder_list = [inbox,request_folder,process_folder,shipped_folder]\n",
    "\n",
    "# 상태리스트\n",
    "ml_status= ['REQUESTED','PROCESSING', 'SHIPPED']\n",
    "ml_folders = ['1_Requests', '2_Processing', '3_ShipConfirmed']\n",
    "\n",
    "\n",
    "# 테이블리스트 \n",
    "tb_list = ['MAIL_DETAIL' ,'MAIL_STATUS']\n",
    "\n",
    "\n",
    "\n",
    "part_request = []\n",
    "for ms in inbox.Items:\n",
    "    if 'SVC' in ms.Subject:\n",
    "        print(ms.Subject)\n",
    "        part_request.append(ms)\n",
    "\n",
    "    df_list_md=[]\n",
    "    df_list_ms=[]\n",
    "for ms in part_request:\n",
    "    query_list=[]\n",
    "\n",
    "    tmp_md = []\n",
    "    tmp_ms = []\n",
    "    ### MAIL_DETAIL\n",
    "    # ML_SUB(PK)\n",
    "    tmp_md.append(ms.Subject)\n",
    "    # ML_TYPE_NM\n",
    "    tmp_md.append(0)\n",
    "    # STD_DAY\n",
    "    tmp_md.append(str(ms.CreationTime).split('.')[0])\n",
    "    # ML_BODY\n",
    "    tmp_md.append(ms.Body.split(\"\\r\\n\")[0])\n",
    "    #############################################################################\n",
    "    ### MAIL_STATUS\n",
    "    # MS_INDEX(PK) \n",
    "    # 자동 증분\n",
    "#     tmp_ms.append(None)\n",
    "    # ML_SUB(FK)\n",
    "    tmp_ms.append(ms.Subject)\n",
    "    # ML_STATUS\n",
    "    tmp_ms.append(ml_status[0])\n",
    "    # ML_BIN\n",
    "    tmp_ms.append(request_folder.Name)\n",
    "    # STD_DAY(분까지)\n",
    "    tmp_ms.append(str(dt.now()).split('.')[0])\n",
    "    query_list = [\n",
    "    f'INSERT INTO MAIL_DETAIL (\"ML_SUB\", \"ML_TYPE_NM\", \"STD_DAY\", \"ML_BODY\") VALUES({get_insert_values(tmp_md)})',\n",
    "    f'INSERT INTO MAIL_STATUS (\"ML_SUB\", \"ML_STATUS\", \"UP_TIME\", \"ML_BIN\") VALUES({get_insert_values(tmp_ms)})'        \n",
    "    ]\n",
    "    \n",
    "    df_list_md.append(tmp_md)\n",
    "    df_list_ms.append(tmp_ms)\n",
    "\n",
    "df_md = pd.DataFrame(df_list_md).values.tolist()\n",
    "df_tuple_md =list(pd.Series(df_list_md).map(tuple))\n",
    "cursor.executemany(query_list[0],df_tuple_md,batcherrors= True)\n",
    "cursor.execute(\"commit\")\n",
    "\n",
    "df_ms = pd.DataFrame(df_list_ms).values.tolist()\n",
    "df_tuple_ms =list(pd.Series(df_list_ms).map(tuple))\n",
    "cursor.executemany(query_list[0],df_tuple_ms,batcherrors= True)\n",
    "cursor.execute(\"commit\")\n",
    "\n",
    "\n",
    "move_mail(folder_list[0],folder_list[1])"
   ]
  },
  {
   "cell_type": "code",
   "execution_count": null,
   "id": "4c93fccb",
   "metadata": {},
   "outputs": [],
   "source": []
  },
  {
   "cell_type": "markdown",
   "id": "93cf8941",
   "metadata": {},
   "source": [
    "# DB연동"
   ]
  },
  {
   "cell_type": "code",
   "execution_count": 247,
   "id": "ca2dea64",
   "metadata": {},
   "outputs": [],
   "source": [
    "import cx_Oracle\n",
    "import os\n",
    "import pandas as pd\n",
    "#!pip insall cx_Oracle\n",
    "LOCATION = r\"C:\\Users\\lms46\\Desktop\\fulfill\\instantclient_fulfill\"\n",
    "os.environ[\"PATH\"] = LOCATION + \";\" + os.environ[\"PATH\"]\n",
    "cx_Oracle.init_oracle_client(lib_dir=LOCATION)\n",
    "\n",
    "connection = cx_Oracle.connect(\n",
    "    user='dw_fulfill', password='fulfillment123QWE!@#', dsn='fulfill_high'\n",
    "\n",
    ")\n",
    "cursor = connection.cursor()"
   ]
  },
  {
   "cell_type": "code",
   "execution_count": 325,
   "id": "80007fdc",
   "metadata": {},
   "outputs": [],
   "source": [
    "connection = cx_Oracle.connect(\n",
    "    user='dw_fulfill', password='fulfillment123QWE!@#', dsn='fulfill_high'\n",
    "\n",
    ")\n",
    "cursor = connection.cursor()"
   ]
  },
  {
   "cell_type": "code",
   "execution_count": 319,
   "id": "46a33a73",
   "metadata": {},
   "outputs": [],
   "source": [
    "def get_df_from_db(table_name='all_tables'):\n",
    "    \"\"\"\n",
    "    table_name 에는 해당하는 table_name만 넣으면 자동으로 pandas 데이터 프레임으로 변환해준다.\n",
    "    \"\"\"\n",
    "    rows_or = []\n",
    "    try:\n",
    "        for row_data in cursor.execute(\"select * from \" + table_name):\n",
    "            rows_or.append(list(row_data))\n",
    "        colum_num = len(list(row_data))\n",
    "    except: \n",
    "        print(\"Error -> 테이블명이 정확하지 않습니다.\")\n",
    "        raise\n",
    "    num = int(colum_num)\n",
    "    col_name = []\n",
    "    for i in range(num):\n",
    "        col_name.append('column_'+str(i))\n",
    "\n",
    "    df = pd.DataFrame(columns=col_name)\n",
    "    for idx,row in enumerate(rows_or):\n",
    "        df.loc[idx] = row\n",
    "    if table_name == 'all_tables' :\n",
    "        df = df[df['column_0'] == 'DW_FULFILL'].rename(columns={'column_1':'조회가능한_테이블명'})[['조회가능한_테이블명']]. \\\n",
    "            reset_index().drop(columns='index')\n",
    "        return df\n",
    "    else :    \n",
    "        return df"
   ]
  },
  {
   "cell_type": "code",
   "execution_count": 364,
   "id": "d44ce96b",
   "metadata": {},
   "outputs": [
    {
     "data": {
      "text/html": [
       "<div>\n",
       "<style scoped>\n",
       "    .dataframe tbody tr th:only-of-type {\n",
       "        vertical-align: middle;\n",
       "    }\n",
       "\n",
       "    .dataframe tbody tr th {\n",
       "        vertical-align: top;\n",
       "    }\n",
       "\n",
       "    .dataframe thead th {\n",
       "        text-align: right;\n",
       "    }\n",
       "</style>\n",
       "<table border=\"1\" class=\"dataframe\">\n",
       "  <thead>\n",
       "    <tr style=\"text-align: right;\">\n",
       "      <th></th>\n",
       "      <th>조회가능한_테이블명</th>\n",
       "    </tr>\n",
       "  </thead>\n",
       "  <tbody>\n",
       "    <tr>\n",
       "      <th>0</th>\n",
       "      <td>SHIPMENT_INFORMATION</td>\n",
       "    </tr>\n",
       "    <tr>\n",
       "      <th>1</th>\n",
       "      <td>MAIL_STATUS</td>\n",
       "    </tr>\n",
       "    <tr>\n",
       "      <th>2</th>\n",
       "      <td>MAIL_DETAIL</td>\n",
       "    </tr>\n",
       "    <tr>\n",
       "      <th>3</th>\n",
       "      <td>MAIL_TYPE</td>\n",
       "    </tr>\n",
       "  </tbody>\n",
       "</table>\n",
       "</div>"
      ],
      "text/plain": [
       "             조회가능한_테이블명\n",
       "0  SHIPMENT_INFORMATION\n",
       "1           MAIL_STATUS\n",
       "2           MAIL_DETAIL\n",
       "3             MAIL_TYPE"
      ]
     },
     "execution_count": 364,
     "metadata": {},
     "output_type": "execute_result"
    }
   ],
   "source": [
    "try:\n",
    "    LOCATION = r\"C:\\Users\\lms46\\Desktop\\fulfill\\instantclient_fulfill\"\n",
    "    os.environ[\"PATH\"] = LOCATION + \";\" + os.environ[\"PATH\"]\n",
    "    cx_Oracle.init_oracle_client(lib_dir=LOCATION)\n",
    "\n",
    "    connection = cx_Oracle.connect(\n",
    "        user='dw_fulfill', password='fulfillment123QWE!@#', dsn='fulfill_high'\n",
    "\n",
    "    )\n",
    "    cursor = connection.cursor()\n",
    "\n",
    "except:\n",
    "    connection = cx_Oracle.connect(\n",
    "        user='dw_fulfill', password='fulfillment123QWE!@#', dsn='fulfill_high'\n",
    "\n",
    "    )\n",
    "    cursor = connection.cursor()\n",
    "    \n",
    "get_df_from_db()"
   ]
  },
  {
   "cell_type": "code",
   "execution_count": null,
   "id": "fc2ab75d",
   "metadata": {},
   "outputs": [],
   "source": [
    "(\"ML_SUB\", \"ML_TYPE_NM\", \"STD_DAY\", \"ML_BODY\")"
   ]
  },
  {
   "cell_type": "code",
   "execution_count": 365,
   "id": "8d09e274",
   "metadata": {},
   "outputs": [
    {
     "data": {
      "text/plain": [
       "<module 'cx_Oracle' from 'C:\\\\Users\\\\lms46\\\\AppData\\\\Local\\\\Packages\\\\PythonSoftwareFoundation.Python.3.10_qbz5n2kfra8p0\\\\LocalCache\\\\local-packages\\\\Python310\\\\site-packages\\\\cx_Oracle.cp310-win_amd64.pyd'>"
      ]
     },
     "execution_count": 365,
     "metadata": {},
     "output_type": "execute_result"
    }
   ],
   "source": [
    "cx_Oracle.init_oracle_client"
   ]
  },
  {
   "cell_type": "code",
   "execution_count": 370,
   "id": "c39cef1c",
   "metadata": {},
   "outputs": [
    {
     "name": "stdout",
     "output_type": "stream",
     "text": [
      "3.10.9 (tags/v3.10.9:1dd9be6, Dec  6 2022, 20:01:21) [MSC v.1934 64 bit (AMD64)]\n"
     ]
    }
   ],
   "source": [
    "import sys\n",
    "\n",
    "print(sys.version)"
   ]
  }
 ],
 "metadata": {
  "kernelspec": {
   "display_name": "Python 3 (ipykernel)",
   "language": "python",
   "name": "python3"
  },
  "language_info": {
   "codemirror_mode": {
    "name": "ipython",
    "version": 3
   },
   "file_extension": ".py",
   "mimetype": "text/x-python",
   "name": "python",
   "nbconvert_exporter": "python",
   "pygments_lexer": "ipython3",
   "version": "3.10.9"
  }
 },
 "nbformat": 4,
 "nbformat_minor": 5
}

{
 "cells": [
  {
   "cell_type": "code",
   "execution_count": 1,
   "id": "761f032e",
   "metadata": {},
   "outputs": [],
   "source": [
    "import xlwings as xw\n",
    "import pandas as pd\n",
    "wb_cy = xw.Book('cytiva.xlsm')\n",
    "SHEET_NAMES =  ['Temp_DB', 'Shipment information', '인수증', \n",
    "'대리점송장', '대리점 출고대기', '로컬리스트', 'In-Transit part report', '기타리스트',\n",
    " '출고리스트', 'Cytiva Inventory BIN']"
   ]
  },
  {
   "cell_type": "code",
   "execution_count": 3,
   "id": "f3b353ac",
   "metadata": {},
   "outputs": [
    {
     "data": {
      "text/plain": [
       "Books([<Book [cytiva.xlsm]>])"
      ]
     },
     "execution_count": 3,
     "metadata": {},
     "output_type": "execute_result"
    }
   ],
   "source": [
    "xw.books"
   ]
  },
  {
   "cell_type": "code",
   "execution_count": 6,
   "id": "1a600a6e",
   "metadata": {},
   "outputs": [],
   "source": [
    "form = '{\"meta\": {\"desc\": \"service_part_reqeust\", \"cols\": {\"fe_name\": \"fe_이름\", \"fe_initial\": \"trunkstock_id\", \"req_day\": \"요청일\", \"req_time\": \"요청시간\", \"address\": \"주소\", \"del_met\": \"배송방법\", \"is_return\": \"왕복배송여부\", \"recipient\": \"수령인\", \"is_urgent\": \"긴급여부\", \"parts\": \"요청파트\", \"del_instruction\": \"배송요청사항\"}, \"std_day\": \"2023-01-06\"}, \"data\": [\"홍길동\", \"KR_HGD\", \"2023-01-12\", \"18:00\", \"인천 연수구 송도동 218-3 삼성바이오로직스 5공장\", \"퀵\", 0, \"홍길동\", 0, {\"28999466\": 2, \"29159123\": 1, \"15921499\": 1}, null]}'"
   ]
  },
  {
   "cell_type": "code",
   "execution_count": 7,
   "id": "e50891ae",
   "metadata": {},
   "outputs": [],
   "source": [
    "import json"
   ]
  },
  {
   "cell_type": "code",
   "execution_count": 8,
   "id": "e60bd1af",
   "metadata": {},
   "outputs": [],
   "source": [
    "dict_form = json.loads(form)"
   ]
  },
  {
   "cell_type": "code",
   "execution_count": 9,
   "id": "87fc0baa",
   "metadata": {},
   "outputs": [
    {
     "data": {
      "text/plain": [
       "{'desc': 'service_part_reqeust',\n",
       " 'cols': {'fe_name': 'fe_이름',\n",
       "  'fe_initial': 'trunkstock_id',\n",
       "  'req_day': '요청일',\n",
       "  'req_time': '요청시간',\n",
       "  'address': '주소',\n",
       "  'del_met': '배송방법',\n",
       "  'is_return': '왕복배송여부',\n",
       "  'recipient': '수령인',\n",
       "  'is_urgent': '긴급여부',\n",
       "  'parts': '요청파트',\n",
       "  'del_instruction': '배송요청사항'},\n",
       " 'std_day': '2023-01-06'}"
      ]
     },
     "execution_count": 9,
     "metadata": {},
     "output_type": "execute_result"
    }
   ],
   "source": [
    "dict_form.keys()\n",
    "dict_form['meta']"
   ]
  },
  {
   "cell_type": "code",
   "execution_count": 10,
   "id": "9d72ff21",
   "metadata": {},
   "outputs": [
    {
     "data": {
      "text/plain": [
       "['홍길동',\n",
       " 'KR_HGD',\n",
       " '2023-01-12',\n",
       " '18:00',\n",
       " '인천 연수구 송도동 218-3 삼성바이오로직스 5공장',\n",
       " '퀵',\n",
       " 0,\n",
       " '홍길동',\n",
       " 0,\n",
       " {'28999466': 2, '29159123': 1, '15921499': 1},\n",
       " None]"
      ]
     },
     "execution_count": 10,
     "metadata": {},
     "output_type": "execute_result"
    }
   ],
   "source": [
    "dict_form['data']"
   ]
  },
  {
   "cell_type": "markdown",
   "id": "86732548",
   "metadata": {},
   "source": [
    "- Index E2\n",
    "- Printed Day\tE3\n",
    "- Recipient\tB6\n",
    "- Contact\tE6\n",
    "- Request Date\tA10\n",
    "- Address\tD10\n",
    "- Deilevery Instructions\tA14\n",
    "- parts_info\tB21\n"
   ]
  },
  {
   "cell_type": "code",
   "execution_count": 11,
   "id": "3793e393",
   "metadata": {},
   "outputs": [],
   "source": [
    "wb_pf = xw.Book('print_form.xlsx')"
   ]
  },
  {
   "cell_type": "code",
   "execution_count": 14,
   "id": "4ef6c66a",
   "metadata": {},
   "outputs": [],
   "source": [
    "wb_pf.sheets[0].range(\"A1\").value"
   ]
  },
  {
   "cell_type": "markdown",
   "id": "bbeb1c30",
   "metadata": {},
   "source": [
    "## 프린트하기\n",
    "- 양식채우기"
   ]
  },
  {
   "cell_type": "code",
   "execution_count": 204,
   "id": "91bcde5b",
   "metadata": {},
   "outputs": [],
   "source": [
    "wb_cy\n",
    "ws_svc = wb_pf.sheets['SVC']\n"
   ]
  },
  {
   "cell_type": "code",
   "execution_count": 205,
   "id": "600296e7",
   "metadata": {},
   "outputs": [],
   "source": [
    "from datetime import datetime"
   ]
  },
  {
   "cell_type": "code",
   "execution_count": 111,
   "id": "07841d99",
   "metadata": {},
   "outputs": [],
   "source": [
    "now = datetime.now().strftime(\"%Y-%m-%d %H:%M:%S\")"
   ]
  },
  {
   "cell_type": "code",
   "execution_count": 86,
   "id": "9182c886",
   "metadata": {},
   "outputs": [
    {
     "data": {
      "text/plain": [
       "'2023-01-13'"
      ]
     },
     "execution_count": 86,
     "metadata": {},
     "output_type": "execute_result"
    }
   ],
   "source": [
    "str(now.date())"
   ]
  },
  {
   "cell_type": "code",
   "execution_count": 206,
   "id": "b95bec94",
   "metadata": {},
   "outputs": [
    {
     "data": {
      "text/plain": [
       "{'fe_name': '홍길동',\n",
       " 'fe_initial': 'KR_HGD',\n",
       " 'req_day': '2023-01-12',\n",
       " 'req_time': '18:00',\n",
       " 'address': '인천 연수구 송도동 218-3 삼성바이오로직스 5공장',\n",
       " 'del_met': '퀵',\n",
       " 'is_return': 0,\n",
       " 'recipient': '홍길동',\n",
       " 'is_urgent': 0,\n",
       " 'parts': {'11000322': 2, '18117251': 1, '28404190': 1},\n",
       " 'del_instruction': None,\n",
       " 'contact': '010-1234-1234'}"
      ]
     },
     "execution_count": 206,
     "metadata": {},
     "output_type": "execute_result"
    }
   ],
   "source": [
    "form_data = dict_form['data']\n",
    "form_data"
   ]
  },
  {
   "cell_type": "code",
   "execution_count": 215,
   "id": "4c1a174f",
   "metadata": {},
   "outputs": [
    {
     "data": {
      "text/plain": [
       "[2, 1, 1]"
      ]
     },
     "execution_count": 215,
     "metadata": {},
     "output_type": "execute_result"
    }
   ],
   "source": [
    "list(form_data['parts'].values())"
   ]
  },
  {
   "cell_type": "code",
   "execution_count": 240,
   "id": "8c570eba",
   "metadata": {},
   "outputs": [
    {
     "data": {
      "text/plain": [
       "0"
      ]
     },
     "execution_count": 240,
     "metadata": {},
     "output_type": "execute_result"
    }
   ],
   "source": [
    "\n",
    "is_return = form_data['is_return']\n",
    "\n",
    "if is_return == 0 :\n",
    "    is_return = None:\n",
    "else :\n",
    "    is_return = '왕복'"
   ]
  },
  {
   "cell_type": "code",
   "execution_count": null,
   "id": "109bcce8",
   "metadata": {},
   "outputs": [],
   "source": [
    "is_urgent = form_data['is_urgent']\n",
    "\n",
    "if is_urgent == 0 :\n",
    "    is_urgent = None:\n",
    "else :\n",
    "    is_urgent = '긴급'\n"
   ]
  },
  {
   "cell_type": "markdown",
   "id": "a604e0b7",
   "metadata": {},
   "source": [
    "### parts JSON\n",
    "1. part_no\n",
    "2. serial_no\n",
    "3. qty\n",
    "4. currnet_stock"
   ]
  },
  {
   "cell_type": "code",
   "execution_count": 260,
   "id": "3aac0d26",
   "metadata": {},
   "outputs": [
    {
     "data": {
      "text/html": [
       "<div>\n",
       "<style scoped>\n",
       "    .dataframe tbody tr th:only-of-type {\n",
       "        vertical-align: middle;\n",
       "    }\n",
       "\n",
       "    .dataframe tbody tr th {\n",
       "        vertical-align: top;\n",
       "    }\n",
       "\n",
       "    .dataframe thead th {\n",
       "        text-align: right;\n",
       "    }\n",
       "</style>\n",
       "<table border=\"1\" class=\"dataframe\">\n",
       "  <thead>\n",
       "    <tr style=\"text-align: right;\">\n",
       "      <th></th>\n",
       "      <th>part_no</th>\n",
       "      <th>serial_no</th>\n",
       "      <th>qty</th>\n",
       "      <th>currnet_stock</th>\n",
       "      <th>transfer_to</th>\n",
       "      <th>BIN</th>\n",
       "    </tr>\n",
       "  </thead>\n",
       "  <tbody>\n",
       "    <tr>\n",
       "      <th>0</th>\n",
       "      <td>11000322</td>\n",
       "      <td>None</td>\n",
       "      <td>2</td>\n",
       "      <td>KR_SERV01</td>\n",
       "      <td>KR_HGD</td>\n",
       "      <td>None</td>\n",
       "    </tr>\n",
       "    <tr>\n",
       "      <th>1</th>\n",
       "      <td>18117251</td>\n",
       "      <td>None</td>\n",
       "      <td>1</td>\n",
       "      <td>KR_SERV01</td>\n",
       "      <td>KR_HGD</td>\n",
       "      <td>None</td>\n",
       "    </tr>\n",
       "    <tr>\n",
       "      <th>2</th>\n",
       "      <td>28404190</td>\n",
       "      <td>None</td>\n",
       "      <td>1</td>\n",
       "      <td>KR_SERV01</td>\n",
       "      <td>KR_HGD</td>\n",
       "      <td>None</td>\n",
       "    </tr>\n",
       "  </tbody>\n",
       "</table>\n",
       "</div>"
      ],
      "text/plain": [
       "    part_no serial_no qty currnet_stock transfer_to   BIN\n",
       "0  11000322      None   2     KR_SERV01      KR_HGD  None\n",
       "1  18117251      None   1     KR_SERV01      KR_HGD  None\n",
       "2  28404190      None   1     KR_SERV01      KR_HGD  None"
      ]
     },
     "execution_count": 260,
     "metadata": {},
     "output_type": "execute_result"
    }
   ],
   "source": [
    "cols = ['part_no', 'serial_no', 'qty', 'currnet_stock','transfer_to','BIN']\n",
    "part_no = ['11000322','18117251','28404190']\n",
    "serial_no = [None,None,None]\n",
    "qty = [2,1,1]\n",
    "currnet_stock = ['KR_SERV01','KR_SERV01','KR_SERV01']\n",
    "transfer_to = ['KR_HGD','KR_HGD','KR_HGD']\n",
    "BIN= [None,None,None]\n",
    "df = pd.DataFrame([part_no,serial_no,qty,currnet_stock,transfer_to,BIN],index=cols).T\n",
    "df"
   ]
  },
  {
   "cell_type": "code",
   "execution_count": 261,
   "id": "707afd6b",
   "metadata": {},
   "outputs": [
    {
     "data": {
      "text/plain": [
       "[{'part_no': '11000322',\n",
       "  'serial_no': None,\n",
       "  'qty': 2,\n",
       "  'currnet_stock': 'KR_SERV01',\n",
       "  'transfer_to': 'KR_HGD',\n",
       "  'BIN': None},\n",
       " {'part_no': '18117251',\n",
       "  'serial_no': None,\n",
       "  'qty': 1,\n",
       "  'currnet_stock': 'KR_SERV01',\n",
       "  'transfer_to': 'KR_HGD',\n",
       "  'BIN': None},\n",
       " {'part_no': '28404190',\n",
       "  'serial_no': None,\n",
       "  'qty': 1,\n",
       "  'currnet_stock': 'KR_SERV01',\n",
       "  'transfer_to': 'KR_HGD',\n",
       "  'BIN': None}]"
      ]
     },
     "execution_count": 261,
     "metadata": {},
     "output_type": "execute_result"
    }
   ],
   "source": [
    "data=[]\n",
    "for i in range(len(part_no)):\n",
    "    tmp = zip(cols,[part_no[i],serial_no[i],qty[i],currnet_stock[i],transfer_to[i],BIN[i]])\n",
    "    data.append(dict(tmp))\n",
    "data"
   ]
  },
  {
   "cell_type": "code",
   "execution_count": 276,
   "id": "f645b496",
   "metadata": {},
   "outputs": [
    {
     "data": {
      "text/plain": [
       "'[{\"part_no\": \"11000322\", \"serial_no\": null, \"qty\": 2, \"currnet_stock\": \"KR_SERV01\", \"transfer_to\": \"KR_HGD\", \"BIN\": null}, {\"part_no\": \"18117251\", \"serial_no\": null, \"qty\": 1, \"currnet_stock\": \"KR_SERV01\", \"transfer_to\": \"KR_HGD\", \"BIN\": null}, {\"part_no\": \"28404190\", \"serial_no\": null, \"qty\": 1, \"currnet_stock\": \"KR_SERV01\", \"transfer_to\": \"KR_HGD\", \"BIN\": null}]'"
      ]
     },
     "execution_count": 276,
     "metadata": {},
     "output_type": "execute_result"
    }
   ],
   "source": [
    "json.dumps(data,ensure_ascii=False,)"
   ]
  },
  {
   "cell_type": "code",
   "execution_count": 262,
   "id": "a21bad69",
   "metadata": {},
   "outputs": [],
   "source": [
    "cols = ['part_no', 'serial_no', 'qty', 'currnet_stock','transfer_to','BIN']\n",
    "\n",
    "res =  {\n",
    "    'meta':{\n",
    "        'desc':'요청파트정보',\n",
    "        'cols':{\n",
    "            'part_no':'파트번호',\n",
    "            'serial_no':'시리얼넘버',\n",
    "            'qty':'개수',\n",
    "            'currnet_stock':'현재시스템로케이션위치',\n",
    "            'transfer_to':'Transfer해야할 시스템로케이션',\n",
    "            'BIN':'파트물리적위치'\n",
    "        }\n",
    "        \n",
    "    },\n",
    "    'parts':data\n",
    "    \n",
    "}\n",
    "\n",
    "parts = json.dumps(res,ensure_ascii=False)\n",
    "json_parts = json.loads(parts)"
   ]
  },
  {
   "cell_type": "code",
   "execution_count": null,
   "id": "e8413473",
   "metadata": {},
   "outputs": [],
   "source": []
  },
  {
   "cell_type": "code",
   "execution_count": 263,
   "id": "4096aa12",
   "metadata": {},
   "outputs": [],
   "source": [
    "df_parts = pd.DataFrame(json_parts['parts'])\n",
    "df_parts.index = df_parts.index + 1"
   ]
  },
  {
   "cell_type": "code",
   "execution_count": 264,
   "id": "7f0384ad",
   "metadata": {},
   "outputs": [
    {
     "data": {
      "text/html": [
       "<div>\n",
       "<style scoped>\n",
       "    .dataframe tbody tr th:only-of-type {\n",
       "        vertical-align: middle;\n",
       "    }\n",
       "\n",
       "    .dataframe tbody tr th {\n",
       "        vertical-align: top;\n",
       "    }\n",
       "\n",
       "    .dataframe thead th {\n",
       "        text-align: right;\n",
       "    }\n",
       "</style>\n",
       "<table border=\"1\" class=\"dataframe\">\n",
       "  <thead>\n",
       "    <tr style=\"text-align: right;\">\n",
       "      <th></th>\n",
       "      <th>part_no</th>\n",
       "      <th>serial_no</th>\n",
       "      <th>qty</th>\n",
       "      <th>currnet_stock</th>\n",
       "      <th>transfer_to</th>\n",
       "      <th>BIN</th>\n",
       "    </tr>\n",
       "  </thead>\n",
       "  <tbody>\n",
       "    <tr>\n",
       "      <th>1</th>\n",
       "      <td>11000322</td>\n",
       "      <td>None</td>\n",
       "      <td>2</td>\n",
       "      <td>KR_SERV01</td>\n",
       "      <td>KR_HGD</td>\n",
       "      <td>None</td>\n",
       "    </tr>\n",
       "    <tr>\n",
       "      <th>2</th>\n",
       "      <td>18117251</td>\n",
       "      <td>None</td>\n",
       "      <td>1</td>\n",
       "      <td>KR_SERV01</td>\n",
       "      <td>KR_HGD</td>\n",
       "      <td>None</td>\n",
       "    </tr>\n",
       "    <tr>\n",
       "      <th>3</th>\n",
       "      <td>28404190</td>\n",
       "      <td>None</td>\n",
       "      <td>1</td>\n",
       "      <td>KR_SERV01</td>\n",
       "      <td>KR_HGD</td>\n",
       "      <td>None</td>\n",
       "    </tr>\n",
       "  </tbody>\n",
       "</table>\n",
       "</div>"
      ],
      "text/plain": [
       "    part_no serial_no  qty currnet_stock transfer_to   BIN\n",
       "1  11000322      None    2     KR_SERV01      KR_HGD  None\n",
       "2  18117251      None    1     KR_SERV01      KR_HGD  None\n",
       "3  28404190      None    1     KR_SERV01      KR_HGD  None"
      ]
     },
     "execution_count": 264,
     "metadata": {},
     "output_type": "execute_result"
    }
   ],
   "source": [
    "df_parts\n",
    "## Transfer_to, BIN 컬럼이 추가적으로 필요함\n"
   ]
  },
  {
   "cell_type": "code",
   "execution_count": 265,
   "id": "9a5bc882",
   "metadata": {},
   "outputs": [
    {
     "data": {
      "text/plain": [
       "<Sheet [cytiva.xlsm]Cytiva Inventory BIN>"
      ]
     },
     "execution_count": 265,
     "metadata": {},
     "output_type": "execute_result"
    }
   ],
   "source": [
    "bin_loc = wb_cy.sheets['Cytiva Inventory BIN']\n",
    "bin_loc"
   ]
  },
  {
   "cell_type": "code",
   "execution_count": 266,
   "id": "3cc8bbee",
   "metadata": {},
   "outputs": [
    {
     "data": {
      "text/plain": [
       "4"
      ]
     },
     "execution_count": 266,
     "metadata": {},
     "output_type": "execute_result"
    }
   ],
   "source": [
    "bin_last_row = bin_loc.range('A100000').end('up').row\n",
    "bin_last_col = bin_loc.range('AAA'+str(bin_last_row)).end('left').column\n",
    "bin_last_col"
   ]
  },
  {
   "cell_type": "code",
   "execution_count": 267,
   "id": "01233da0",
   "metadata": {},
   "outputs": [],
   "source": [
    "df_bin= pd.DataFrame(bin_loc.range((2,1),(bin_last_row,bin_last_col)).options(numbers=int).value)"
   ]
  },
  {
   "cell_type": "code",
   "execution_count": 268,
   "id": "09f847b1",
   "metadata": {},
   "outputs": [],
   "source": [
    "dict_bin = dict(zip(df_bin[0].astype(str),df_bin[1]))"
   ]
  },
  {
   "cell_type": "code",
   "execution_count": 269,
   "id": "e1c22811",
   "metadata": {},
   "outputs": [],
   "source": [
    "bin_list = []\n",
    "for part_no in df_parts[df_parts.columns[0]]:\n",
    "    bin_list.append(dict_bin[part_no])"
   ]
  },
  {
   "cell_type": "code",
   "execution_count": 270,
   "id": "e3f89c28",
   "metadata": {},
   "outputs": [
    {
     "data": {
      "text/plain": [
       "['2B1702', '2C1803', '2B1804']"
      ]
     },
     "execution_count": 270,
     "metadata": {},
     "output_type": "execute_result"
    }
   ],
   "source": [
    "bin_list"
   ]
  },
  {
   "cell_type": "code",
   "execution_count": 271,
   "id": "ef7260a3",
   "metadata": {},
   "outputs": [],
   "source": [
    "df_parts['BIN'] = bin_list"
   ]
  },
  {
   "cell_type": "code",
   "execution_count": 272,
   "id": "b9ed9282",
   "metadata": {},
   "outputs": [
    {
     "data": {
      "text/html": [
       "<div>\n",
       "<style scoped>\n",
       "    .dataframe tbody tr th:only-of-type {\n",
       "        vertical-align: middle;\n",
       "    }\n",
       "\n",
       "    .dataframe tbody tr th {\n",
       "        vertical-align: top;\n",
       "    }\n",
       "\n",
       "    .dataframe thead th {\n",
       "        text-align: right;\n",
       "    }\n",
       "</style>\n",
       "<table border=\"1\" class=\"dataframe\">\n",
       "  <thead>\n",
       "    <tr style=\"text-align: right;\">\n",
       "      <th></th>\n",
       "      <th>part_no</th>\n",
       "      <th>serial_no</th>\n",
       "      <th>qty</th>\n",
       "      <th>currnet_stock</th>\n",
       "      <th>transfer_to</th>\n",
       "      <th>BIN</th>\n",
       "    </tr>\n",
       "  </thead>\n",
       "  <tbody>\n",
       "    <tr>\n",
       "      <th>1</th>\n",
       "      <td>11000322</td>\n",
       "      <td>None</td>\n",
       "      <td>2</td>\n",
       "      <td>KR_SERV01</td>\n",
       "      <td>KR_HGD</td>\n",
       "      <td>2B1702</td>\n",
       "    </tr>\n",
       "    <tr>\n",
       "      <th>2</th>\n",
       "      <td>18117251</td>\n",
       "      <td>None</td>\n",
       "      <td>1</td>\n",
       "      <td>KR_SERV01</td>\n",
       "      <td>KR_HGD</td>\n",
       "      <td>2C1803</td>\n",
       "    </tr>\n",
       "    <tr>\n",
       "      <th>3</th>\n",
       "      <td>28404190</td>\n",
       "      <td>None</td>\n",
       "      <td>1</td>\n",
       "      <td>KR_SERV01</td>\n",
       "      <td>KR_HGD</td>\n",
       "      <td>2B1804</td>\n",
       "    </tr>\n",
       "  </tbody>\n",
       "</table>\n",
       "</div>"
      ],
      "text/plain": [
       "    part_no serial_no  qty currnet_stock transfer_to     BIN\n",
       "1  11000322      None    2     KR_SERV01      KR_HGD  2B1702\n",
       "2  18117251      None    1     KR_SERV01      KR_HGD  2C1803\n",
       "3  28404190      None    1     KR_SERV01      KR_HGD  2B1804"
      ]
     },
     "execution_count": 272,
     "metadata": {},
     "output_type": "execute_result"
    }
   ],
   "source": [
    "df_parts"
   ]
  },
  {
   "cell_type": "code",
   "execution_count": 259,
   "id": "ed8efa70",
   "metadata": {},
   "outputs": [],
   "source": [
    "# Index\n",
    "# 요청출고의 인덱스번호로결정 1 로가정\n",
    "ws_svc.range('E2').value = 1\n",
    "# Printed Day E3\n",
    "ws_svc.range('E3').value = now\n",
    "# Delievery Type E5\n",
    "is_return = form_data['is_return']\n",
    "if is_return == 0 :\n",
    "    is_return = None\n",
    "else :\n",
    "    is_return = '왕복'\n",
    "ws_svc.range('E5').value = is_return\n",
    "ws_svc.range('E3').value = now\n",
    "# Recipient B6\n",
    "ws_svc.range('B6').value = form_data['recipient']\n",
    "# Contact E6\n",
    "ws_svc.range('E6').value = form_data['contact']\n",
    "# Request day A10\n",
    "ws_svc.range('A10').value  = form_data['req_day']\n",
    "# request hour A11\n",
    "ws_svc.range('A11').value  = form_data['req_time']\n",
    "# Address D10\n",
    "ws_svc.range('D10').value = form_data['address']\n",
    "# Deilevery Instructions A14\n",
    "ws_svc.range('A14').value = form_data['del_instruction']\n",
    "# parts_info A20\n",
    "ws_svc.range('A20').value = df_parts\n",
    "\n",
    "# Depart From B41\n",
    "ws_svc.range('B41').value = '서울시 강서구 하늘길 247 3층 C구역'\n",
    "# TEL B42\n",
    "ws_svc.range('B42').value = '02-2660-3767'\n",
    "# Phone B43\n",
    "ws_svc.range('B43').value = '담당자 폰번호'\n",
    "# URGENT E41\n",
    "is_urgent = form_data['is_urgent']\n",
    "if is_urgent == 0 :\n",
    "    is_urgent = None       \n",
    "else :\n",
    "    is_urgent = '긴급' \n",
    "ws_svc.range('E41').value = is_urgent"
   ]
  },
  {
   "cell_type": "code",
   "execution_count": 289,
   "id": "2ee1521d",
   "metadata": {},
   "outputs": [],
   "source": [
    "import win32com.client as cli"
   ]
  },
  {
   "cell_type": "code",
   "execution_count": 300,
   "id": "17765595",
   "metadata": {},
   "outputs": [
    {
     "name": "stdout",
     "output_type": "stream",
     "text": [
      "SVC_20230114_CCH_noturgent\n"
     ]
    }
   ],
   "source": [
    "outlook = cli.Dispatch(\"Outlook.Application\").GetNamespace(\"MAPI\") # 아웃룩\n",
    "inbox = outlook.GetDefaultFolder(6) # 받은편지함\n",
    "msg = inbox.Items #메세지 정보\n",
    "msg_counter = msg.count # 총갯수\n",
    "\n",
    "part_request = []\n",
    "for ms in inbox.Items:\n",
    "    if 'SVC' in ms.Subject:\n",
    "        print(ms.Subject)\n",
    "        part_request.append(ms)"
   ]
  },
  {
   "cell_type": "code",
   "execution_count": 299,
   "id": "d3a6aec1",
   "metadata": {},
   "outputs": [
    {
     "data": {
      "text/html": [
       "<div>\n",
       "<style scoped>\n",
       "    .dataframe tbody tr th:only-of-type {\n",
       "        vertical-align: middle;\n",
       "    }\n",
       "\n",
       "    .dataframe tbody tr th {\n",
       "        vertical-align: top;\n",
       "    }\n",
       "\n",
       "    .dataframe thead th {\n",
       "        text-align: right;\n",
       "    }\n",
       "</style>\n",
       "<table border=\"1\" class=\"dataframe\">\n",
       "  <thead>\n",
       "    <tr style=\"text-align: right;\">\n",
       "      <th></th>\n",
       "      <th>part_no</th>\n",
       "      <th>serial_no</th>\n",
       "      <th>qty</th>\n",
       "      <th>currnet_stock</th>\n",
       "      <th>transfer_to</th>\n",
       "      <th>BIN</th>\n",
       "    </tr>\n",
       "  </thead>\n",
       "  <tbody>\n",
       "    <tr>\n",
       "      <th>0</th>\n",
       "      <td>11000322</td>\n",
       "      <td>None</td>\n",
       "      <td>2</td>\n",
       "      <td>KR_SERV01</td>\n",
       "      <td>KR_HGD</td>\n",
       "      <td>None</td>\n",
       "    </tr>\n",
       "    <tr>\n",
       "      <th>1</th>\n",
       "      <td>18117251</td>\n",
       "      <td>None</td>\n",
       "      <td>1</td>\n",
       "      <td>KR_SERV01</td>\n",
       "      <td>KR_HGD</td>\n",
       "      <td>None</td>\n",
       "    </tr>\n",
       "    <tr>\n",
       "      <th>2</th>\n",
       "      <td>28404190</td>\n",
       "      <td>None</td>\n",
       "      <td>1</td>\n",
       "      <td>KR_SERV01</td>\n",
       "      <td>KR_CCH</td>\n",
       "      <td>None</td>\n",
       "    </tr>\n",
       "  </tbody>\n",
       "</table>\n",
       "</div>"
      ],
      "text/plain": [
       "    part_no serial_no  qty currnet_stock transfer_to   BIN\n",
       "0  11000322      None    2     KR_SERV01      KR_HGD  None\n",
       "1  18117251      None    1     KR_SERV01      KR_HGD  None\n",
       "2  28404190      None    1     KR_SERV01      KR_CCH  None"
      ]
     },
     "execution_count": 299,
     "metadata": {},
     "output_type": "execute_result"
    }
   ],
   "source": [
    "body_exam = part_request[0].Body\n",
    "body = body_exam[:body_exam.rfind('}')+1]\n",
    "body\n",
    "json_body = json.loads(body)\n",
    "\n",
    "json_body.keys()\n",
    "\n",
    "form_data= json_body['data']\n",
    "df_parts = pd.DataFrame(form_data['parts'])\n",
    "df_parts"
   ]
  },
  {
   "cell_type": "code",
   "execution_count": 302,
   "id": "baa39080",
   "metadata": {},
   "outputs": [
    {
     "data": {
      "text/plain": [
       "'인천 연수구 송도동 218-3 삼성바이오로직스 5공장'"
      ]
     },
     "execution_count": 302,
     "metadata": {},
     "output_type": "execute_result"
    }
   ],
   "source": [
    "dict_data"
   ]
  },
  {
   "cell_type": "code",
   "execution_count": 310,
   "id": "87a55af8",
   "metadata": {},
   "outputs": [],
   "source": [
    "df_parts = pd.DataFrame(dict_data['parts'])\n"
   ]
  },
  {
   "cell_type": "code",
   "execution_count": 333,
   "id": "8b25b974",
   "metadata": {},
   "outputs": [
    {
     "data": {
      "text/plain": [
       "'SVC_20230114_CCH_noturgent_prfm'"
      ]
     },
     "execution_count": 333,
     "metadata": {},
     "output_type": "execute_result"
    }
   ],
   "source": [
    "part_request[0].Subject+'_prfm'"
   ]
  },
  {
   "cell_type": "code",
   "execution_count": 334,
   "id": "bfddf3d1",
   "metadata": {},
   "outputs": [],
   "source": [
    "def print_form(subject=None):\n",
    "    \"\"\"\n",
    "    \"\"\"\n",
    "       \n",
    "    wb_pf = xw.Book('print_form.xlsx')\n",
    "    ws_svc = wb_pf.sheets['SVC']\n",
    "    \n",
    "    outlook = cli.Dispatch(\"Outlook.Application\").GetNamespace(\"MAPI\") # 아웃룩\n",
    "    inbox = outlook.GetDefaultFolder(6) # 받은편지함\n",
    "    \n",
    "    \n",
    "    part_request = []\n",
    "    for ms in inbox.Items:\n",
    "        if subject in ms.Subject:\n",
    "            part_request.append(ms)\n",
    "            \n",
    "    \n",
    "    if 'SVC' in part_request[0].Subject:\n",
    "    \n",
    "\n",
    "        body_exam = part_request[0].Body\n",
    "        body = body_exam[:body_exam.rfind('}')+1]\n",
    "        body\n",
    "        json_body = json.loads(body)\n",
    "\n",
    "        json_body.keys()\n",
    "\n",
    "        form_data= json_body['data']\n",
    "        df_parts = pd.DataFrame(form_data['parts'])\n",
    "        df_parts\n",
    "        # Index\n",
    "\n",
    "        ws_svc.range('B21:H40').clear_contents()\n",
    "\n",
    "\n",
    "        # 요청출고의 인덱스번호로결정 1 로가정\n",
    "        ws_svc.range('E2').value = 1\n",
    "        # Printed Day E3\n",
    "        ws_svc.range('E3').value = now\n",
    "        # Delievery Type E5\n",
    "        is_return = form_data['is_return']\n",
    "        if is_return == 0 :\n",
    "            is_return = None\n",
    "        else :\n",
    "            is_return = '왕복'\n",
    "        ws_svc.range('E5').value = is_return\n",
    "        ws_svc.range('E3').value = now\n",
    "        # Recipient B6\n",
    "        ws_svc.range('B6').value = form_data['recipient']\n",
    "        # Contact E6\n",
    "        ws_svc.range('E6').value = form_data['contact']\n",
    "        # Request day A10\n",
    "        ws_svc.range('A10').value  = form_data['req_day']\n",
    "        # request hour A11\n",
    "        ws_svc.range('A11').value  = form_data['req_time']\n",
    "        # Address D10\n",
    "        ws_svc.range('D10').value = form_data['address']\n",
    "        # Deilevery Instructions A14\n",
    "        ws_svc.range('A14').value = form_data['del_instruction']\n",
    "        # parts_info A20\n",
    "        ws_svc.range('A20').value = df_parts\n",
    "        # Depart From B41\n",
    "        ws_svc.range('B41').value = '서울시 강서구 하늘길 247 3층 C구역'\n",
    "        # TEL B42\n",
    "        ws_svc.range('B42').value = '02-2660-3767'\n",
    "        # Phone B43\n",
    "        ws_svc.range('B43').value = '담당자 폰번호'\n",
    "        # URGENT E41\n",
    "        is_urgent = form_data['is_urgent']\n",
    "        if is_urgent == 0 :\n",
    "            is_urgent = None       \n",
    "        else :\n",
    "            is_urgent = '긴급' \n",
    "        ws_svc.range('E41').value = is_urgent\n",
    "\n",
    "\n"
   ]
  },
  {
   "cell_type": "code",
   "execution_count": 322,
   "id": "d262df84",
   "metadata": {},
   "outputs": [],
   "source": [
    "print_form()"
   ]
  },
  {
   "cell_type": "code",
   "execution_count": null,
   "id": "ac9fb45b",
   "metadata": {},
   "outputs": [],
   "source": []
  },
  {
   "cell_type": "code",
   "execution_count": null,
   "id": "8818f2a9",
   "metadata": {},
   "outputs": [],
   "source": []
  }
 ],
 "metadata": {
  "kernelspec": {
   "display_name": "Python 3 (ipykernel)",
   "language": "python",
   "name": "python3"
  },
  "language_info": {
   "codemirror_mode": {
    "name": "ipython",
    "version": 3
   },
   "file_extension": ".py",
   "mimetype": "text/x-python",
   "name": "python",
   "nbconvert_exporter": "python",
   "pygments_lexer": "ipython3",
   "version": "3.10.9"
  }
 },
 "nbformat": 4,
 "nbformat_minor": 5
}

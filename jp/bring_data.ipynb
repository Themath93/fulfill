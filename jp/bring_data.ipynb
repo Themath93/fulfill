{
 "cells": [
  {
   "cell_type": "code",
   "execution_count": 1,
   "id": "b9fb45ba",
   "metadata": {},
   "outputs": [],
   "source": [
    "import cx_Oracle\n",
    "import os\n",
    "import pandas as pd\n",
    "#!pip insall cx_Oracle\n",
    "import xlwings as xw\n",
    "import pandas as pd\n",
    "wb_cy = xw.Book('cytiva.xlsm')\n",
    "SHEET_NAMES =  ['Temp_DB', 'Shipment information', '인수증', \n",
    "'대리점송장', '대리점 출고대기', '로컬리스트', 'In-Transit part report', '기타리스트',\n",
    " '출고리스트', 'Cytiva Inventory BIN']\n",
    "LOCATION = r\"C:\\Users\\lms46\\Desktop\\fulfill\\instantclient_fulfill\"\n",
    "os.environ[\"PATH\"] = LOCATION + \";\" + os.environ[\"PATH\"]\n",
    "cx_Oracle.init_oracle_client(lib_dir=LOCATION)\n",
    "\n",
    "connection = cx_Oracle.connect(\n",
    "    user='dw_fulfill', password='fulfillment123QWE!@#', dsn='fulfill_high'\n",
    "\n",
    ")\n",
    "cursor = connection.cursor()"
   ]
  },
  {
   "cell_type": "code",
   "execution_count": 2,
   "id": "a459f089",
   "metadata": {},
   "outputs": [],
   "source": [
    "sel_sth = wb_cy.selection.sheet"
   ]
  },
  {
   "cell_type": "code",
   "execution_count": 5,
   "id": "d720edc9",
   "metadata": {},
   "outputs": [],
   "source": [
    "# 필터 on 기능 edit_mode 해제후 필터링 할 때 다시 edit_mode로 돌아가 필터기능 켜기 방지\n",
    "last_col = sel_sth.range(\"XFD9\").end('left').column\n",
    "filter_range = sel_sth.range((9,1),(9,last_col))\n",
    "filter_range.api.AutoFilter(Field=1)"
   ]
  },
  {
   "cell_type": "code",
   "execution_count": 10,
   "id": "9f4ea8a1",
   "metadata": {},
   "outputs": [
    {
     "data": {
      "text/plain": [
       "True"
      ]
     },
     "execution_count": 10,
     "metadata": {},
     "output_type": "execute_result"
    }
   ],
   "source": []
  },
  {
   "cell_type": "code",
   "execution_count": 4,
   "id": "376e5835",
   "metadata": {},
   "outputs": [],
   "source": [
    "sel_sth.api.AutoFilterMode = False"
   ]
  }
 ],
 "metadata": {
  "kernelspec": {
   "display_name": "Python 3 (ipykernel)",
   "language": "python",
   "name": "python3"
  },
  "language_info": {
   "codemirror_mode": {
    "name": "ipython",
    "version": 3
   },
   "file_extension": ".py",
   "mimetype": "text/x-python",
   "name": "python",
   "nbconvert_exporter": "python",
   "pygments_lexer": "ipython3",
   "version": "3.10.10"
  }
 },
 "nbformat": 4,
 "nbformat_minor": 5
}

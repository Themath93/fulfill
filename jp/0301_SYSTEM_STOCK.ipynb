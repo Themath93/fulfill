{
 "cells": [
  {
   "cell_type": "code",
   "execution_count": 1,
   "id": "9f5c8a79",
   "metadata": {},
   "outputs": [],
   "source": [
    "import cx_Oracle\n",
    "import os\n",
    "import pandas as pd\n",
    "import xlwings as xw\n",
    "import json\n",
    "import datetime as dt\n",
    "wb_cy = xw.Book('cytiva.xlsm')\n",
    "SHEET_NAMES =  ['Temp_DB', 'Shipment information', '인수증', \n",
    "'대리점송장', '대리점 출고대기', '로컬리스트', 'In-Transit part report', '기타리스트',\n",
    " '출고리스트', 'Cytiva Inventory BIN']\n",
    "LOCATION = r\"C:\\Users\\lms46\\Desktop\\fulfill\\instantclient_fulfill\"\n",
    "os.environ[\"PATH\"] = LOCATION + \";\" + os.environ[\"PATH\"]\n",
    "cx_Oracle.init_oracle_client(lib_dir=LOCATION)\n",
    "\n",
    "connection = cx_Oracle.connect(\n",
    "    user='dw_fulfill', password='fulfillment123QWE!@#', dsn='fulfill_high'\n",
    "\n",
    ")\n",
    "cursor = connection.cursor()"
   ]
  },
  {
   "cell_type": "code",
   "execution_count": 25,
   "id": "5f46ab25",
   "metadata": {},
   "outputs": [],
   "source": [
    "std_day = str(dt.datetime.now()).split(' ')[0]"
   ]
  },
  {
   "cell_type": "code",
   "execution_count": 4,
   "id": "ced10afa",
   "metadata": {},
   "outputs": [],
   "source": [
    "my_date_handler = lambda year, month, day, **kwargs: \"%04i-%02i-%02i\" % (year, month, day)"
   ]
  },
  {
   "cell_type": "code",
   "execution_count": 16,
   "id": "05c4f15f",
   "metadata": {},
   "outputs": [],
   "source": [
    "ws_stock = wb_cy.sheets['재고리스트']\n",
    "last_row = ws_stock.range('A1048576').end('up').row\n",
    "last_col = ws_stock.range('XFD1').end('left').column\n",
    "col_names = ws_stock.range((1,1),(1,last_col)).value\n",
    "for idx,name in enumerate(col_names):\n",
    "    col_names[idx] = name.replace(' ','_')\n",
    "tb_rng_val = ws_stock.range((2,1),(last_row,last_col)).options(numbers=int, dates=my_date_handler).value\n",
    "df_stock = pd.DataFrame(tb_rng_val,columns=col_names)"
   ]
  },
  {
   "cell_type": "code",
   "execution_count": 30,
   "id": "0a5f542e",
   "metadata": {
    "scrolled": false
   },
   "outputs": [
    {
     "data": {
      "text/plain": [
       "ARTICLE_NUMBER     object\n",
       "SUBINVENTORY       object\n",
       "LOCATION           object\n",
       "QUANTITY            int64\n",
       "IN_DATE            object\n",
       "EXPIRY_DATE        object\n",
       "CURRENCY           object\n",
       "LOT_COST            int64\n",
       "LOT_COST_IN_USD     int64\n",
       "STD_DAY            object\n",
       "dtype: object"
      ]
     },
     "execution_count": 30,
     "metadata": {},
     "output_type": "execute_result"
    }
   ],
   "source": [
    "df_stock = df_stock[db_cols[:-1]]\n",
    "df_stock['STD_DAY']= std_day\n",
    "df_stock = df_stock.fillna('')\n",
    "df_stock.dtypes"
   ]
  },
  {
   "cell_type": "code",
   "execution_count": 38,
   "id": "0c0cb1d1",
   "metadata": {},
   "outputs": [],
   "source": [
    "df_stock.insert(0,'SS_KEY','')\n"
   ]
  },
  {
   "cell_type": "code",
   "execution_count": 39,
   "id": "1bc449da",
   "metadata": {},
   "outputs": [
    {
     "data": {
      "text/html": [
       "<div>\n",
       "<style scoped>\n",
       "    .dataframe tbody tr th:only-of-type {\n",
       "        vertical-align: middle;\n",
       "    }\n",
       "\n",
       "    .dataframe tbody tr th {\n",
       "        vertical-align: top;\n",
       "    }\n",
       "\n",
       "    .dataframe thead th {\n",
       "        text-align: right;\n",
       "    }\n",
       "</style>\n",
       "<table border=\"1\" class=\"dataframe\">\n",
       "  <thead>\n",
       "    <tr style=\"text-align: right;\">\n",
       "      <th></th>\n",
       "      <th>SS_KEY</th>\n",
       "      <th>ARTICLE_NUMBER</th>\n",
       "      <th>SUBINVENTORY</th>\n",
       "      <th>LOCATION</th>\n",
       "      <th>QUANTITY</th>\n",
       "      <th>IN_DATE</th>\n",
       "      <th>EXPIRY_DATE</th>\n",
       "      <th>CURRENCY</th>\n",
       "      <th>LOT_COST</th>\n",
       "      <th>LOT_COST_IN_USD</th>\n",
       "      <th>STD_DAY</th>\n",
       "    </tr>\n",
       "  </thead>\n",
       "  <tbody>\n",
       "    <tr>\n",
       "      <th>0</th>\n",
       "      <td></td>\n",
       "      <td>11000314</td>\n",
       "      <td>KR_SERV01</td>\n",
       "      <td></td>\n",
       "      <td>1</td>\n",
       "      <td>2022-12-05</td>\n",
       "      <td></td>\n",
       "      <td>KRW</td>\n",
       "      <td>2291234</td>\n",
       "      <td>1817</td>\n",
       "      <td>2023-03-01</td>\n",
       "    </tr>\n",
       "    <tr>\n",
       "      <th>1</th>\n",
       "      <td></td>\n",
       "      <td>11000322</td>\n",
       "      <td>KR_CSW</td>\n",
       "      <td></td>\n",
       "      <td>1</td>\n",
       "      <td>2023-01-05</td>\n",
       "      <td></td>\n",
       "      <td>KRW</td>\n",
       "      <td>175786</td>\n",
       "      <td>139</td>\n",
       "      <td>2023-03-01</td>\n",
       "    </tr>\n",
       "    <tr>\n",
       "      <th>2</th>\n",
       "      <td></td>\n",
       "      <td>11000322</td>\n",
       "      <td>KR_SERV01</td>\n",
       "      <td></td>\n",
       "      <td>1</td>\n",
       "      <td>2022-08-07</td>\n",
       "      <td></td>\n",
       "      <td>KRW</td>\n",
       "      <td>175786</td>\n",
       "      <td>139</td>\n",
       "      <td>2023-03-01</td>\n",
       "    </tr>\n",
       "    <tr>\n",
       "      <th>3</th>\n",
       "      <td></td>\n",
       "      <td>11000735</td>\n",
       "      <td>KR_SERV01</td>\n",
       "      <td></td>\n",
       "      <td>1</td>\n",
       "      <td>2022-12-12</td>\n",
       "      <td></td>\n",
       "      <td>KRW</td>\n",
       "      <td>420510</td>\n",
       "      <td>333</td>\n",
       "      <td>2023-03-01</td>\n",
       "    </tr>\n",
       "    <tr>\n",
       "      <th>4</th>\n",
       "      <td></td>\n",
       "      <td>11000735</td>\n",
       "      <td>KR_SERV01</td>\n",
       "      <td></td>\n",
       "      <td>1</td>\n",
       "      <td>2022-12-12</td>\n",
       "      <td></td>\n",
       "      <td>KRW</td>\n",
       "      <td>420510</td>\n",
       "      <td>333</td>\n",
       "      <td>2023-03-01</td>\n",
       "    </tr>\n",
       "    <tr>\n",
       "      <th>...</th>\n",
       "      <td>...</td>\n",
       "      <td>...</td>\n",
       "      <td>...</td>\n",
       "      <td>...</td>\n",
       "      <td>...</td>\n",
       "      <td>...</td>\n",
       "      <td>...</td>\n",
       "      <td>...</td>\n",
       "      <td>...</td>\n",
       "      <td>...</td>\n",
       "      <td>...</td>\n",
       "    </tr>\n",
       "    <tr>\n",
       "      <th>1660</th>\n",
       "      <td></td>\n",
       "      <td>82000250</td>\n",
       "      <td>KR_LOCN02</td>\n",
       "      <td></td>\n",
       "      <td>1</td>\n",
       "      <td>2022-12-05</td>\n",
       "      <td></td>\n",
       "      <td>KRW</td>\n",
       "      <td>2500000</td>\n",
       "      <td>1982</td>\n",
       "      <td>2023-03-01</td>\n",
       "    </tr>\n",
       "    <tr>\n",
       "      <th>1661</th>\n",
       "      <td></td>\n",
       "      <td>82000250</td>\n",
       "      <td>KR_LOCN02</td>\n",
       "      <td></td>\n",
       "      <td>1</td>\n",
       "      <td>2022-12-05</td>\n",
       "      <td></td>\n",
       "      <td>KRW</td>\n",
       "      <td>2500000</td>\n",
       "      <td>1982</td>\n",
       "      <td>2023-03-01</td>\n",
       "    </tr>\n",
       "    <tr>\n",
       "      <th>1662</th>\n",
       "      <td></td>\n",
       "      <td>TBA_30001</td>\n",
       "      <td>KR_DEMO</td>\n",
       "      <td>NULL.0.0.0.KR</td>\n",
       "      <td>1</td>\n",
       "      <td>2019-06-21</td>\n",
       "      <td></td>\n",
       "      <td>KRW</td>\n",
       "      <td>15036302</td>\n",
       "      <td>11924</td>\n",
       "      <td>2023-03-01</td>\n",
       "    </tr>\n",
       "    <tr>\n",
       "      <th>1663</th>\n",
       "      <td></td>\n",
       "      <td>VFD_30006</td>\n",
       "      <td>KR_DEMO</td>\n",
       "      <td>NULL.0.0.0.KR</td>\n",
       "      <td>1</td>\n",
       "      <td>2021-06-22</td>\n",
       "      <td></td>\n",
       "      <td>KRW</td>\n",
       "      <td>43671244</td>\n",
       "      <td>34631</td>\n",
       "      <td>2023-03-01</td>\n",
       "    </tr>\n",
       "    <tr>\n",
       "      <th>1664</th>\n",
       "      <td></td>\n",
       "      <td>VF_30001</td>\n",
       "      <td>KR_DEMO</td>\n",
       "      <td>NULL.0.0.0.KR</td>\n",
       "      <td>1</td>\n",
       "      <td>2018-05-30</td>\n",
       "      <td></td>\n",
       "      <td>KRW</td>\n",
       "      <td>27497449</td>\n",
       "      <td>21805</td>\n",
       "      <td>2023-03-01</td>\n",
       "    </tr>\n",
       "  </tbody>\n",
       "</table>\n",
       "<p>1665 rows × 11 columns</p>\n",
       "</div>"
      ],
      "text/plain": [
       "     SS_KEY ARTICLE_NUMBER SUBINVENTORY       LOCATION  QUANTITY     IN_DATE  \\\n",
       "0                 11000314    KR_SERV01                        1  2022-12-05   \n",
       "1                 11000322       KR_CSW                        1  2023-01-05   \n",
       "2                 11000322    KR_SERV01                        1  2022-08-07   \n",
       "3                 11000735    KR_SERV01                        1  2022-12-12   \n",
       "4                 11000735    KR_SERV01                        1  2022-12-12   \n",
       "...     ...            ...          ...            ...       ...         ...   \n",
       "1660              82000250    KR_LOCN02                        1  2022-12-05   \n",
       "1661              82000250    KR_LOCN02                        1  2022-12-05   \n",
       "1662             TBA_30001      KR_DEMO  NULL.0.0.0.KR         1  2019-06-21   \n",
       "1663             VFD_30006      KR_DEMO  NULL.0.0.0.KR         1  2021-06-22   \n",
       "1664              VF_30001      KR_DEMO  NULL.0.0.0.KR         1  2018-05-30   \n",
       "\n",
       "     EXPIRY_DATE CURRENCY  LOT_COST  LOT_COST_IN_USD     STD_DAY  \n",
       "0                     KRW   2291234             1817  2023-03-01  \n",
       "1                     KRW    175786              139  2023-03-01  \n",
       "2                     KRW    175786              139  2023-03-01  \n",
       "3                     KRW    420510              333  2023-03-01  \n",
       "4                     KRW    420510              333  2023-03-01  \n",
       "...          ...      ...       ...              ...         ...  \n",
       "1660                  KRW   2500000             1982  2023-03-01  \n",
       "1661                  KRW   2500000             1982  2023-03-01  \n",
       "1662                  KRW  15036302            11924  2023-03-01  \n",
       "1663                  KRW  43671244            34631  2023-03-01  \n",
       "1664                  KRW  27497449            21805  2023-03-01  \n",
       "\n",
       "[1665 rows x 11 columns]"
      ]
     },
     "execution_count": 39,
     "metadata": {},
     "output_type": "execute_result"
    }
   ],
   "source": [
    "df_stock"
   ]
  },
  {
   "cell_type": "code",
   "execution_count": 33,
   "id": "b7d30c1e",
   "metadata": {},
   "outputs": [
    {
     "data": {
      "text/plain": [
       "10"
      ]
     },
     "execution_count": 33,
     "metadata": {},
     "output_type": "execute_result"
    }
   ],
   "source": [
    "len(df_stock.columns)"
   ]
  },
  {
   "cell_type": "code",
   "execution_count": 14,
   "id": "d726150d",
   "metadata": {},
   "outputs": [],
   "source": [
    "db_cols = ['ARTICLE_NUMBER', 'SUBINVENTORY', 'LOCATION', 'QUANTITY', 'IN_DATE', 'EXPIRY_DATE', 'CURRENCY', 'LOT_COST', 'LOT_COST_IN_USD', 'STD_DAY']"
   ]
  },
  {
   "cell_type": "code",
   "execution_count": 11,
   "id": "d0e7c2e5",
   "metadata": {},
   "outputs": [
    {
     "data": {
      "text/plain": [
       "['OU NAME',\n",
       " 'COUNTRY',\n",
       " 'PROD CENTRE',\n",
       " 'PROD GROUP',\n",
       " 'ARTICLE NUMBER',\n",
       " 'DESCRIPTION',\n",
       " 'PROD STATUS TYPE',\n",
       " 'LOT NUMBER',\n",
       " 'SERIAL NUMBER',\n",
       " 'SUBINVENTORY',\n",
       " 'LOCATION',\n",
       " 'QUANTITY',\n",
       " 'IN DATE',\n",
       " 'EXPIRY DATE',\n",
       " 'CURRENCY',\n",
       " 'LOT COST',\n",
       " 'LOT COST IN USD',\n",
       " 'LOT COST IN EUR']"
      ]
     },
     "execution_count": 11,
     "metadata": {},
     "output_type": "execute_result"
    }
   ],
   "source": [
    "for idx,name in enumerate(col_names):\n",
    "    col_names[idx] = name.replace(' ','_')"
   ]
  }
 ],
 "metadata": {
  "kernelspec": {
   "display_name": "Python 3 (ipykernel)",
   "language": "python",
   "name": "python3"
  },
  "language_info": {
   "codemirror_mode": {
    "name": "ipython",
    "version": 3
   },
   "file_extension": ".py",
   "mimetype": "text/x-python",
   "name": "python",
   "nbconvert_exporter": "python",
   "pygments_lexer": "ipython3",
   "version": "3.10.10"
  }
 },
 "nbformat": 4,
 "nbformat_minor": 5
}

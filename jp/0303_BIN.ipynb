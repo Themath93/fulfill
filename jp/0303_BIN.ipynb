{
 "cells": [
  {
   "cell_type": "code",
   "execution_count": 1,
   "id": "78c2ffde",
   "metadata": {},
   "outputs": [],
   "source": [
    "import cx_Oracle\n",
    "import os\n",
    "import pandas as pd\n",
    "import xlwings as xw\n",
    "import json\n",
    "import datetime as dt\n",
    "my_date_handler = lambda year, month, day, **kwargs: \"%04i-%02i-%02i\" % (year, month, day)\n",
    "wb_cy = xw.Book('cytiva.xlsm')\n",
    "SHEET_NAMES =  ['Temp_DB', 'Shipment information', '인수증', \n",
    "'대리점송장', '대리점 출고대기', '로컬리스트', 'In-Transit part report', '기타리스트',\n",
    " '출고리스트', 'Cytiva Inventory BIN']\n",
    "LOCATION = r\"C:\\Users\\lms46\\Desktop\\fulfill\\instantclient_fulfill\"\n",
    "os.environ[\"PATH\"] = LOCATION + \";\" + os.environ[\"PATH\"]\n",
    "cx_Oracle.init_oracle_client(lib_dir=LOCATION)\n",
    "\n",
    "connection = cx_Oracle.connect(\n",
    "    user='dw_fulfill', password='fulfillment123QWE!@#', dsn='fulfill_high'\n",
    "\n",
    ")\n",
    "cursor = connection.cursor()\n"
   ]
  },
  {
   "cell_type": "code",
   "execution_count": 4,
   "id": "a35d8c90",
   "metadata": {},
   "outputs": [],
   "source": [
    "sel_sht = wb_cy.selection.sheet\n",
    "last_col = sel_sht.range('XFD9').end('left').column\n",
    "last_row = sel_sht.range('A1048576').end('up').row"
   ]
  },
  {
   "cell_type": "code",
   "execution_count": 27,
   "id": "43992089",
   "metadata": {},
   "outputs": [],
   "source": [
    "col_names = sel_sht.range((9,1),(9,last_col)).value\n",
    "col_names\n",
    "tb_rng = sel_sht.range((10,1),(last_row,last_col)).options(numbers=lambda e: str(int(e)),date=my_date_handler).value"
   ]
  },
  {
   "cell_type": "code",
   "execution_count": 28,
   "id": "41a3b91e",
   "metadata": {},
   "outputs": [],
   "source": [
    "df_bin = pd.DataFrame(tb_rng,columns=col_names)\n",
    "df_bin['BIN_INDEX']=None\n",
    "# df_bin.set_index('BIN_INDEX',inplace=True)"
   ]
  },
  {
   "cell_type": "code",
   "execution_count": 29,
   "id": "f3b622ae",
   "metadata": {},
   "outputs": [],
   "source": [
    "df_bin = df_bin.fillna('')\n",
    "df_bin.set_index('BIN_INDEX',inplace=True)"
   ]
  },
  {
   "cell_type": "code",
   "execution_count": 30,
   "id": "af2c2036",
   "metadata": {
    "scrolled": true
   },
   "outputs": [
    {
     "data": {
      "text/html": [
       "<div>\n",
       "<style scoped>\n",
       "    .dataframe tbody tr th:only-of-type {\n",
       "        vertical-align: middle;\n",
       "    }\n",
       "\n",
       "    .dataframe tbody tr th {\n",
       "        vertical-align: top;\n",
       "    }\n",
       "\n",
       "    .dataframe thead th {\n",
       "        text-align: right;\n",
       "    }\n",
       "</style>\n",
       "<table border=\"1\" class=\"dataframe\">\n",
       "  <thead>\n",
       "    <tr style=\"text-align: right;\">\n",
       "      <th></th>\n",
       "      <th>ARTICLE_NUMBER</th>\n",
       "      <th>BIN</th>\n",
       "      <th>BIN_OLD</th>\n",
       "      <th>SUBINVENTORY</th>\n",
       "    </tr>\n",
       "    <tr>\n",
       "      <th>BIN_INDEX</th>\n",
       "      <th></th>\n",
       "      <th></th>\n",
       "      <th></th>\n",
       "      <th></th>\n",
       "    </tr>\n",
       "  </thead>\n",
       "  <tbody>\n",
       "    <tr>\n",
       "      <th></th>\n",
       "      <td>34-100390-002-9</td>\n",
       "      <td>2C1804,2C1405</td>\n",
       "      <td></td>\n",
       "      <td>KR_SERV01</td>\n",
       "    </tr>\n",
       "    <tr>\n",
       "      <th></th>\n",
       "      <td>29128030</td>\n",
       "      <td>2B1801</td>\n",
       "      <td></td>\n",
       "      <td>KR_SERV01</td>\n",
       "    </tr>\n",
       "    <tr>\n",
       "      <th></th>\n",
       "      <td>29089545</td>\n",
       "      <td>BULK,2C1405</td>\n",
       "      <td></td>\n",
       "      <td>KR_SERV01</td>\n",
       "    </tr>\n",
       "    <tr>\n",
       "      <th></th>\n",
       "      <td>29088185</td>\n",
       "      <td>2C1604,2C1603</td>\n",
       "      <td></td>\n",
       "      <td>KR_SERV01</td>\n",
       "    </tr>\n",
       "    <tr>\n",
       "      <th></th>\n",
       "      <td>29088182</td>\n",
       "      <td>2C1602,BULK,2C1603</td>\n",
       "      <td></td>\n",
       "      <td>KR_SERV01</td>\n",
       "    </tr>\n",
       "    <tr>\n",
       "      <th>...</th>\n",
       "      <td>...</td>\n",
       "      <td>...</td>\n",
       "      <td>...</td>\n",
       "      <td>...</td>\n",
       "    </tr>\n",
       "    <tr>\n",
       "      <th></th>\n",
       "      <td>18102926</td>\n",
       "      <td>2B1804</td>\n",
       "      <td></td>\n",
       "      <td>KR_SERV01</td>\n",
       "    </tr>\n",
       "    <tr>\n",
       "      <th></th>\n",
       "      <td>19781401</td>\n",
       "      <td>2B1803</td>\n",
       "      <td></td>\n",
       "      <td>KR_SERV01</td>\n",
       "    </tr>\n",
       "    <tr>\n",
       "      <th></th>\n",
       "      <td>29282854</td>\n",
       "      <td>2B1802</td>\n",
       "      <td></td>\n",
       "      <td>KR_SERV01</td>\n",
       "    </tr>\n",
       "    <tr>\n",
       "      <th></th>\n",
       "      <td>29392877</td>\n",
       "      <td>2B1802</td>\n",
       "      <td></td>\n",
       "      <td>KR_SERV01</td>\n",
       "    </tr>\n",
       "    <tr>\n",
       "      <th></th>\n",
       "      <td>29697648</td>\n",
       "      <td>2B1805</td>\n",
       "      <td></td>\n",
       "      <td>KR_SERV01</td>\n",
       "    </tr>\n",
       "  </tbody>\n",
       "</table>\n",
       "<p>1037 rows × 4 columns</p>\n",
       "</div>"
      ],
      "text/plain": [
       "            ARTICLE_NUMBER                 BIN BIN_OLD SUBINVENTORY\n",
       "BIN_INDEX                                                          \n",
       "           34-100390-002-9       2C1804,2C1405            KR_SERV01\n",
       "                  29128030              2B1801            KR_SERV01\n",
       "                  29089545         BULK,2C1405            KR_SERV01\n",
       "                  29088185       2C1604,2C1603            KR_SERV01\n",
       "                  29088182  2C1602,BULK,2C1603            KR_SERV01\n",
       "...                    ...                 ...     ...          ...\n",
       "                  18102926              2B1804            KR_SERV01\n",
       "                  19781401              2B1803            KR_SERV01\n",
       "                  29282854              2B1802            KR_SERV01\n",
       "                  29392877              2B1802            KR_SERV01\n",
       "                  29697648              2B1805            KR_SERV01\n",
       "\n",
       "[1037 rows x 4 columns]"
      ]
     },
     "execution_count": 30,
     "metadata": {},
     "output_type": "execute_result"
    }
   ],
   "source": [
    "df_bin"
   ]
  },
  {
   "cell_type": "code",
   "execution_count": 33,
   "id": "fa6f74b8",
   "metadata": {},
   "outputs": [],
   "source": [
    "def clear_form_bin():\n",
    "    sel_sht = wb_cy.selection.sheet\n",
    "    sel_sht.range(\"C2:C7\").clear_contents()\n",
    "\n",
    "    mode_cel = sel_sht.range(\"C2\")\n",
    "    mode_cel.value = 'CHANGE_BIN'"
   ]
  },
  {
   "cell_type": "code",
   "execution_count": null,
   "id": "baacfbdb",
   "metadata": {},
   "outputs": [],
   "source": [
    "def change_mode_bin():\n",
    "    sel_sht = wb_cy.selection.sheet\n",
    "    mode_cel = sel_sht.range(\"C2\")\n",
    "    if mode_cel.value == \"CHANGE_BIN\":\n",
    "        mode_cel.value = 'REGIST_BIN'\n",
    "    else : \n",
    "        mode_cel.value = 'CHANGE_BIN'\n"
   ]
  },
  {
   "cell_type": "code",
   "execution_count": null,
   "id": "f0ac2e97",
   "metadata": {},
   "outputs": [],
   "source": [
    "wb_cy.app.alert(\"'REGIST_BIN' 모드에서는 파트번호,BIN 만 입력해도 등록이 가능합니다.\")\n",
    "wb_cy.app.alert(\"'CHANGE_BIN' 모드에서는 NEW_BIN에 들어가는 값이 새로운 BIN으로 등록되며 다른 값들은 적용되지 않습니다.\")"
   ]
  },
  {
   "cell_type": "code",
   "execution_count": 36,
   "id": "86e30d81",
   "metadata": {},
   "outputs": [
    {
     "data": {
      "text/plain": [
       "False"
      ]
     },
     "execution_count": 36,
     "metadata": {},
     "output_type": "execute_result"
    }
   ],
   "source": [
    "is_protect = sel_sht.api.ProtectContents"
   ]
  }
 ],
 "metadata": {
  "kernelspec": {
   "display_name": "Python 3 (ipykernel)",
   "language": "python",
   "name": "python3"
  },
  "language_info": {
   "codemirror_mode": {
    "name": "ipython",
    "version": 3
   },
   "file_extension": ".py",
   "mimetype": "text/x-python",
   "name": "python",
   "nbconvert_exporter": "python",
   "pygments_lexer": "ipython3",
   "version": "3.10.10"
  }
 },
 "nbformat": 4,
 "nbformat_minor": 5
}

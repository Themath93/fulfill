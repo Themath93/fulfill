{
 "cells": [
  {
   "cell_type": "code",
   "execution_count": 2,
   "id": "90512ebf",
   "metadata": {},
   "outputs": [
    {
     "ename": "ProgrammingError",
     "evalue": "Oracle Client library has already been initialized",
     "output_type": "error",
     "traceback": [
      "\u001b[1;31m---------------------------------------------------------------------------\u001b[0m",
      "\u001b[1;31mProgrammingError\u001b[0m                          Traceback (most recent call last)",
      "Cell \u001b[1;32mIn [2], line 14\u001b[0m\n\u001b[0;32m     12\u001b[0m LOCATION \u001b[38;5;241m=\u001b[39m \u001b[38;5;124mr\u001b[39m\u001b[38;5;124m\"\u001b[39m\u001b[38;5;124mC:\u001b[39m\u001b[38;5;124m\\\u001b[39m\u001b[38;5;124mUsers\u001b[39m\u001b[38;5;124m\\\u001b[39m\u001b[38;5;124mlms46\u001b[39m\u001b[38;5;124m\\\u001b[39m\u001b[38;5;124mDesktop\u001b[39m\u001b[38;5;124m\\\u001b[39m\u001b[38;5;124mfulfill\u001b[39m\u001b[38;5;124m\\\u001b[39m\u001b[38;5;124minstantclient_fulfill\u001b[39m\u001b[38;5;124m\"\u001b[39m\n\u001b[0;32m     13\u001b[0m os\u001b[38;5;241m.\u001b[39menviron[\u001b[38;5;124m\"\u001b[39m\u001b[38;5;124mPATH\u001b[39m\u001b[38;5;124m\"\u001b[39m] \u001b[38;5;241m=\u001b[39m LOCATION \u001b[38;5;241m+\u001b[39m \u001b[38;5;124m\"\u001b[39m\u001b[38;5;124m;\u001b[39m\u001b[38;5;124m\"\u001b[39m \u001b[38;5;241m+\u001b[39m os\u001b[38;5;241m.\u001b[39menviron[\u001b[38;5;124m\"\u001b[39m\u001b[38;5;124mPATH\u001b[39m\u001b[38;5;124m\"\u001b[39m]\n\u001b[1;32m---> 14\u001b[0m \u001b[43mcx_Oracle\u001b[49m\u001b[38;5;241;43m.\u001b[39;49m\u001b[43minit_oracle_client\u001b[49m\u001b[43m(\u001b[49m\u001b[43mlib_dir\u001b[49m\u001b[38;5;241;43m=\u001b[39;49m\u001b[43mLOCATION\u001b[49m\u001b[43m)\u001b[49m\n\u001b[0;32m     16\u001b[0m connection \u001b[38;5;241m=\u001b[39m cx_Oracle\u001b[38;5;241m.\u001b[39mconnect(\n\u001b[0;32m     17\u001b[0m     user\u001b[38;5;241m=\u001b[39m\u001b[38;5;124m'\u001b[39m\u001b[38;5;124mdw_fulfill\u001b[39m\u001b[38;5;124m'\u001b[39m, password\u001b[38;5;241m=\u001b[39m\u001b[38;5;124m'\u001b[39m\u001b[38;5;124mfulfillment123QWE!@#\u001b[39m\u001b[38;5;124m'\u001b[39m, dsn\u001b[38;5;241m=\u001b[39m\u001b[38;5;124m'\u001b[39m\u001b[38;5;124mfulfill_high\u001b[39m\u001b[38;5;124m'\u001b[39m\n\u001b[0;32m     18\u001b[0m \n\u001b[0;32m     19\u001b[0m )\n\u001b[0;32m     20\u001b[0m cursor \u001b[38;5;241m=\u001b[39m connection\u001b[38;5;241m.\u001b[39mcursor()\n",
      "\u001b[1;31mProgrammingError\u001b[0m: Oracle Client library has already been initialized"
     ]
    }
   ],
   "source": [
    "import cx_Oracle\n",
    "import os\n",
    "import pandas as pd\n",
    "import xlwings as xw\n",
    "import json\n",
    "import datetime as dt\n",
    "my_date_handler = lambda year, month, day, **kwargs: \"%04i-%02i-%02i\" % (year, month, day)\n",
    "wb_cy = xw.Book('cytiva.xlsm')\n",
    "SHEET_NAMES =  ['Temp_DB', 'Shipment information', '인수증', \n",
    "'대리점송장', '대리점 출고대기', '로컬리스트', 'In-Transit part report', '기타리스트',\n",
    " '출고리스트', 'Cytiva Inventory BIN']\n",
    "LOCATION = r\"C:\\Users\\lms46\\Desktop\\fulfill\\instantclient_fulfill\"\n",
    "os.environ[\"PATH\"] = LOCATION + \";\" + os.environ[\"PATH\"]\n",
    "cx_Oracle.init_oracle_client(lib_dir=LOCATION)\n",
    "\n",
    "connection = cx_Oracle.connect(\n",
    "    user='dw_fulfill', password='fulfillment123QWE!@#', dsn='fulfill_high'\n",
    "\n",
    ")\n",
    "cursor = connection.cursor()"
   ]
  },
  {
   "cell_type": "code",
   "execution_count": 3,
   "id": "494f2c85",
   "metadata": {},
   "outputs": [],
   "source": [
    "connection = cx_Oracle.connect(\n",
    "    user='dw_fulfill', password='fulfillment123QWE!@#', dsn='fulfill_high'\n",
    "\n",
    ")\n",
    "cursor = connection.cursor()"
   ]
  },
  {
   "cell_type": "markdown",
   "id": "50111880",
   "metadata": {},
   "source": [
    "### Branch Shipping\n",
    "- 조건\n",
    "    1. waiting_for_out에서만 출고가능\n",
    "    2. 선택된 Cell이 있어야만 출고가능\n",
    "        - 선택된 Cell 없으면 GOOD상태인 모든 대리점 진행\n",
    "    3. 선택된 Cell에서 대리점이 2개이상이면 출고 불가 같은 대리점이라도 지점다르면 다르게 출고\n",
    "    4. 인수증방식 선택되어야 출고가능\n",
    "    \n",
    "- 배송방법\n",
    "    1. 일반배송, 무진동차량\n",
    "        - 기존 프로세스로 진행\n",
    "    2. 택배"
   ]
  },
  {
   "cell_type": "code",
   "execution_count": 4,
   "id": "8e8df1b7",
   "metadata": {},
   "outputs": [],
   "source": [
    "def row_nm_check(xw_book_name=xw.books[0]):\n",
    "    \"\"\"\n",
    "    Return Dict, get activated sheet's name(str), get selected row's number(list)\n",
    "\n",
    "    each_list는 연속된 row번호들을 전부 계산하여 리스트안에 전부 각각 위치하도록 한다.\n",
    "    each_list의 모든 값은 int\n",
    "    \"\"\"\n",
    "    ## SpecialCells(12) 셀이 한개만 클릭됬을 경우에는 제대로 작동 불가\n",
    "\n",
    "    # 셀한개만 클릭할경우 $의 개수가 2개이고 2개이상일경우 $의 개수는 4개 이다.\n",
    "    sel_cell = xw_book_name\n",
    "\n",
    "    count_dollar = sel_cell.selection.address.count(\"$\")\n",
    "    \n",
    "    # 셀한개만 클릭할경우\n",
    "    if count_dollar == 2 :\n",
    "        \n",
    "        sel_rng = [sel_cell.selection.address]\n",
    "    else : \n",
    "    \n",
    "        sel_rng = xw_book_name.selection.api.SpecialCells(12).Address.split(\",\")\n",
    "    \n",
    "    range_list = []\n",
    "    \n",
    "    for rng in sel_rng:\n",
    "\n",
    "        if \":\" in rng:\n",
    "            num_0 = rng.split(\":\")[0].split(\"$\")[-1]\n",
    "            num_1 = rng.split(\":\")[1].split(\"$\")[-1]\n",
    "            #범위선택이 한 컬럼이 아닌 여러 컬럼을 동시에 선택된 경우\n",
    "            if num_0 == num_1 :\n",
    "                range_list.append(num_0)\n",
    "            else : \n",
    "                range_list.append(str(num_0) + ',' + str(num_1))\n",
    "        else :\n",
    "            range_list.append(rng.split(\"$\")[-1])\n",
    "\n",
    "    fin_list = []\n",
    "    for rng_val in range_list:\n",
    "        if ',' in rng_val:\n",
    "            tmp_split = rng_val.split(',')\n",
    "            cnts = int(tmp_split[1])-int(tmp_split[0])\n",
    "            tmp_list = []\n",
    "            for i in range(cnts+1):\n",
    "                tmp_list.append(int(tmp_split[0])+i)\n",
    "                \n",
    "            fin_list = fin_list + tmp_list\n",
    "        else :\n",
    "            fin_list.append(int(rng_val))\n",
    "            \n",
    "    dict_row_num_sheet_name = {\"sheet_name\":xw_book_name.selection.sheet.name,'selection_row_nm':range_list,'each_list':fin_list}\n",
    "    \n",
    "    \n",
    "    return dict_row_num_sheet_name"
   ]
  },
  {
   "cell_type": "code",
   "execution_count": 5,
   "id": "8fef14e6",
   "metadata": {},
   "outputs": [],
   "source": [
    "def get_row_list_to_string(seleted_row_list) :\n",
    "    return ' '.join(seleted_row_list).replace(',','~').replace(' ', ', ')"
   ]
  },
  {
   "cell_type": "code",
   "execution_count": null,
   "id": "1a607f9a",
   "metadata": {},
   "outputs": [],
   "source": []
  },
  {
   "cell_type": "code",
   "execution_count": null,
   "id": "5dc11b99",
   "metadata": {},
   "outputs": [],
   "source": []
  },
  {
   "cell_type": "code",
   "execution_count": null,
   "id": "a64f9e05",
   "metadata": {},
   "outputs": [],
   "source": []
  },
  {
   "cell_type": "code",
   "execution_count": 34,
   "id": "722e5f95",
   "metadata": {},
   "outputs": [],
   "source": [
    "def get_out_table_for_branch(sheet_name=wb_cy.selection.sheet,index_row_number=9):\n",
    "    \"\"\"\n",
    "    xlwings.main.Sheet를 인수로 입력, 해당시트의 index행번호 default = 9 (int)\n",
    "    list형태의 출고하는 시트의 index들을 반환한다.\n",
    "    \"\"\"\n",
    "    out_row_nums = get_row_list_to_string(row_nm_check(wb_cy)['selection_row_nm'])\n",
    "    last_col = sheet_name.range(\"XFD9\").end('left').column\n",
    "    idx_row_num = index_row_number\n",
    "    col_names = sheet_name.range(sheet_name.range(int(idx_row_num),1),sheet_name.range(int(idx_row_num),last_col)).value\n",
    "    \n",
    "    for idx ,i in enumerate(col_names):\n",
    "        \n",
    "        if i == None:\n",
    "            continue\n",
    "        elif '_INDEX' in i :\n",
    "            col_num = idx\n",
    "    \n",
    "    df_so = pd.DataFrame()\n",
    "    \n",
    "    # wb_cy.app.alert(out_row_nums)\n",
    "    try :\n",
    "        row_list = out_row_nums.replace(' ','').split(',')\n",
    "    except:\n",
    "        row_list = [out_row_nums]\n",
    "    for row in row_list :\n",
    "        \n",
    "        # 연속된 행인 경우\n",
    "        if '~' in str(row) :\n",
    "            left_row =int(row.split('~')[0])\n",
    "            right_row = int(row.split('~')[1])\n",
    "            rng = sheet_name.range(sheet_name.range(left_row,1),sheet_name.range(right_row,last_col))\n",
    "            df_so = pd.concat([df_so,pd.DataFrame(sheet_name.range(rng).options(numbers=int).value)]) \n",
    "        else :\n",
    "            \n",
    "            left_row =int(row)\n",
    "            right_row = int(row)\n",
    "            rng = sheet_name.range(sheet_name.range(left_row,1),sheet_name.range(right_row,last_col))\n",
    "            df_so = pd.concat([df_so,pd.DataFrame(sheet_name.range(rng).options(numbers=int).value).T])\n",
    "\n",
    "    \n",
    "    return list(df_so[col_num])"
   ]
  },
  {
   "cell_type": "code",
   "execution_count": 38,
   "id": "51d969eb",
   "metadata": {
    "scrolled": false
   },
   "outputs": [
    {
     "data": {
      "text/plain": [
       "[20470]"
      ]
     },
     "execution_count": 38,
     "metadata": {},
     "output_type": "execute_result"
    }
   ],
   "source": [
    "get_out_table_for_branch()"
   ]
  },
  {
   "cell_type": "markdown",
   "id": "8ca7d184",
   "metadata": {},
   "source": [
    "### Branch Shipping\n",
    "- 조건\n",
    "    1. waiting_for_out에서만 출고가능\n",
    "    2. 선택된 Cell이 있어야만 출고가능\n",
    "        - 선택된 Cell 없으면 GOOD상태인 모든 대리점 진행\n",
    "    3. 선택된 Cell에서 대리점이 2개이상이면 출고 불가 같은 대리점이라도 지점다르면 다르게 출고\n",
    "    4. 인수증방식 선택되어야 출고가능\n",
    "    \n",
    "- 배송방법\n",
    "    1. 일반배송, 무진동차량\n",
    "        - 기존 프로세스로 진행\n",
    "    2. 택배"
   ]
  },
  {
   "cell_type": "code",
   "execution_count": 114,
   "id": "ead6e903",
   "metadata": {},
   "outputs": [],
   "source": [
    "def branch_ship_ready():\n",
    "\n",
    "\n",
    "    sel_sht = wb_cy.selection.sheet\n",
    "    mode = sel_sht.range(\"H4\")\n",
    "    in_date = sel_sht.range(\"P4\")\n",
    "    in_date.clear_contents()\n",
    "    if mode.value != 'waiting_for_out':\n",
    "        wb_cy.app.alert(\"'waiting_for_out' 모드에서만 사용 가능합니다.\",\"Quit\")\n",
    "        return\n",
    "\n",
    "    col_names = list(pd.DataFrame(cursor.execute(f\"select column_name from user_tab_columns where table_name = upper('SHIPMENT_INFORMATION')\").fetchall())[0])\n",
    "\n",
    "    val_rng = sel_sht.range(\"P3:P7\")\n",
    "    val_rng.clear_contents()\n",
    "\n",
    "    idx_list = get_out_table_for_branch()\n",
    "    idx_list_str = list(map(lambda e : str(e),idx_list))\n",
    "    \n",
    "    db_row_list =[]\n",
    "    try:\n",
    "        for idx in idx_list:\n",
    "            qry = f\"select * from SHIPMENT_INFORMATION where si_index = '{idx}'\"\n",
    "            db_row_list.append(cursor.execute(qry).fetchone())\n",
    "        df_br = pd.DataFrame(db_row_list,columns=col_names)\n",
    "    except:\n",
    "        wb_cy.app.alert(\"시트 내용이 손상됬거나 값이 있는 테이블이외의 셀을 선택하셨습니다. 정상적인 선택인 경우 BringDATA 버튼 클릭후 다시 시도해주세요.\",\"Quit\")\n",
    "        return\n",
    "    \n",
    "    # 대리점 품목인지여부\n",
    "    is_branch = len(df_br)==len(df_br[df_br['REMARK']=='대리점'])\n",
    "    if is_branch != True:\n",
    "        wb_cy.app.alert(\"대리점이 아닌 품목이 선택되었습니다. SHIP TO 컬럼의 대리점명이 오타일 경우 ChangeCell기능을 이용하여 정확한 이름으로 변경 및 REMARK컬럼은 '대리점'으로 변경 후 다시시도해주세요\",\"Quit\")\n",
    "        return\n",
    "    # 출고가능 여부\n",
    "    is_good = len(df_br)==len(df_br[df_br['STATE'].str.contains(\"GOOD\")])\n",
    "    if is_good != True:\n",
    "        wb_cy.app.alert(\"선택하신 품목의 STATE가 GOOD_WR 또는 GOOD_ESLE 상태에서만 진행 가능합니다. HOLDING일경우 검수완료를 진행 후 다시 시도해주세요.\",\"Quit\")\n",
    "        return\n",
    "    # ship_to 종류\n",
    "    selected_site_count = len(set(df_br['SHIP_TO']))\n",
    "    if selected_site_count != 1:\n",
    "        wb_cy.app.alert(\"서로 다른 대리점들이 선택 되었거나 SHIP_TO에 오타가 있습니다. 확인해주세요\",\"Quit\")\n",
    "        return\n",
    "    branch_name = list(set(df_br['SHIP_TO']))[0]\n",
    "    \n",
    "    val_rng[0].value = \",\".join(idx_list_str) # 출고행번호\n",
    "    val_rng[2].value = branch_name # 대리점명"
   ]
  },
  {
   "cell_type": "code",
   "execution_count": 120,
   "id": "fc56a23e",
   "metadata": {},
   "outputs": [],
   "source": [
    "branch_ship_ready()"
   ]
  },
  {
   "cell_type": "code",
   "execution_count": 336,
   "id": "8b9fa8aa",
   "metadata": {},
   "outputs": [],
   "source": [
    "def branch_out():\n",
    "    sel_sht = wb_cy.selection.sheet\n",
    "    mode = sel_sht.range(\"H4\")\n",
    "    val_rng = sel_sht.range(\"P3:P7\")\n",
    "    if mode.value != 'waiting_for_out':\n",
    "        wb_cy.app.alert(\"'waiting_for_out' 모드에서만 사용 가능합니다.\",\"Quit\")\n",
    "        return\n",
    "    col_names = list(pd.DataFrame(cursor.execute(f\"select column_name from user_tab_columns where table_name = upper('SHIPMENT_INFORMATION')\").fetchall())[0])\n",
    "    input_values = val_rng.options(numbers=int, dates=my_date_handler).value\n",
    "    del_method = input_values[3]\n",
    "    \n",
    "    if input_values.count(None) > 0 :\n",
    "        wb_cy.app.alert(\"ONLY FOR BRANCH의 FORM에 빈 값이 있습니다. 입력 후 시도 해주세요!\",\"Quit\")\n",
    "        return\n",
    "    idx_list = input_values[0].split(',')\n",
    "    db_row_list=[]\n",
    "    try:\n",
    "        for idx in idx_list:\n",
    "            qry = f\"select * from SHIPMENT_INFORMATION where si_index = '{idx}'\"\n",
    "            db_row_list.append(cursor.execute(qry).fetchone())\n",
    "        df_br = pd.DataFrame(db_row_list,columns=col_names)\n",
    "    except:\n",
    "        wb_cy.app.alert(\"시트 내용이 손상됬거나 값이 있는 테이블이외의 셀을 선택하셨습니다. 정상적인 선택인 경우 BringDATA 버튼 클릭후 다시 시도해주세요.\",\"Quit\")\n",
    "        return\n",
    "    parcel_list = list(set(df_br['PARCELS_NO']))\n",
    "    \n",
    "    if input_values[3] =='택배':\n",
    "        while True:\n",
    "            courier_num_list = input_delivery_invoice_number_for_branch(parcel_list)\n",
    "            pacels_dict = dict(zip(parcel_list,courier_num_list))\n",
    "            alert_str = str(pacels_dict).replace(\",\",\"\\n\").replace('{','').replace('}',\"\")\n",
    "            answer = wb_cy.app.alert(\"당신의 입력 : \\n\"+alert_str+\" \\n 수정하시겠습니까?\",\"CONFIRM\",buttons=\"yes_no_cancel\")\n",
    "            if answer == 'no':\n",
    "                del_method = pacels_dict\n",
    "                break\n",
    "            if answer == 'cancel':\n",
    "                wb_cy.app.alert(\"종료합니다.\",\"Quit\")\n",
    "                return\n",
    "            \n",
    "    # 1. update_shipdate 매서드사용으로 DB변화완료\n",
    "    ShipmentInformation.update_shipdate_for_branch(input_values[0],input_values[1],del_method=del_method)\n",
    "    \n",
    "    # 2. sht_proctect() 매서드로 edit_mode진입\n",
    "    sht_protect(False)\n",
    "    bring_data_from_db()\n",
    "    sht_protect(True)\n",
    "    \n",
    "    # 3. mail form작성\n",
    "    ws_br_out= xw.Book('print_form.xlsx').sheets['BRANCH_SHIPPING']\n",
    "    carton_count = len(df_br[pd.notna(df_br['NM_OF_PACKAGE'])])\n",
    "    branch_out_col_names = [\n",
    "        'ARRIVAL_DATE',\n",
    "        'AWB_NO',\n",
    "        'TRIP_NO',\n",
    "        'NM_OF_PACKAGE',\n",
    "        'PARCELS_NO',\n",
    "        'ORDER_NM',\n",
    "        'SHIP_TO'\n",
    "    ]\n",
    "    df_br_out = df_br[branch_out_col_names]\n",
    "    df_br_out['COURIER_INVOICE_NM'] = None\n",
    "\n",
    "    last_row = ws_br_out.range(\"A1048576\").end('up').row\n",
    "    if last_row < 9 :\n",
    "        last_row = 8\n",
    "    req_rng = ws_br_out.range((9,1),(last_row,\"H\"))\n",
    "    req_rng.api.Borders.LineStyle = -4142\n",
    "    req_rng.clear_contents()\n",
    "\n",
    "    ws_br_out.range(\"A7\").value = f\"총 {carton_count} CARTON 입니다.\"\n",
    "    if input_values[3] == \"택배\":\n",
    "        ws_br_out.range(\"D7\").value = f\"{input_values[1]}에 택배로 출고 완료 되었습니다.\"\n",
    "        for k,y in pacels_dict.items():\n",
    "            df_idx = df_br_out[df_br_out['PARCELS_NO']==k].index\n",
    "            df_br_out['COURIER_INVOICE_NM'].loc[df_idx] = y\n",
    "    else : \n",
    "        ws_br_out.range(\"D7\").value = f\"{input_values[1]}에 {input_values[3]}(으)로 배송 예정입니다.\"\n",
    "        df_br_out['COURIER_INVOICE_NM'] = input_values[3]\n",
    "\n",
    "    df_br_out.set_index(\"ARRIVAL_DATE\",inplace=True)\n",
    "    ws_br_out.range(\"A8\").value = df_br_out\n",
    "\n",
    "    last_row = ws_br_out.range(\"A1048576\").end('up').row\n",
    "    if last_row < 9 :\n",
    "        last_row = 8\n",
    "    req_rng = ws_br_out.range((8,1),(last_row,\"H\"))\n",
    "    req_rng.autofit()\n",
    "    req_rng.api.Borders.LineStyle = 1\n",
    "    \n",
    "    # 메일 작성 및 저장\n",
    "    outlook_send=cli.Dispatch(\"Outlook.Application\")\n",
    "    branch_db = cursor.execute('select * from branch').fetchall()\n",
    "    branch_db_df = pd.DataFrame(branch_db)\n",
    "    br_row_df =branch_db_df[branch_db_df[0]==input_values[2]]\n",
    "\n",
    "    to_mail = br_row_df.iloc[0][2]\n",
    "    cc_mail = br_row_df.iloc[0][2]\n",
    "\n",
    "    # 메일 저장 작업\n",
    "    file_name = 'BR_HTML_CONTENT.html'\n",
    "    br_html = os.getcwd() + '\\\\'+file_name\n",
    "    ws_br_out.to_html(file_name)\n",
    "    html_body = html.unescape(open(br_html).read())\n",
    "    mail_obj = outlook_send.CreateItem(0)\n",
    "    mail_obj.To = to_mail\n",
    "    mail_obj.CC = cc_mail\n",
    "    mail_obj.Subject = input_values[2] + \" \" + input_values[1] + \" 배송 정보\"\n",
    "    mail_obj.HTMLBody = html_body\n",
    "    os.remove(br_html)\n",
    "    mail_obj.Save()"
   ]
  },
  {
   "cell_type": "code",
   "execution_count": 347,
   "id": "b111d507",
   "metadata": {
    "scrolled": false
   },
   "outputs": [
    {
     "name": "stdout",
     "output_type": "stream",
     "text": [
      "UPDATE SHIPMENT_INFORMATION SET COMMENT = '일반배송' WHERE SI_INDEX = 20477\n",
      "UPDATE SHIPMENT_INFORMATION SET COMMENT = '일반배송' WHERE SI_INDEX = 20478\n",
      "UPDATE SHIPMENT_INFORMATION SET COMMENT = '일반배송' WHERE SI_INDEX = 20479\n",
      "UPDATE SHIPMENT_INFORMATION SET COMMENT = '일반배송' WHERE SI_INDEX = 20480\n",
      "UPDATE SHIPMENT_INFORMATION SET COMMENT = '일반배송' WHERE SI_INDEX = 20481\n"
     ]
    }
   ],
   "source": [
    "for val in idx_list:\n",
    "    print(f\"UPDATE SHIPMENT_INFORMATION SET COMMENT = '일반배송' WHERE SI_INDEX = {val}\")"
   ]
  },
  {
   "cell_type": "code",
   "execution_count": null,
   "id": "a217b487",
   "metadata": {},
   "outputs": [],
   "source": [
    "# 1. update_shipdate 매서드사용으로 DB변화완료\n",
    "# branch shipdate 업데이트의 경우 comment에 배송방법 및 송장번호 적을 것\n",
    "# 2. sht_proctect() 매서드로 edit_mode진입\n",
    "# 3. mail form작성"
   ]
  },
  {
   "cell_type": "code",
   "execution_count": 301,
   "id": "7d1cdcc8",
   "metadata": {},
   "outputs": [],
   "source": [
    "import win32com.client as cli\n",
    "outlook = cli.Dispatch(\"Outlook.Application\").GetNamespace(\"MAPI\") # 아웃룩"
   ]
  },
  {
   "cell_type": "code",
   "execution_count": 308,
   "id": "93680e0b",
   "metadata": {
    "scrolled": true
   },
   "outputs": [
    {
     "data": {
      "text/plain": [
       "['동일과학',\n",
       " '이효바이오사이언스',\n",
       " '서린바이오사이언스',\n",
       " '비앤비대전',\n",
       " '바이오토프',\n",
       " '유비코리아',\n",
       " '바이나리',\n",
       " '지더블유바이텍가산',\n",
       " '지더블유바이텍화성',\n",
       " '닥터바이오',\n",
       " '지더블유바이텍광주']"
      ]
     },
     "execution_count": 308,
     "metadata": {},
     "output_type": "execute_result"
    }
   ],
   "source": [
    "list(pd.DataFrame(branch_list)[0])"
   ]
  },
  {
   "cell_type": "code",
   "execution_count": 330,
   "id": "903e35e6",
   "metadata": {},
   "outputs": [
    {
     "data": {
      "text/plain": [
       "<Sheet [print_form.xlsx]BRANCH_SHIPPING>"
      ]
     },
     "execution_count": 330,
     "metadata": {},
     "output_type": "execute_result"
    }
   ],
   "source": [
    "ws_br_out"
   ]
  },
  {
   "cell_type": "code",
   "execution_count": 331,
   "id": "727693aa",
   "metadata": {
    "scrolled": true
   },
   "outputs": [],
   "source": []
  },
  {
   "cell_type": "code",
   "execution_count": 287,
   "id": "796359fa",
   "metadata": {},
   "outputs": [],
   "source": []
  },
  {
   "cell_type": "code",
   "execution_count": null,
   "id": "11988dae",
   "metadata": {},
   "outputs": [],
   "source": []
  },
  {
   "cell_type": "code",
   "execution_count": null,
   "id": "55946447",
   "metadata": {},
   "outputs": [],
   "source": [
    "def update_shipdate_for_branch(self,get_each_index_num,ship_date,status='SHIP_CONFIRM',del_method='일반배송'):\n",
    "    \"\"\"\n",
    "    so out시 db의 ship_date수정 및 pod완료시 pod_date 수정이 필요하다.\n",
    "    # ws_si 시트의 해당하는 db 값 수정 대리점 출고전용\n",
    "    \"\"\"\n",
    "    cur = self.DataWarehouse_DB\n",
    "    if type(get_each_index_num) is list:\n",
    "        idx_list = get_each_index_num\n",
    "    elif type(get_each_index_num) is dict:\n",
    "        idx_list=get_each_index_num['idx_list']\n",
    "    else:\n",
    "        idx_list = [get_each_index_num]\n",
    "    \n",
    "    # comment 수정\n",
    "    if type(del_method) == dict :\n",
    "        pacels_dict = del_method\n",
    "        for key in pacels_dict.keys():\n",
    "            query = f\"UPDATE SHIPMENT_INFORMATION SET COMMENT = '{pacels_dict[key]}' WHERE PARCELS_NO = {key}\"\n",
    "    else : \n",
    "        for val in idx_list:\n",
    "            query = f\"UPDATE SHIPMENT_INFORMATION SET COMMENT = '{del_method}' WHERE SI_INDEX = {val}\"\n",
    "\n",
    "    for val in idx_list:\n",
    "        # ship_date\n",
    "        query = f\"UPDATE SHIPMENT_INFORMATION SET SHIP_DATE = '{ship_date}' WHERE SI_INDEX = {val}\"\n",
    "        cur.execute(query)\n",
    "        # timeline\n",
    "        bring_tl_query = f\"SELECT TIMELINE FROM SHIPMENT_INFORMATION WHERE SI_INDEX = {val}\"\n",
    "        try:\n",
    "            json_tl = cur.execute(bring_tl_query).fetchone()[0]\n",
    "        except:\n",
    "            self.WB_CY.app.alert(f\" SI_INDEX : {val} 해당 INDEX는 DB에 등록되지 않은 INDEX입니다. Data는 DataInput기능으로만 저장 가능합니다. 종료합니다.\",\"Quit\")\n",
    "            return \n",
    "        cur.execute(bring_tl_query).fetchone()[0]\n",
    "        timeline_query = f\"UPDATE SHIPMENT_INFORMATION SET TIMELINE = '{create_db_timeline(json_tl)}' WHERE SI_INDEX = {val}\"\n",
    "        cur.execute(timeline_query)\n",
    "        # state\n",
    "        update_state_query = f\"UPDATE SHIPMENT_INFORMATION SET STATE = '{status}' WHERE SI_INDEX = {val}\"\n",
    "        cur.execute(update_state_query)"
   ]
  },
  {
   "cell_type": "code",
   "execution_count": 147,
   "id": "9865455d",
   "metadata": {},
   "outputs": [
    {
     "data": {
      "text/plain": [
       "1"
      ]
     },
     "execution_count": 147,
     "metadata": {},
     "output_type": "execute_result"
    }
   ],
   "source": []
  },
  {
   "cell_type": "code",
   "execution_count": 198,
   "id": "e5829aba",
   "metadata": {},
   "outputs": [],
   "source": [
    "def input_delivery_invoice_number_for_branch(parcel_list):\n",
    "    wb_cy.app.alert(\"Parcel_NO에 맞는 송장번호를 입력해주세요.\",\"INFO\")\n",
    "    courier_num_list = []\n",
    "    for i in range(len(parcel_list)):\n",
    "        courier_num_list.append(wb_cy.app.api.InputBox(f\"'{parcel_list[i]}'에 맞는 송장번호를 입력해주세요.\",\"Delivery invoice number INPUT\",Type=2))\n",
    "    return courier_num_list"
   ]
  },
  {
   "cell_type": "code",
   "execution_count": null,
   "id": "a5050946",
   "metadata": {},
   "outputs": [],
   "source": []
  }
 ],
 "metadata": {
  "kernelspec": {
   "display_name": "Python 3 (ipykernel)",
   "language": "python",
   "name": "python3"
  },
  "language_info": {
   "codemirror_mode": {
    "name": "ipython",
    "version": 3
   },
   "file_extension": ".py",
   "mimetype": "text/x-python",
   "name": "python",
   "nbconvert_exporter": "python",
   "pygments_lexer": "ipython3",
   "version": "3.10.10"
  }
 },
 "nbformat": 4,
 "nbformat_minor": 5
}

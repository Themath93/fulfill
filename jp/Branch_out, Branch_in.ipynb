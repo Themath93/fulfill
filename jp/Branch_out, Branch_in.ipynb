{
 "cells": [
  {
   "cell_type": "code",
   "execution_count": 1,
   "id": "ec2bc29d",
   "metadata": {},
   "outputs": [],
   "source": [
    "import cx_Oracle\n",
    "import os\n",
    "import pandas as pd\n",
    "#!pip insall cx_Oracle\n",
    "import xlwings as xw\n",
    "import pandas as pd\n",
    "wb_cy = xw.Book('cytiva.xlsm')\n",
    "SHEET_NAMES =  ['Temp_DB', 'Shipment information', '인수증', \n",
    "'대리점송장', '대리점 출고대기', '로컬리스트', 'In-Transit part report', '기타리스트',\n",
    " '출고리스트', 'Cytiva Inventory BIN']\n",
    "LOCATION = r\"C:\\Users\\lms46\\Desktop\\fulfill\\instantclient_fulfill\"\n",
    "os.environ[\"PATH\"] = LOCATION + \";\" + os.environ[\"PATH\"]\n",
    "cx_Oracle.init_oracle_client(lib_dir=LOCATION)\n",
    "\n",
    "connection = cx_Oracle.connect(\n",
    "    user='dw_fulfill', password='fulfillment123QWE!@#', dsn='fulfill_high'\n",
    "\n",
    ")\n",
    "cursor = connection.cursor()"
   ]
  },
  {
   "cell_type": "markdown",
   "id": "e0abcb55",
   "metadata": {},
   "source": [
    "## Branch_in()\n",
    "- "
   ]
  },
  {
   "cell_type": "markdown",
   "id": "aaf58e0d",
   "metadata": {},
   "source": [
    "## Branch_out()\n",
    "\n",
    "- 대리점 출고는 입고는 잡지만 배송보류인 Holding 기능도 있어야한다.\n",
    "- 대리점품목은 보통 입고와 출고가 동시에 이루어진다. "
   ]
  }
 ],
 "metadata": {
  "kernelspec": {
   "display_name": "Python 3 (ipykernel)",
   "language": "python",
   "name": "python3"
  },
  "language_info": {
   "codemirror_mode": {
    "name": "ipython",
    "version": 3
   },
   "file_extension": ".py",
   "mimetype": "text/x-python",
   "name": "python",
   "nbconvert_exporter": "python",
   "pygments_lexer": "ipython3",
   "version": "3.10.9"
  }
 },
 "nbformat": 4,
 "nbformat_minor": 5
}

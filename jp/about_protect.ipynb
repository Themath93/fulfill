{
 "cells": [
  {
   "cell_type": "code",
   "execution_count": 1,
   "id": "4a1dd71e",
   "metadata": {},
   "outputs": [],
   "source": [
    "import xlwings as wx\n",
    "import pandas as pd"
   ]
  },
  {
   "cell_type": "code",
   "execution_count": 2,
   "id": "cd402294",
   "metadata": {},
   "outputs": [],
   "source": [
    "wb_cy = wx.Book('cytiva.xlsm')"
   ]
  },
  {
   "cell_type": "code",
   "execution_count": 3,
   "id": "397e1b32",
   "metadata": {},
   "outputs": [
    {
     "data": {
      "text/plain": [
       "<Sheet [cytiva.xlsm]Shipment information>"
      ]
     },
     "execution_count": 3,
     "metadata": {},
     "output_type": "execute_result"
    }
   ],
   "source": [
    "wb_cy.selection.sheet"
   ]
  },
  {
   "cell_type": "code",
   "execution_count": 7,
   "id": "832e5d42",
   "metadata": {},
   "outputs": [],
   "source": [
    "wb_cy.selection.sheet.api.Protect(Password='themath93', DrawingObjects=False, Contents=True, Scenarios=True,\n",
    "        UserInterfaceOnly=True, AllowFormattingCells=True, AllowFormattingColumns=True,\n",
    "        AllowFormattingRows=True, AllowInsertingColumns=True, AllowInsertingRows=True,\n",
    "        AllowInsertingHyperlinks=True, AllowDeletingColumns=True, AllowDeletingRows=True,\n",
    "        AllowSorting=True, AllowFiltering=True, AllowUsingPivotTables=True)"
   ]
  },
  {
   "cell_type": "code",
   "execution_count": 6,
   "id": "28107449",
   "metadata": {},
   "outputs": [],
   "source": [
    "wb_cy.selection.sheet.api.Unprotect(Password='themath93')"
   ]
  },
  {
   "cell_type": "code",
   "execution_count": 35,
   "id": "9a350641",
   "metadata": {},
   "outputs": [],
   "source": [
    "def sht_protect(mode=True):\n",
    "    \"\"\"\n",
    "    True 이면 시트보호모드, False 이면 시트보호해제\n",
    "    \"\"\"\n",
    "    wb = wx.Book.caller()\n",
    "    if mode == True:\n",
    "        wb_cy.selection.sheet.api.Protect(Password='themath93', DrawingObjects=False, Contents=True, Scenarios=True,\n",
    "        UserInterfaceOnly=True, AllowFormattingCells=True, AllowFormattingColumns=True,\n",
    "        AllowFormattingRows=True, AllowInsertingColumns=True, AllowInsertingRows=True,\n",
    "        AllowInsertingHyperlinks=True, AllowDeletingColumns=True, AllowDeletingRows=True,\n",
    "        AllowSorting=True, AllowFiltering=True, AllowUsingPivotTables=True)\n",
    "    elif mode == False:\n",
    "        wb_cy.selection.sheet.api.Unprotect(Password='themath93')\n",
    "    "
   ]
  },
  {
   "cell_type": "code",
   "execution_count": 33,
   "id": "130a28ab",
   "metadata": {},
   "outputs": [
    {
     "ename": "Exception",
     "evalue": "Book.caller() must not be called directly. Call through Excel or set a mock caller first with Book.set_mock_caller().",
     "output_type": "error",
     "traceback": [
      "\u001b[1;31m---------------------------------------------------------------------------\u001b[0m",
      "\u001b[1;31mException\u001b[0m                                 Traceback (most recent call last)",
      "Cell \u001b[1;32mIn [33], line 1\u001b[0m\n\u001b[1;32m----> 1\u001b[0m wb\u001b[38;5;241m=\u001b[39m \u001b[43mwx\u001b[49m\u001b[38;5;241;43m.\u001b[39;49m\u001b[43mBook\u001b[49m\u001b[38;5;241;43m.\u001b[39;49m\u001b[43mcaller\u001b[49m\u001b[43m(\u001b[49m\u001b[43m)\u001b[49m\n",
      "File \u001b[1;32m~\\AppData\\Local\\Packages\\PythonSoftwareFoundation.Python.3.10_qbz5n2kfra8p0\\LocalCache\\local-packages\\Python310\\site-packages\\xlwings\\main.py:1019\u001b[0m, in \u001b[0;36mBook.caller\u001b[1;34m(cls)\u001b[0m\n\u001b[0;32m   1017\u001b[0m     \u001b[38;5;28;01mreturn\u001b[39;00m \u001b[38;5;28mcls\u001b[39m(impl\u001b[38;5;241m=\u001b[39mxlwings\u001b[38;5;241m.\u001b[39m_xlwindows\u001b[38;5;241m.\u001b[39mBook(xlwings\u001b[38;5;241m.\u001b[39m_xlwindows\u001b[38;5;241m.\u001b[39mBOOK_CALLER))\n\u001b[0;32m   1018\u001b[0m \u001b[38;5;28;01melse\u001b[39;00m:\n\u001b[1;32m-> 1019\u001b[0m     \u001b[38;5;28;01mraise\u001b[39;00m \u001b[38;5;167;01mException\u001b[39;00m(\n\u001b[0;32m   1020\u001b[0m         \u001b[38;5;124m\"\u001b[39m\u001b[38;5;124mBook.caller() must not be called directly. Call through Excel \u001b[39m\u001b[38;5;124m\"\u001b[39m\n\u001b[0;32m   1021\u001b[0m         \u001b[38;5;124m\"\u001b[39m\u001b[38;5;124mor set a mock caller first with Book.set_mock_caller().\u001b[39m\u001b[38;5;124m\"\u001b[39m\n\u001b[0;32m   1022\u001b[0m     )\n",
      "\u001b[1;31mException\u001b[0m: Book.caller() must not be called directly. Call through Excel or set a mock caller first with Book.set_mock_caller()."
     ]
    }
   ],
   "source": [
    "wb = wx.Book.caller()\n"
   ]
  }
 ],
 "metadata": {
  "kernelspec": {
   "display_name": "Python 3 (ipykernel)",
   "language": "python",
   "name": "python3"
  },
  "language_info": {
   "codemirror_mode": {
    "name": "ipython",
    "version": 3
   },
   "file_extension": ".py",
   "mimetype": "text/x-python",
   "name": "python",
   "nbconvert_exporter": "python",
   "pygments_lexer": "ipython3",
   "version": "3.10.9"
  }
 },
 "nbformat": 4,
 "nbformat_minor": 5
}

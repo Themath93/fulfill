{
 "cells": [
  {
   "cell_type": "code",
   "execution_count": 1,
   "id": "459c39ad",
   "metadata": {},
   "outputs": [],
   "source": [
    "import xlwings as xw"
   ]
  },
  {
   "cell_type": "code",
   "execution_count": 29,
   "id": "7ac219cf",
   "metadata": {},
   "outputs": [],
   "source": [
    "wb_cy = xw.Book('cytiva.xlsm')"
   ]
  },
  {
   "cell_type": "code",
   "execution_count": 31,
   "id": "7986b596",
   "metadata": {},
   "outputs": [
    {
     "data": {
      "text/plain": [
       "['17~21', '하', datetime.datetime(2022, 12, 22, 0, 0), '일반배송', 'P/L']"
      ]
     },
     "execution_count": 31,
     "metadata": {},
     "output_type": "execute_result"
    }
   ],
   "source": [
    "wb_cy.sheets[2].range(\"C2:C6\").value"
   ]
  },
  {
   "cell_type": "code",
   "execution_count": null,
   "id": "3b6467df",
   "metadata": {},
   "outputs": [],
   "source": []
  },
  {
   "cell_type": "code",
   "execution_count": 26,
   "id": "5b294aae",
   "metadata": {},
   "outputs": [],
   "source": [
    "def ship_ready():\n",
    "        ws_si = wb_cy.sheets['Shipment information']\n",
    "        ws_lc = wb_cy.sheets['로컬리스트']\n",
    "        ws_si.range(\"C2\").value = get_row_list_to_string(row_nm_check(wb_cy)['selection_row_nm'])\n",
    "\n",
    "\n",
    "        si_sht_list = ws_si.range('C2:C6').value\n",
    "        \n",
    "        si_sht_list_name = ws_si.range('B2:B6').value\n",
    "        \n",
    "        none_list = []\n",
    "        must_fill = []\n",
    "        for index, val in enumerate(si_sht_list):\n",
    "            if val == None:\n",
    "                none_list.append(index)\n",
    "                \n",
    "        ws_si.range(\"D2\").value = len(none_list)\n",
    "        # 필수 입력분이 누락되었을 경우\n",
    "        if len(none_list) > 0 :\n",
    "            \n",
    "            for val in none_list:\n",
    "                must_fill.append(si_sht_list_name[val])\n",
    "\n",
    "            ws_si.range(\"H4\").value = (', '.join(must_fill)) + \"_is_empty\"\n",
    "            ws_si.range(\"H4\").color = (255,0,0)\n",
    "        ## must_fill == [] 일 경우 출고를 시작 할 수 있게된다.\n",
    "\n",
    "\n",
    "        # Local출고 체크\n",
    "        else:\n",
    "            ws_si.range(\"H4\").value = \"ship_is_ready\"\n",
    "            ws_si.range(\"H4\").color = (255,255,0)\n",
    "            local_check(self.WS_SI,self.WS_LC)"
   ]
  },
  {
   "cell_type": "code",
   "execution_count": 27,
   "id": "7b5e531c",
   "metadata": {},
   "outputs": [
    {
     "name": "stdout",
     "output_type": "stream",
     "text": [
      "done\n"
     ]
    }
   ],
   "source": [
    "ship_ready()"
   ]
  }
 ],
 "metadata": {
  "kernelspec": {
   "display_name": "Python 3 (ipykernel)",
   "language": "python",
   "name": "python3"
  },
  "language_info": {
   "codemirror_mode": {
    "name": "ipython",
    "version": 3
   },
   "file_extension": ".py",
   "mimetype": "text/x-python",
   "name": "python",
   "nbconvert_exporter": "python",
   "pygments_lexer": "ipython3",
   "version": "3.10.9"
  }
 },
 "nbformat": 4,
 "nbformat_minor": 5
}

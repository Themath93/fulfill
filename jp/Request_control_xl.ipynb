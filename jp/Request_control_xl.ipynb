{
 "cells": [
  {
   "cell_type": "code",
   "execution_count": 1,
   "id": "9516388d",
   "metadata": {},
   "outputs": [],
   "source": [
    "import cx_Oracle\n",
    "import os\n",
    "import pandas as pd\n",
    "#!pip insall cx_Oracle"
   ]
  },
  {
   "cell_type": "code",
   "execution_count": 2,
   "id": "59925bde",
   "metadata": {},
   "outputs": [],
   "source": [
    "import xlwings as xw\n",
    "import pandas as pd\n",
    "wb_cy = xw.Book('cytiva.xlsm')\n",
    "SHEET_NAMES =  ['Temp_DB', 'Shipment information', '인수증', \n",
    "'대리점송장', '대리점 출고대기', '로컬리스트', 'In-Transit part report', '기타리스트',\n",
    " '출고리스트', 'Cytiva Inventory BIN']"
   ]
  },
  {
   "cell_type": "code",
   "execution_count": 3,
   "id": "48a47603",
   "metadata": {},
   "outputs": [],
   "source": [
    "LOCATION = r\"C:\\Users\\lms46\\Desktop\\fulfill\\instantclient_fulfill\"\n",
    "os.environ[\"PATH\"] = LOCATION + \";\" + os.environ[\"PATH\"]\n",
    "cx_Oracle.init_oracle_client(lib_dir=LOCATION)\n",
    "\n",
    "connection = cx_Oracle.connect(\n",
    "    user='dw_fulfill', password='fulfillment123QWE!@#', dsn='fulfill_high'\n",
    "\n",
    ")\n",
    "cursor = connection.cursor()"
   ]
  },
  {
   "cell_type": "code",
   "execution_count": 4,
   "id": "352c4772",
   "metadata": {},
   "outputs": [],
   "source": [
    "connection = cx_Oracle.connect(\n",
    "    user='dw_fulfill', password='fulfillment123QWE!@#', dsn='fulfill_high'\n",
    "\n",
    ")\n",
    "cursor = connection.cursor()"
   ]
  },
  {
   "cell_type": "code",
   "execution_count": 10,
   "id": "7bc0512f",
   "metadata": {},
   "outputs": [],
   "source": [
    "import json"
   ]
  },
  {
   "attachments": {
    "image.png": {
     "image/png": "[encoded data removed]"
    }
   },
   "cell_type": "markdown",
   "id": "889d2b46",
   "metadata": {},
   "source": [
    "ML_INDEX\tREQ_TYPE\tMAIL_DATE\tREQ_DATE\tPIC\tIS_URGENT\tLEFT_TIME\tSTATUS\tPRINT\tSHIP_CONFIRM\n",
    "![image.png](attachment:image.png)\n",
    "\n",
    "- 원하는 조건에 맞는 요청리스트 불러오기는 다른 방식으로 해결해야지.. json으로 정렬해서 채울것\n"
   ]
  },
  {
   "cell_type": "code",
   "execution_count": 481,
   "id": "4e4009cd",
   "metadata": {},
   "outputs": [],
   "source": [
    "def bring_reuests():\n",
    "\n",
    "    sel_sth = wb_cy.selection.sheet\n",
    "    form_add = ['$M$7:$M$9', '$O$7']\n",
    "    qry_condition = sel_sth.range(form_add[0]).options(ndim=1).value + sel_sth.range(form_add[1]).options(ndim=1).value\n",
    "    STATUS = ['requested', 'pick/pack', 'dispathed', 'completed']\n",
    "    col_list =['ML_INDEX','REQ_TYPE','CREATE_DATE','REQ_DATE','PIC','IS_URGENT','LEFT_TIME','STATUS','DEL_MED','REGION']\n",
    "    base_qry = 'select * from SERVICE_REQEUST '\n",
    "    json_data = []\n",
    "\n",
    "\n",
    "    # 시작하기전에 sht 클리닝\n",
    "    last_row = sel_sth.range(\"J1048576\").end('up').row\n",
    "    if last_row < 12 :\n",
    "        last_row = 12\n",
    "    req_rng = sel_sth.range((12,\"I\"),(last_row,\"S\"))\n",
    "    req_rng.clear_contents()\n",
    "    req_rng.color= None\n",
    "    selected_cel = sel_sth.range(\"Q8\")\n",
    "    selected_cel.clear_contents()\n",
    "\n",
    "    # REQ_TYPE\n",
    "    if qry_condition[2] == 'ALL' :\n",
    "        qry = base_qry\n",
    "    else :\n",
    "        qry = base_qry + f'WHERE svc_key LIKE \\'%{qry_condition[2]}%\\' '\n",
    "\n",
    "    # STATUS\n",
    "    if qry_condition[3] == 'ALL' :\n",
    "        qry = qry\n",
    "    else:\n",
    "        qry = qry + \"AND STATE = \" +  f\"'{qry_condition[3]}'\"\n",
    "\n",
    "    df_req = pd.DataFrame(cursor.execute(qry))\n",
    "    for i in df_req:\n",
    "        row_req = df_req.loc[i]\n",
    "\n",
    "        rows = []\n",
    "        # ML_INDEX\n",
    "        rows.append(row_req[0])\n",
    "        # REQ_TYPE\n",
    "        rows.append(row_req[0].split(\"_\")[0])\n",
    "        # CREATE_DATE\n",
    "        req_tl = json.loads(row_req[15])['data']\n",
    "        for tl in req_tl :\n",
    "            if tl['a'] == 'create' :\n",
    "                rows.append(tl['c'])\n",
    "        # REQ_DATE\n",
    "        req_date = row_req[3] + \" \"+ row_req[4]\n",
    "        rows.append(req_date)\n",
    "        # PIC\n",
    "        rows.append(row_req[1])\n",
    "        # IS_URGENT\n",
    "        rows.append(row_req[8])\n",
    "        # LEFT_TIME\n",
    "        now = str(dt.datetime.now()).split('.')[0]\n",
    "        now_obj = dt.datetime.strptime(now, '%Y-%m-%d %H:%M:%S')\n",
    "        req_date_obj = dt.datetime.strptime(req_date, '%Y-%m-%d %H:%M')\n",
    "        cal_time = req_date_obj-now_obj\n",
    "\n",
    "        rows.append(cal_time.days*24 +cal_time.seconds//60)\n",
    "\n",
    "        # STATUS \n",
    "        rows.append(row_req[16])\n",
    "\n",
    "\n",
    "        # DEL_MED\n",
    "        rows.append(row_req[6])\n",
    "\n",
    "        # REGION\n",
    "        tmp_sp = row_req[5].split(\" \")\n",
    "        region = tmp_sp[0]+\" \" + tmp_sp[1]\n",
    "        rows.append(region)\n",
    "\n",
    "\n",
    "        tmp = dict(zip(col_list,rows))\n",
    "        json_data.append(tmp)\n",
    "\n",
    "    df_fin = pd.DataFrame(json_data)\n",
    "    # from_to\n",
    "    if qry_condition[0] == None:\n",
    "        qry_condition[0] = dt.datetime(1999, 1, 1)\n",
    "    if qry_condition[1] == None:\n",
    "        qry_condition[1] = dt.datetime(2199, 1, 1)\n",
    "\n",
    "    df_fin['CREATE_DATE'] = df_fin['CREATE_DATE'].astype('datetime64[ns]')\n",
    "    df_fin = df_fin[df_fin['CREATE_DATE'].between(str(qry_condition[0]),str(qry_condition[1]))]\n",
    "    df_fin.reset_index(drop=True,inplace=True)\n",
    "    df_fin.index = df_fin.index +1\n",
    "    sel_sth.range('I11').value = df_fin\n",
    "\n",
    "    # # \n",
    "    last_row = sel_sth.range(\"J1048576\").end('up').row\n",
    "    if last_row < 12 :\n",
    "        last_row = 12\n",
    "    req_rng = sel_sth.range((12,\"I\"),(last_row,\"S\"))\n",
    "    req_rng.color = (253, 233, 217)\n",
    "    req_rng.font.bold = True\n",
    "\n"
   ]
  },
  {
   "cell_type": "code",
   "execution_count": 456,
   "id": "f05d8bb3",
   "metadata": {},
   "outputs": [],
   "source": [
    "bring_reuests()"
   ]
  },
  {
   "cell_type": "code",
   "execution_count": 434,
   "id": "fef65548",
   "metadata": {},
   "outputs": [
    {
     "data": {
      "text/plain": [
       "(253, 233, 217)"
      ]
     },
     "execution_count": 434,
     "metadata": {},
     "output_type": "execute_result"
    }
   ],
   "source": [
    "# 각 요청 다루기"
   ]
  },
  {
   "cell_type": "code",
   "execution_count": 485,
   "id": "d0f33fe1",
   "metadata": {},
   "outputs": [],
   "source": [
    "# 행 선택기능\n",
    "\n",
    "def select_reqeust():\n",
    "    sel_sth = wb_cy.selection.sheet\n",
    "    selected_cel = sel_sth.range(\"Q8\")\n",
    "    last_row = sel_sth.range(\"J1048576\").end('up').row\n",
    "    if last_row < 12 :\n",
    "        last_row = 12\n",
    "    req_rng = sel_sth.range((12,\"I\"),(last_row,\"S\"))\n",
    "    req_rng\n",
    "\n",
    "    sel_cel = wb_cy.selection.address\n",
    "    cel_row = wb_cy.selection.row\n",
    "    idx_cel_val = sel_sth.range(sel_cel).value\n",
    "    if ':' in sel_cel or ',' in sel_cel :  \n",
    "        wb_cy.app.alert(\"ML_INDEX 컬럼에서 원하는 한 개의 셀만 선택해주세요\")\n",
    "        return None\n",
    "    if \"J\" not in sel_cel : \n",
    "        wb_cy.app.alert(\"ML_INDEX 컬럼에서 원하는 한 개의 셀만 선택해주세요\")\n",
    "        return None\n",
    "    if cel_row < 12 : \n",
    "        wb_cy.app.alert(\"ML_INDEX 컬럼에서 값이 있는 선택해주세요\")\n",
    "        return None\n",
    "    if idx_cel_val == None : \n",
    "        wb_cy.app.alert(\"ML_INDEX 컬럼에서 값이 있는 선택해주세요\")\n",
    "        return None\n",
    "\n",
    "    selected_cel.value = idx_cel_val\n"
   ]
  },
  {
   "cell_type": "code",
   "execution_count": 501,
   "id": "0d5196f6",
   "metadata": {},
   "outputs": [],
   "source": [
    "select_reqeust()"
   ]
  },
  {
   "cell_type": "code",
   "execution_count": 520,
   "id": "3246eb5e",
   "metadata": {},
   "outputs": [],
   "source": [
    "## 메일열기\n",
    "def oepn_mail():\n",
    "    sel_sth = wb_cy.selection.sheet\n",
    "    selected_cel = sel_sth.range(\"Q8\")\n",
    "    if selected_cel.value == None:\n",
    "        wb_cy.app.alert(\"선택한 요청이 없습니다. 매서드를 종료합니다.\")\n",
    "        return None\n",
    "\n",
    "    req_type = selected_cel.value.split('_')[0]\n",
    "    import win32com.client as cli\n",
    "    outlook = cli.Dispatch(\"Outlook.Application\").GetNamespace(\"MAPI\") # 아웃룩\n",
    "    msg_list = outlook.GetDefaultFolder(6).Parent.Folders(req_type).Items\n",
    "    \n",
    "    for ms in msg_list:\n",
    "        if ms.Subject == selected_cel.value:\n",
    "            ms.Display()"
   ]
  },
  {
   "cell_type": "code",
   "execution_count": 521,
   "id": "d5c3962b",
   "metadata": {},
   "outputs": [],
   "source": [
    "oepn_mail()"
   ]
  },
  {
   "cell_type": "code",
   "execution_count": null,
   "id": "0a153db0",
   "metadata": {},
   "outputs": [],
   "source": [
    "def print_svc():\n",
    "    col_list =['ML_INDEX','REQ_TYPE','CREATE_DATE','REQ_DATE','PIC','IS_URGENT','LEFT_TIME',\n",
    "               'STATUS','DEL_MED','ADDRESS','IS_RETURN','RECIPIENT', 'DEL_INSTRUCTION','CONTACT','PARTS']\n",
    "    sel_sth = wb_cy.selection.sheet\n",
    "    selected_cel = sel_sth.range(\"Q8\")\n",
    "    svc_key = selected_cel.value\n",
    "    qry = base_qry + 'where svc_key =' +  f\"'{svc_key}'\"\n",
    "    sel_data = pd.DataFrame([cursor.execute(qry).fetchone()])\n",
    "    sel_data.loc[0]\n",
    "    \n",
    "    json_data=[]\n",
    "    row_req = sel_data.loc[0]\n",
    "\n",
    "    rows = []\n",
    "    # ML_INDEX\n",
    "    rows.append(row_req[0])\n",
    "    # REQ_TYPE\n",
    "    rows.append(row_req[0].split(\"_\")[0])\n",
    "    # CREATE_DATE\n",
    "    req_tl = json.loads(row_req[15])['data']\n",
    "    for tl in req_tl :\n",
    "        if tl['a'] == 'create' :\n",
    "            rows.append(tl['c'])\n",
    "    # REQ_DATE\n",
    "    req_date = row_req[3] + \" \"+ row_req[4]\n",
    "    rows.append(req_date)\n",
    "    # PIC\n",
    "    rows.append(row_req[1])\n",
    "    # IS_URGENT\n",
    "    rows.append(row_req[8])\n",
    "    # LEFT_TIME\n",
    "    now = str(dt.datetime.now()).split('.')[0]\n",
    "    now_obj = dt.datetime.strptime(now, '%Y-%m-%d %H:%M:%S')\n",
    "    req_date_obj = dt.datetime.strptime(req_date, '%Y-%m-%d %H:%M')\n",
    "    cal_time = req_date_obj-now_obj\n",
    "\n",
    "    rows.append(cal_time.days*24 +cal_time.seconds//60)\n",
    "\n",
    "    # STATUS \n",
    "    rows.append(row_req[16])\n",
    "\n",
    "\n",
    "    # DEL_MED\n",
    "    rows.append(row_req[6])\n",
    "\n",
    "    # ADDRESS\n",
    "    rows.append(row_req[5])\n",
    "\n",
    "    # IS_RETURN 7\n",
    "    rows.append(row_req[7])\n",
    "    # RECIPIENT 9\n",
    "    rows.append(row_req[9])\n",
    "    # DEL_INSTRUCTION 12\n",
    "    rows.append(row_req[12])\n",
    "    # CONTACT  10\n",
    "    rows.append(row_req[10])\n",
    "    # PARTS\n",
    "    parts_dict = json.loads(row_req[13].replace(\"'\",'\"'))\n",
    "    df_parts = pd.DataFrame(parts_dict)\n",
    "    df_parts.index = df_parts.index+1\n",
    "    rows.append(df_parts)\n",
    "\n",
    "    tmp = dict(zip(col_list,rows))\n",
    "    json_data.append(tmp)\n",
    "\n",
    "    df_fin = pd.DataFrame(json_data)\n",
    "    \n",
    "    print_form_dir = \"C:\\\\Users\\\\lms46\\\\Desktop\\\\fulfill\\\\xlwings_job\\\\print_form.xlsx\"\n",
    "    try:\n",
    "        ws_svc= xw.Book('print_form.xlsx').sheets['SVC']\n",
    "    except :\n",
    "        ws_svc= xw.Book(print_form_dir).sheets['SVC']\n",
    "\n",
    "    ws_svc.range('B21:H40').clear_contents()\n",
    "\n",
    "    ws_svc.range('E2').value = df_fin.loc[0]['ML_INDEX']\n",
    "        # Printed Day E3\n",
    "    ws_svc.range('E3').value = get_current_time()\n",
    "        # Delievery Type E5\n",
    "    ws_svc.range('E5').value = df_fin.loc[0]['DEL_MED']\n",
    "\n",
    "    is_return = None\n",
    "\n",
    "    if is_return != None:\n",
    "        is_return = '왕복'\n",
    "\n",
    "        # Recipient B6\n",
    "    ws_svc.range('B6').value = df_fin.loc[0]['RECIPIENT']\n",
    "        # Contact E6\n",
    "    ws_svc.range('E6').value = df_fin.loc[0]['CONTACT']\n",
    "        # Request day A10\n",
    "    ws_svc.range('A10').value  = df_fin.loc[0]['REQ_DATE']\n",
    "        # IS_RETURN A11\n",
    "    ws_svc.range('A11').value  = df_fin.loc[0]['IS_RETURN']\n",
    "        # Address D10\n",
    "    ws_svc.range('D10').value = df_fin.loc[0]['ADDRESS']\n",
    "        # Deilevery Instructions A14\n",
    "    ws_svc.range('A14').value = df_fin.loc[0]['DEL_INSTRUCTION']\n",
    "        # parts_info A20\n",
    "    ws_svc.range('A20').value = df_fin.loc[0]['PARTS']\n",
    "        # Depart From B41\n",
    "    ws_svc.range('B41').value = '서울시 강서구 하늘길 247 3층 C구역'\n",
    "        # TEL B42\n",
    "    ws_svc.range('B42').value = '02-2660-3767'\n",
    "        # Phone B43\n",
    "    ws_svc.range('B43').value = '담당자 폰번호'\n",
    "        # URGENT E41\n",
    "    is_urgent = df_fin.loc[0]['IS_URGENT']\n",
    "    if is_urgent != None:\n",
    "        is_urgent = '긴급' \n",
    "\n",
    "    ws_svc.range('E41').value = is_urgent\n",
    "\n",
    "    # 바코드 생성\n",
    "    pic = save_barcode_loc(shape_name)\n",
    "    top = ws_svc.range('E41').top\n",
    "    left = ws_svc.range('E41').left\n",
    "    ws_svc.pictures.add(pic, name='barcode',update=True,\n",
    "                        top=top,left=left,scale=0.55)\n",
    "    os.remove(pic)\n",
    "    ws_svc.pictures[-1].lock_aspect_ratio =False\n",
    "    ws_svc.pictures[-1].width = 262\n",
    "    ws_svc.pictures[-1].height = 51"
   ]
  },
  {
   "cell_type": "code",
   "execution_count": 622,
   "id": "8963820e",
   "metadata": {},
   "outputs": [
    {
     "data": {
      "text/plain": [
       "'pick/pack'"
      ]
     },
     "execution_count": 622,
     "metadata": {},
     "output_type": "execute_result"
    }
   ],
   "source": [
    "STATUS[1]"
   ]
  },
  {
   "cell_type": "code",
   "execution_count": 624,
   "id": "0acf2275",
   "metadata": {},
   "outputs": [
    {
     "data": {
      "text/plain": [
       "'[{\"a\": \"create\", \"b\": \"0\", \"c\": \"2023-02-22 15:32:38\"}]'"
      ]
     },
     "execution_count": 624,
     "metadata": {},
     "output_type": "execute_result"
    }
   ],
   "source": [
    "json.dumps(up_time_content,ensure_ascii=False)"
   ]
  },
  {
   "cell_type": "code",
   "execution_count": 631,
   "id": "77755324",
   "metadata": {},
   "outputs": [
    {
     "data": {
      "text/plain": [
       "'{\"meta\": {\"desc\": \"data_update_timeline\", \"cols\": {\"a\": \"db_method\", \"b\": \"count\", \"c\": \"timeline\"}}, \"data\": [{\"a\": \"create\", \"b\": \"0\", \"c\": \"2023-02-22 15:32:38\"}]}'"
      ]
     },
     "execution_count": 631,
     "metadata": {},
     "output_type": "execute_result"
    }
   ],
   "source": [
    "req_tl = pd.DataFrame([cursor.execute(qry).fetchone()])[15][0]\n",
    "sel_sth = wb_cy.selection.sheet\n",
    "selected_cel = sel_sth.range(\"Q8\")\n",
    "svc_key = selected_cel.value\n",
    "up_time_content = req_tl\n",
    "req_tl\n"
   ]
  },
  {
   "cell_type": "code",
   "execution_count": 632,
   "id": "da9d62fb",
   "metadata": {},
   "outputs": [],
   "source": [
    "js_test = '{\"meta\": {\"desc\": \"data_update_timeline\", \"cols\": {\"a\": \"db_method\", \"b\": \"count\", \"c\": \"timeline\"}}, \"data\": [{\"a\": \"create\", \"b\": \"0\", \"c\": \"2023-02-22 13:20:17\"}, {\"a\": \"update\", \"b\": \"1\", \"c\": \"2023-02-25 17:28:02\"}]}'"
   ]
  },
  {
   "cell_type": "code",
   "execution_count": 634,
   "id": "e4ef3501",
   "metadata": {
    "scrolled": false
   },
   "outputs": [
    {
     "data": {
      "text/plain": [
       "[{'a': 'create', 'b': '0', 'c': '2023-02-22 13:20:17'},\n",
       " {'a': 'update', 'b': '1', 'c': '2023-02-25 17:28:02'}]"
      ]
     },
     "execution_count": 634,
     "metadata": {},
     "output_type": "execute_result"
    }
   ],
   "source": [
    "json.loads(js_test)['data']"
   ]
  },
  {
   "cell_type": "code",
   "execution_count": 643,
   "id": "9004bef9",
   "metadata": {},
   "outputs": [
    {
     "data": {
      "text/plain": [
       "'requested'"
      ]
     },
     "execution_count": 643,
     "metadata": {},
     "output_type": "execute_result"
    }
   ],
   "source": [
    "req_tl = pd.DataFrame([cursor.execute(qry).fetchone()])[16][0]\n",
    "req_tl"
   ]
  },
  {
   "cell_type": "code",
   "execution_count": 638,
   "id": "162698c5",
   "metadata": {},
   "outputs": [
    {
     "data": {
      "text/plain": [
       "'no'"
      ]
     },
     "execution_count": 638,
     "metadata": {},
     "output_type": "execute_result"
    }
   ],
   "source": [
    "selected_cel = self.SEL_STH.range(\"Q8\")\n",
    "if selected_cel.value == None:\n",
    "    wb_cy.app.alert(\"선택한 요청이 없습니다. 매서드를 종료합니다.\",'Quit')\n",
    "    return None\n",
    "req_confirm = wb_cy.app.alert('출고하시겠습니까? STATUS는 dispatched로 변경됩니다.','Ship Confirm Request',buttons ='yes_no_cancel')\n",
    "if req_confirm != 'yes':\n",
    "    wb_cy.app.alert('종료합니다.','Quit')\n",
    "    return None"
   ]
  },
  {
   "cell_type": "code",
   "execution_count": null,
   "id": "9b11f127",
   "metadata": {},
   "outputs": [],
   "source": [
    "# SHIP_CONFIRM dispathed\n",
    "selected_cel = sel_sth.range(\"Q8\")\n",
    "svc_key = selected_cel.value\n",
    "qry = self.BASE_QRY + 'where svc_key =' +  f\"'{svc_key}'\"\n",
    "up_time_content = pd.DataFrame([DataWarehouse().execute(qry).fetchone()])[15][0]\n",
    "status = self.STATUS[2] # dispatched\n",
    "\n",
    "\n",
    "# ServiceRequest.update_status(svc_key,up_time_content,status)"
   ]
  },
  {
   "cell_type": "code",
   "execution_count": null,
   "id": "ecbc3d68",
   "metadata": {},
   "outputs": [],
   "source": []
  },
  {
   "cell_type": "code",
   "execution_count": 666,
   "id": "96dc39c8",
   "metadata": {
    "scrolled": true
   },
   "outputs": [
    {
     "name": "stdout",
     "output_type": "stream",
     "text": [
      "C:\\Users\\lms46\\Desktop\\fulfill\\jp\n"
     ]
    }
   ],
   "source": [
    "print(os.path.abspath('.'))"
   ]
  },
  {
   "cell_type": "code",
   "execution_count": 672,
   "id": "c67b8507",
   "metadata": {},
   "outputs": [
    {
     "ename": "NameError",
     "evalue": "name '__file__' is not defined",
     "output_type": "error",
     "traceback": [
      "\u001b[1;31m---------------------------------------------------------------------------\u001b[0m",
      "\u001b[1;31mNameError\u001b[0m                                 Traceback (most recent call last)",
      "Cell \u001b[1;32mIn [672], line 1\u001b[0m\n\u001b[1;32m----> 1\u001b[0m \u001b[38;5;28mprint\u001b[39m(\u001b[38;5;124mf\u001b[39m\u001b[38;5;124m'\u001b[39m\u001b[38;5;124m__file__ : \u001b[39m\u001b[38;5;132;01m{\u001b[39;00m\u001b[38;5;18m__file__\u001b[39m\u001b[38;5;132;01m}\u001b[39;00m\u001b[38;5;124m'\u001b[39m)\n",
      "\u001b[1;31mNameError\u001b[0m: name '__file__' is not defined"
     ]
    }
   ],
   "source": [
    "print(f'__file__ : {__file__}')"
   ]
  },
  {
   "cell_type": "code",
   "execution_count": 671,
   "id": "fe1cb730",
   "metadata": {
    "scrolled": true
   },
   "outputs": [
    {
     "ename": "NameError",
     "evalue": "name '__file__' is not defined",
     "output_type": "error",
     "traceback": [
      "\u001b[1;31m---------------------------------------------------------------------------\u001b[0m",
      "\u001b[1;31mNameError\u001b[0m                                 Traceback (most recent call last)",
      "Cell \u001b[1;32mIn [671], line 1\u001b[0m\n\u001b[1;32m----> 1\u001b[0m path \u001b[38;5;241m=\u001b[39m os\u001b[38;5;241m.\u001b[39mpath\u001b[38;5;241m.\u001b[39mdirname(os\u001b[38;5;241m.\u001b[39mpath\u001b[38;5;241m.\u001b[39mabspath(\u001b[38;5;18;43m__file__\u001b[39;49m)) \n\u001b[0;32m      2\u001b[0m \u001b[38;5;28mprint\u001b[39m(path)\n",
      "\u001b[1;31mNameError\u001b[0m: name '__file__' is not defined"
     ]
    }
   ],
   "source": [
    "path = os.path.dirname(os.path.abspath(__file__)) \n",
    "print(path)"
   ]
  },
  {
   "cell_type": "code",
   "execution_count": 27,
   "id": "3307b5a6",
   "metadata": {},
   "outputs": [
    {
     "data": {
      "text/plain": [
       "20490"
      ]
     },
     "execution_count": 27,
     "metadata": {},
     "output_type": "execute_result"
    }
   ],
   "source": [
    "19793\n",
    "19794\n",
    "20454\n",
    "20490"
   ]
  },
  {
   "cell_type": "code",
   "execution_count": 31,
   "id": "98f28924",
   "metadata": {},
   "outputs": [
    {
     "ename": "KeyError",
     "evalue": "0",
     "output_type": "error",
     "traceback": [
      "\u001b[1;31m---------------------------------------------------------------------------\u001b[0m",
      "\u001b[1;31mKeyError\u001b[0m                                  Traceback (most recent call last)",
      "File \u001b[1;32m~\\AppData\\Local\\Packages\\PythonSoftwareFoundation.Python.3.10_qbz5n2kfra8p0\\LocalCache\\local-packages\\Python310\\site-packages\\pandas\\core\\indexes\\base.py:3803\u001b[0m, in \u001b[0;36mIndex.get_loc\u001b[1;34m(self, key, method, tolerance)\u001b[0m\n\u001b[0;32m   3802\u001b[0m \u001b[38;5;28;01mtry\u001b[39;00m:\n\u001b[1;32m-> 3803\u001b[0m     \u001b[38;5;28;01mreturn\u001b[39;00m \u001b[38;5;28;43mself\u001b[39;49m\u001b[38;5;241;43m.\u001b[39;49m\u001b[43m_engine\u001b[49m\u001b[38;5;241;43m.\u001b[39;49m\u001b[43mget_loc\u001b[49m\u001b[43m(\u001b[49m\u001b[43mcasted_key\u001b[49m\u001b[43m)\u001b[49m\n\u001b[0;32m   3804\u001b[0m \u001b[38;5;28;01mexcept\u001b[39;00m \u001b[38;5;167;01mKeyError\u001b[39;00m \u001b[38;5;28;01mas\u001b[39;00m err:\n",
      "File \u001b[1;32m~\\AppData\\Local\\Packages\\PythonSoftwareFoundation.Python.3.10_qbz5n2kfra8p0\\LocalCache\\local-packages\\Python310\\site-packages\\pandas\\_libs\\index.pyx:138\u001b[0m, in \u001b[0;36mpandas._libs.index.IndexEngine.get_loc\u001b[1;34m()\u001b[0m\n",
      "File \u001b[1;32m~\\AppData\\Local\\Packages\\PythonSoftwareFoundation.Python.3.10_qbz5n2kfra8p0\\LocalCache\\local-packages\\Python310\\site-packages\\pandas\\_libs\\index.pyx:165\u001b[0m, in \u001b[0;36mpandas._libs.index.IndexEngine.get_loc\u001b[1;34m()\u001b[0m\n",
      "File \u001b[1;32mpandas\\_libs\\hashtable_class_helper.pxi:5745\u001b[0m, in \u001b[0;36mpandas._libs.hashtable.PyObjectHashTable.get_item\u001b[1;34m()\u001b[0m\n",
      "File \u001b[1;32mpandas\\_libs\\hashtable_class_helper.pxi:5753\u001b[0m, in \u001b[0;36mpandas._libs.hashtable.PyObjectHashTable.get_item\u001b[1;34m()\u001b[0m\n",
      "\u001b[1;31mKeyError\u001b[0m: 0",
      "\nThe above exception was the direct cause of the following exception:\n",
      "\u001b[1;31mKeyError\u001b[0m                                  Traceback (most recent call last)",
      "Cell \u001b[1;32mIn [31], line 1\u001b[0m\n\u001b[1;32m----> 1\u001b[0m json_tl \u001b[38;5;241m=\u001b[39m \u001b[43mpd\u001b[49m\u001b[38;5;241;43m.\u001b[39;49m\u001b[43mDataFrame\u001b[49m\u001b[43m(\u001b[49m\u001b[43mcursor\u001b[49m\u001b[38;5;241;43m.\u001b[39;49m\u001b[43mexecute\u001b[49m\u001b[43m(\u001b[49m\u001b[38;5;124;43m\"\u001b[39;49m\u001b[38;5;124;43mSELECT TIMELINE FROM SHIPMENT_INFORMATION WHERE SI_INDEX = 20490\u001b[39;49m\u001b[38;5;124;43m\"\u001b[39;49m\u001b[43m)\u001b[49m\u001b[38;5;241;43m.\u001b[39;49m\u001b[43mfetchone\u001b[49m\u001b[43m(\u001b[49m\u001b[43m)\u001b[49m\u001b[43m)\u001b[49m\u001b[43m[\u001b[49m\u001b[38;5;241;43m0\u001b[39;49m\u001b[43m]\u001b[49m[\u001b[38;5;241m0\u001b[39m]\n\u001b[0;32m      2\u001b[0m json_tl\n",
      "File \u001b[1;32m~\\AppData\\Local\\Packages\\PythonSoftwareFoundation.Python.3.10_qbz5n2kfra8p0\\LocalCache\\local-packages\\Python310\\site-packages\\pandas\\core\\frame.py:3804\u001b[0m, in \u001b[0;36mDataFrame.__getitem__\u001b[1;34m(self, key)\u001b[0m\n\u001b[0;32m   3802\u001b[0m \u001b[38;5;28;01mif\u001b[39;00m \u001b[38;5;28mself\u001b[39m\u001b[38;5;241m.\u001b[39mcolumns\u001b[38;5;241m.\u001b[39mnlevels \u001b[38;5;241m>\u001b[39m \u001b[38;5;241m1\u001b[39m:\n\u001b[0;32m   3803\u001b[0m     \u001b[38;5;28;01mreturn\u001b[39;00m \u001b[38;5;28mself\u001b[39m\u001b[38;5;241m.\u001b[39m_getitem_multilevel(key)\n\u001b[1;32m-> 3804\u001b[0m indexer \u001b[38;5;241m=\u001b[39m \u001b[38;5;28;43mself\u001b[39;49m\u001b[38;5;241;43m.\u001b[39;49m\u001b[43mcolumns\u001b[49m\u001b[38;5;241;43m.\u001b[39;49m\u001b[43mget_loc\u001b[49m\u001b[43m(\u001b[49m\u001b[43mkey\u001b[49m\u001b[43m)\u001b[49m\n\u001b[0;32m   3805\u001b[0m \u001b[38;5;28;01mif\u001b[39;00m is_integer(indexer):\n\u001b[0;32m   3806\u001b[0m     indexer \u001b[38;5;241m=\u001b[39m [indexer]\n",
      "File \u001b[1;32m~\\AppData\\Local\\Packages\\PythonSoftwareFoundation.Python.3.10_qbz5n2kfra8p0\\LocalCache\\local-packages\\Python310\\site-packages\\pandas\\core\\indexes\\base.py:3805\u001b[0m, in \u001b[0;36mIndex.get_loc\u001b[1;34m(self, key, method, tolerance)\u001b[0m\n\u001b[0;32m   3803\u001b[0m     \u001b[38;5;28;01mreturn\u001b[39;00m \u001b[38;5;28mself\u001b[39m\u001b[38;5;241m.\u001b[39m_engine\u001b[38;5;241m.\u001b[39mget_loc(casted_key)\n\u001b[0;32m   3804\u001b[0m \u001b[38;5;28;01mexcept\u001b[39;00m \u001b[38;5;167;01mKeyError\u001b[39;00m \u001b[38;5;28;01mas\u001b[39;00m err:\n\u001b[1;32m-> 3805\u001b[0m     \u001b[38;5;28;01mraise\u001b[39;00m \u001b[38;5;167;01mKeyError\u001b[39;00m(key) \u001b[38;5;28;01mfrom\u001b[39;00m \u001b[38;5;21;01merr\u001b[39;00m\n\u001b[0;32m   3806\u001b[0m \u001b[38;5;28;01mexcept\u001b[39;00m \u001b[38;5;167;01mTypeError\u001b[39;00m:\n\u001b[0;32m   3807\u001b[0m     \u001b[38;5;66;03m# If we have a listlike key, _check_indexing_error will raise\u001b[39;00m\n\u001b[0;32m   3808\u001b[0m     \u001b[38;5;66;03m#  InvalidIndexError. Otherwise we fall through and re-raise\u001b[39;00m\n\u001b[0;32m   3809\u001b[0m     \u001b[38;5;66;03m#  the TypeError.\u001b[39;00m\n\u001b[0;32m   3810\u001b[0m     \u001b[38;5;28mself\u001b[39m\u001b[38;5;241m.\u001b[39m_check_indexing_error(key)\n",
      "\u001b[1;31mKeyError\u001b[0m: 0"
     ]
    }
   ],
   "source": [
    "json_tl = pd.DataFrame(cursor.execute(\"SELECT TIMELINE FROM SHIPMENT_INFORMATION WHERE SI_INDEX = 20490\").fetchone())[0][0]\n",
    "json_tl"
   ]
  },
  {
   "cell_type": "code",
   "execution_count": 44,
   "id": "b2ef8086",
   "metadata": {},
   "outputs": [
    {
     "data": {
      "text/plain": [
       "'{\"meta\": {\"desc\": \"data_update_timeline\", \"cols\": {\"a\": \"db_method\", \"b\": \"count\", \"c\": \"timeline\"}}, \"data\": [{\"a\": \"create\", \"b\": \"0\", \"c\": \"2023-02-16 11:05:27\"}]}'"
      ]
     },
     "execution_count": 44,
     "metadata": {},
     "output_type": "execute_result"
    }
   ],
   "source": [
    "json_tl = cursor.execute(\"SELECT TIMELINE FROM SHIPMENT_INFORMATION WHERE SI_INDEX = 19783\").fetchone()[0]\n",
    "json_tl"
   ]
  },
  {
   "cell_type": "code",
   "execution_count": 45,
   "id": "9b3eb660",
   "metadata": {},
   "outputs": [],
   "source": [
    "import datetime as dt"
   ]
  },
  {
   "cell_type": "code",
   "execution_count": 46,
   "id": "d6a22274",
   "metadata": {
    "scrolled": true
   },
   "outputs": [
    {
     "data": {
      "text/plain": [
       "'{\"meta\": {\"desc\": \"data_update_timeline\", \"cols\": {\"a\": \"db_method\", \"b\": \"count\", \"c\": \"timeline\"}}, \"data\": [{\"a\": \"create\", \"b\": \"0\", \"c\": \"2023-02-16 11:05:27\"}, {\"a\": \"update\", \"b\": \"1\", \"c\": \"2023-02-27 14:52:05\"}]}'"
      ]
     },
     "execution_count": 46,
     "metadata": {},
     "output_type": "execute_result"
    }
   ],
   "source": [
    "import json\n",
    "data=[]\n",
    "cols=['a','b','c']\n",
    "load_json = json.loads(json_tl)['data']\n",
    "load_json\n",
    "update_count=len(load_json)\n",
    "rows=[]\n",
    "now = str(dt.datetime.now()).split('.')[0]\n",
    "rows.append('update')\n",
    "rows.append(str(update_count))\n",
    "rows.append(now)\n",
    "tmp = dict(zip(cols,rows))\n",
    "load_json.append(tmp)\n",
    "res = {\n",
    "    'meta':{\n",
    "        'desc':'data_update_timeline',\n",
    "\n",
    "        'cols':{\n",
    "            'a':'db_method',\n",
    "            'b':'count',\n",
    "            'c':'timeline',\n",
    "\n",
    "        }\n",
    "    },\n",
    "    'data':load_json\n",
    "}\n",
    "json.dumps(res,ensure_ascii=False)"
   ]
  },
  {
   "cell_type": "code",
   "execution_count": 41,
   "id": "346eb206",
   "metadata": {
    "collapsed": true
   },
   "outputs": [
    {
     "data": {
      "text/plain": [
       "['닥터바이오',\n",
       " '동일과학',\n",
       " '바이나리',\n",
       " '바이오토프',\n",
       " '비앤비대전',\n",
       " '서린바이오사이언스',\n",
       " '유비코리아',\n",
       " '이효바이오사이언스',\n",
       " '지더블유바이텍가산',\n",
       " '지더블유바이텍광주',\n",
       " '지더블유바이텍화성']"
      ]
     },
     "execution_count": 41,
     "metadata": {},
     "output_type": "execute_result"
    }
   ],
   "source": [
    "branch_list = cursor.execute('select branch_name from branch').fetchall()\n",
    "branch_list = list(map(lambda e: str(e).replace(\"('\",\"\").replace(\"',)\",\"\")\n",
    "                    ,branch_list))\n",
    "branch_list"
   ]
  },
  {
   "cell_type": "code",
   "execution_count": 81,
   "id": "5469f418",
   "metadata": {},
   "outputs": [
    {
     "data": {
      "text/html": [
       "<div>\n",
       "<style scoped>\n",
       "    .dataframe tbody tr th:only-of-type {\n",
       "        vertical-align: middle;\n",
       "    }\n",
       "\n",
       "    .dataframe tbody tr th {\n",
       "        vertical-align: top;\n",
       "    }\n",
       "\n",
       "    .dataframe thead th {\n",
       "        text-align: right;\n",
       "    }\n",
       "</style>\n",
       "<table border=\"1\" class=\"dataframe\">\n",
       "  <thead>\n",
       "    <tr style=\"text-align: right;\">\n",
       "      <th></th>\n",
       "      <th>0</th>\n",
       "      <th>1</th>\n",
       "      <th>2</th>\n",
       "      <th>3</th>\n",
       "      <th>4</th>\n",
       "      <th>5</th>\n",
       "      <th>6</th>\n",
       "      <th>7</th>\n",
       "      <th>8</th>\n",
       "      <th>9</th>\n",
       "      <th>10</th>\n",
       "      <th>11</th>\n",
       "      <th>12</th>\n",
       "      <th>13</th>\n",
       "      <th>14</th>\n",
       "      <th>15</th>\n",
       "      <th>16</th>\n",
       "      <th>17</th>\n",
       "      <th>18</th>\n",
       "    </tr>\n",
       "  </thead>\n",
       "  <tbody>\n",
       "    <tr>\n",
       "      <th>0</th>\n",
       "      <td>20454</td>\n",
       "      <td>564073221574</td>\n",
       "      <td>None</td>\n",
       "      <td>None</td>\n",
       "      <td>1</td>\n",
       "      <td>2022-10-27</td>\n",
       "      <td>2124862</td>\n",
       "      <td>639.0</td>\n",
       "      <td>None</td>\n",
       "      <td>SK바이오사이언스</td>\n",
       "      <td>2023-02-28</td>\n",
       "      <td>None</td>\n",
       "      <td>None</td>\n",
       "      <td>None</td>\n",
       "      <td>CASE#07544652_KJJ_7700177337</td>\n",
       "      <td>TGD0000072866</td>\n",
       "      <td>None</td>\n",
       "      <td>HOLDING</td>\n",
       "      <td>2023-02-27 14:58:27</td>\n",
       "    </tr>\n",
       "    <tr>\n",
       "      <th>1</th>\n",
       "      <td>19793</td>\n",
       "      <td>DSV0317774</td>\n",
       "      <td>115366785</td>\n",
       "      <td>139706987</td>\n",
       "      <td>1</td>\n",
       "      <td>2022-10-06</td>\n",
       "      <td>None</td>\n",
       "      <td>None</td>\n",
       "      <td>None</td>\n",
       "      <td>비엠아이</td>\n",
       "      <td>2023-02-28</td>\n",
       "      <td>None</td>\n",
       "      <td>None</td>\n",
       "      <td>None</td>\n",
       "      <td>MGK_BMI_Q-264311 V0_AKTA</td>\n",
       "      <td>UPD3343451</td>\n",
       "      <td>None</td>\n",
       "      <td>HOLDING</td>\n",
       "      <td>2023-02-27 15:05:33</td>\n",
       "    </tr>\n",
       "    <tr>\n",
       "      <th>2</th>\n",
       "      <td>19640</td>\n",
       "      <td>EWR0367042</td>\n",
       "      <td>115365652</td>\n",
       "      <td>139627083</td>\n",
       "      <td>1</td>\n",
       "      <td>2022-10-03</td>\n",
       "      <td>2120468</td>\n",
       "      <td>None</td>\n",
       "      <td>None</td>\n",
       "      <td>바이넥스</td>\n",
       "      <td>2023-02-28</td>\n",
       "      <td>None</td>\n",
       "      <td>None</td>\n",
       "      <td>None</td>\n",
       "      <td>BJH_BINEX_KR21-BJ-216-v0_Safetystock-\\nBAG</td>\n",
       "      <td>PYD002908351</td>\n",
       "      <td>None</td>\n",
       "      <td>HOLDING</td>\n",
       "      <td>2023-02-27 15:05:33</td>\n",
       "    </tr>\n",
       "    <tr>\n",
       "      <th>3</th>\n",
       "      <td>19641</td>\n",
       "      <td>EWR0367042</td>\n",
       "      <td>115365652</td>\n",
       "      <td>139627083</td>\n",
       "      <td>1</td>\n",
       "      <td>2022-10-03</td>\n",
       "      <td>2120468</td>\n",
       "      <td>None</td>\n",
       "      <td>None</td>\n",
       "      <td>바이넥스</td>\n",
       "      <td>2023-02-28</td>\n",
       "      <td>None</td>\n",
       "      <td>None</td>\n",
       "      <td>None</td>\n",
       "      <td>BJH_BINEX_KR21-BJ-216-v0_Safetystock-\\nBAG</td>\n",
       "      <td>PYD002908347</td>\n",
       "      <td>None</td>\n",
       "      <td>HOLDING</td>\n",
       "      <td>2023-02-27 15:05:33</td>\n",
       "    </tr>\n",
       "    <tr>\n",
       "      <th>4</th>\n",
       "      <td>19794</td>\n",
       "      <td>DSV0317774</td>\n",
       "      <td>115368022</td>\n",
       "      <td>139712543</td>\n",
       "      <td>1</td>\n",
       "      <td>2022-10-06</td>\n",
       "      <td>None</td>\n",
       "      <td>None</td>\n",
       "      <td>None</td>\n",
       "      <td>비엠아이</td>\n",
       "      <td>2023-02-28</td>\n",
       "      <td>None</td>\n",
       "      <td>None</td>\n",
       "      <td>None</td>\n",
       "      <td>MGK_BMI_Q-264311 V0_AKTA</td>\n",
       "      <td>UPD3343368</td>\n",
       "      <td>None</td>\n",
       "      <td>HOLDING</td>\n",
       "      <td>2023-02-27 15:05:33</td>\n",
       "    </tr>\n",
       "  </tbody>\n",
       "</table>\n",
       "</div>"
      ],
      "text/plain": [
       "      0             1          2          3  4           5        6      7   \\\n",
       "0  20454  564073221574       None       None  1  2022-10-27  2124862  639.0   \n",
       "1  19793    DSV0317774  115366785  139706987  1  2022-10-06     None   None   \n",
       "2  19640    EWR0367042  115365652  139627083  1  2022-10-03  2120468   None   \n",
       "3  19641    EWR0367042  115365652  139627083  1  2022-10-03  2120468   None   \n",
       "4  19794    DSV0317774  115368022  139712543  1  2022-10-06     None   None   \n",
       "\n",
       "     8          9           10    11    12    13  \\\n",
       "0  None  SK바이오사이언스  2023-02-28  None  None  None   \n",
       "1  None       비엠아이  2023-02-28  None  None  None   \n",
       "2  None       바이넥스  2023-02-28  None  None  None   \n",
       "3  None       바이넥스  2023-02-28  None  None  None   \n",
       "4  None       비엠아이  2023-02-28  None  None  None   \n",
       "\n",
       "                                           14             15    16       17  \\\n",
       "0                CASE#07544652_KJJ_7700177337  TGD0000072866  None  HOLDING   \n",
       "1                    MGK_BMI_Q-264311 V0_AKTA     UPD3343451  None  HOLDING   \n",
       "2  BJH_BINEX_KR21-BJ-216-v0_Safetystock-\\nBAG   PYD002908351  None  HOLDING   \n",
       "3  BJH_BINEX_KR21-BJ-216-v0_Safetystock-\\nBAG   PYD002908347  None  HOLDING   \n",
       "4                    MGK_BMI_Q-264311 V0_AKTA     UPD3343368  None  HOLDING   \n",
       "\n",
       "                    18  \n",
       "0  2023-02-27 14:58:27  \n",
       "1  2023-02-27 15:05:33  \n",
       "2  2023-02-27 15:05:33  \n",
       "3  2023-02-27 15:05:33  \n",
       "4  2023-02-27 15:05:33  "
      ]
     },
     "execution_count": 81,
     "metadata": {},
     "output_type": "execute_result"
    }
   ],
   "source": [
    "tl_str = df_in[18][0]\n",
    "df_in[18] = df_in[18].map(lambda e: json.loads(e)['data'][-1]['c'])\n",
    "df_in"
   ]
  },
  {
   "cell_type": "code",
   "execution_count": null,
   "id": "8f0132bb",
   "metadata": {},
   "outputs": [],
   "source": [
    "recent_changed = json.loads(tl_str)['data'][-1]['c']"
   ]
  },
  {
   "cell_type": "code",
   "execution_count": 80,
   "id": "46b1a60a",
   "metadata": {},
   "outputs": [
    {
     "data": {
      "text/plain": [
       "'2124862'"
      ]
     },
     "execution_count": 80,
     "metadata": {},
     "output_type": "execute_result"
    }
   ],
   "source": [
    "df_in =pd.DataFrame( cursor.execute(\"select * from SHIPMENT_INFORMATION where ARRIVAL_DATE = '2023-02-28'\").fetchall())\n",
    "df_in[6].iloc[0]\n",
    "# svc_idx_list = []\n",
    "# branch_idx_list = []\n",
    "# for i in range(len(df_in)):\n",
    "#     order_nm = df_in[6].iloc[i]\n",
    "#     ship_to = df_in[10].iloc[i]\n",
    "#     if 'IR-SM' in order_nm:\n",
    "#         svc_idx_list.append(df_in[0].iloc[i])\n",
    "#     else:\n",
    "#         for br_name in branch_list:\n",
    "#             if br_name in ship_to:\n",
    "#                 branch_idx_list.append(df_in[0].iloc[i])"
   ]
  },
  {
   "cell_type": "code",
   "execution_count": 59,
   "id": "5158173f",
   "metadata": {},
   "outputs": [],
   "source": [
    "\n",
    "branch_list = list(pd.DataFrame(cursor.execute('select * from branch').fetchall())[0])"
   ]
  },
  {
   "cell_type": "code",
   "execution_count": 52,
   "id": "244233ab",
   "metadata": {},
   "outputs": [
    {
     "data": {
      "text/plain": [
       "'            0     1                  2\\n0        동일과학  None  lms4678@naver.com\\n1   이효바이오사이언스  None  lms4678@naver.com\\n2   서린바이오사이언스  None  lms4678@naver.com\\n3       비앤비대전  None  lms4678@naver.com\\n4       바이오토프  None  lms4678@naver.com\\n5       유비코리아  None  lms4678@naver.com\\n6        바이나리  None  lms4678@naver.com\\n7   지더블유바이텍가산  None  lms4678@naver.com\\n8   지더블유바이텍화성  None  lms4678@naver.com\\n9       닥터바이오  None  lms4678@naver.com\\n10  지더블유바이텍광주  None  lms4678@naver.com'"
      ]
     },
     "execution_count": 52,
     "metadata": {},
     "output_type": "execute_result"
    }
   ],
   "source": [
    "df_1 = pd.DataFrame(cursor.execute('select * from branch').fetchall())\n",
    "df_1.to_string()"
   ]
  }
 ],
 "metadata": {
  "kernelspec": {
   "display_name": "Python 3 (ipykernel)",
   "language": "python",
   "name": "python3"
  },
  "language_info": {
   "codemirror_mode": {
    "name": "ipython",
    "version": 3
   },
   "file_extension": ".py",
   "mimetype": "text/x-python",
   "name": "python",
   "nbconvert_exporter": "python",
   "pygments_lexer": "ipython3",
   "version": "3.10.10"
  }
 },
 "nbformat": 4,
 "nbformat_minor": 5
}

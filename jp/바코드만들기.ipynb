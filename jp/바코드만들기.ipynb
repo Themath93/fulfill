{
 "cells": [
  {
   "cell_type": "code",
   "execution_count": 1,
   "id": "486e283d",
   "metadata": {},
   "outputs": [],
   "source": [
    "import xlwings as xw\n",
    "import pandas as pd\n",
    "wb_cy = xw.Book('cytiva.xlsm')\n",
    "SHEET_NAMES =  ['Temp_DB', 'Shipment information', '인수증', \n",
    "'대리점송장', '대리점 출고대기', '로컬리스트', 'In-Transit part report', '기타리스트',\n",
    " '출고리스트', 'Cytiva Inventory BIN']"
   ]
  },
  {
   "cell_type": "code",
   "execution_count": 2,
   "id": "35e5a725",
   "metadata": {},
   "outputs": [
    {
     "name": "stdout",
     "output_type": "stream",
     "text": [
      "Collecting python-barcode\n",
      "  Downloading python_barcode-0.14.0-py3-none-any.whl (212 kB)\n",
      "     -------------------------------------- 212.9/212.9 kB 6.3 MB/s eta 0:00:00\n",
      "Installing collected packages: python-barcode\n",
      "Successfully installed python-barcode-0.14.0\n"
     ]
    },
    {
     "name": "stderr",
     "output_type": "stream",
     "text": [
      "  WARNING: The script python-barcode.exe is installed in 'C:\\Users\\lms46\\AppData\\Local\\Packages\\PythonSoftwareFoundation.Python.3.10_qbz5n2kfra8p0\\LocalCache\\local-packages\\Python310\\Scripts' which is not on PATH.\n",
      "  Consider adding this directory to PATH or, if you prefer to suppress this warning, use --no-warn-script-location.\n"
     ]
    },
    {
     "name": "stdout",
     "output_type": "stream",
     "text": [
      "Collecting pillow\n",
      "  Downloading Pillow-9.4.0-cp310-cp310-win_amd64.whl (2.5 MB)\n",
      "     ---------------------------------------- 2.5/2.5 MB 26.2 MB/s eta 0:00:00\n",
      "Installing collected packages: pillow\n",
      "Successfully installed pillow-9.4.0\n"
     ]
    }
   ],
   "source": [
    "!pip3 install python-barcode\n",
    "!pip3 install pillow"
   ]
  },
  {
   "cell_type": "code",
   "execution_count": 100,
   "id": "ecd11ce8",
   "metadata": {},
   "outputs": [],
   "source": [
    "from barcode import Code39,Code128\n",
    "from barcode.writer import ImageWriter"
   ]
  },
  {
   "cell_type": "code",
   "execution_count": 115,
   "id": "c09f9f19",
   "metadata": {},
   "outputs": [],
   "source": [
    "wb_pf= xw.Book('print_form.xlsx')\n",
    "ws_svc = wb_pf.sheets[0]\n",
    "import os"
   ]
  },
  {
   "cell_type": "code",
   "execution_count": 226,
   "id": "77200589",
   "metadata": {},
   "outputs": [],
   "source": [
    "code = 'SVC_CCH_23011901'\n",
    "file_name = code+\".png\"\n",
    "render_options = {\n",
    "                \"module_width\": 0.05,\n",
    "                \"module_height\": 4,\n",
    "                \"write_text\": True,\n",
    "                \"module_width\": 0.25,\n",
    "                \"quiet_zone\": 0.1,\n",
    "            }\n",
    "\n",
    "barcode=Code128(code,writer=ImageWriter()).render(render_options)"
   ]
  },
  {
   "cell_type": "code",
   "execution_count": 227,
   "id": "67c3a624",
   "metadata": {},
   "outputs": [],
   "source": [
    "barcode.save(file_name)"
   ]
  },
  {
   "cell_type": "code",
   "execution_count": 228,
   "id": "0abb700c",
   "metadata": {},
   "outputs": [
    {
     "data": {
      "text/plain": [
       "'C:\\\\Users\\\\lms46\\\\Desktop\\\\fulfill\\\\jp\\\\SVC_CCH_23011901.png'"
      ]
     },
     "execution_count": 228,
     "metadata": {},
     "output_type": "execute_result"
    }
   ],
   "source": [
    "pic = '\\\\'+file_name\n",
    "pic = os.getcwd()+pic\n",
    "pic"
   ]
  },
  {
   "cell_type": "code",
   "execution_count": 229,
   "id": "ffbd6e40",
   "metadata": {
    "scrolled": true
   },
   "outputs": [],
   "source": [
    "top = ws_svc.range('E41').top\n",
    "left = ws_svc.range('E41').left\n",
    "ws_svc.pictures.add(pic, name='barcode',update=True,\n",
    "                    top=top,left=left,scale=0.55)\n",
    "os.remove(pic)"
   ]
  },
  {
   "cell_type": "code",
   "execution_count": 230,
   "id": "a96abbe3",
   "metadata": {},
   "outputs": [],
   "source": [
    "ws_svc.pictures[-1].lock_aspect_ratio =False"
   ]
  },
  {
   "cell_type": "code",
   "execution_count": 231,
   "id": "80e076a4",
   "metadata": {},
   "outputs": [],
   "source": [
    "ws_svc.pictures[-1].width = 262\n",
    "ws_svc.pictures[-1].height = 51"
   ]
  },
  {
   "cell_type": "code",
   "execution_count": 157,
   "id": "a08e61d0",
   "metadata": {},
   "outputs": [],
   "source": [
    "def save_barcode_loc(code):\n",
    "    file_name = code+\".jpeg\"\n",
    "    render_options = {\n",
    "                    \"module_width\": 0.05,\n",
    "                    \"module_height\": 9.5,\n",
    "                    \"write_text\": True,\n",
    "                    \"module_width\": 0.25,\n",
    "                    \"quiet_zone\": 0.1,\n",
    "                }\n",
    "\n",
    "    barcode=Code128(code,writer=ImageWriter()).render(render_options)\n",
    "    barcode.save(file_name)\n",
    "    pic = '\\\\'+file_name\n",
    "    pic = os.getcwd()+pic\n",
    "    return pic"
   ]
  },
  {
   "cell_type": "code",
   "execution_count": 234,
   "id": "5d3c8891",
   "metadata": {},
   "outputs": [],
   "source": [
    "pic = save_barcode_loc('SVC_YBW_23012701')\n",
    "\n",
    "top = ws_svc.range('E41').top\n",
    "left = ws_svc.range('E41').left\n",
    "ws_svc.pictures.add(pic, name='barcode',update=True,\n",
    "                    top=top,left=left,scale=0.55)\n",
    "os.remove(pic)\n",
    "ws_svc.pictures[-1].lock_aspect_ratio =False\n",
    "ws_svc.pictures[-1].width = 262\n",
    "ws_svc.pictures[-1].height = 51"
   ]
  },
  {
   "cell_type": "code",
   "execution_count": null,
   "id": "77b25df4",
   "metadata": {},
   "outputs": [],
   "source": []
  }
 ],
 "metadata": {
  "kernelspec": {
   "display_name": "Python 3 (ipykernel)",
   "language": "python",
   "name": "python3"
  },
  "language_info": {
   "codemirror_mode": {
    "name": "ipython",
    "version": 3
   },
   "file_extension": ".py",
   "mimetype": "text/x-python",
   "name": "python",
   "nbconvert_exporter": "python",
   "pygments_lexer": "ipython3",
   "version": "3.10.9"
  }
 },
 "nbformat": 4,
 "nbformat_minor": 5
}

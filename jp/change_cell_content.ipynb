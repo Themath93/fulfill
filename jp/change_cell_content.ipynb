{
 "cells": [
  {
   "cell_type": "code",
   "execution_count": 1,
   "id": "e420b643",
   "metadata": {},
   "outputs": [],
   "source": [
    "import cx_Oracle\n",
    "import os\n",
    "import pandas as pd\n",
    "#!pip insall cx_Oracle"
   ]
  },
  {
   "cell_type": "code",
   "execution_count": 2,
   "id": "c5f1bae6",
   "metadata": {},
   "outputs": [],
   "source": [
    "import xlwings as xw\n",
    "import pandas as pd\n",
    "wb_cy = xw.Book('cytiva.xlsm')\n",
    "SHEET_NAMES =  ['Temp_DB', 'Shipment information', '인수증', \n",
    "'대리점송장', '대리점 출고대기', '로컬리스트', 'In-Transit part report', '기타리스트',\n",
    " '출고리스트', 'Cytiva Inventory BIN']"
   ]
  },
  {
   "cell_type": "code",
   "execution_count": 3,
   "id": "adf25cbc",
   "metadata": {},
   "outputs": [],
   "source": [
    "LOCATION = r\"C:\\Users\\lms46\\Desktop\\fulfill\\instantclient_fulfill\"\n",
    "os.environ[\"PATH\"] = LOCATION + \";\" + os.environ[\"PATH\"]\n",
    "cx_Oracle.init_oracle_client(lib_dir=LOCATION)\n",
    "\n",
    "connection = cx_Oracle.connect(\n",
    "    user='dw_fulfill', password='fulfillment123QWE!@#', dsn='fulfill_high'\n",
    "\n",
    ")\n",
    "cursor = connection.cursor()"
   ]
  },
  {
   "cell_type": "markdown",
   "id": "a6f819cd",
   "metadata": {},
   "source": [
    "## change_cell_content\n",
    "1. 사용자의 셀 내용 변경은 DB에 반영이 되지 않는다.\n",
    "    - 모든 업무시작시 db의 sht내용은 저장된다\n",
    "2. 셀변경은 하나의 셀만 변경 가능\n",
    "    - 두 개이상의 셀선택시 사용 불가!\n",
    "3. change_cell 모드에서도 idx, 입고일, 출고일, pod_date는 변경할 수 없다.\n",
    "\n",
    "\n",
    "### 과정\n",
    "1. 특정 셀을 클릭한 후 select_cell 버튼 클릭\n",
    "2. 해당셀의 주소와 내용이 특정 cell에 표시된다.\n",
    "3. change_cell 버튼을 누르면 input_box가 나와 값을 입력 받는다.\n",
    "4. 이때 해당 cell의 index값을 찾아 db table 내용 update를 진행한다.\n",
    "5. **DB 내용 UPDATE 과정**이 완료된 후에만 실제 xl내용에 반영하도록한다.\n",
    "    - 아닐 시 error 리턴"
   ]
  },
  {
   "cell_type": "code",
   "execution_count": 4,
   "id": "d4b6e67a",
   "metadata": {},
   "outputs": [],
   "source": [
    "def select_cell():\n",
    "    sel_cells = wb_cy.selection\n",
    "    sel_sht = wb_cy.selection.sheet\n",
    "    # 선택한 셀의 row번호가 10미만이면 종료 ==> table값은 row가 10부터 시작이기 때문\n",
    "    if wb_cy.selection.row < 10 :\n",
    "        wb_cy.app.alert(\"선택한 셀은 바꿀 수 없습니다. 매서드를 종료합니다.\",\"Change Cell WARNING\")\n",
    "        return None\n",
    "    address_cell = sel_sht.range(\"E3\")\n",
    "    from_cell = sel_sht.range(\"E4\")\n",
    "    # 선택한셀의 value가 list type 이면 두 개이상의 셀을 선택 했다는 것 ==> 종료\n",
    "    if type(sel_cells.value) is list :\n",
    "        wb_cy.app.alert(\"하나의 셀만 선택 후 진행해주세요. 두 개 이상은 불가합니다.\",\"Change Cell WARNING\")\n",
    "        return None\n",
    "    \n",
    "    address_cell.value = str(sel_cells.address)\n",
    "    from_cell.value = sel_cells.value"
   ]
  },
  {
   "cell_type": "code",
   "execution_count": 12,
   "id": "e134278d",
   "metadata": {},
   "outputs": [],
   "source": [
    "def change_cell():\n",
    "    sel_sht = wb_cy.selection.sheet\n",
    "    address_cell = sel_sht.range(\"E3\")\n",
    "    from_cell = sel_sht.range(\"E4\")\n",
    "    change_cell_list = sel_sht.range(\"E3:E4\")\n",
    "    tb_name = sel_sht.range(\"D5\").value\n",
    "    idx_col_name = sel_sht.range(\"A9\").value\n",
    "    \n",
    "    # 셀주소가 빈값이면 중지한다.\n",
    "    if address_cell.value == None:\n",
    "        wb_cy.app.alert(\"바꿀 셀이 없습니다 매서드를 종료합니다\",\"Change Cell WARNING\")\n",
    "        return None\n",
    "    \n",
    "    xl_from_cell = sel_sht.range(address_cell.value)\n",
    "    to_cell = wb_cy.app.api.InputBox(\"바꿀 내용을 입력 해주세요\", \"Change Cell Input\", Type=2)\n",
    "    # to_cell == False면 입력을 취소 했다는 뜻이므로 바꿀 뜻이 없는 것으로 간주하고 주소와 바뀔 값들의 form을 지운다.\n",
    "    if to_cell == False :\n",
    "        wb_cy.app.alert(\"취소를 선택하셨습니다. 셀 변경을 취소합니다.\",\"Change Cell WARNING\")\n",
    "        change_cell_list.clear_contents()\n",
    "        return None\n",
    "    \n",
    "    # DB UPDATE 진행\n",
    "    row_num = sel_sht.range(address_cell.value).row\n",
    "    col_mum = sel_sht.range(address_cell.value).column\n",
    "    idx_num = sel_sht.range(row_num,1).options(numbers=int).value\n",
    "    col_name = sel_sht.range(9,col_mum).options(numbers=int).value\n",
    "    query = f\"UPDATE {tb_name} SET {col_name} = '{to_cell}' WHERE {idx_col_name} = {idx_num}\"\n",
    "    cursor.execute(query)\n",
    "    cursor.execute(\"commit\")\n",
    "    \n",
    "    # DB UPDATE 완료 후 xl_cell 내용 변경\n",
    "    xl_from_cell.value = to_cell\n",
    "    \n",
    "    # 모든게 완료 되면 change_cell_list 내용 모두삭제\n",
    "    change_cell_list.clear_contents()\n",
    "    # 변경 성공 메시지\n",
    "    wb_cy.app.alert(\"셀 내용 변경이 완료되었습니다.\",\"Change Cell Done\")\n",
    "    "
   ]
  },
  {
   "cell_type": "code",
   "execution_count": 10,
   "id": "d0b8b05d",
   "metadata": {},
   "outputs": [],
   "source": [
    "select_cell()"
   ]
  },
  {
   "cell_type": "code",
   "execution_count": 11,
   "id": "46a6b99b",
   "metadata": {},
   "outputs": [],
   "source": [
    "change_cell()"
   ]
  },
  {
   "cell_type": "code",
   "execution_count": null,
   "id": "f244d8be",
   "metadata": {},
   "outputs": [],
   "source": []
  }
 ],
 "metadata": {
  "kernelspec": {
   "display_name": "Python 3 (ipykernel)",
   "language": "python",
   "name": "python3"
  },
  "language_info": {
   "codemirror_mode": {
    "name": "ipython",
    "version": 3
   },
   "file_extension": ".py",
   "mimetype": "text/x-python",
   "name": "python",
   "nbconvert_exporter": "python",
   "pygments_lexer": "ipython3",
   "version": "3.10.9"
  }
 },
 "nbformat": 4,
 "nbformat_minor": 5
}

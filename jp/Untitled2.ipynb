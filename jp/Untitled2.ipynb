{
 "cells": [
  {
   "cell_type": "code",
   "execution_count": 1,
   "id": "4dee5a80",
   "metadata": {},
   "outputs": [],
   "source": [
    "tb_dict = {'LOCAL_LIST':'LocalList', 'SHIPMENT_INFORMATION':'ShipmentInformation'}"
   ]
  },
  {
   "cell_type": "code",
   "execution_count": 2,
   "id": "2815b9c7",
   "metadata": {},
   "outputs": [
    {
     "data": {
      "text/plain": [
       "'LocalList'"
      ]
     },
     "execution_count": 2,
     "metadata": {},
     "output_type": "execute_result"
    }
   ],
   "source": [
    "tb_dict['LOCAL_LIST']"
   ]
  }
 ],
 "metadata": {
  "kernelspec": {
   "display_name": "Python 3 (ipykernel)",
   "language": "python",
   "name": "python3"
  },
  "language_info": {
   "codemirror_mode": {
    "name": "ipython",
    "version": 3
   },
   "file_extension": ".py",
   "mimetype": "text/x-python",
   "name": "python",
   "nbconvert_exporter": "python",
   "pygments_lexer": "ipython3",
   "version": "3.10.9"
  }
 },
 "nbformat": 4,
 "nbformat_minor": 5
}

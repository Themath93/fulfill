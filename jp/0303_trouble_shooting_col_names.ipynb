{
 "cells": [
  {
   "cell_type": "code",
   "execution_count": 1,
   "id": "e050631a",
   "metadata": {},
   "outputs": [],
   "source": [
    "import cx_Oracle\n",
    "import os\n",
    "import pandas as pd\n",
    "import xlwings as xw\n",
    "import json\n",
    "import datetime as dt\n",
    "my_date_handler = lambda year, month, day, **kwargs: \"%04i-%02i-%02i\" % (year, month, day)\n",
    "wb_cy = xw.Book('cytiva.xlsm')\n",
    "SHEET_NAMES =  ['Temp_DB', 'Shipment information', '인수증', \n",
    "'대리점송장', '대리점 출고대기', '로컬리스트', 'In-Transit part report', '기타리스트',\n",
    " '출고리스트', 'Cytiva Inventory BIN']\n",
    "LOCATION = r\"C:\\Users\\lms46\\Desktop\\fulfill\\instantclient_fulfill\"\n",
    "os.environ[\"PATH\"] = LOCATION + \";\" + os.environ[\"PATH\"]\n",
    "cx_Oracle.init_oracle_client(lib_dir=LOCATION)\n",
    "\n",
    "connection = cx_Oracle.connect(\n",
    "    user='dw_fulfill', password='fulfillment123QWE!@#', dsn='fulfill_high'\n",
    "\n",
    ")\n",
    "cursor = connection.cursor()"
   ]
  },
  {
   "cell_type": "code",
   "execution_count": 15,
   "id": "f240f4cb",
   "metadata": {},
   "outputs": [],
   "source": [
    "def recall_col_names():\n",
    "    sel_sht = wb_cy.selection.sheet\n",
    "    last_col = sel_sht.range('XFD9').end('left').column\n",
    "    last_row = sel_sht.range('A1048576').end('up').row\n",
    "    table_name_cel = sel_sht.range(\"D5\").value\n",
    "    col_names_from_db = list(pd.DataFrame(cursor.execute(f\"select column_name from user_tab_columns where table_name = upper('{table_name_cel}')\").fetchall())[0])\n",
    "    sel_sht.range(\"A9\").value = col_names_from_db"
   ]
  },
  {
   "cell_type": "code",
   "execution_count": 11,
   "id": "f554338e",
   "metadata": {},
   "outputs": [],
   "source": []
  },
  {
   "cell_type": "code",
   "execution_count": 10,
   "id": "fb35da24",
   "metadata": {},
   "outputs": [
    {
     "data": {
      "text/plain": [
       "['BIN_INDEX', 'ARTICLE_NUMBER', 'BIN', 'BIN_OLD', 'SUBINVENTORY']"
      ]
     },
     "execution_count": 10,
     "metadata": {},
     "output_type": "execute_result"
    }
   ],
   "source": [
    "col_names_from_db"
   ]
  }
 ],
 "metadata": {
  "kernelspec": {
   "display_name": "Python 3 (ipykernel)",
   "language": "python",
   "name": "python3"
  },
  "language_info": {
   "codemirror_mode": {
    "name": "ipython",
    "version": 3
   },
   "file_extension": ".py",
   "mimetype": "text/x-python",
   "name": "python",
   "nbconvert_exporter": "python",
   "pygments_lexer": "ipython3",
   "version": "3.10.10"
  }
 },
 "nbformat": 4,
 "nbformat_minor": 5
}

{
 "cells": [
  {
   "cell_type": "code",
   "execution_count": 1,
   "id": "2b078465",
   "metadata": {},
   "outputs": [],
   "source": [
    "import cx_Oracle\n",
    "import os\n",
    "import pandas as pd\n",
    "import xlwings as xw\n",
    "import json\n",
    "import datetime as dt\n",
    "wb_cy = xw.Book('cytiva.xlsm')\n",
    "SHEET_NAMES =  ['Temp_DB', 'Shipment information', '인수증', \n",
    "'대리점송장', '대리점 출고대기', '로컬리스트', 'In-Transit part report', '기타리스트',\n",
    " '출고리스트', 'Cytiva Inventory BIN']\n",
    "LOCATION = r\"C:\\Users\\lms46\\Desktop\\fulfill\\instantclient_fulfill\"\n",
    "os.environ[\"PATH\"] = LOCATION + \";\" + os.environ[\"PATH\"]\n",
    "cx_Oracle.init_oracle_client(lib_dir=LOCATION)\n",
    "\n",
    "connection = cx_Oracle.connect(\n",
    "    user='dw_fulfill', password='fulfillment123QWE!@#', dsn='fulfill_high'\n",
    "\n",
    ")\n",
    "cursor = connection.cursor()\n"
   ]
  },
  {
   "cell_type": "code",
   "execution_count": 2,
   "id": "2d5f8453",
   "metadata": {},
   "outputs": [],
   "source": [
    "# 해외품목 STATE에 관하여...\n",
    "# Data Insert => 한국으로 들어올예정 > Scheduled SCHEDULED\n",
    "# InboundReday => 실물 입고 예정(검수전) - > HOLDING\n",
    "# INSPECTION DONE => 검수완료 -> GOOD\n",
    "PRODUCT_STATE = ['SCHEDULED','HOLDING']"
   ]
  },
  {
   "cell_type": "markdown",
   "id": "97d5663c",
   "metadata": {},
   "source": [
    "#### INSPECTION DONE\n",
    "1. 상품상태 이상 없음 \n",
    "    - GOOD\n",
    "        - GOOD_WAREHOUSE \n",
    "            - 창고입고완료 이상 X\n",
    "        - GOOD_ELSE\n",
    "            - 외부창고 입고완료 이상 X\n",
    "2. 상품상태 이상 있음\n",
    "    1. 파손(DAMAGED)\n",
    "        - DMG_WET\n",
    "            - 젖음\n",
    "        - DMG_TEMPARTURE\n",
    "            - 온도 유지실패\n",
    "        - DMG_ONLYOUTER\n",
    "            - 겉포장만 손상\n",
    "        - DMG_IMPACT\n",
    "            - 충격으로인한 손상\n",
    "        - DMG_ELSE\n",
    "            - 기타손상\n",
    "    2. 상품이상(WRONG)\n",
    "        - WR_SHORT \n",
    "            - 수량부족\n",
    "        - WR_OVER\n",
    "            - 수량과다\n",
    "        - WR_PRODUCT\n",
    "            - 상이한제품\n",
    "        - WR_ELSE\n",
    "            - 기타상품이상\n",
    "3. 반납상품\n",
    "    - RETURN\n",
    "    \n",
    "4. 배송\n",
    "    SHIP_CONFIRM\n",
    "        - 배송팀에 인계완료 약속시간까지 배송예정\n",
    "    POD_DONE\n",
    "        - POD 완료 모든 과정 완료"
   ]
  },
  {
   "cell_type": "code",
   "execution_count": 162,
   "id": "dd9afa04",
   "metadata": {},
   "outputs": [],
   "source": [
    "# edit_mode에서만 사용 가능\n",
    "sel_sht = wb_cy.selection.sheet\n",
    "status_cel = sel_sht.range(\"H4\").value\n",
    "selected_cel_one = wb_cy.selection.address\n",
    "selected_cel_visible = wb_cy.selection.api.SpecialCells(12).Address\n",
    "selected_cel_value = wb_cy.selection.value\n",
    "\n",
    "if selected_cel_one.count(':') == 0:\n",
    "    selected_cel = selected_cel_one\n",
    "else :\n",
    "    selected_cel = selected_cel_visible\n",
    "\n",
    "if status_cel != 'edit_mode':\n",
    "    wb_cy.app.alert(\"edimt_mode에서만 진행 가능합니다. Mode STATUS를 확인해주세요.\",\"WARNING\")\n",
    "#     return\n",
    "sel_sht.range(\"U3\").select()\n",
    "wb_cy.app.alert(\"검수완료할 품목의 STATE 컬럼을 선택하여 진행해주세요.\",\"INFO\")\n",
    "dollar_cnt = selected_cel.count(\"$\")\n",
    "R_count = selected_cel.count(\"R\")\n",
    "is_R_selected = dollar_cnt/2 == R_count\n",
    "if is_R_selected == False :\n",
    "    wb_cy.app.alert(\"STATE컬럼 이외의 다른 셀이 선택되어있습니다. 다시 선택해주세요.\",\"WARNING\")\n",
    "#     return\n"
   ]
  },
  {
   "cell_type": "code",
   "execution_count": 165,
   "id": "60bbe7ee",
   "metadata": {},
   "outputs": [],
   "source": [
    "si_idx_address = selected_cel.replace(\"R\",'A').split(',')\n",
    "tmp_list = []\n",
    "si_idx_list=[]\n",
    "if type(si_idx_address ) is list :\n",
    "    for adds in si_idx_address:\n",
    "        tmp_val = sel_sht.range(adds).options(ndim=1,numbers=int).value\n",
    "        tmp_list.append(tmp_val)\n",
    "for i in range(len(tmp_list)):\n",
    "    if tmp_list[i] == None:\n",
    "        wb_cy.app.alert(\"SI_INDEX값이 없는 품목이 선택되어있습니다. 선택행을 확인해주세요\",\"Quit\")\n",
    "#         return\n",
    "    \n",
    "    si_idx_list = si_idx_list + tmp_list[i]\n",
    "\n",
    "for idx in si_idx_list:\n",
    "    each_state = cursor.execute(f\"select state from shipment_information where si_index = {idx}\").fetchone()[0]\n",
    "    if each_state != 'HOLDING':\n",
    "        wb_cy.app.alert(f\"SI_INDEX : {idx} STATE : {each_state}, STATE는 HOLDING 상태에서만 진행 가능합니다. 매서드를 종료합니다.\",\"Quit\")\n",
    "#         return\n",
    "    \n",
    "selected_cell_in_xl = sel_sht.range(\"V3\")\n",
    "to_status = sel_sht.range(\"V4\")\n",
    "selected_cell_in_xl.clear_contents()\n",
    "to_status.clear()\n",
    "selected_cell_in_xl .value = selected_cel\n",
    "\n",
    "state_list = list(pd.DataFrame(cursor.execute('select * from INSPECTION_CODE').fetchall())[0])[2:]\n",
    "state_list = ','.join(state_list)\n",
    "\n",
    "to_status.font.size = 16\n",
    "to_status.api.Borders.LineStyle = 1 \n",
    "to_status.api.Validation.Add(Type=3, Formula1=state_list)\n",
    "\n",
    "\n",
    "\n",
    "\n"
   ]
  },
  {
   "cell_type": "code",
   "execution_count": 172,
   "id": "e934cb45",
   "metadata": {},
   "outputs": [],
   "source": [
    "def select_cells_for_inspection():\n",
    "    # edit_mode에서만 사용 가능\n",
    "    sel_sht = wb_cy.selection.sheet\n",
    "    status_cel = sel_sht.range(\"H4\").value\n",
    "    selected_cel_one = wb_cy.selection.address\n",
    "    selected_cel_visible = wb_cy.selection.api.SpecialCells(12).Address\n",
    "    selected_cel_value = wb_cy.selection.value\n",
    "\n",
    "    if selected_cel_one.count(':') == 0:\n",
    "        selected_cel = selected_cel_one\n",
    "    else :\n",
    "        selected_cel = selected_cel_visible\n",
    "\n",
    "    if status_cel != 'edit_mode':\n",
    "        wb_cy.app.alert(\"edimt_mode에서만 진행 가능합니다. Mode STATUS를 확인해주세요.\",\"WARNING\")\n",
    "        return\n",
    "    sel_sht.range(\"U3\").select()\n",
    "    wb_cy.app.alert(\"검수완료할 품목의 STATE 컬럼을 선택하여 진행해주세요.\",\"INFO\")\n",
    "    dollar_cnt = selected_cel.count(\"$\")\n",
    "    R_count = selected_cel.count(\"R\")\n",
    "    is_R_selected = dollar_cnt/2 == R_count\n",
    "    if is_R_selected == False :\n",
    "        wb_cy.app.alert(\"STATE컬럼 이외의 다른 셀이 선택되어있습니다. 다시 선택해주세요.\",\"WARNING\")\n",
    "        return\n",
    "    si_idx_address = selected_cel.replace(\"R\",'A').split(',')\n",
    "    tmp_list = []\n",
    "    si_idx_list=[]\n",
    "    if type(si_idx_address ) is list :\n",
    "        for adds in si_idx_address:\n",
    "            tmp_val = sel_sht.range(adds).options(ndim=1,numbers=int).value\n",
    "            tmp_list.append(tmp_val)\n",
    "    for i in range(len(tmp_list)):\n",
    "        if tmp_list[i] == None:\n",
    "            wb_cy.app.alert(\"SI_INDEX값이 없는 품목이 선택되어있습니다. 선택행을 확인해주세요\",\"Quit\")\n",
    "            return\n",
    "\n",
    "        si_idx_list = si_idx_list + tmp_list[i]\n",
    "\n",
    "    for idx in si_idx_list:\n",
    "        each_state = cursor.execute(f\"select state from shipment_information where si_index = {idx}\").fetchone()[0]\n",
    "        if each_state != 'HOLDING':\n",
    "            wb_cy.app.alert(f\"SI_INDEX : {idx} STATE : {each_state}, STATE는 HOLDING 상태에서만 진행 가능합니다. 매서드를 종료합니다.\",\"Quit\")\n",
    "            return\n",
    "\n",
    "    selected_cell_in_xl = sel_sht.range(\"V3\")\n",
    "    to_status = sel_sht.range(\"V4\")\n",
    "    selected_cell_in_xl.clear_contents()\n",
    "    to_status.clear_contents()\n",
    "    \n",
    "    selected_cell_in_xl .value = selected_cel\n",
    "\n",
    "    state_list = list(pd.DataFrame(cursor.execute('select * from INSPECTION_CODE').fetchall())[0])[2:]\n",
    "    state_list = ','.join(state_list)\n",
    "\n",
    "    to_status.font.size = 16\n",
    "    to_status.api.Borders.LineStyle = 1 \n",
    "    to_status.api.Validation.Add(Type=3, Formula1=state_list)\n"
   ]
  },
  {
   "cell_type": "code",
   "execution_count": 191,
   "id": "f9d7f7d5",
   "metadata": {},
   "outputs": [
    {
     "data": {
      "text/plain": [
       "'yes'"
      ]
     },
     "execution_count": 191,
     "metadata": {},
     "output_type": "execute_result"
    }
   ],
   "source": [
    "answer = wb_cy.app.alert(\"선택하신 상태로 검수를 완료하시겠습니까\",\"CONFIRM\",buttons=\"yes_no_cancel\")\n",
    "if answer != \"yes\":\n",
    "    wb_cy.app.alert(\"종료합니다.\",\"Quit\")"
   ]
  },
  {
   "cell_type": "code",
   "execution_count": 192,
   "id": "a667f449",
   "metadata": {},
   "outputs": [
    {
     "data": {
      "text/plain": [
       "1"
      ]
     },
     "execution_count": 192,
     "metadata": {},
     "output_type": "execute_result"
    }
   ],
   "source": [
    "['sdf',None,'123'].count(None)"
   ]
  },
  {
   "cell_type": "code",
   "execution_count": 194,
   "id": "8223e9ef",
   "metadata": {},
   "outputs": [
    {
     "data": {
      "text/plain": [
       "'<Range [cytiva.xlsm]Shipment information!$V$4>'"
      ]
     },
     "execution_count": 194,
     "metadata": {},
     "output_type": "execute_result"
    }
   ],
   "source": [
    "str(to_status)"
   ]
  },
  {
   "cell_type": "code",
   "execution_count": null,
   "id": "b55de0a2",
   "metadata": {},
   "outputs": [],
   "source": [
    "# inpection_done"
   ]
  },
  {
   "cell_type": "code",
   "execution_count": 186,
   "id": "022ef7ae",
   "metadata": {},
   "outputs": [
    {
     "data": {
      "text/plain": [
       "[11006,\n",
       " 11010,\n",
       " 11011,\n",
       " 11012,\n",
       " 11013,\n",
       " 11014,\n",
       " 11006,\n",
       " 11010,\n",
       " 11011,\n",
       " 11012,\n",
       " 11013,\n",
       " 11014,\n",
       " 11006,\n",
       " 11010,\n",
       " 11011,\n",
       " 11012,\n",
       " 11013,\n",
       " 11014]"
      ]
     },
     "execution_count": 186,
     "metadata": {},
     "output_type": "execute_result"
    }
   ],
   "source": [
    "def inpection_done():\n",
    "    selected_cell_in_xl.value.replace(\"R\",'A').split(',')\n",
    "    tmp_list=[]\n",
    "    for adds in si_idx_address:\n",
    "        tmp_val = sel_sht.range(adds).options(ndim=1,numbers=int).value\n",
    "        tmp_list.append(tmp_val)\n",
    "    for i in range(len(tmp_list)):\n",
    "        if tmp_list[i] == None:\n",
    "            wb_cy.app.alert(\"SI_INDEX값이 없는 품목이 선택되어있습니다. 선택행을 확인해주세요\",\"Quit\")\n",
    "            return\n",
    "\n",
    "        si_idx_list = si_idx_list + tmp_list[i]\n",
    "\n",
    "    update_status(si_idx_list,to_status.value)\n",
    "    bring_data_from_db()"
   ]
  },
  {
   "cell_type": "code",
   "execution_count": 188,
   "id": "73e37762",
   "metadata": {},
   "outputs": [
    {
     "data": {
      "text/plain": [
       "'GOOD_WR'"
      ]
     },
     "execution_count": 188,
     "metadata": {},
     "output_type": "execute_result"
    }
   ],
   "source": [
    "update_status(self,si_idx_list,to_status.value)"
   ]
  },
  {
   "cell_type": "code",
   "execution_count": null,
   "id": "947d7ce0",
   "metadata": {},
   "outputs": [],
   "source": [
    "def select_cell():\n",
    "    sel_cells = wb_cy.selection\n",
    "    sel_sht = wb_cy.selection.sheet\n",
    "    # 선택한 셀의 row번호가 10미만이면 종료 ==> table값은 row가 10부터 시작이기 때문\n",
    "    if wb_cy.selection.row < 10 :\n",
    "        wb_cy.app.alert(\"선택한 셀은 바꿀 수 없습니다. 매서드를 종료합니다.\",\"Change Cell WARNING\")\n",
    "        return None\n",
    "    address_cell = sel_sht.range(\"E3\")\n",
    "    from_cell = sel_sht.range(\"E4\")\n",
    "    # 선택한셀의 value가 list type 이면 두 개이상의 셀을 선택 했다는 것 ==> 종료\n",
    "    if type(sel_cells.value) is list :\n",
    "        wb_cy.app.alert(\"하나의 셀만 선택 후 진행해주세요. 두 개 이상은 불가합니다.\",\"Change Cell WARNING\")\n",
    "        return None\n",
    "    \n",
    "    address_cell.value = str(sel_cells.address)\n",
    "    from_cell.value = sel_cells.value\n",
    "\n",
    "def change_cell():\n",
    "    sel_sht = wb_cy.selection.sheet\n",
    "    address_cell = sel_sht.range(\"E3\")\n",
    "    change_cell_list = sel_sht.range(\"E3:E4\")\n",
    "    tb_name = sel_sht.range(\"D5\").value\n",
    "    idx_col_name = sel_sht.range(\"A9\").value\n",
    "    cur = DataWarehouse()\n",
    "    \n",
    "    # 셀주소가 빈값이면 중지한다.\n",
    "    if address_cell.value == None:\n",
    "        wb_cy.app.alert(\"바꿀 셀이 없습니다 매서드를 종료합니다\",\"Change Cell WARNING\")\n",
    "        return None\n",
    "    \n",
    "    xl_from_cell = sel_sht.range(address_cell.value)\n",
    "    to_cell = wb_cy.app.api.InputBox(\"바꿀 내용을 입력 해주세요\", \"Change Cell Input\", Type=2)\n",
    "    # to_cell == False면 입력을 취소 했다는 뜻이므로 바꿀 뜻이 없는 것으로 간주하고 주소와 바뀔 값들의 form을 지운다.\n",
    "    if to_cell == False :\n",
    "        wb_cy.app.alert(\"취소를 선택하셨습니다. 셀 변경을 취소합니다.\",\"Change Cell WARNING\")\n",
    "        change_cell_list.clear_contents()\n",
    "        return None"
   ]
  },
  {
   "cell_type": "code",
   "execution_count": null,
   "id": "58925364",
   "metadata": {},
   "outputs": [],
   "source": []
  }
 ],
 "metadata": {
  "kernelspec": {
   "display_name": "Python 3 (ipykernel)",
   "language": "python",
   "name": "python3"
  },
  "language_info": {
   "codemirror_mode": {
    "name": "ipython",
    "version": 3
   },
   "file_extension": ".py",
   "mimetype": "text/x-python",
   "name": "python",
   "nbconvert_exporter": "python",
   "pygments_lexer": "ipython3",
   "version": "3.10.10"
  }
 },
 "nbformat": 4,
 "nbformat_minor": 5
}

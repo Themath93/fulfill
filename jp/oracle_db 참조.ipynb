{
 "cells": [
  {
   "cell_type": "code",
   "execution_count": 1,
   "id": "ed9c74e9",
   "metadata": {},
   "outputs": [],
   "source": [
    "import xlwings as xw\n",
    "import pandas as pd\n",
    "wb_cy = xw.Book('cytiva.xlsm')\n",
    "SHEET_NAMES =  ['Temp_DB', 'Shipment information', '인수증', \n",
    "'대리점송장', '대리점 출고대기', '로컬리스트', 'In-Transit part report', '기타리스트',\n",
    " '출고리스트', 'Cytiva Inventory BIN']"
   ]
  },
  {
   "cell_type": "code",
   "execution_count": 13,
   "id": "93a2a01b",
   "metadata": {},
   "outputs": [],
   "source": [
    "import cx_Oracle\n",
    "import os\n",
    "LOCATION = r\"C:\\Users\\lms46\\Desktop\\fulfill\\instantclient_fulfill\""
   ]
  },
  {
   "cell_type": "code",
   "execution_count": 14,
   "id": "cd59b7c3",
   "metadata": {},
   "outputs": [],
   "source": [
    "def DataWarehouse():\n",
    "    try:\n",
    "        os.environ[\"PATH\"] = LOCATION + \";\" + os.environ[\"PATH\"]\n",
    "        cx_Oracle.init_oracle_client(lib_dir=LOCATION)\n",
    "        connection = cx_Oracle.connect(\n",
    "            user='dw_fulfill', password='fulfillment123QWE!@#', dsn='fulfill_high'\n",
    "\n",
    "        )\n",
    "        cursor = connection.cursor()\n",
    "        return cursor\n",
    "\n",
    "    except:\n",
    "\n",
    "        connection = cx_Oracle.connect(\n",
    "            user='dw_fulfill', password='fulfillment123QWE!@#', dsn='fulfill_high'\n",
    "\n",
    "        )\n",
    "        cursor = connection.cursor()\n",
    "        return cursor"
   ]
  },
  {
   "cell_type": "code",
   "execution_count": 15,
   "id": "fa7015a5",
   "metadata": {},
   "outputs": [],
   "source": [
    "cur = DataWarehouse()"
   ]
  },
  {
   "cell_type": "code",
   "execution_count": 59,
   "id": "b93623e9",
   "metadata": {
    "scrolled": true
   },
   "outputs": [],
   "source": [
    "dic_dm = dict(cur.execute('select * from DELIVERY_METHOD').fetchall())"
   ]
  },
  {
   "cell_type": "code",
   "execution_count": 66,
   "id": "e3af8fd2",
   "metadata": {},
   "outputs": [
    {
     "data": {
      "text/plain": [
       "{'일반배송': 0, '택배': 1, '무진동차량': 2, '직배송': 3, 'ELSE': 99}"
      ]
     },
     "execution_count": 66,
     "metadata": {},
     "output_type": "execute_result"
    }
   ],
   "source": [
    "dict(zip(list(dic_dm.values()),list(dic_dm.keys())))"
   ]
  },
  {
   "cell_type": "code",
   "execution_count": 65,
   "id": "7b4b9537",
   "metadata": {},
   "outputs": [
    {
     "data": {
      "text/plain": [
       "['일반배송', '택배', '무진동차량', '직배송', 'ELSE']"
      ]
     },
     "execution_count": 65,
     "metadata": {},
     "output_type": "execute_result"
    }
   ],
   "source": []
  },
  {
   "cell_type": "code",
   "execution_count": null,
   "id": "4fbaf0f3",
   "metadata": {},
   "outputs": [],
   "source": [
    "inv_map = {v: k for k, v in map.items()}"
   ]
  },
  {
   "cell_type": "code",
   "execution_count": 18,
   "id": "ec2add46",
   "metadata": {},
   "outputs": [],
   "source": [
    "import pandas as pd"
   ]
  },
  {
   "cell_type": "code",
   "execution_count": 19,
   "id": "cb69d013",
   "metadata": {},
   "outputs": [],
   "source": [
    "df_dm= pd.DataFrame(cur.execute('select * from DELIVERY_METHOD').fetchall())"
   ]
  },
  {
   "cell_type": "code",
   "execution_count": 56,
   "id": "e5f2d2eb",
   "metadata": {},
   "outputs": [],
   "source": [
    "dict_dm = dict(zip(list(df_dm[1]),list(df_dm[0])))"
   ]
  },
  {
   "cell_type": "code",
   "execution_count": 57,
   "id": "25f91c80",
   "metadata": {},
   "outputs": [
    {
     "data": {
      "text/plain": [
       "0"
      ]
     },
     "execution_count": 57,
     "metadata": {},
     "output_type": "execute_result"
    }
   ],
   "source": [
    "dict_dm['일반배송']"
   ]
  },
  {
   "cell_type": "code",
   "execution_count": 70,
   "id": "73787e42",
   "metadata": {},
   "outputs": [],
   "source": [
    "def get_tb_idx(tb_name=str, content=str):\n",
    "    \"\"\"\n",
    "    DW의 table이름을, content에는 테이블의 content를 입력하면 tb상 key값을 반환한다.\n",
    "    \"\"\"\n",
    "    cur = DataWarehouse()\n",
    "    dic_dm = dict(cur.execute(f'select * from {tb_name}').fetchall())\n",
    "    dic_dm = dict(zip(list(dic_dm.values()),list(dic_dm.keys())))\n",
    "    return dic_dm[content]"
   ]
  },
  {
   "cell_type": "code",
   "execution_count": 107,
   "id": "fe0081ab",
   "metadata": {},
   "outputs": [],
   "source": [
    "df_test = pd.read_csv('../test.csv',encoding='utf-8',index_col=0)"
   ]
  },
  {
   "cell_type": "code",
   "execution_count": 97,
   "id": "28fcb456",
   "metadata": {},
   "outputs": [],
   "source": [
    "df_test['0'][0] = None"
   ]
  },
  {
   "cell_type": "code",
   "execution_count": 108,
   "id": "4247ee37",
   "metadata": {},
   "outputs": [],
   "source": [
    "df_test.index=df_test.index+1"
   ]
  },
  {
   "cell_type": "code",
   "execution_count": 110,
   "id": "f1c62ada",
   "metadata": {},
   "outputs": [
    {
     "data": {
      "text/plain": [
       "Index(['0'], dtype='object')"
      ]
     },
     "execution_count": 110,
     "metadata": {},
     "output_type": "execute_result"
    }
   ],
   "source": [
    "df_test.columns"
   ]
  }
 ],
 "metadata": {
  "kernelspec": {
   "display_name": "Python 3 (ipykernel)",
   "language": "python",
   "name": "python3"
  },
  "language_info": {
   "codemirror_mode": {
    "name": "ipython",
    "version": 3
   },
   "file_extension": ".py",
   "mimetype": "text/x-python",
   "name": "python",
   "nbconvert_exporter": "python",
   "pygments_lexer": "ipython3",
   "version": "3.10.9"
  }
 },
 "nbformat": 4,
 "nbformat_minor": 5
}

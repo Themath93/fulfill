{
 "cells": [
  {
   "cell_type": "code",
   "execution_count": 1,
   "id": "79334282",
   "metadata": {},
   "outputs": [],
   "source": [
    "import os\n",
    "from IPython.core.interactiveshell import InteractiveShell\n",
    "InteractiveShell.ast_node_interactivity = \"all\""
   ]
  },
  {
   "cell_type": "code",
   "execution_count": 8,
   "id": "43287489",
   "metadata": {},
   "outputs": [
    {
     "name": "stdout",
     "output_type": "stream",
     "text": [
      "Collecting matplotlib\n",
      "  Downloading matplotlib-3.6.3-cp38-cp38-manylinux_2_12_x86_64.manylinux2010_x86_64.whl (9.4 MB)\n",
      "\u001b[K     |████████████████████████████████| 9.4 MB 6.3 MB/s eta 0:00:01     |█████▉                          | 1.7 MB 6.3 MB/s eta 0:00:02\n",
      "\u001b[?25hCollecting contourpy>=1.0.1\n",
      "  Downloading contourpy-1.0.7-cp38-cp38-manylinux_2_17_x86_64.manylinux2014_x86_64.whl (300 kB)\n",
      "\u001b[K     |████████████████████████████████| 300 kB 20.1 MB/s eta 0:00:01\n",
      "\u001b[?25hRequirement already satisfied: numpy>=1.19 in /home/worker/.local/lib/python3.8/site-packages (from matplotlib) (1.24.1)\n",
      "Requirement already satisfied: pyparsing>=2.2.1 in /home/worker/.local/lib/python3.8/site-packages (from matplotlib) (3.0.9)\n",
      "Requirement already satisfied: python-dateutil>=2.7 in /home/worker/.local/lib/python3.8/site-packages (from matplotlib) (2.8.2)\n",
      "Collecting fonttools>=4.22.0\n",
      "  Downloading fonttools-4.38.0-py3-none-any.whl (965 kB)\n",
      "\u001b[K     |████████████████████████████████| 965 kB 8.9 MB/s eta 0:00:01\n",
      "\u001b[?25hCollecting cycler>=0.10\n",
      "  Downloading cycler-0.11.0-py3-none-any.whl (6.4 kB)\n",
      "Collecting pillow>=6.2.0\n",
      "  Downloading Pillow-9.4.0-cp38-cp38-manylinux_2_17_x86_64.manylinux2014_x86_64.whl (3.3 MB)\n",
      "\u001b[K     |████████████████████████████████| 3.3 MB 19.1 MB/s eta 0:00:01\n",
      "\u001b[?25hCollecting kiwisolver>=1.0.1\n",
      "  Downloading kiwisolver-1.4.4-cp38-cp38-manylinux_2_5_x86_64.manylinux1_x86_64.whl (1.2 MB)\n",
      "\u001b[K     |████████████████████████████████| 1.2 MB 3.5 MB/s eta 0:00:01\n",
      "\u001b[?25hRequirement already satisfied: packaging>=20.0 in /home/worker/.local/lib/python3.8/site-packages (from matplotlib) (21.3)\n",
      "Requirement already satisfied: six>=1.5 in /home/worker/.local/lib/python3.8/site-packages (from python-dateutil>=2.7->matplotlib) (1.16.0)\n",
      "Installing collected packages: contourpy, fonttools, cycler, pillow, kiwisolver, matplotlib\n",
      "Successfully installed contourpy-1.0.7 cycler-0.11.0 fonttools-4.38.0 kiwisolver-1.4.4 matplotlib-3.6.3 pillow-9.4.0\n"
     ]
    }
   ],
   "source": [
    "# !pip install pandas\n",
    "!pip install matplotlib"
   ]
  },
  {
   "cell_type": "code",
   "execution_count": 2,
   "id": "152a2927",
   "metadata": {},
   "outputs": [],
   "source": [
    "from datetime import date, datetime\n",
    "from pyspark.sql.types import *\n",
    "from pyspark.sql.functions import *\n",
    "from pyspark.sql import *\n",
    "import datetime as dt\n",
    "import pandas as pd\n",
    "import matplotlib.pyplot as plt #그래프 패키지 모듈 등록\n",
    "%matplotlib inline "
   ]
  },
  {
   "cell_type": "code",
   "execution_count": 10,
   "id": "9fb0ce95",
   "metadata": {},
   "outputs": [
    {
     "data": {
      "text/plain": [
       "b'/home/worker/project/jp/jp_spark'"
      ]
     },
     "execution_count": 10,
     "metadata": {},
     "output_type": "execute_result"
    }
   ],
   "source": [
    "os.getcwdb()"
   ]
  },
  {
   "cell_type": "code",
   "execution_count": 3,
   "id": "e23a14ab",
   "metadata": {},
   "outputs": [],
   "source": [
    "JDBC = {\n",
    "    'url':'jdbc:oracle:thin:@fulfill_high?TNS_ADMIN=/home/worker/project/db/fulfill_wallet'\n",
    "    ,'props':{\n",
    "        'user':'dw_fulfill'\n",
    "       ,'password':'fulfillment123QWE!@#'\n",
    "    }   \n",
    "}\n"
   ]
  },
  {
   "cell_type": "code",
   "execution_count": 4,
   "id": "4b9c84ed",
   "metadata": {},
   "outputs": [
    {
     "data": {
      "text/plain": [
       "{'user': 'dw_fulfill', 'password': 'fulfillment123QWE!@#'}"
      ]
     },
     "execution_count": 4,
     "metadata": {},
     "output_type": "execute_result"
    }
   ],
   "source": [
    "JDBC['props']"
   ]
  },
  {
   "cell_type": "code",
   "execution_count": 5,
   "id": "22c0315f",
   "metadata": {
    "scrolled": true
   },
   "outputs": [],
   "source": [
    "sys_stock = spark.read.jdbc(url=JDBC['url'], table='SYSTEM_STOCK',properties=JDBC['props'])"
   ]
  },
  {
   "cell_type": "code",
   "execution_count": 6,
   "id": "8f60dd16",
   "metadata": {},
   "outputs": [],
   "source": [
    "products = spark.read.jdbc(url=JDBC['url'], table='PRODUCTS',properties=JDBC['props'])"
   ]
  },
  {
   "cell_type": "code",
   "execution_count": 7,
   "id": "e3e515ab",
   "metadata": {
    "scrolled": false
   },
   "outputs": [
    {
     "data": {
      "text/plain": [
       "['SS_KEY',\n",
       " 'ARTICLE_NUMBER',\n",
       " 'SUBINVENTORY',\n",
       " 'LOCATION',\n",
       " 'QUANTITY',\n",
       " 'IN_DATE',\n",
       " 'EXPIRY_DATE',\n",
       " 'CURRENCY',\n",
       " 'LOT_COST',\n",
       " 'LOT_COST_IN_USD',\n",
       " 'STD_DAY']"
      ]
     },
     "execution_count": 7,
     "metadata": {},
     "output_type": "execute_result"
    }
   ],
   "source": [
    "sys_stock.columns"
   ]
  },
  {
   "cell_type": "code",
   "execution_count": 15,
   "id": "cd327a2d",
   "metadata": {},
   "outputs": [],
   "source": [
    "today = '2023-02-01'"
   ]
  },
  {
   "cell_type": "code",
   "execution_count": 8,
   "id": "fd6640c8",
   "metadata": {},
   "outputs": [],
   "source": [
    "# df_sys = spark.createDataFrame(sys_group)\n",
    "sys_stock=sys_stock.where(col('STD_DAY')==today)"
   ]
  },
  {
   "cell_type": "code",
   "execution_count": 9,
   "id": "dbdaad2f",
   "metadata": {},
   "outputs": [],
   "source": [
    "sys_group = sys_stock.groupBy(['ARTICLE_NUMBER','SUBINVENTORY']).count().collect()"
   ]
  },
  {
   "cell_type": "code",
   "execution_count": 10,
   "id": "036e56ba",
   "metadata": {},
   "outputs": [],
   "source": [
    "df_sys = spark.createDataFrame(sys_group)"
   ]
  },
  {
   "cell_type": "code",
   "execution_count": 11,
   "id": "9198d623",
   "metadata": {},
   "outputs": [],
   "source": [
    "join_df = df_sys.join(products, on='ARTICLE_NUMBER', how='left').collect()\n"
   ]
  },
  {
   "cell_type": "code",
   "execution_count": 42,
   "id": "706eab81",
   "metadata": {},
   "outputs": [],
   "source": [
    "df_fin = spark.createDataFrame(join_df)\n"
   ]
  },
  {
   "cell_type": "code",
   "execution_count": 43,
   "id": "fd8b15d8",
   "metadata": {},
   "outputs": [
    {
     "name": "stdout",
     "output_type": "stream",
     "text": [
      "+--------------+------------+-----+-----------------+--------------------+--------------------+--------------------+----------------+-------+\n",
      "|ARTICLE_NUMBER|SUBINVENTORY|count|          COUNTRY|         PROD_CENTRE|          PROD_GROUP|         DESCRIPTION|PROD_STATUS_TYPE|BIN_CUR|\n",
      "+--------------+------------+-----+-----------------+--------------------+--------------------+--------------------+----------------+-------+\n",
      "|      28958961|   KR_SERV01|    3|GEAS_IN_LS_KR_KRS|16 BIOPROCESS SER...|923 Bioprocess Do...|TC gasket 4in/ID9...|       DstFGActv| 2C1805|\n",
      "|      29003827|   KR_SERV01|    2|GEAS_IN_LS_KR_KRS|48 RESEARCH SCIEN...|075 Lab AKTA Red ...|        LED PCB U9-L|       DstFGActv| 2C1703|\n",
      "|      29207950|   KR_SERV01|    1|GEAS_IN_LS_KR_KRS|82 BIACORE CONSUM...|914 Buffers and s...|BIAnormalizing so...|       DstFGActv|   냉장|\n",
      "|      29213860|   KR_SERV01|    1|GEAS_IN_LS_KR_KRS|16 BIOPROCESS SER...|920 Bioprocess Do...|Nozzle tip with o...|       DstFGActv| 2C1705|\n",
      "|      29152693|   KR_SERV01|    1|GEAS_IN_LS_KR_KRS|48 RESEARCH SCIEN...|075 Lab AKTA Red ...|         RFID PCA M9|       DstFGActv| 2C1704|\n",
      "|      28960134|   KR_SERV01|    9|GEAS_IN_LS_KR_KRS|48 RESEARCH SCIEN...|075 Lab AKTA Red ...|    F9 Acc glas tube|       DstFGActv| 2C1603|\n",
      "|      28920338|   KR_SERV01|    1|GEAS_IN_LS_KR_KRS|48 RESEARCH SCIEN...|868 Lab AKTA Clas...|    PM-kit AKTA 10ml|       DstFGActv| 2B1802|\n",
      "|      29148002|   KR_SERV01|    2|GEAS_IN_LS_KR_KRS|16 BIOPROCESS SER...|854 Xcellerex Ser...|O-ring, 1 in. Fem...|       DstFGActv| 2B1603|\n",
      "|      18117251|   KR_SERV01|    4|GEAS_IN_LS_KR_KRS|48 RESEARCH SCIEN...|868 Lab AKTA Clas...|MOTOR WITH COUPLI...|       DstFGActv| 2C1803|\n",
      "|      28934014|   KR_SERV01|    2|GEAS_IN_LS_KR_KRS|48 RESEARCH SCIEN...|868 Lab AKTA Clas...|Ceramic pump cyli...|       DstFGActv| 2B1802|\n",
      "|      11000322|   KR_SERV01|    1|GEAS_IN_LS_KR_KRS|16 BIOPROCESS SER...|922 Bioprocess Do...|   CU-950 MEMORY KIT|       DstFGActv| 2B1702|\n",
      "|      29209658|   KR_SERV01|    1|GEAS_IN_LS_KR_KRS|48 RESEARCH SCIEN...|   919 Biacore Parts|       8-Needle unit|       DstFGActv| 2C1603|\n",
      "|      18112882|   KR_SERV01|    2|GEAS_IN_LS_KR_KRS|48 RESEARCH SCIEN...|868 Lab AKTA Clas...|VALVE ASSEMBLY P-920|       DstFGActv| 2C1704|\n",
      "|      28402234|   KR_SERV01|    1|GEAS_IN_LS_KR_KRS|16 BIOPROCESS SER...|923 Bioprocess Do...|FREQUENCY CONVERT...|       DstFGActv| 2C1404|\n",
      "|      18116104|   KR_SERV01|    5|GEAS_IN_LS_KR_KRS|16 BIOPROCESS SER...|922 Bioprocess Do...|SEAL KIT, NOZZLE ...|       DstFGActv| 2B1704|\n",
      "|      11003257|   KR_SERV01|    1|GEAS_IN_LS_KR_KRS|16 BIOPROCESS SER...|607 AKTA legacy p...|POWER PCB, UPC/PR...|       DstFGActv| 2C1504|\n",
      "|      29238947|   KR_SERV01|    1|GEAS_IN_LS_KR_KRS|16 BIOPROCESS SER...|854 Xcellerex Ser...|LF Peristaltic pu...|       DstFGActv| 2C1604|\n",
      "|      18116106|   KR_SERV01|    4|GEAS_IN_LS_KR_KRS|16 BIOPROCESS SER...|920 Bioprocess Do...|NOZZLE TIP WITH O...|       DstFGActv| 2B1704|\n",
      "|      18111449|   KR_SERV01|    3|GEAS_IN_LS_KR_KRS|16 BIOPROCESS SER...|607 AKTA legacy p...|VLV SV-903 P-900 ...|       DstFGActv| 2C1803|\n",
      "|      29011360|   KR_SERV01|    2|              KRS|46 PURIFICATION S...|099 AKTA Accessor...|UV monitor (U9-L,...|       DstFGActv| 2C1805|\n",
      "+--------------+------------+-----+-----------------+--------------------+--------------------+--------------------+----------------+-------+\n",
      "only showing top 20 rows\n",
      "\n"
     ]
    }
   ],
   "source": [
    "df_fin.where(col('SUBINVENTORY')=='KR_SERV01').show()"
   ]
  },
  {
   "cell_type": "code",
   "execution_count": 44,
   "id": "8b9121d4",
   "metadata": {},
   "outputs": [],
   "source": [
    "df_fin = df_fin.select(\"*\").withColumn('STD_DAY',lit(today))"
   ]
  },
  {
   "cell_type": "code",
   "execution_count": 57,
   "id": "98810606",
   "metadata": {},
   "outputs": [],
   "source": [
    "df_fin = df_fin.withColumnRenamed('count','QUANTITY')"
   ]
  },
  {
   "cell_type": "code",
   "execution_count": 58,
   "id": "dcb8c343",
   "metadata": {},
   "outputs": [
    {
     "data": {
      "text/plain": [
       "['ARTICLE_NUMBER',\n",
       " 'SUBINVENTORY',\n",
       " 'QUANTITY',\n",
       " 'COUNTRY',\n",
       " 'PROD_CENTRE',\n",
       " 'PROD_GROUP',\n",
       " 'DESCRIPTION',\n",
       " 'PROD_STATUS_TYPE',\n",
       " 'BIN_CUR',\n",
       " 'STD_DAY']"
      ]
     },
     "execution_count": 58,
     "metadata": {},
     "output_type": "execute_result"
    }
   ],
   "source": [
    "df_fin.columns"
   ]
  }
 ],
 "metadata": {
  "kernelspec": {
   "display_name": "Python 3",
   "language": "python",
   "name": "python3"
  },
  "language_info": {
   "codemirror_mode": {
    "name": "ipython",
    "version": 3
   },
   "file_extension": ".py",
   "mimetype": "text/x-python",
   "name": "python",
   "nbconvert_exporter": "python",
   "pygments_lexer": "ipython3",
   "version": "3.8.10"
  }
 },
 "nbformat": 4,
 "nbformat_minor": 5
}

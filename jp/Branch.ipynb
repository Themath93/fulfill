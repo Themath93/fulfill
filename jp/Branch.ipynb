{
 "cells": [
  {
   "cell_type": "code",
   "execution_count": 1,
   "id": "3cad0e76",
   "metadata": {},
   "outputs": [],
   "source": [
    "import xlwings as xw\n",
    "import pandas as pd\n",
    "wb_cy = xw.Book('cytiva.xlsm')\n",
    "SHEET_NAMES =  ['Temp_DB', 'Shipment information', '인수증', \n",
    "'대리점송장', '대리점 출고대기', '로컬리스트', 'In-Transit part report', '기타리스트',\n",
    " '출고리스트', 'Cytiva Inventory BIN']"
   ]
  },
  {
   "cell_type": "code",
   "execution_count": 2,
   "id": "ec363b3d",
   "metadata": {},
   "outputs": [],
   "source": [
    "ws_si = wb_cy.sheets[SHEET_NAMES[1]]"
   ]
  },
  {
   "cell_type": "code",
   "execution_count": 3,
   "id": "1e2fe146",
   "metadata": {},
   "outputs": [],
   "source": [
    "last_row = ws_si.range('A500000').end('up').row\n",
    "last_col = ws_si.range('AAA9').end('left').column"
   ]
  },
  {
   "cell_type": "code",
   "execution_count": 4,
   "id": "1104e664",
   "metadata": {},
   "outputs": [
    {
     "data": {
      "text/plain": [
       "(20496, 18)"
      ]
     },
     "execution_count": 4,
     "metadata": {},
     "output_type": "execute_result"
    }
   ],
   "source": [
    "last_row,last_col"
   ]
  },
  {
   "cell_type": "code",
   "execution_count": 5,
   "id": "f8fe1799",
   "metadata": {},
   "outputs": [],
   "source": [
    "rng_si = ws_si.range((10,1),(last_row,last_col))\n",
    "rng_si\n",
    "idx_si = ws_si.range((9,1),(9,last_col))"
   ]
  },
  {
   "cell_type": "code",
   "execution_count": 16,
   "id": "1c07952f",
   "metadata": {},
   "outputs": [
    {
     "data": {
      "text/plain": [
       "['AWB#',\n",
       " 'Trip#',\n",
       " 'shipment no',\n",
       " 'number of Packge',\n",
       " 'Invoice Date',\n",
       " 'ORDER NO',\n",
       " 'Order Total',\n",
       " 'Unit price(대리점)',\n",
       " 'Ship to',\n",
       " 'Arrival date',\n",
       " 'Ship date/Receiving date',\n",
       " 'POD \\nReceipt \\nDate',\n",
       " '유무상 여부',\n",
       " 'remark',\n",
       " 'Parcels number',\n",
       " '비고',\n",
       " 'Status',\n",
       " 'si_index']"
      ]
     },
     "execution_count": 16,
     "metadata": {},
     "output_type": "execute_result"
    }
   ],
   "source": [
    "idx_si.value"
   ]
  },
  {
   "cell_type": "code",
   "execution_count": 7,
   "id": "60ccc700",
   "metadata": {},
   "outputs": [
    {
     "data": {
      "text/plain": [
       "[7764059026,\n",
       " None,\n",
       " None,\n",
       " None,\n",
       " None,\n",
       " None,\n",
       " None,\n",
       " None,\n",
       " 'DHL특송건',\n",
       " datetime.datetime(2021, 1, 4, 0, 0),\n",
       " datetime.datetime(2021, 1, 6, 0, 0),\n",
       " None,\n",
       " '무상',\n",
       " None,\n",
       " None,\n",
       " None,\n",
       " None,\n",
       " 36]"
      ]
     },
     "execution_count": 7,
     "metadata": {},
     "output_type": "execute_result"
    }
   ],
   "source": [
    "rng_si.options(numbers=int).value[0]"
   ]
  },
  {
   "cell_type": "code",
   "execution_count": 17,
   "id": "8d352d9a",
   "metadata": {},
   "outputs": [],
   "source": [
    "df_si =pd.DataFrame(rng_si.options(numbers=int).value,columns=idx_si.value)"
   ]
  },
  {
   "cell_type": "code",
   "execution_count": 19,
   "id": "52598bbc",
   "metadata": {},
   "outputs": [],
   "source": [
    "## 출고하지않은 대리점 품목\n",
    "\n",
    "df_si_br=df_si[df_si['remark']=='대리점']\n",
    "df_br_not_shiped=df_si_br[pd.isna(df_si_br['Ship date/Receiving date'])&~(pd.isna(df_si_br['Arrival date']))]"
   ]
  },
  {
   "cell_type": "code",
   "execution_count": 20,
   "id": "ef3685b2",
   "metadata": {},
   "outputs": [],
   "source": [
    "#대리점에서 필요한 컬럼명\n",
    "br_col = wb_cy.sheets['대리점송장'].range(\"A6:G6\").value\n",
    "br_col.append('Unit price(대리점)')\n",
    "br_col.append('si_index')"
   ]
  },
  {
   "cell_type": "code",
   "execution_count": 21,
   "id": "a27ccbc4",
   "metadata": {
    "scrolled": true
   },
   "outputs": [
    {
     "name": "stderr",
     "output_type": "stream",
     "text": [
      "C:\\Users\\lms46\\AppData\\Local\\Temp\\ipykernel_18944\\1228965626.py:2: SettingWithCopyWarning: \n",
      "A value is trying to be set on a copy of a slice from a DataFrame.\n",
      "Try using .loc[row_indexer,col_indexer] = value instead\n",
      "\n",
      "See the caveats in the documentation: https://pandas.pydata.org/pandas-docs/stable/user_guide/indexing.html#returning-a-view-versus-a-copy\n",
      "  df_br['Unit price(대리점)'] = df_br[['Unit price(대리점)']].fillna(0)\n"
     ]
    }
   ],
   "source": [
    "df_br=df_br_not_shiped[br_col]\n",
    "df_br['Unit price(대리점)'] = df_br[['Unit price(대리점)']].fillna(0)"
   ]
  },
  {
   "cell_type": "code",
   "execution_count": 22,
   "id": "6f36e112",
   "metadata": {},
   "outputs": [
    {
     "data": {
      "text/html": [
       "<div>\n",
       "<style scoped>\n",
       "    .dataframe tbody tr th:only-of-type {\n",
       "        vertical-align: middle;\n",
       "    }\n",
       "\n",
       "    .dataframe tbody tr th {\n",
       "        vertical-align: top;\n",
       "    }\n",
       "\n",
       "    .dataframe thead th {\n",
       "        text-align: right;\n",
       "    }\n",
       "</style>\n",
       "<table border=\"1\" class=\"dataframe\">\n",
       "  <thead>\n",
       "    <tr style=\"text-align: right;\">\n",
       "      <th></th>\n",
       "      <th>Arrival date</th>\n",
       "      <th>AWB#</th>\n",
       "      <th>Trip#</th>\n",
       "      <th>number of Packge</th>\n",
       "      <th>Parcels number</th>\n",
       "      <th>ORDER NO</th>\n",
       "      <th>Ship to</th>\n",
       "      <th>Unit price(대리점)</th>\n",
       "      <th>si_index</th>\n",
       "    </tr>\n",
       "  </thead>\n",
       "  <tbody>\n",
       "    <tr>\n",
       "      <th>20147</th>\n",
       "      <td>2022-10-25</td>\n",
       "      <td>DSV0322345</td>\n",
       "      <td>115384492</td>\n",
       "      <td>1</td>\n",
       "      <td>UPD3349097</td>\n",
       "      <td>2125207</td>\n",
       "      <td>동일과학</td>\n",
       "      <td>0</td>\n",
       "      <td>29608</td>\n",
       "    </tr>\n",
       "    <tr>\n",
       "      <th>20212</th>\n",
       "      <td>2022-10-27</td>\n",
       "      <td>STO0165477</td>\n",
       "      <td>115386556</td>\n",
       "      <td>1</td>\n",
       "      <td>UPD3348990</td>\n",
       "      <td>2125207</td>\n",
       "      <td>동일과학</td>\n",
       "      <td>0</td>\n",
       "      <td>29673</td>\n",
       "    </tr>\n",
       "    <tr>\n",
       "      <th>20213</th>\n",
       "      <td>2022-10-27</td>\n",
       "      <td>STO0165477</td>\n",
       "      <td>115386556</td>\n",
       "      <td>1</td>\n",
       "      <td>UPD3348976</td>\n",
       "      <td>2123806</td>\n",
       "      <td>동일과학</td>\n",
       "      <td>0</td>\n",
       "      <td>29674</td>\n",
       "    </tr>\n",
       "    <tr>\n",
       "      <th>20214</th>\n",
       "      <td>2022-10-27</td>\n",
       "      <td>STO0165477</td>\n",
       "      <td>115386556</td>\n",
       "      <td>None</td>\n",
       "      <td>UPD3348976</td>\n",
       "      <td>2125207</td>\n",
       "      <td>동일과학</td>\n",
       "      <td>0</td>\n",
       "      <td>29675</td>\n",
       "    </tr>\n",
       "    <tr>\n",
       "      <th>20361</th>\n",
       "      <td>2022-10-27</td>\n",
       "      <td>564073221450</td>\n",
       "      <td>115389345</td>\n",
       "      <td>1</td>\n",
       "      <td>PYD002917255</td>\n",
       "      <td>2125260</td>\n",
       "      <td>지더블유바이텍광주</td>\n",
       "      <td>0</td>\n",
       "      <td>29822</td>\n",
       "    </tr>\n",
       "    <tr>\n",
       "      <th>20380</th>\n",
       "      <td>2022-10-27</td>\n",
       "      <td>STO0165498</td>\n",
       "      <td>115389201</td>\n",
       "      <td>1</td>\n",
       "      <td>UPD3349708</td>\n",
       "      <td>2125246</td>\n",
       "      <td>동일과학</td>\n",
       "      <td>0</td>\n",
       "      <td>29841</td>\n",
       "    </tr>\n",
       "    <tr>\n",
       "      <th>20381</th>\n",
       "      <td>2022-10-27</td>\n",
       "      <td>STO0165498</td>\n",
       "      <td>115389201</td>\n",
       "      <td>1</td>\n",
       "      <td>UPD3350190</td>\n",
       "      <td>2125111</td>\n",
       "      <td>동일과학</td>\n",
       "      <td>0</td>\n",
       "      <td>29842</td>\n",
       "    </tr>\n",
       "    <tr>\n",
       "      <th>20382</th>\n",
       "      <td>2022-10-27</td>\n",
       "      <td>STO0165498</td>\n",
       "      <td>115389201</td>\n",
       "      <td>1</td>\n",
       "      <td>UPD3349726</td>\n",
       "      <td>2122883</td>\n",
       "      <td>동일과학</td>\n",
       "      <td>0</td>\n",
       "      <td>29843</td>\n",
       "    </tr>\n",
       "    <tr>\n",
       "      <th>20383</th>\n",
       "      <td>2022-10-27</td>\n",
       "      <td>STO0165498</td>\n",
       "      <td>115389201</td>\n",
       "      <td>1</td>\n",
       "      <td>UPD3349820</td>\n",
       "      <td>2125207</td>\n",
       "      <td>동일과학</td>\n",
       "      <td>0</td>\n",
       "      <td>29844</td>\n",
       "    </tr>\n",
       "    <tr>\n",
       "      <th>20415</th>\n",
       "      <td>2022-10-31</td>\n",
       "      <td>DSV0322341</td>\n",
       "      <td>115384491</td>\n",
       "      <td>1</td>\n",
       "      <td>UPD3349124</td>\n",
       "      <td>2124089</td>\n",
       "      <td>동일과학</td>\n",
       "      <td>0</td>\n",
       "      <td>29876</td>\n",
       "    </tr>\n",
       "    <tr>\n",
       "      <th>20449</th>\n",
       "      <td>2022-10-31</td>\n",
       "      <td>STO0165601</td>\n",
       "      <td>115394007</td>\n",
       "      <td>1</td>\n",
       "      <td>UPD3351984</td>\n",
       "      <td>2124918</td>\n",
       "      <td>바이나리</td>\n",
       "      <td>0</td>\n",
       "      <td>29910</td>\n",
       "    </tr>\n",
       "  </tbody>\n",
       "</table>\n",
       "</div>"
      ],
      "text/plain": [
       "      Arrival date          AWB#      Trip# number of Packge Parcels number  \\\n",
       "20147   2022-10-25    DSV0322345  115384492                1     UPD3349097   \n",
       "20212   2022-10-27    STO0165477  115386556                1     UPD3348990   \n",
       "20213   2022-10-27    STO0165477  115386556                1     UPD3348976   \n",
       "20214   2022-10-27    STO0165477  115386556             None     UPD3348976   \n",
       "20361   2022-10-27  564073221450  115389345                1   PYD002917255   \n",
       "20380   2022-10-27    STO0165498  115389201                1     UPD3349708   \n",
       "20381   2022-10-27    STO0165498  115389201                1     UPD3350190   \n",
       "20382   2022-10-27    STO0165498  115389201                1     UPD3349726   \n",
       "20383   2022-10-27    STO0165498  115389201                1     UPD3349820   \n",
       "20415   2022-10-31    DSV0322341  115384491                1     UPD3349124   \n",
       "20449   2022-10-31    STO0165601  115394007                1     UPD3351984   \n",
       "\n",
       "      ORDER NO    Ship to  Unit price(대리점)  si_index  \n",
       "20147  2125207       동일과학                0     29608  \n",
       "20212  2125207       동일과학                0     29673  \n",
       "20213  2123806       동일과학                0     29674  \n",
       "20214  2125207       동일과학                0     29675  \n",
       "20361  2125260  지더블유바이텍광주                0     29822  \n",
       "20380  2125246       동일과학                0     29841  \n",
       "20381  2125111       동일과학                0     29842  \n",
       "20382  2122883       동일과학                0     29843  \n",
       "20383  2125207       동일과학                0     29844  \n",
       "20415  2124089       동일과학                0     29876  \n",
       "20449  2124918       바이나리                0     29910  "
      ]
     },
     "execution_count": 22,
     "metadata": {},
     "output_type": "execute_result"
    }
   ],
   "source": [
    "df_br[df_br['Unit price(대리점)']==0]"
   ]
  },
  {
   "cell_type": "code",
   "execution_count": 23,
   "id": "60eb7e58",
   "metadata": {},
   "outputs": [
    {
     "name": "stderr",
     "output_type": "stream",
     "text": [
      "C:\\Users\\lms46\\AppData\\Local\\Temp\\ipykernel_18944\\3636066061.py:1: SettingWithCopyWarning: \n",
      "A value is trying to be set on a copy of a slice from a DataFrame.\n",
      "Try using .loc[row_indexer,col_indexer] = value instead\n",
      "\n",
      "See the caveats in the documentation: https://pandas.pydata.org/pandas-docs/stable/user_guide/indexing.html#returning-a-view-versus-a-copy\n",
      "  df_br['한화표시(\\)'] = df_br['Unit price(대리점)']*1200\n"
     ]
    }
   ],
   "source": [
    "df_br['한화표시(\\)'] = df_br['Unit price(대리점)']*1200"
   ]
  },
  {
   "cell_type": "code",
   "execution_count": 36,
   "id": "0327f276",
   "metadata": {},
   "outputs": [],
   "source": [
    "df_br.set_index('Arrival date',inplace=True)"
   ]
  },
  {
   "cell_type": "code",
   "execution_count": 38,
   "id": "3a89a747",
   "metadata": {},
   "outputs": [
    {
     "data": {
      "text/plain": [
       "Index(['AWB#', 'Trip#', 'number of Packge', 'Parcels number', 'ORDER NO',\n",
       "       'Ship to'],\n",
       "      dtype='object')"
      ]
     },
     "execution_count": 38,
     "metadata": {},
     "output_type": "execute_result"
    }
   ],
   "source": [
    "df_br.columns[:6]"
   ]
  },
  {
   "cell_type": "code",
   "execution_count": 39,
   "id": "cbe6637d",
   "metadata": {},
   "outputs": [
    {
     "data": {
      "text/html": [
       "<div>\n",
       "<style scoped>\n",
       "    .dataframe tbody tr th:only-of-type {\n",
       "        vertical-align: middle;\n",
       "    }\n",
       "\n",
       "    .dataframe tbody tr th {\n",
       "        vertical-align: top;\n",
       "    }\n",
       "\n",
       "    .dataframe thead th {\n",
       "        text-align: right;\n",
       "    }\n",
       "</style>\n",
       "<table border=\"1\" class=\"dataframe\">\n",
       "  <thead>\n",
       "    <tr style=\"text-align: right;\">\n",
       "      <th></th>\n",
       "      <th>AWB#</th>\n",
       "      <th>Trip#</th>\n",
       "      <th>number of Packge</th>\n",
       "      <th>Parcels number</th>\n",
       "      <th>ORDER NO</th>\n",
       "      <th>Ship to</th>\n",
       "    </tr>\n",
       "    <tr>\n",
       "      <th>Arrival date</th>\n",
       "      <th></th>\n",
       "      <th></th>\n",
       "      <th></th>\n",
       "      <th></th>\n",
       "      <th></th>\n",
       "      <th></th>\n",
       "    </tr>\n",
       "  </thead>\n",
       "  <tbody>\n",
       "    <tr>\n",
       "      <th>2022-04-28</th>\n",
       "      <td>EWR0352882</td>\n",
       "      <td>110093392</td>\n",
       "      <td>1</td>\n",
       "      <td>PYD002818156</td>\n",
       "      <td>800588</td>\n",
       "      <td>바이오토프</td>\n",
       "    </tr>\n",
       "    <tr>\n",
       "      <th>2022-07-18</th>\n",
       "      <td>DSV0280973</td>\n",
       "      <td>114645173</td>\n",
       "      <td>1</td>\n",
       "      <td>UPD3304011</td>\n",
       "      <td>2123439</td>\n",
       "      <td>바이오토프</td>\n",
       "    </tr>\n",
       "    <tr>\n",
       "      <th>2022-07-19</th>\n",
       "      <td>STO0162933</td>\n",
       "      <td>114887327</td>\n",
       "      <td>1</td>\n",
       "      <td>UPD3305059</td>\n",
       "      <td>2123253</td>\n",
       "      <td>바이오토프</td>\n",
       "    </tr>\n",
       "    <tr>\n",
       "      <th>2022-07-19</th>\n",
       "      <td>STO0162933</td>\n",
       "      <td>114887333</td>\n",
       "      <td>1</td>\n",
       "      <td>UPD3305751</td>\n",
       "      <td>2123637</td>\n",
       "      <td>유비코리아</td>\n",
       "    </tr>\n",
       "    <tr>\n",
       "      <th>2022-07-19</th>\n",
       "      <td>STO0162958</td>\n",
       "      <td>114969331</td>\n",
       "      <td>1</td>\n",
       "      <td>UPD3306062</td>\n",
       "      <td>2123648</td>\n",
       "      <td>바이오토프</td>\n",
       "    </tr>\n",
       "    <tr>\n",
       "      <th>...</th>\n",
       "      <td>...</td>\n",
       "      <td>...</td>\n",
       "      <td>...</td>\n",
       "      <td>...</td>\n",
       "      <td>...</td>\n",
       "      <td>...</td>\n",
       "    </tr>\n",
       "    <tr>\n",
       "      <th>2022-10-31</th>\n",
       "      <td>STO0165597</td>\n",
       "      <td>115394022</td>\n",
       "      <td>1</td>\n",
       "      <td>UPD3352018</td>\n",
       "      <td>2125318</td>\n",
       "      <td>서린바이오사이언스</td>\n",
       "    </tr>\n",
       "    <tr>\n",
       "      <th>2022-10-31</th>\n",
       "      <td>STO0165597</td>\n",
       "      <td>115394022</td>\n",
       "      <td>1</td>\n",
       "      <td>UPD3351982</td>\n",
       "      <td>2125318</td>\n",
       "      <td>서린바이오사이언스</td>\n",
       "    </tr>\n",
       "    <tr>\n",
       "      <th>2022-10-31</th>\n",
       "      <td>STO0165597</td>\n",
       "      <td>115394022</td>\n",
       "      <td>1</td>\n",
       "      <td>UPD3351958</td>\n",
       "      <td>2125318</td>\n",
       "      <td>서린바이오사이언스</td>\n",
       "    </tr>\n",
       "    <tr>\n",
       "      <th>2022-10-31</th>\n",
       "      <td>STO0165597</td>\n",
       "      <td>115394022</td>\n",
       "      <td>1</td>\n",
       "      <td>UPD3352248</td>\n",
       "      <td>2125329</td>\n",
       "      <td>서린바이오사이언스</td>\n",
       "    </tr>\n",
       "    <tr>\n",
       "      <th>2022-10-31</th>\n",
       "      <td>STO0165597</td>\n",
       "      <td>115394010</td>\n",
       "      <td>1</td>\n",
       "      <td>UPD3351722</td>\n",
       "      <td>2125298</td>\n",
       "      <td>바이나리</td>\n",
       "    </tr>\n",
       "  </tbody>\n",
       "</table>\n",
       "<p>70 rows × 6 columns</p>\n",
       "</div>"
      ],
      "text/plain": [
       "                    AWB#      Trip# number of Packge Parcels number ORDER NO  \\\n",
       "Arrival date                                                                   \n",
       "2022-04-28    EWR0352882  110093392                1   PYD002818156   800588   \n",
       "2022-07-18    DSV0280973  114645173                1     UPD3304011  2123439   \n",
       "2022-07-19    STO0162933  114887327                1     UPD3305059  2123253   \n",
       "2022-07-19    STO0162933  114887333                1     UPD3305751  2123637   \n",
       "2022-07-19    STO0162958  114969331                1     UPD3306062  2123648   \n",
       "...                  ...        ...              ...            ...      ...   \n",
       "2022-10-31    STO0165597  115394022                1     UPD3352018  2125318   \n",
       "2022-10-31    STO0165597  115394022                1     UPD3351982  2125318   \n",
       "2022-10-31    STO0165597  115394022                1     UPD3351958  2125318   \n",
       "2022-10-31    STO0165597  115394022                1     UPD3352248  2125329   \n",
       "2022-10-31    STO0165597  115394010                1     UPD3351722  2125298   \n",
       "\n",
       "                Ship to  \n",
       "Arrival date             \n",
       "2022-04-28        바이오토프  \n",
       "2022-07-18        바이오토프  \n",
       "2022-07-19        바이오토프  \n",
       "2022-07-19        유비코리아  \n",
       "2022-07-19        바이오토프  \n",
       "...                 ...  \n",
       "2022-10-31    서린바이오사이언스  \n",
       "2022-10-31    서린바이오사이언스  \n",
       "2022-10-31    서린바이오사이언스  \n",
       "2022-10-31    서린바이오사이언스  \n",
       "2022-10-31         바이나리  \n",
       "\n",
       "[70 rows x 6 columns]"
      ]
     },
     "execution_count": 39,
     "metadata": {},
     "output_type": "execute_result"
    }
   ],
   "source": [
    "df_br[df_br.columns[:6]]"
   ]
  },
  {
   "cell_type": "code",
   "execution_count": 31,
   "id": "e7c50d14",
   "metadata": {},
   "outputs": [
    {
     "data": {
      "text/plain": [
       "<Sheet [cytiva.xlsm]대리점송장>"
      ]
     },
     "execution_count": 31,
     "metadata": {},
     "output_type": "execute_result"
    }
   ],
   "source": [
    "ws_br = wb_cy.sheets[SHEET_NAMES[3]]\n",
    "ws_br"
   ]
  },
  {
   "cell_type": "code",
   "execution_count": 41,
   "id": "bcc55983",
   "metadata": {},
   "outputs": [],
   "source": [
    "ws_br.range('A6').value = df_br[df_br.columns[:6]]"
   ]
  },
  {
   "cell_type": "code",
   "execution_count": 43,
   "id": "4e606b01",
   "metadata": {},
   "outputs": [
    {
     "data": {
      "text/html": [
       "<div>\n",
       "<style scoped>\n",
       "    .dataframe tbody tr th:only-of-type {\n",
       "        vertical-align: middle;\n",
       "    }\n",
       "\n",
       "    .dataframe tbody tr th {\n",
       "        vertical-align: top;\n",
       "    }\n",
       "\n",
       "    .dataframe thead th {\n",
       "        text-align: right;\n",
       "    }\n",
       "</style>\n",
       "<table border=\"1\" class=\"dataframe\">\n",
       "  <thead>\n",
       "    <tr style=\"text-align: right;\">\n",
       "      <th></th>\n",
       "      <th>si_index</th>\n",
       "      <th>한화표시(\\)</th>\n",
       "    </tr>\n",
       "    <tr>\n",
       "      <th>Unit price(대리점)</th>\n",
       "      <th></th>\n",
       "      <th></th>\n",
       "    </tr>\n",
       "  </thead>\n",
       "  <tbody>\n",
       "    <tr>\n",
       "      <th>523</th>\n",
       "      <td>24305</td>\n",
       "      <td>627600</td>\n",
       "    </tr>\n",
       "    <tr>\n",
       "      <th>624</th>\n",
       "      <td>26848</td>\n",
       "      <td>748800</td>\n",
       "    </tr>\n",
       "    <tr>\n",
       "      <th>402</th>\n",
       "      <td>26898</td>\n",
       "      <td>482400</td>\n",
       "    </tr>\n",
       "    <tr>\n",
       "      <th>1030</th>\n",
       "      <td>26927</td>\n",
       "      <td>1236000</td>\n",
       "    </tr>\n",
       "    <tr>\n",
       "      <th>168</th>\n",
       "      <td>26946</td>\n",
       "      <td>201600</td>\n",
       "    </tr>\n",
       "    <tr>\n",
       "      <th>...</th>\n",
       "      <td>...</td>\n",
       "      <td>...</td>\n",
       "    </tr>\n",
       "    <tr>\n",
       "      <th>437</th>\n",
       "      <td>29938</td>\n",
       "      <td>524400</td>\n",
       "    </tr>\n",
       "    <tr>\n",
       "      <th>1235</th>\n",
       "      <td>29939</td>\n",
       "      <td>1482000</td>\n",
       "    </tr>\n",
       "    <tr>\n",
       "      <th>335</th>\n",
       "      <td>29940</td>\n",
       "      <td>402000</td>\n",
       "    </tr>\n",
       "    <tr>\n",
       "      <th>92</th>\n",
       "      <td>29941</td>\n",
       "      <td>110400</td>\n",
       "    </tr>\n",
       "    <tr>\n",
       "      <th>2017</th>\n",
       "      <td>29943</td>\n",
       "      <td>2420400</td>\n",
       "    </tr>\n",
       "  </tbody>\n",
       "</table>\n",
       "<p>70 rows × 2 columns</p>\n",
       "</div>"
      ],
      "text/plain": [
       "                 si_index  한화표시(\\)\n",
       "Unit price(대리점)                   \n",
       "523                 24305   627600\n",
       "624                 26848   748800\n",
       "402                 26898   482400\n",
       "1030                26927  1236000\n",
       "168                 26946   201600\n",
       "...                   ...      ...\n",
       "437                 29938   524400\n",
       "1235                29939  1482000\n",
       "335                 29940   402000\n",
       "92                  29941   110400\n",
       "2017                29943  2420400\n",
       "\n",
       "[70 rows x 2 columns]"
      ]
     },
     "execution_count": 43,
     "metadata": {},
     "output_type": "execute_result"
    }
   ],
   "source": [
    "df_br[df_br.columns[6:]].set_index('Unit price(대리점)')"
   ]
  },
  {
   "cell_type": "code",
   "execution_count": 44,
   "id": "efcc5adb",
   "metadata": {},
   "outputs": [],
   "source": [
    "df_br_2 = df_br[df_br.columns[6:]].set_index('Unit price(대리점)')"
   ]
  },
  {
   "cell_type": "code",
   "execution_count": 45,
   "id": "639276e0",
   "metadata": {},
   "outputs": [],
   "source": [
    "ws_br.range('J6').value = df_br_2"
   ]
  },
  {
   "cell_type": "code",
   "execution_count": 61,
   "id": "1c356cc3",
   "metadata": {},
   "outputs": [],
   "source": [
    "def get_df_rng(sheet=wb_cy.selection.sheet):\n",
    "    \"\"\"\n",
    "    실제 값이 들어가있는 범위 구하기\n",
    "    \"\"\"\n",
    "    sel_sht = sheet\n",
    "    row_start_nm = sel_sht.range('A2').end('down').row\n",
    "    row_end_nm = sel_sht.range('A1048576').end('up').row\n",
    "    \n",
    "    col_nm = sel_sht.range('XFD'+str(row_start_nm)).end('left').column\n",
    "    \n",
    "    return (row_start_nm,1),(row_end_nm,col_nm)\n",
    "    "
   ]
  },
  {
   "cell_type": "code",
   "execution_count": 62,
   "id": "b6a47423",
   "metadata": {},
   "outputs": [
    {
     "data": {
      "text/plain": [
       "((6, 1), (76, 12))"
      ]
     },
     "execution_count": 62,
     "metadata": {},
     "output_type": "execute_result"
    }
   ],
   "source": [
    "get_df_rng()"
   ]
  },
  {
   "cell_type": "code",
   "execution_count": 73,
   "id": "731e2995",
   "metadata": {},
   "outputs": [],
   "source": [
    "br_rng = ws_br.range(get_df_rng()[0],get_df_rng()[1])"
   ]
  },
  {
   "cell_type": "code",
   "execution_count": 88,
   "id": "fabad25d",
   "metadata": {},
   "outputs": [
    {
     "data": {
      "text/plain": [
       "<Range [cytiva.xlsm]대리점송장!$A$6:$L$76>"
      ]
     },
     "execution_count": 88,
     "metadata": {},
     "output_type": "execute_result"
    }
   ],
   "source": [
    "br_rng"
   ]
  },
  {
   "cell_type": "code",
   "execution_count": 83,
   "id": "2c06e210",
   "metadata": {},
   "outputs": [],
   "source": [
    "br_rng.font.size = 11\n",
    "br_rng.font.name = '맑은 고딕'\n",
    "br_rng.autofit()"
   ]
  },
  {
   "cell_type": "code",
   "execution_count": 87,
   "id": "abba661d",
   "metadata": {},
   "outputs": [],
   "source": [
    "br_rng.api.Borders.Weight = 2"
   ]
  },
  {
   "cell_type": "markdown",
   "id": "60cc27fe",
   "metadata": {},
   "source": [
    "## 아웃룩 파이썬 연동"
   ]
  },
  {
   "cell_type": "code",
   "execution_count": 94,
   "id": "cea8f426",
   "metadata": {},
   "outputs": [],
   "source": [
    "import win32com.client as cli"
   ]
  },
  {
   "cell_type": "code",
   "execution_count": 160,
   "id": "71d5a195",
   "metadata": {},
   "outputs": [
    {
     "name": "stdout",
     "output_type": "stream",
     "text": [
      "메세지 갯수 : 0\n"
     ]
    }
   ],
   "source": [
    "outlook=win32com.client.Dispatch(\"Outlook.Application\")\n",
    "outlook_in = cli.Dispatch(\"Outlook.Application\").GetNamespace(\"MAPI\") # 아웃룩\n",
    "inbox = outlook_in.GetDefaultFolder(6) # 받은편지함\n",
    "msg = inbox.Items #메세지 정보\n",
    "msg_counter = msg.count # 총갯수\n",
    "print(\"메세지 갯수 : \"+str(msg_counter))\n",
    " \n",
    "for ms in msg:\n",
    "    print(\"보낸사람 : \"+str(ms.SenderName))"
   ]
  },
  {
   "cell_type": "code",
   "execution_count": 166,
   "id": "44a9994c",
   "metadata": {},
   "outputs": [
    {
     "data": {
      "text/plain": [
       "'lms46784678@gmail.com'"
      ]
     },
     "execution_count": 166,
     "metadata": {},
     "output_type": "execute_result"
    }
   ],
   "source": [
    "outlook_in.CurrentUser()"
   ]
  },
  {
   "cell_type": "code",
   "execution_count": 165,
   "id": "9002915e",
   "metadata": {},
   "outputs": [
    {
     "data": {
      "text/plain": [
       "<COMObject GetDefaultFolder>"
      ]
     },
     "execution_count": 165,
     "metadata": {},
     "output_type": "execute_result"
    }
   ],
   "source": [
    "outlook.GetNamespace('MAPI').GetDefaultFolder(6)"
   ]
  },
  {
   "cell_type": "code",
   "execution_count": 151,
   "id": "530ed915",
   "metadata": {},
   "outputs": [
    {
     "data": {
      "text/plain": [
       "<COMObject <unknown>>"
      ]
     },
     "execution_count": 151,
     "metadata": {},
     "output_type": "execute_result"
    }
   ],
   "source": [
    "outlook.GetDefaultFolder(6).Items"
   ]
  },
  {
   "cell_type": "code",
   "execution_count": 159,
   "id": "7fc01e26",
   "metadata": {},
   "outputs": [],
   "source": [
    "send_mail = outlook.CreateItem(0)"
   ]
  },
  {
   "cell_type": "code",
   "execution_count": 157,
   "id": "1b3386be",
   "metadata": {},
   "outputs": [],
   "source": [
    "send_mail.To = \"lms4678@naver.com\" #메일 수신인\n",
    "send_mail.Subject = \"win32com Outlook 메일 전송 테스트 - 투손플레이스\" #메일 제목\n",
    "send_mail.HTMLBody = \"test\" #메일 내용(html)"
   ]
  },
  {
   "cell_type": "code",
   "execution_count": 158,
   "id": "05a7921a",
   "metadata": {},
   "outputs": [],
   "source": [
    "send_mail.Save()"
   ]
  },
  {
   "cell_type": "markdown",
   "id": "929f512d",
   "metadata": {},
   "source": [
    "## 메일수신 IMAP"
   ]
  },
  {
   "cell_type": "code",
   "execution_count": 172,
   "id": "1b7c5f25",
   "metadata": {},
   "outputs": [],
   "source": [
    "# !pip install imapclient\n",
    "# !pip install pyzmail36"
   ]
  },
  {
   "cell_type": "code",
   "execution_count": 173,
   "id": "9238136f",
   "metadata": {},
   "outputs": [],
   "source": [
    "import imapclient\n",
    "imap_obj = imapclient.IMAPClient('imap.gmail.com', ssl=True)"
   ]
  },
  {
   "cell_type": "code",
   "execution_count": null,
   "id": "48853068",
   "metadata": {},
   "outputs": [],
   "source": [
    "imap_obj.login('email_address@gmail.com', 'MY_SECRET_PASSWORD')"
   ]
  }
 ],
 "metadata": {
  "kernelspec": {
   "display_name": "Python 3 (ipykernel)",
   "language": "python",
   "name": "python3"
  },
  "language_info": {
   "codemirror_mode": {
    "name": "ipython",
    "version": 3
   },
   "file_extension": ".py",
   "mimetype": "text/x-python",
   "name": "python",
   "nbconvert_exporter": "python",
   "pygments_lexer": "ipython3",
   "version": "3.10.9"
  }
 },
 "nbformat": 4,
 "nbformat_minor": 5
}

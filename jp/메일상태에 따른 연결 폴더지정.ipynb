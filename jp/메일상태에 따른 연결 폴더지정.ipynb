{
 "cells": [
  {
   "cell_type": "code",
   "execution_count": 1,
   "id": "bc343c2c",
   "metadata": {},
   "outputs": [],
   "source": [
    "import xlwings as xw\n",
    "import pandas as pd\n",
    "wb_cy = xw.Book('cytiva.xlsm')\n",
    "SHEET_NAMES =  ['Temp_DB', 'Shipment information', '인수증', \n",
    "'대리점송장', '대리점 출고대기', '로컬리스트', 'In-Transit part report', '기타리스트',\n",
    " '출고리스트', 'Cytiva Inventory BIN']\n",
    "import win32com.client as cli\n",
    "\n",
    "outlook = cli.Dispatch(\"Outlook.Application\").GetNamespace(\"MAPI\") # 아웃룩\n",
    "inbox = outlook.GetDefaultFolder(6) # 받은편지함\n",
    "msg = inbox.Items #메세지 정보\n",
    "msg_counter = msg.count # 총갯수"
   ]
  },
  {
   "cell_type": "code",
   "execution_count": 8,
   "id": "0a00cbb8",
   "metadata": {},
   "outputs": [
    {
     "data": {
      "text/plain": [
       "23011901"
      ]
     },
     "execution_count": 8,
     "metadata": {},
     "output_type": "execute_result"
    }
   ],
   "source": [
    "shape_name = 'SVC_CCH_23011901'\n",
    "idx = int(shape_name.split('_')[2])\n",
    "idx"
   ]
  },
  {
   "cell_type": "code",
   "execution_count": 36,
   "id": "541e5cc0",
   "metadata": {},
   "outputs": [
    {
     "data": {
      "text/plain": [
       "10"
      ]
     },
     "execution_count": 36,
     "metadata": {},
     "output_type": "execute_result"
    }
   ],
   "source": [
    "ws_main = wb_cy.sheets['통합제어']\n",
    "idx_col = ws_main.range('J12:J500').options(numbers=int).value\n",
    "ws_main.range('J12').column"
   ]
  },
  {
   "cell_type": "code",
   "execution_count": 13,
   "id": "0cbd7619",
   "metadata": {},
   "outputs": [],
   "source": [
    "row_nm = idx_col.count(idx)"
   ]
  },
  {
   "cell_type": "code",
   "execution_count": 34,
   "id": "305c7442",
   "metadata": {},
   "outputs": [
    {
     "data": {
      "text/plain": [
       "'REQUESTED'"
      ]
     },
     "execution_count": 34,
     "metadata": {},
     "output_type": "execute_result"
    }
   ],
   "source": [
    "chs_rng = ws_main.range(11 +row_nm,17)\n",
    "current_status = chs_rng.value\n",
    "current_status"
   ]
  },
  {
   "cell_type": "code",
   "execution_count": 27,
   "id": "745f01fa",
   "metadata": {},
   "outputs": [],
   "source": [
    "ML_STATUS= ['REQUESTED','PROCESSING', 'SHIPPED']\n",
    "\n",
    "ML_FOLDERS = ['inbox','1_Requests', '2_Processing', '3_ShipConfirmed']"
   ]
  },
  {
   "cell_type": "code",
   "execution_count": 39,
   "id": "ef3c6d0a",
   "metadata": {},
   "outputs": [
    {
     "data": {
      "text/plain": [
       "'1_Requests'"
      ]
     },
     "execution_count": 39,
     "metadata": {},
     "output_type": "execute_result"
    }
   ],
   "source": [
    "ml_dict =dict(zip(ML_STATUS,ML_FOLDERS[1:]))\n",
    "ml_dict[current_status]"
   ]
  },
  {
   "cell_type": "code",
   "execution_count": 49,
   "id": "1c7c83c5",
   "metadata": {},
   "outputs": [],
   "source": [
    "argu_folder = inbox.Parent.Folders(ml_dict[current_status])"
   ]
  },
  {
   "cell_type": "code",
   "execution_count": 50,
   "id": "fba09435",
   "metadata": {},
   "outputs": [],
   "source": [
    "msg = argu_folder.Items\n",
    "part_request = []\n",
    "service_request = 'SVC'\n",
    "for ms in msg:\n",
    "    if service_request in ms.Subject:\n",
    "        part_request.append(ms)\n",
    "# 서비스만 추출하기\n",
    "\n"
   ]
  },
  {
   "cell_type": "code",
   "execution_count": 52,
   "id": "63872790",
   "metadata": {},
   "outputs": [
    {
     "data": {
      "text/plain": [
       "'SVC_CCH_23011901'"
      ]
     },
     "execution_count": 52,
     "metadata": {},
     "output_type": "execute_result"
    }
   ],
   "source": [
    "part_request[0].Subject"
   ]
  },
  {
   "cell_type": "code",
   "execution_count": null,
   "id": "050c94fc",
   "metadata": {},
   "outputs": [],
   "source": []
  },
  {
   "cell_type": "code",
   "execution_count": null,
   "id": "a16d1116",
   "metadata": {},
   "outputs": [],
   "source": []
  },
  {
   "cell_type": "code",
   "execution_count": 56,
   "id": "cd25617e",
   "metadata": {},
   "outputs": [],
   "source": [
    "def get_mail_status(shape_name=None):\n",
    "    \"\"\"\n",
    "    메일제목을 argument로 받으면 현재상태의 해당 메일의 현재 ML_BIN, STATUS를 반환 \n",
    "    \"\"\"\n",
    "    ws_main= wb_cy.sheets['통합제어']\n",
    "    \n",
    "    ml_status = ['REQUESTED','PROCESSING', 'SHIPPED']\n",
    "    ml_folders = ['inbox','1_Requests', '2_Processing', '3_ShipConfirmed']\n",
    "    \n",
    "    ml_dict = dict(zip(ml_status,ml_folders[1:]))\n",
    "    \n",
    "    if shape_name != None:\n",
    "        \n",
    "        shape_name = shape_name.replace('_prfm','')\n",
    "\n",
    "        idx = int(shape_name.split('_')[2])\n",
    "        emp_row_nm = get_empty_row(col='J') ## J = 10, ML_INDEX 컬럼\n",
    "        idx_list = ws_main.range(\"J12:J\"+str(emp_row_nm+1)).options(numbers=int).value\n",
    "        row_nm = idx_list.count(idx)\n",
    "        status_cel = ws_main.range(11 + row_nm,17).value ## Q=17, STATUS 컬럼 , 11 ML_INDEX의 row 번호\n",
    "        fd_bin = ml_dict[status_cel]\n",
    "        ms_list = Email.get_email_obj(fd_bin)\n",
    "    \n",
    "    return ms_list\n",
    "        "
   ]
  },
  {
   "cell_type": "code",
   "execution_count": 54,
   "id": "e372d07f",
   "metadata": {},
   "outputs": [],
   "source": [
    "def get_email_obj(folder_name = 'inbox'):\n",
    "\n",
    "    outlook = cli.Dispatch(\"Outlook.Application\").GetNamespace(\"MAPI\") # 아웃룩\n",
    "\n",
    "    if folder_name == 'inbox':\n",
    "\n",
    "        argu_folder = outlook.GetDefaultFolder(6) # 받은편지함\n",
    "    else:\n",
    "        argu_folder = outlook.GetDefaultFolder(6).Parent.Folders(folder_name) # 1번폴더\n",
    "\n",
    "\n",
    "    msg = argu_folder.Items #메세지 정보\n",
    "    part_request = []\n",
    "    service_request = 'SVC'\n",
    "    for ms in msg:\n",
    "        if service_request in ms.Subject:\n",
    "            part_request.append(ms)\n",
    "    # 서비스만 추출하기\n",
    "\n",
    "    return part_request"
   ]
  },
  {
   "cell_type": "code",
   "execution_count": 55,
   "id": "94908e67",
   "metadata": {},
   "outputs": [],
   "source": [
    "def get_empty_row(sheet=wb_cy.selection.sheet,col=1):\n",
    "    \"\"\"\n",
    "    특정컬럼의 마지막 값의 행번호 구하기\n",
    "    \"\"\"\n",
    "    sel_sht = sheet\n",
    "    col_num = col\n",
    "    if type(col) == int :\n",
    "        row_start_nm = sel_sht.range(1048576,col_num).end('up').row + 1 \n",
    "    elif type(col) == str :\n",
    "        row_start_nm = sel_sht.range(col+str(1048576)).end('up').row + 1 \n",
    "    return row_start_nm"
   ]
  },
  {
   "cell_type": "code",
   "execution_count": null,
   "id": "110111ca",
   "metadata": {},
   "outputs": [],
   "source": [
    "get_mail_status()"
   ]
  },
  {
   "cell_type": "code",
   "execution_count": 11,
   "id": "4aea1707",
   "metadata": {},
   "outputs": [],
   "source": [
    "# 제목입력 받으면 oracle도 조회\n",
    "import cx_Oracle\n",
    "import os"
   ]
  },
  {
   "cell_type": "code",
   "execution_count": 13,
   "id": "2a7af239",
   "metadata": {},
   "outputs": [],
   "source": [
    "LOCATION = r\"C:\\Users\\lms46\\Desktop\\fulfill\\instantclient_fulfill\"\n",
    "os.environ[\"PATH\"] = LOCATION + \";\" + os.environ[\"PATH\"]\n",
    "cx_Oracle.init_oracle_client(lib_dir=LOCATION)\n",
    "\n",
    "connection = cx_Oracle.connect(\n",
    "    user='dw_fulfill', password='fulfillment123QWE!@#', dsn='fulfill_high'\n",
    "\n",
    ")\n",
    "cursor = connection.cursor()"
   ]
  },
  {
   "cell_type": "code",
   "execution_count": 61,
   "id": "77635146",
   "metadata": {},
   "outputs": [],
   "source": [
    "ml_sub = 'SVC_CCH_23011901'"
   ]
  },
  {
   "cell_type": "code",
   "execution_count": 90,
   "id": "2433a184",
   "metadata": {},
   "outputs": [],
   "source": [
    "ml_status_db = cursor.execute(f'select * from MAIL_STATUS where ML_SUB = (:name1)',name1=ml_sub)"
   ]
  },
  {
   "cell_type": "code",
   "execution_count": 91,
   "id": "94bd0192",
   "metadata": {},
   "outputs": [],
   "source": [
    "for ml in ml_status_db:\n",
    "    df_status = pd.DataFrame(ml)"
   ]
  },
  {
   "cell_type": "code",
   "execution_count": 104,
   "id": "53c162fa",
   "metadata": {
    "scrolled": true
   },
   "outputs": [
    {
     "data": {
      "text/html": [
       "<div>\n",
       "<style scoped>\n",
       "    .dataframe tbody tr th:only-of-type {\n",
       "        vertical-align: middle;\n",
       "    }\n",
       "\n",
       "    .dataframe tbody tr th {\n",
       "        vertical-align: top;\n",
       "    }\n",
       "\n",
       "    .dataframe thead th {\n",
       "        text-align: right;\n",
       "    }\n",
       "</style>\n",
       "<table border=\"1\" class=\"dataframe\">\n",
       "  <thead>\n",
       "    <tr style=\"text-align: right;\">\n",
       "      <th></th>\n",
       "      <th>1</th>\n",
       "      <th>2</th>\n",
       "      <th>3</th>\n",
       "      <th>4</th>\n",
       "    </tr>\n",
       "  </thead>\n",
       "  <tbody>\n",
       "    <tr>\n",
       "      <th>0</th>\n",
       "      <td>SVC_CCH_23011901</td>\n",
       "      <td>REQUESTED</td>\n",
       "      <td>2023-01-23 21:50:30</td>\n",
       "      <td>1_Requests</td>\n",
       "    </tr>\n",
       "  </tbody>\n",
       "</table>\n",
       "</div>"
      ],
      "text/plain": [
       "                  1          2                    3           4\n",
       "0  SVC_CCH_23011901  REQUESTED  2023-01-23 21:50:30  1_Requests"
      ]
     },
     "execution_count": 104,
     "metadata": {},
     "output_type": "execute_result"
    }
   ],
   "source": [
    "df_status.T[[1,2,3,4]]"
   ]
  },
  {
   "cell_type": "code",
   "execution_count": null,
   "id": "767a7317",
   "metadata": {},
   "outputs": [],
   "source": [
    "argu = 'SVC_CCH_23011901'"
   ]
  },
  {
   "cell_type": "code",
   "execution_count": 7,
   "id": "2cfa7445",
   "metadata": {},
   "outputs": [],
   "source": [
    "def DataWarehouse():\n",
    "    try:\n",
    "        os.environ[\"PATH\"] = LOCATION + \";\" + os.environ[\"PATH\"]\n",
    "        cx_Oracle.init_oracle_client(lib_dir=LOCATION)\n",
    "        connection = cx_Oracle.connect(\n",
    "            user='dw_fulfill', password='fulfillment123QWE!@#', dsn='fulfill_high'\n",
    "\n",
    "        )\n",
    "        cursor = connection.cursor()\n",
    "        return cursor\n",
    "\n",
    "    except:\n",
    "\n",
    "        connection = cx_Oracle.connect(\n",
    "            user='dw_fulfill', password='fulfillment123QWE!@#', dsn='fulfill_high'\n",
    "\n",
    "        )\n",
    "        cursor = connection.cursor()\n",
    "        return cursor"
   ]
  },
  {
   "cell_type": "code",
   "execution_count": 8,
   "id": "01a31bcb",
   "metadata": {},
   "outputs": [],
   "source": [
    "def get_mail_status(ml_sub):\n",
    "    \"\"\"\n",
    "    메일제목을 argument로 받으면 현재상태의 해당 메일의 현재 ML_BIN, STATUS를 반환 \n",
    "    \"\"\"\n",
    "    ml_sub = ml_sub.replace('_prfm','')\n",
    "    cur = DataWarehouse()\n",
    "    query = 'select * from MAIL_STATUS where ML_SUB = (:name1)'\n",
    "    db_obj = cur.execute(query, name1= ml_sub)\n",
    "    df_status = pd.DataFrame(db_obj.fetchall())\n",
    "    # 최신 날짜로 업데이트된 부분만 가져오기\n",
    "    df_status = df_status.sort_values(3,ascending=False).iloc[[0]][[1,2,3,4]]\n",
    "    return df_status\n"
   ]
  },
  {
   "cell_type": "code",
   "execution_count": 179,
   "id": "e93e9511",
   "metadata": {},
   "outputs": [
    {
     "data": {
      "text/html": [
       "<div>\n",
       "<style scoped>\n",
       "    .dataframe tbody tr th:only-of-type {\n",
       "        vertical-align: middle;\n",
       "    }\n",
       "\n",
       "    .dataframe tbody tr th {\n",
       "        vertical-align: top;\n",
       "    }\n",
       "\n",
       "    .dataframe thead th {\n",
       "        text-align: right;\n",
       "    }\n",
       "</style>\n",
       "<table border=\"1\" class=\"dataframe\">\n",
       "  <thead>\n",
       "    <tr style=\"text-align: right;\">\n",
       "      <th></th>\n",
       "      <th>1</th>\n",
       "      <th>2</th>\n",
       "      <th>3</th>\n",
       "      <th>4</th>\n",
       "    </tr>\n",
       "  </thead>\n",
       "  <tbody>\n",
       "    <tr>\n",
       "      <th>0</th>\n",
       "      <td>SVC_CCH_23011901</td>\n",
       "      <td>REQUESTED</td>\n",
       "      <td>2023-01-23 21:50:30</td>\n",
       "      <td>1_Requests</td>\n",
       "    </tr>\n",
       "  </tbody>\n",
       "</table>\n",
       "</div>"
      ],
      "text/plain": [
       "                  1          2                    3           4\n",
       "0  SVC_CCH_23011901  REQUESTED  2023-01-23 21:50:30  1_Requests"
      ]
     },
     "execution_count": 179,
     "metadata": {},
     "output_type": "execute_result"
    }
   ],
   "source": [
    "get_mail_status(ml_sub)"
   ]
  },
  {
   "cell_type": "code",
   "execution_count": 178,
   "id": "f77e949f",
   "metadata": {},
   "outputs": [
    {
     "data": {
      "text/plain": [
       "'SVC_CCH_23011901'"
      ]
     },
     "execution_count": 178,
     "metadata": {},
     "output_type": "execute_result"
    }
   ],
   "source": [
    "msg = get_email_obj(get_mail_status(ml_sub)[4][0])\n",
    "\n",
    "find_ms = []\n",
    "for ms in msg :\n",
    "    if ms.Subject == ml_sub:\n",
    "        find_ms.append(ms)\n",
    "find_ms[0].Subject"
   ]
  },
  {
   "cell_type": "code",
   "execution_count": 133,
   "id": "9d9bff1f",
   "metadata": {},
   "outputs": [
    {
     "data": {
      "text/html": [
       "<div>\n",
       "<style scoped>\n",
       "    .dataframe tbody tr th:only-of-type {\n",
       "        vertical-align: middle;\n",
       "    }\n",
       "\n",
       "    .dataframe tbody tr th {\n",
       "        vertical-align: top;\n",
       "    }\n",
       "\n",
       "    .dataframe thead th {\n",
       "        text-align: right;\n",
       "    }\n",
       "</style>\n",
       "<table border=\"1\" class=\"dataframe\">\n",
       "  <thead>\n",
       "    <tr style=\"text-align: right;\">\n",
       "      <th></th>\n",
       "    </tr>\n",
       "  </thead>\n",
       "  <tbody>\n",
       "  </tbody>\n",
       "</table>\n",
       "</div>"
      ],
      "text/plain": [
       "Empty DataFrame\n",
       "Columns: []\n",
       "Index: []"
      ]
     },
     "execution_count": 133,
     "metadata": {},
     "output_type": "execute_result"
    }
   ],
   "source": [
    "df_status = get_mail_status()\n",
    "df_status"
   ]
  },
  {
   "cell_type": "code",
   "execution_count": 130,
   "id": "6564ade0",
   "metadata": {},
   "outputs": [],
   "source": [
    "df_status[3] = pd.to_datetime(df_status[3], format='%Y-%m-%d %H:%M:%S', errors='raise')"
   ]
  },
  {
   "cell_type": "code",
   "execution_count": 131,
   "id": "730c9920",
   "metadata": {},
   "outputs": [
    {
     "data": {
      "text/plain": [
       "0   2023-01-23 21:50:30\n",
       "Name: 3, dtype: datetime64[ns]"
      ]
     },
     "execution_count": 131,
     "metadata": {},
     "output_type": "execute_result"
    }
   ],
   "source": [
    "df_status[3]"
   ]
  },
  {
   "cell_type": "code",
   "execution_count": 117,
   "id": "230a44b3",
   "metadata": {},
   "outputs": [
    {
     "data": {
      "text/html": [
       "<div>\n",
       "<style scoped>\n",
       "    .dataframe tbody tr th:only-of-type {\n",
       "        vertical-align: middle;\n",
       "    }\n",
       "\n",
       "    .dataframe tbody tr th {\n",
       "        vertical-align: top;\n",
       "    }\n",
       "\n",
       "    .dataframe thead th {\n",
       "        text-align: right;\n",
       "    }\n",
       "</style>\n",
       "<table border=\"1\" class=\"dataframe\">\n",
       "  <thead>\n",
       "    <tr style=\"text-align: right;\">\n",
       "      <th></th>\n",
       "      <th>0</th>\n",
       "      <th>1</th>\n",
       "      <th>2</th>\n",
       "      <th>3</th>\n",
       "      <th>4</th>\n",
       "    </tr>\n",
       "  </thead>\n",
       "  <tbody>\n",
       "    <tr>\n",
       "      <th>0</th>\n",
       "      <td>7</td>\n",
       "      <td>SVC_CCH_23011901</td>\n",
       "      <td>REQUESTED</td>\n",
       "      <td>2023-01-23 21:50:30</td>\n",
       "      <td>1_Requests</td>\n",
       "    </tr>\n",
       "    <tr>\n",
       "      <th>1</th>\n",
       "      <td>8</td>\n",
       "      <td>SVC_LMR_23011902</td>\n",
       "      <td>REQUESTED</td>\n",
       "      <td>2023-01-23 21:50:30</td>\n",
       "      <td>1_Requests</td>\n",
       "    </tr>\n",
       "    <tr>\n",
       "      <th>2</th>\n",
       "      <td>9</td>\n",
       "      <td>SVC_LWW_23011903</td>\n",
       "      <td>REQUESTED</td>\n",
       "      <td>2023-01-23 21:50:30</td>\n",
       "      <td>1_Requests</td>\n",
       "    </tr>\n",
       "  </tbody>\n",
       "</table>\n",
       "</div>"
      ],
      "text/plain": [
       "   0                 1          2                    3           4\n",
       "0  7  SVC_CCH_23011901  REQUESTED  2023-01-23 21:50:30  1_Requests\n",
       "1  8  SVC_LMR_23011902  REQUESTED  2023-01-23 21:50:30  1_Requests\n",
       "2  9  SVC_LWW_23011903  REQUESTED  2023-01-23 21:50:30  1_Requests"
      ]
     },
     "execution_count": 117,
     "metadata": {},
     "output_type": "execute_result"
    }
   ],
   "source": [
    "tmp_rows = cursor.execute('select * from MAIL_STATUS')\n",
    "rows_tmp = []\n",
    "for row in tmp_rows:\n",
    "    rows_tmp.append(row)\n",
    "pd.DataFrame(rows_tmp)"
   ]
  },
  {
   "cell_type": "code",
   "execution_count": 174,
   "id": "2a181a21",
   "metadata": {},
   "outputs": [],
   "source": [
    "tmp_rows = cursor.execute('select * from MAIL_STATUS')\n",
    "df_status = pd.DataFrame(tmp_rows.fetchall())\n",
    "df_status[3] = pd.to_datetime(df_status[3], format='%Y-%m-%d %H:%M:%S', errors='raise')"
   ]
  },
  {
   "cell_type": "code",
   "execution_count": 175,
   "id": "1d7c8ef9",
   "metadata": {},
   "outputs": [],
   "source": [
    "df_status = df_status.sort_values(3,ascending=False).iloc[[0]]"
   ]
  },
  {
   "cell_type": "code",
   "execution_count": 176,
   "id": "80913f0b",
   "metadata": {
    "scrolled": false
   },
   "outputs": [
    {
     "data": {
      "text/html": [
       "<div>\n",
       "<style scoped>\n",
       "    .dataframe tbody tr th:only-of-type {\n",
       "        vertical-align: middle;\n",
       "    }\n",
       "\n",
       "    .dataframe tbody tr th {\n",
       "        vertical-align: top;\n",
       "    }\n",
       "\n",
       "    .dataframe thead th {\n",
       "        text-align: right;\n",
       "    }\n",
       "</style>\n",
       "<table border=\"1\" class=\"dataframe\">\n",
       "  <thead>\n",
       "    <tr style=\"text-align: right;\">\n",
       "      <th></th>\n",
       "      <th>0</th>\n",
       "      <th>1</th>\n",
       "      <th>2</th>\n",
       "      <th>3</th>\n",
       "      <th>4</th>\n",
       "    </tr>\n",
       "  </thead>\n",
       "  <tbody>\n",
       "    <tr>\n",
       "      <th>0</th>\n",
       "      <td>7</td>\n",
       "      <td>SVC_CCH_23011901</td>\n",
       "      <td>REQUESTED</td>\n",
       "      <td>2023-01-23 21:50:30</td>\n",
       "      <td>1_Requests</td>\n",
       "    </tr>\n",
       "  </tbody>\n",
       "</table>\n",
       "</div>"
      ],
      "text/plain": [
       "   0                 1          2                   3           4\n",
       "0  7  SVC_CCH_23011901  REQUESTED 2023-01-23 21:50:30  1_Requests"
      ]
     },
     "execution_count": 176,
     "metadata": {},
     "output_type": "execute_result"
    }
   ],
   "source": [
    "df_status"
   ]
  },
  {
   "cell_type": "markdown",
   "id": "514ea096",
   "metadata": {},
   "source": [
    "# 프린팅 \n",
    "\n",
    "- 받는 agru는 ml_sub\n",
    "\n",
    "1. 프린트하기 누르면 프린트 3장\n",
    "    - **프린트가 되지 않은상태에서는 아래 모든 작업들이 이루어져서는 안된다.**\n",
    "    - 다시프린트 하는 경우에는 아래 프로세스는 진행하면 안됨\n",
    "2. 프린트 완료되면, 해당 상태 PROCESSING으로 업데이트 및 메일도 2_Processing으로 이동 move_mail(), insert_data()\n",
    "3. excel상에도 PROCESSING으로 변경 \n",
    "4. SHIP_CONFIRM 컬럼에 버튼 생성\n",
    "5. excel 상에서 SHIPPED 및 MAIL_STATUS SHIPPED 변경 및 해당 메일 3_ShipConfirmed 폴더로 이동  move_mail(), insert_data()"
   ]
  },
  {
   "cell_type": "code",
   "execution_count": 2,
   "id": "6aae76d9",
   "metadata": {},
   "outputs": [],
   "source": [
    "from datetime import datetime"
   ]
  },
  {
   "cell_type": "code",
   "execution_count": 3,
   "id": "8ce38870",
   "metadata": {},
   "outputs": [],
   "source": [
    "def move_mail(from_fd,to_fd,req_type=\"SVC\",ml_index=None):\n",
    "    \"\"\"\n",
    "    메일 폴더간 이동 모듈///\n",
    "    \"\"\"\n",
    "    outlook = cli.Dispatch(\"Outlook.Application\").GetNamespace(\"MAPI\") # 아웃룩\n",
    "    inbox = outlook.GetDefaultFolder(6) # 받은편지함\n",
    "    request_folder = outlook.GetDefaultFolder(6).Parent.Folders('1_Requests') # 1번폴더\n",
    "    process_folder = outlook.GetDefaultFolder(6).Parent.Folders('2_Processing') # 2번폴더\n",
    "    shipped_folder = outlook.GetDefaultFolder(6).Parent.Folders('3_ShipConfirmed') # 3번폴더\n",
    "\n",
    "    \n",
    "    ml_folders = ['inbox','1_Requests', '2_Processing', '3_ShipConfirmed']\n",
    "\n",
    "    fd_dict = {\n",
    "\n",
    "        ml_folders[0]:inbox, ml_folders[1]:request_folder, ml_folders[2]:process_folder,ml_folders[3]:shipped_folder\n",
    "    }\n",
    "\n",
    "\n",
    "    from_fd = fd_dict[from_fd]\n",
    "    to_fd = fd_dict[to_fd]\n",
    "\n",
    "    part_request = []\n",
    "    if ml_index == None:\n",
    "        for ms in from_fd.Items:\n",
    "            if req_type in ms.Subject:\n",
    "                part_request.append(ms)\n",
    "    else :\n",
    "        for ms in from_fd.Items:\n",
    "            if ml_index in ms.Subject:\n",
    "                part_request.append(ms)\n",
    "        \n",
    "        # from_folder내용이 없을 경우\n",
    "        if len(part_request) == 0:\n",
    "            return None\n",
    "        else :\n",
    "            for ms in part_request:\n",
    "                if req_type in ms.Subject:\n",
    "                    ms.Move(to_fd)"
   ]
  },
  {
   "cell_type": "code",
   "execution_count": 108,
   "id": "00e60614",
   "metadata": {},
   "outputs": [],
   "source": [
    "def get_mail_status(ml_sub):\n",
    "    \"\"\"\n",
    "    메일제목을 argument로 받으면 현재상태의 해당 메일의 현재 ML_BIN, STATUS를 반환 \n",
    "    \"\"\"\n",
    "    ml_sub = ml_sub.replace('_prfm','')\n",
    "    cur = DataWarehouse()\n",
    "    query = 'select * from MAIL_STATUS where ML_SUB = (:name1)'\n",
    "    db_obj = cur.execute(query, name1= ml_sub)\n",
    "    df_status = pd.DataFrame(db_obj.fetchall())\n",
    "    # 최신 날짜로 업데이트된 부분만 가져오기\n",
    "    df_status = df_status.sort_values(3,ascending=False).iloc[[0]].reset_index(drop=True)\n",
    "#     df_status = df_status.sort_values(3,ascending=False).iloc[[0]][[1,2,3,4]]\n",
    "    return df_status"
   ]
  },
  {
   "cell_type": "code",
   "execution_count": 96,
   "id": "51b6f2ea",
   "metadata": {},
   "outputs": [],
   "source": [
    "ml_index = 'SVC_LWW_23011903'\n",
    "ml_status = ['REQUESTED','PROCESSING', 'SHIPPED']\n",
    "ml_folders = ['inbox','1_Requests', '2_Processing', '3_ShipConfirmed']\n",
    "\n",
    "ml_dict = dict(zip(ml_status,ml_folders[1:]))\n",
    "ml_status_to = 'PROCESSING'\n",
    "bin_folder_to = '2_Processing'"
   ]
  },
  {
   "cell_type": "code",
   "execution_count": 111,
   "id": "3a79980c",
   "metadata": {},
   "outputs": [],
   "source": [
    "# def update_status(self,ml_index,ml_status,bin_folder,req_type=\"SVC\"):\n",
    "current_df = get_mail_status(ml_index)"
   ]
  },
  {
   "cell_type": "code",
   "execution_count": 112,
   "id": "c16eac11",
   "metadata": {},
   "outputs": [
    {
     "data": {
      "text/html": [
       "<div>\n",
       "<style scoped>\n",
       "    .dataframe tbody tr th:only-of-type {\n",
       "        vertical-align: middle;\n",
       "    }\n",
       "\n",
       "    .dataframe tbody tr th {\n",
       "        vertical-align: top;\n",
       "    }\n",
       "\n",
       "    .dataframe thead th {\n",
       "        text-align: right;\n",
       "    }\n",
       "</style>\n",
       "<table border=\"1\" class=\"dataframe\">\n",
       "  <thead>\n",
       "    <tr style=\"text-align: right;\">\n",
       "      <th></th>\n",
       "      <th>0</th>\n",
       "      <th>1</th>\n",
       "      <th>2</th>\n",
       "      <th>3</th>\n",
       "      <th>4</th>\n",
       "    </tr>\n",
       "  </thead>\n",
       "  <tbody>\n",
       "    <tr>\n",
       "      <th>0</th>\n",
       "      <td>21</td>\n",
       "      <td>SVC_LWW_23011903</td>\n",
       "      <td>SHIPPED</td>\n",
       "      <td>2023-01-26 23:49:13</td>\n",
       "      <td>3_ShipConfirmed</td>\n",
       "    </tr>\n",
       "  </tbody>\n",
       "</table>\n",
       "</div>"
      ],
      "text/plain": [
       "    0                 1        2                    3                4\n",
       "0  21  SVC_LWW_23011903  SHIPPED  2023-01-26 23:49:13  3_ShipConfirmed"
      ]
     },
     "execution_count": 112,
     "metadata": {},
     "output_type": "execute_result"
    }
   ],
   "source": [
    "current_df"
   ]
  },
  {
   "cell_type": "code",
   "execution_count": 15,
   "id": "0279c6e7",
   "metadata": {},
   "outputs": [
    {
     "data": {
      "text/plain": [
       "'2023-01-26 21:36:00'"
      ]
     },
     "execution_count": 15,
     "metadata": {},
     "output_type": "execute_result"
    }
   ],
   "source": [
    "str(datetime.now()).split('.')[0]"
   ]
  },
  {
   "cell_type": "code",
   "execution_count": 16,
   "id": "7193f77d",
   "metadata": {},
   "outputs": [],
   "source": [
    "# 해당 인덱스가 어떤 행에 있는지 확인해야함\n",
    "def get_empty_row(sheet=wb_cy.selection.sheet,col=1):\n",
    "    \"\"\"\n",
    "    특정컬럼의 마지막 값의 행번호 구하기\n",
    "    \"\"\"\n",
    "    sel_sht = sheet\n",
    "    col_num = col\n",
    "    if type(col) == int :\n",
    "        row_start_nm = sel_sht.range(1048576,col_num).end('up').row + 1 \n",
    "    elif type(col) == str :\n",
    "        row_start_nm = sel_sht.range(col+str(1048576)).end('up').row + 1 \n",
    "    return row_start_nm"
   ]
  },
  {
   "cell_type": "code",
   "execution_count": 17,
   "id": "ea1d2cc9",
   "metadata": {},
   "outputs": [
    {
     "data": {
      "text/plain": [
       "15"
      ]
     },
     "execution_count": 17,
     "metadata": {},
     "output_type": "execute_result"
    }
   ],
   "source": [
    "ws_main= wb_cy.sheets['통합제어']\n",
    "last_row = get_empty_row(col='J')\n",
    "last_row"
   ]
  },
  {
   "cell_type": "code",
   "execution_count": 18,
   "id": "c14cde67",
   "metadata": {},
   "outputs": [
    {
     "data": {
      "text/plain": [
       "'SVC_CCH_23011901'"
      ]
     },
     "execution_count": 18,
     "metadata": {},
     "output_type": "execute_result"
    }
   ],
   "source": [
    "idx_list = ws_main.range((12,\"J\"),(last_row-1,'J')).options(numbers=int).value\n",
    "idx_nm = idx_list.index(ml_index)\n",
    "idx_list[idx_nm]"
   ]
  },
  {
   "cell_type": "code",
   "execution_count": 19,
   "id": "9643562b",
   "metadata": {},
   "outputs": [],
   "source": [
    "\n",
    "\n",
    "\n",
    "# 엑셀상 STATUS \"Q\"\n",
    "ws_main.range(12+idx_nm,17).value = ml_status[1]"
   ]
  },
  {
   "cell_type": "code",
   "execution_count": 22,
   "id": "67cc71e2",
   "metadata": {},
   "outputs": [],
   "source": [
    "# SHIP_CONFIRM \"S\" 버튼생성\n",
    "sh_conf= ws_main.range(12+idx_nm,19)\n",
    "\n",
    "cel_left_sf = sh_conf.left\n",
    "cel_top_sf = sh_conf.top\n",
    "cel_width_sf = sh_conf.width\n",
    "cel_height_sf = sh_conf.height\n",
    "\n",
    "ws_main.api.Shapes.AddShape(125, cel_left_sf, cel_top_sf, cel_width_sf, cel_height_sf)\n",
    "\n",
    "ws_main.shapes[-1].name = ml_index+'_shcf'\n",
    "# 생성된 ship_confrim 버튼 객체\n",
    "obj_shcf = ws_main.shapes[ml_index+'_shcf']\n",
    "obj_shcf.text = '발송완료'\n",
    "obj_shcf.api.TextFrame.HorizontalAlignment = 2\n",
    "obj_shcf.api.TextFrame.VerticalAlignment = 2"
   ]
  },
  {
   "cell_type": "code",
   "execution_count": 33,
   "id": "a511a724",
   "metadata": {},
   "outputs": [],
   "source": [
    "# 메일 이동\n",
    "move_mail('1_Requests','2_Processing',ml_index=ml_index)"
   ]
  },
  {
   "cell_type": "code",
   "execution_count": 42,
   "id": "652b4a10",
   "metadata": {},
   "outputs": [],
   "source": [
    "\n"
   ]
  },
  {
   "cell_type": "code",
   "execution_count": 66,
   "id": "0e5fcb6e",
   "metadata": {
    "scrolled": false
   },
   "outputs": [
    {
     "name": "stderr",
     "output_type": "stream",
     "text": [
      "C:\\Users\\lms46\\AppData\\Local\\Temp\\ipykernel_26744\\975290178.py:7: SettingWithCopyWarning: \n",
      "A value is trying to be set on a copy of a slice from a DataFrame\n",
      "\n",
      "See the caveats in the documentation: https://pandas.pydata.org/pandas-docs/stable/user_guide/indexing.html#returning-a-view-versus-a-copy\n",
      "  current_df[2][0] = ml_status_to\n",
      "C:\\Users\\lms46\\AppData\\Local\\Temp\\ipykernel_26744\\975290178.py:9: SettingWithCopyWarning: \n",
      "A value is trying to be set on a copy of a slice from a DataFrame\n",
      "\n",
      "See the caveats in the documentation: https://pandas.pydata.org/pandas-docs/stable/user_guide/indexing.html#returning-a-view-versus-a-copy\n",
      "  current_df[3][0] = now\n",
      "C:\\Users\\lms46\\AppData\\Local\\Temp\\ipykernel_26744\\975290178.py:11: SettingWithCopyWarning: \n",
      "A value is trying to be set on a copy of a slice from a DataFrame\n",
      "\n",
      "See the caveats in the documentation: https://pandas.pydata.org/pandas-docs/stable/user_guide/indexing.html#returning-a-view-versus-a-copy\n",
      "  current_df[4][0] = bin_folder_to\n"
     ]
    },
    {
     "data": {
      "text/html": [
       "<div>\n",
       "<style scoped>\n",
       "    .dataframe tbody tr th:only-of-type {\n",
       "        vertical-align: middle;\n",
       "    }\n",
       "\n",
       "    .dataframe tbody tr th {\n",
       "        vertical-align: top;\n",
       "    }\n",
       "\n",
       "    .dataframe thead th {\n",
       "        text-align: right;\n",
       "    }\n",
       "</style>\n",
       "<table border=\"1\" class=\"dataframe\">\n",
       "  <thead>\n",
       "    <tr style=\"text-align: right;\">\n",
       "      <th></th>\n",
       "      <th>0</th>\n",
       "      <th>1</th>\n",
       "      <th>2</th>\n",
       "      <th>3</th>\n",
       "      <th>4</th>\n",
       "    </tr>\n",
       "  </thead>\n",
       "  <tbody>\n",
       "    <tr>\n",
       "      <th>0</th>\n",
       "      <td>NaN</td>\n",
       "      <td>SVC_CCH_23011901</td>\n",
       "      <td>PROCESSING</td>\n",
       "      <td>2023-01-26 22:53:14</td>\n",
       "      <td>2_Processing</td>\n",
       "    </tr>\n",
       "  </tbody>\n",
       "</table>\n",
       "</div>"
      ],
      "text/plain": [
       "    0                 1           2                    3             4\n",
       "0 NaN  SVC_CCH_23011901  PROCESSING  2023-01-26 22:53:14  2_Processing"
      ]
     },
     "execution_count": 66,
     "metadata": {},
     "output_type": "execute_result"
    }
   ],
   "source": [
    "# 현재시간\n",
    "now = str(datetime.now()).split('.')[0]\n",
    "# 메일 상태 db 업데이트\n",
    "# index 는 None이어야 자동 증분\n",
    "current_df[0][0] = None\n",
    "# 상태 업데이트\n",
    "current_df[2][0] = ml_status_to\n",
    "# 업데이트시간\n",
    "current_df[3][0] = now\n",
    "# 아웃룩상 폴더\n",
    "current_df[4][0] = bin_folder_to\n",
    "current_df"
   ]
  },
  {
   "cell_type": "code",
   "execution_count": 81,
   "id": "3d8702ec",
   "metadata": {},
   "outputs": [
    {
     "data": {
      "text/plain": [
       "'PROCESSING'"
      ]
     },
     "execution_count": 81,
     "metadata": {},
     "output_type": "execute_result"
    }
   ],
   "source": [
    "current_df[2][0]"
   ]
  },
  {
   "cell_type": "code",
   "execution_count": 67,
   "id": "3a71d8d8",
   "metadata": {},
   "outputs": [],
   "source": [
    "list_c_df = list(current_df.loc[0])"
   ]
  },
  {
   "cell_type": "code",
   "execution_count": 70,
   "id": "df3e2ca6",
   "metadata": {},
   "outputs": [],
   "source": [
    "list_c_df[0]=None"
   ]
  },
  {
   "cell_type": "code",
   "execution_count": 76,
   "id": "761a244b",
   "metadata": {},
   "outputs": [
    {
     "data": {
      "text/plain": [
       "str"
      ]
     },
     "execution_count": 76,
     "metadata": {},
     "output_type": "execute_result"
    }
   ],
   "source": [
    "df_ms = pd.DataFrame(list_c_df).T\n",
    "type(df_ms[3][0])"
   ]
  },
  {
   "cell_type": "code",
   "execution_count": 79,
   "id": "7c472498",
   "metadata": {},
   "outputs": [
    {
     "data": {
      "text/plain": [
       "<Range [cytiva.xlsm]통합제어!$Q$12>"
      ]
     },
     "execution_count": 79,
     "metadata": {},
     "output_type": "execute_result"
    }
   ],
   "source": [
    "ws_main.range((12+idx_nm,'Q'))"
   ]
  },
  {
   "cell_type": "markdown",
   "id": "3f603f08",
   "metadata": {},
   "source": [
    "# Ship_confirm하기\n",
    "1. ship_confirm 매서드생성\n",
    "    - 메일연결 기능생성시 메일 status에따라 생성된다.\n",
    "    - print btn을 누르면 생성되는 버튼\n",
    "    - index + \"_shcf\"으로 버튼이름은 생성된다.\n",
    "2. 해당 기능은 준비한 품목이 배송팀으로 정상 전달되었거나, 직접 발송을 하였을 경우 진행된다.\n",
    "    - 모든 db 이동 및 excel상의 상태변화는 실제 행하는 일이 일어난 경우에 진행된다.\n",
    "3. 메일 이동 프로세싱 에서 쉽컨펌드로\n",
    "4. STATUS는 쉰컨펌드로\n",
    "5. 발송완료 버튼은 비활성화 \n",
    "    - if status == 쉽컨펌드 -> 아무런 반응 없도록\n",
    "6. MAIL_STAUS ship_confrimed로 변환 \n",
    "7. GOGOX상의 시스템으로 해당 배송건을 넘겨받는다면 해당 배송건은 추적가능 할 수있다.\n",
    "    - GOGOX의 API를 넘겨받는 조건하에 가능..\n",
    "   "
   ]
  },
  {
   "cell_type": "code",
   "execution_count": 87,
   "id": "f089a9d8",
   "metadata": {},
   "outputs": [
    {
     "data": {
      "text/plain": [
       "'PROCESSING'"
      ]
     },
     "execution_count": 87,
     "metadata": {},
     "output_type": "execute_result"
    }
   ],
   "source": [
    "xl_state = ws_main.range((12+idx_nm,'Q')).options(numbers=int).value\n",
    "xl_state\n",
    "current_df[2][0]"
   ]
  }
 ],
 "metadata": {
  "kernelspec": {
   "display_name": "Python 3 (ipykernel)",
   "language": "python",
   "name": "python3"
  },
  "language_info": {
   "codemirror_mode": {
    "name": "ipython",
    "version": 3
   },
   "file_extension": ".py",
   "mimetype": "text/x-python",
   "name": "python",
   "nbconvert_exporter": "python",
   "pygments_lexer": "ipython3",
   "version": "3.10.9"
  }
 },
 "nbformat": 4,
 "nbformat_minor": 5
}

{
 "cells": [
  {
   "cell_type": "code",
   "execution_count": 41,
   "id": "a99629f4",
   "metadata": {},
   "outputs": [],
   "source": [
    "import xlwings as xw\n",
    "import pandas as pd\n",
    "wb_cy = xw.Book('cytiva.xlsm')\n",
    "SHEET_NAMES =  ['Temp_DB', 'Shipment information', '인수증', \n",
    "'대리점송장', '대리점 출고대기', '로컬리스트', 'In-Transit part report', '기타리스트',\n",
    " '출고리스트', 'Cytiva Inventory BIN']\n",
    "import win32com.client as cli\n",
    "\n",
    "outlook = cli.Dispatch(\"Outlook.Application\").GetNamespace(\"MAPI\") # 아웃룩\n",
    "inbox = outlook.GetDefaultFolder(6) # 받은편지함\n",
    "msg = inbox.Items #메세지 정보\n",
    "msg_counter = msg.count # 총갯수"
   ]
  },
  {
   "cell_type": "code",
   "execution_count": 8,
   "id": "c8ef4e68",
   "metadata": {},
   "outputs": [
    {
     "data": {
      "text/plain": [
       "23011901"
      ]
     },
     "execution_count": 8,
     "metadata": {},
     "output_type": "execute_result"
    }
   ],
   "source": [
    "shape_name = 'SVC_CCH_23011901'\n",
    "idx = int(shape_name.split('_')[2])\n",
    "idx"
   ]
  },
  {
   "cell_type": "code",
   "execution_count": 36,
   "id": "4fc818a9",
   "metadata": {},
   "outputs": [
    {
     "data": {
      "text/plain": [
       "10"
      ]
     },
     "execution_count": 36,
     "metadata": {},
     "output_type": "execute_result"
    }
   ],
   "source": [
    "ws_main = wb_cy.sheets['통합제어']\n",
    "idx_col = ws_main.range('J12:J500').options(numbers=int).value\n",
    "ws_main.range('J12').column"
   ]
  },
  {
   "cell_type": "code",
   "execution_count": 13,
   "id": "16158b0d",
   "metadata": {},
   "outputs": [],
   "source": [
    "row_nm = idx_col.count(idx)"
   ]
  },
  {
   "cell_type": "code",
   "execution_count": 34,
   "id": "4982a82b",
   "metadata": {},
   "outputs": [
    {
     "data": {
      "text/plain": [
       "'REQUESTED'"
      ]
     },
     "execution_count": 34,
     "metadata": {},
     "output_type": "execute_result"
    }
   ],
   "source": [
    "chs_rng = ws_main.range(11 +row_nm,17)\n",
    "current_status = chs_rng.value\n",
    "current_status"
   ]
  },
  {
   "cell_type": "code",
   "execution_count": 27,
   "id": "8dd75005",
   "metadata": {},
   "outputs": [],
   "source": [
    "ML_STATUS= ['REQUESTED','PROCESSING', 'SHIPPED']\n",
    "\n",
    "ML_FOLDERS = ['inbox','1_Requests', '2_Processing', '3_ShipConfirmed']"
   ]
  },
  {
   "cell_type": "code",
   "execution_count": 39,
   "id": "c9f15d42",
   "metadata": {},
   "outputs": [
    {
     "data": {
      "text/plain": [
       "'1_Requests'"
      ]
     },
     "execution_count": 39,
     "metadata": {},
     "output_type": "execute_result"
    }
   ],
   "source": [
    "ml_dict =dict(zip(ML_STATUS,ML_FOLDERS[1:]))\n",
    "ml_dict[current_status]"
   ]
  },
  {
   "cell_type": "code",
   "execution_count": 49,
   "id": "9b62e7d7",
   "metadata": {},
   "outputs": [],
   "source": [
    "argu_folder = inbox.Parent.Folders(ml_dict[current_status])"
   ]
  },
  {
   "cell_type": "code",
   "execution_count": 50,
   "id": "a29abe52",
   "metadata": {},
   "outputs": [],
   "source": [
    "msg = argu_folder.Items\n",
    "part_request = []\n",
    "service_request = 'SVC'\n",
    "for ms in msg:\n",
    "    if service_request in ms.Subject:\n",
    "        part_request.append(ms)\n",
    "# 서비스만 추출하기\n",
    "\n"
   ]
  },
  {
   "cell_type": "code",
   "execution_count": 52,
   "id": "e992cacc",
   "metadata": {},
   "outputs": [
    {
     "data": {
      "text/plain": [
       "'SVC_CCH_23011901'"
      ]
     },
     "execution_count": 52,
     "metadata": {},
     "output_type": "execute_result"
    }
   ],
   "source": [
    "part_request[0].Subject"
   ]
  },
  {
   "cell_type": "code",
   "execution_count": null,
   "id": "08e08392",
   "metadata": {},
   "outputs": [],
   "source": []
  }
 ],
 "metadata": {
  "kernelspec": {
   "display_name": "Python 3 (ipykernel)",
   "language": "python",
   "name": "python3"
  },
  "language_info": {
   "codemirror_mode": {
    "name": "ipython",
    "version": 3
   },
   "file_extension": ".py",
   "mimetype": "text/x-python",
   "name": "python",
   "nbconvert_exporter": "python",
   "pygments_lexer": "ipython3",
   "version": "3.10.9"
  }
 },
 "nbformat": 4,
 "nbformat_minor": 5
}

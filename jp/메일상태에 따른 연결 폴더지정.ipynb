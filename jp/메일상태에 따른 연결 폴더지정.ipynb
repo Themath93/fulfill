{
 "cells": [
  {
   "cell_type": "code",
   "execution_count": 41,
   "id": "e5e675a7",
   "metadata": {},
   "outputs": [],
   "source": [
    "import xlwings as xw\n",
    "import pandas as pd\n",
    "wb_cy = xw.Book('cytiva.xlsm')\n",
    "SHEET_NAMES =  ['Temp_DB', 'Shipment information', '인수증', \n",
    "'대리점송장', '대리점 출고대기', '로컬리스트', 'In-Transit part report', '기타리스트',\n",
    " '출고리스트', 'Cytiva Inventory BIN']\n",
    "import win32com.client as cli\n",
    "\n",
    "outlook = cli.Dispatch(\"Outlook.Application\").GetNamespace(\"MAPI\") # 아웃룩\n",
    "inbox = outlook.GetDefaultFolder(6) # 받은편지함\n",
    "msg = inbox.Items #메세지 정보\n",
    "msg_counter = msg.count # 총갯수"
   ]
  },
  {
   "cell_type": "code",
   "execution_count": 8,
   "id": "d9f70d8b",
   "metadata": {},
   "outputs": [
    {
     "data": {
      "text/plain": [
       "23011901"
      ]
     },
     "execution_count": 8,
     "metadata": {},
     "output_type": "execute_result"
    }
   ],
   "source": [
    "shape_name = 'SVC_CCH_23011901'\n",
    "idx = int(shape_name.split('_')[2])\n",
    "idx"
   ]
  },
  {
   "cell_type": "code",
   "execution_count": 36,
   "id": "3e7aa741",
   "metadata": {},
   "outputs": [
    {
     "data": {
      "text/plain": [
       "10"
      ]
     },
     "execution_count": 36,
     "metadata": {},
     "output_type": "execute_result"
    }
   ],
   "source": [
    "ws_main = wb_cy.sheets['통합제어']\n",
    "idx_col = ws_main.range('J12:J500').options(numbers=int).value\n",
    "ws_main.range('J12').column"
   ]
  },
  {
   "cell_type": "code",
   "execution_count": 13,
   "id": "136a2773",
   "metadata": {},
   "outputs": [],
   "source": [
    "row_nm = idx_col.count(idx)"
   ]
  },
  {
   "cell_type": "code",
   "execution_count": 34,
   "id": "75932d99",
   "metadata": {},
   "outputs": [
    {
     "data": {
      "text/plain": [
       "'REQUESTED'"
      ]
     },
     "execution_count": 34,
     "metadata": {},
     "output_type": "execute_result"
    }
   ],
   "source": [
    "chs_rng = ws_main.range(11 +row_nm,17)\n",
    "current_status = chs_rng.value\n",
    "current_status"
   ]
  },
  {
   "cell_type": "code",
   "execution_count": 27,
   "id": "10c8ed54",
   "metadata": {},
   "outputs": [],
   "source": [
    "ML_STATUS= ['REQUESTED','PROCESSING', 'SHIPPED']\n",
    "\n",
    "ML_FOLDERS = ['inbox','1_Requests', '2_Processing', '3_ShipConfirmed']"
   ]
  },
  {
   "cell_type": "code",
   "execution_count": 39,
   "id": "de75ece6",
   "metadata": {},
   "outputs": [
    {
     "data": {
      "text/plain": [
       "'1_Requests'"
      ]
     },
     "execution_count": 39,
     "metadata": {},
     "output_type": "execute_result"
    }
   ],
   "source": [
    "ml_dict =dict(zip(ML_STATUS,ML_FOLDERS[1:]))\n",
    "ml_dict[current_status]"
   ]
  },
  {
   "cell_type": "code",
   "execution_count": 49,
   "id": "2b757d93",
   "metadata": {},
   "outputs": [],
   "source": [
    "argu_folder = inbox.Parent.Folders(ml_dict[current_status])"
   ]
  },
  {
   "cell_type": "code",
   "execution_count": 50,
   "id": "c77f370d",
   "metadata": {},
   "outputs": [],
   "source": [
    "msg = argu_folder.Items\n",
    "part_request = []\n",
    "service_request = 'SVC'\n",
    "for ms in msg:\n",
    "    if service_request in ms.Subject:\n",
    "        part_request.append(ms)\n",
    "# 서비스만 추출하기\n",
    "\n"
   ]
  },
  {
   "cell_type": "code",
   "execution_count": 52,
   "id": "f3ab98c5",
   "metadata": {},
   "outputs": [
    {
     "data": {
      "text/plain": [
       "'SVC_CCH_23011901'"
      ]
     },
     "execution_count": 52,
     "metadata": {},
     "output_type": "execute_result"
    }
   ],
   "source": [
    "part_request[0].Subject"
   ]
  },
  {
   "cell_type": "code",
   "execution_count": null,
   "id": "58a4e31b",
   "metadata": {},
   "outputs": [],
   "source": []
  },
  {
   "cell_type": "code",
   "execution_count": null,
   "id": "f9466b83",
   "metadata": {},
   "outputs": [],
   "source": []
  },
  {
   "cell_type": "code",
   "execution_count": 56,
   "id": "698620d8",
   "metadata": {},
   "outputs": [],
   "source": [
    "def get_mail_status(shape_name=None):\n",
    "    \"\"\"\n",
    "    메일제목을 argument로 받으면 현재상태의 해당 메일의 현재 ML_BIN, STATUS를 반환 \n",
    "    \"\"\"\n",
    "    ws_main= wb_cy.sheets['통합제어']\n",
    "    \n",
    "    ml_status = ['REQUESTED','PROCESSING', 'SHIPPED']\n",
    "    ml_folders = ['inbox','1_Requests', '2_Processing', '3_ShipConfirmed']\n",
    "    \n",
    "    ml_dict = dict(zip(ml_status,ml_folders[1:]))\n",
    "    \n",
    "    if shape_name != None:\n",
    "        \n",
    "        shape_name = shape_name.replace('_prfm','')\n",
    "\n",
    "        idx = int(shape_name.split('_')[2])\n",
    "        emp_row_nm = get_empty_row(col='J') ## J = 10, ML_INDEX 컬럼\n",
    "        idx_list = ws_main.range(\"J12:J\"+str(emp_row_nm+1)).options(numbers=int).value\n",
    "        row_nm = idx_list.count(idx)\n",
    "        status_cel = ws_main.range(11 + row_nm,17).value ## Q=17, STATUS 컬럼 , 11 ML_INDEX의 row 번호\n",
    "        fd_bin = ml_dict[status_cel]\n",
    "        ms_list = Email.get_email_obj(fd_bin)\n",
    "    \n",
    "    return ms_list\n",
    "        "
   ]
  },
  {
   "cell_type": "code",
   "execution_count": 54,
   "id": "4100b5c4",
   "metadata": {},
   "outputs": [],
   "source": [
    "def get_email_obj(folder_name = 'inbox'):\n",
    "\n",
    "    outlook = cli.Dispatch(\"Outlook.Application\").GetNamespace(\"MAPI\") # 아웃룩\n",
    "\n",
    "    if folder_name == 'inbox':\n",
    "\n",
    "        argu_folder = outlook.GetDefaultFolder(6) # 받은편지함\n",
    "    else:\n",
    "        argu_folder = outlook.GetDefaultFolder(6).Parent.Folders(folder_name) # 1번폴더\n",
    "\n",
    "\n",
    "    msg = argu_folder.Items #메세지 정보\n",
    "    part_request = []\n",
    "    service_request = 'SVC'\n",
    "    for ms in msg:\n",
    "        if service_request in ms.Subject:\n",
    "            part_request.append(ms)\n",
    "    # 서비스만 추출하기\n",
    "\n",
    "    return part_request"
   ]
  },
  {
   "cell_type": "code",
   "execution_count": 55,
   "id": "5c2e6031",
   "metadata": {},
   "outputs": [],
   "source": [
    "def get_empty_row(sheet=wb_cy.selection.sheet,col=1):\n",
    "    \"\"\"\n",
    "    특정컬럼의 마지막 값의 행번호 구하기\n",
    "    \"\"\"\n",
    "    sel_sht = sheet\n",
    "    col_num = col\n",
    "    if type(col) == int :\n",
    "        row_start_nm = sel_sht.range(1048576,col_num).end('up').row + 1 \n",
    "    elif type(col) == str :\n",
    "        row_start_nm = sel_sht.range(col+str(1048576)).end('up').row + 1 \n",
    "    return row_start_nm"
   ]
  },
  {
   "cell_type": "code",
   "execution_count": null,
   "id": "7bdf83f3",
   "metadata": {},
   "outputs": [],
   "source": [
    "get_mail_status()"
   ]
  },
  {
   "cell_type": "code",
   "execution_count": 59,
   "id": "0df4d5e4",
   "metadata": {},
   "outputs": [],
   "source": [
    "# 제목입력 받으면 oracle도 조회\n",
    "import cx_Oracle\n",
    "import os"
   ]
  },
  {
   "cell_type": "code",
   "execution_count": 111,
   "id": "500671aa",
   "metadata": {},
   "outputs": [],
   "source": [
    "# LOCATION = r\"C:\\Users\\lms46\\Desktop\\fulfill\\instantclient_fulfill\"\n",
    "# os.environ[\"PATH\"] = LOCATION + \";\" + os.environ[\"PATH\"]\n",
    "# cx_Oracle.init_oracle_client(lib_dir=LOCATION)\n",
    "\n",
    "connection = cx_Oracle.connect(\n",
    "    user='dw_fulfill', password='fulfillment123QWE!@#', dsn='fulfill_high'\n",
    "\n",
    ")\n",
    "cursor = connection.cursor()"
   ]
  },
  {
   "cell_type": "code",
   "execution_count": 61,
   "id": "a25b9a2d",
   "metadata": {},
   "outputs": [],
   "source": [
    "ml_sub = 'SVC_CCH_23011901'"
   ]
  },
  {
   "cell_type": "code",
   "execution_count": 90,
   "id": "2cbb3c99",
   "metadata": {},
   "outputs": [],
   "source": [
    "ml_status_db = cursor.execute(f'select * from MAIL_STATUS where ML_SUB = (:name1)',name1=ml_sub)"
   ]
  },
  {
   "cell_type": "code",
   "execution_count": 91,
   "id": "eceda63c",
   "metadata": {},
   "outputs": [],
   "source": [
    "for ml in ml_status_db:\n",
    "    df_status = pd.DataFrame(ml)"
   ]
  },
  {
   "cell_type": "code",
   "execution_count": 104,
   "id": "dc529a3e",
   "metadata": {
    "scrolled": true
   },
   "outputs": [
    {
     "data": {
      "text/html": [
       "<div>\n",
       "<style scoped>\n",
       "    .dataframe tbody tr th:only-of-type {\n",
       "        vertical-align: middle;\n",
       "    }\n",
       "\n",
       "    .dataframe tbody tr th {\n",
       "        vertical-align: top;\n",
       "    }\n",
       "\n",
       "    .dataframe thead th {\n",
       "        text-align: right;\n",
       "    }\n",
       "</style>\n",
       "<table border=\"1\" class=\"dataframe\">\n",
       "  <thead>\n",
       "    <tr style=\"text-align: right;\">\n",
       "      <th></th>\n",
       "      <th>1</th>\n",
       "      <th>2</th>\n",
       "      <th>3</th>\n",
       "      <th>4</th>\n",
       "    </tr>\n",
       "  </thead>\n",
       "  <tbody>\n",
       "    <tr>\n",
       "      <th>0</th>\n",
       "      <td>SVC_CCH_23011901</td>\n",
       "      <td>REQUESTED</td>\n",
       "      <td>2023-01-23 21:50:30</td>\n",
       "      <td>1_Requests</td>\n",
       "    </tr>\n",
       "  </tbody>\n",
       "</table>\n",
       "</div>"
      ],
      "text/plain": [
       "                  1          2                    3           4\n",
       "0  SVC_CCH_23011901  REQUESTED  2023-01-23 21:50:30  1_Requests"
      ]
     },
     "execution_count": 104,
     "metadata": {},
     "output_type": "execute_result"
    }
   ],
   "source": [
    "df_status.T[[1,2,3,4]]"
   ]
  },
  {
   "cell_type": "code",
   "execution_count": null,
   "id": "eed8cb9d",
   "metadata": {},
   "outputs": [],
   "source": [
    "argu = 'SVC_CCH_23011901'"
   ]
  },
  {
   "cell_type": "code",
   "execution_count": 98,
   "id": "2c8a874c",
   "metadata": {},
   "outputs": [],
   "source": [
    "def DataWarehouse():\n",
    "    try:\n",
    "        os.environ[\"PATH\"] = LOCATION + \";\" + os.environ[\"PATH\"]\n",
    "        cx_Oracle.init_oracle_client(lib_dir=LOCATION)\n",
    "        connection = cx_Oracle.connect(\n",
    "            user='dw_fulfill', password='fulfillment123QWE!@#', dsn='fulfill_high'\n",
    "\n",
    "        )\n",
    "        cursor = connection.cursor()\n",
    "        return cursor\n",
    "\n",
    "    except:\n",
    "\n",
    "        connection = cx_Oracle.connect(\n",
    "            user='dw_fulfill', password='fulfillment123QWE!@#', dsn='fulfill_high'\n",
    "\n",
    "        )\n",
    "        cursor = connection.cursor()\n",
    "        return cursor"
   ]
  },
  {
   "cell_type": "code",
   "execution_count": 177,
   "id": "8ebc3ef5",
   "metadata": {},
   "outputs": [],
   "source": [
    "def get_mail_status(ml_sub):\n",
    "    \"\"\"\n",
    "    메일제목을 argument로 받으면 현재상태의 해당 메일의 현재 ML_BIN, STATUS를 반환 \n",
    "    \"\"\"\n",
    "    ml_sub = ml_sub.replace('_prfm','')\n",
    "    cur = DataWarehouse()\n",
    "    query = 'select * from MAIL_STATUS where ML_SUB = (:name1)'\n",
    "    db_obj = cur.execute(query, name1= ml_sub)\n",
    "    df_status = pd.DataFrame(db_obj.fetchall())\n",
    "    # 최신 날짜로 업데이트된 부분만 가져오기\n",
    "    df_status = df_status.sort_values(3,ascending=False).iloc[[0]][[1,2,3,4]]\n",
    "    return df_status\n"
   ]
  },
  {
   "cell_type": "code",
   "execution_count": 179,
   "id": "e494bb1b",
   "metadata": {},
   "outputs": [
    {
     "data": {
      "text/html": [
       "<div>\n",
       "<style scoped>\n",
       "    .dataframe tbody tr th:only-of-type {\n",
       "        vertical-align: middle;\n",
       "    }\n",
       "\n",
       "    .dataframe tbody tr th {\n",
       "        vertical-align: top;\n",
       "    }\n",
       "\n",
       "    .dataframe thead th {\n",
       "        text-align: right;\n",
       "    }\n",
       "</style>\n",
       "<table border=\"1\" class=\"dataframe\">\n",
       "  <thead>\n",
       "    <tr style=\"text-align: right;\">\n",
       "      <th></th>\n",
       "      <th>1</th>\n",
       "      <th>2</th>\n",
       "      <th>3</th>\n",
       "      <th>4</th>\n",
       "    </tr>\n",
       "  </thead>\n",
       "  <tbody>\n",
       "    <tr>\n",
       "      <th>0</th>\n",
       "      <td>SVC_CCH_23011901</td>\n",
       "      <td>REQUESTED</td>\n",
       "      <td>2023-01-23 21:50:30</td>\n",
       "      <td>1_Requests</td>\n",
       "    </tr>\n",
       "  </tbody>\n",
       "</table>\n",
       "</div>"
      ],
      "text/plain": [
       "                  1          2                    3           4\n",
       "0  SVC_CCH_23011901  REQUESTED  2023-01-23 21:50:30  1_Requests"
      ]
     },
     "execution_count": 179,
     "metadata": {},
     "output_type": "execute_result"
    }
   ],
   "source": [
    "get_mail_status(ml_sub)"
   ]
  },
  {
   "cell_type": "code",
   "execution_count": 178,
   "id": "d85b35ee",
   "metadata": {},
   "outputs": [
    {
     "data": {
      "text/plain": [
       "'SVC_CCH_23011901'"
      ]
     },
     "execution_count": 178,
     "metadata": {},
     "output_type": "execute_result"
    }
   ],
   "source": [
    "msg = get_email_obj(get_mail_status(ml_sub)[4][0])\n",
    "\n",
    "find_ms = []\n",
    "for ms in msg :\n",
    "    if ms.Subject == ml_sub:\n",
    "        find_ms.append(ms)\n",
    "find_ms[0].Subject"
   ]
  },
  {
   "cell_type": "code",
   "execution_count": 133,
   "id": "015e4a9f",
   "metadata": {},
   "outputs": [
    {
     "data": {
      "text/html": [
       "<div>\n",
       "<style scoped>\n",
       "    .dataframe tbody tr th:only-of-type {\n",
       "        vertical-align: middle;\n",
       "    }\n",
       "\n",
       "    .dataframe tbody tr th {\n",
       "        vertical-align: top;\n",
       "    }\n",
       "\n",
       "    .dataframe thead th {\n",
       "        text-align: right;\n",
       "    }\n",
       "</style>\n",
       "<table border=\"1\" class=\"dataframe\">\n",
       "  <thead>\n",
       "    <tr style=\"text-align: right;\">\n",
       "      <th></th>\n",
       "    </tr>\n",
       "  </thead>\n",
       "  <tbody>\n",
       "  </tbody>\n",
       "</table>\n",
       "</div>"
      ],
      "text/plain": [
       "Empty DataFrame\n",
       "Columns: []\n",
       "Index: []"
      ]
     },
     "execution_count": 133,
     "metadata": {},
     "output_type": "execute_result"
    }
   ],
   "source": [
    "df_status = get_mail_status()\n",
    "df_status"
   ]
  },
  {
   "cell_type": "code",
   "execution_count": 130,
   "id": "b6a130ed",
   "metadata": {},
   "outputs": [],
   "source": [
    "df_status[3] = pd.to_datetime(df_status[3], format='%Y-%m-%d %H:%M:%S', errors='raise')"
   ]
  },
  {
   "cell_type": "code",
   "execution_count": 131,
   "id": "ab7563a7",
   "metadata": {},
   "outputs": [
    {
     "data": {
      "text/plain": [
       "0   2023-01-23 21:50:30\n",
       "Name: 3, dtype: datetime64[ns]"
      ]
     },
     "execution_count": 131,
     "metadata": {},
     "output_type": "execute_result"
    }
   ],
   "source": [
    "df_status[3]"
   ]
  },
  {
   "cell_type": "code",
   "execution_count": 117,
   "id": "d15d1be2",
   "metadata": {},
   "outputs": [
    {
     "data": {
      "text/html": [
       "<div>\n",
       "<style scoped>\n",
       "    .dataframe tbody tr th:only-of-type {\n",
       "        vertical-align: middle;\n",
       "    }\n",
       "\n",
       "    .dataframe tbody tr th {\n",
       "        vertical-align: top;\n",
       "    }\n",
       "\n",
       "    .dataframe thead th {\n",
       "        text-align: right;\n",
       "    }\n",
       "</style>\n",
       "<table border=\"1\" class=\"dataframe\">\n",
       "  <thead>\n",
       "    <tr style=\"text-align: right;\">\n",
       "      <th></th>\n",
       "      <th>0</th>\n",
       "      <th>1</th>\n",
       "      <th>2</th>\n",
       "      <th>3</th>\n",
       "      <th>4</th>\n",
       "    </tr>\n",
       "  </thead>\n",
       "  <tbody>\n",
       "    <tr>\n",
       "      <th>0</th>\n",
       "      <td>7</td>\n",
       "      <td>SVC_CCH_23011901</td>\n",
       "      <td>REQUESTED</td>\n",
       "      <td>2023-01-23 21:50:30</td>\n",
       "      <td>1_Requests</td>\n",
       "    </tr>\n",
       "    <tr>\n",
       "      <th>1</th>\n",
       "      <td>8</td>\n",
       "      <td>SVC_LMR_23011902</td>\n",
       "      <td>REQUESTED</td>\n",
       "      <td>2023-01-23 21:50:30</td>\n",
       "      <td>1_Requests</td>\n",
       "    </tr>\n",
       "    <tr>\n",
       "      <th>2</th>\n",
       "      <td>9</td>\n",
       "      <td>SVC_LWW_23011903</td>\n",
       "      <td>REQUESTED</td>\n",
       "      <td>2023-01-23 21:50:30</td>\n",
       "      <td>1_Requests</td>\n",
       "    </tr>\n",
       "  </tbody>\n",
       "</table>\n",
       "</div>"
      ],
      "text/plain": [
       "   0                 1          2                    3           4\n",
       "0  7  SVC_CCH_23011901  REQUESTED  2023-01-23 21:50:30  1_Requests\n",
       "1  8  SVC_LMR_23011902  REQUESTED  2023-01-23 21:50:30  1_Requests\n",
       "2  9  SVC_LWW_23011903  REQUESTED  2023-01-23 21:50:30  1_Requests"
      ]
     },
     "execution_count": 117,
     "metadata": {},
     "output_type": "execute_result"
    }
   ],
   "source": [
    "tmp_rows = cursor.execute('select * from MAIL_STATUS')\n",
    "rows_tmp = []\n",
    "for row in tmp_rows:\n",
    "    rows_tmp.append(row)\n",
    "pd.DataFrame(rows_tmp)"
   ]
  },
  {
   "cell_type": "code",
   "execution_count": 174,
   "id": "52ba78ad",
   "metadata": {},
   "outputs": [],
   "source": [
    "tmp_rows = cursor.execute('select * from MAIL_STATUS')\n",
    "df_status = pd.DataFrame(tmp_rows.fetchall())\n",
    "df_status[3] = pd.to_datetime(df_status[3], format='%Y-%m-%d %H:%M:%S', errors='raise')"
   ]
  },
  {
   "cell_type": "code",
   "execution_count": 175,
   "id": "17046835",
   "metadata": {},
   "outputs": [],
   "source": [
    "df_status = df_status.sort_values(3,ascending=False).iloc[[0]]"
   ]
  },
  {
   "cell_type": "code",
   "execution_count": 176,
   "id": "df5526d9",
   "metadata": {},
   "outputs": [
    {
     "data": {
      "text/html": [
       "<div>\n",
       "<style scoped>\n",
       "    .dataframe tbody tr th:only-of-type {\n",
       "        vertical-align: middle;\n",
       "    }\n",
       "\n",
       "    .dataframe tbody tr th {\n",
       "        vertical-align: top;\n",
       "    }\n",
       "\n",
       "    .dataframe thead th {\n",
       "        text-align: right;\n",
       "    }\n",
       "</style>\n",
       "<table border=\"1\" class=\"dataframe\">\n",
       "  <thead>\n",
       "    <tr style=\"text-align: right;\">\n",
       "      <th></th>\n",
       "      <th>0</th>\n",
       "      <th>1</th>\n",
       "      <th>2</th>\n",
       "      <th>3</th>\n",
       "      <th>4</th>\n",
       "    </tr>\n",
       "  </thead>\n",
       "  <tbody>\n",
       "    <tr>\n",
       "      <th>0</th>\n",
       "      <td>7</td>\n",
       "      <td>SVC_CCH_23011901</td>\n",
       "      <td>REQUESTED</td>\n",
       "      <td>2023-01-23 21:50:30</td>\n",
       "      <td>1_Requests</td>\n",
       "    </tr>\n",
       "  </tbody>\n",
       "</table>\n",
       "</div>"
      ],
      "text/plain": [
       "   0                 1          2                   3           4\n",
       "0  7  SVC_CCH_23011901  REQUESTED 2023-01-23 21:50:30  1_Requests"
      ]
     },
     "execution_count": 176,
     "metadata": {},
     "output_type": "execute_result"
    }
   ],
   "source": [
    "df_status"
   ]
  },
  {
   "cell_type": "code",
   "execution_count": null,
   "id": "ddef3656",
   "metadata": {},
   "outputs": [],
   "source": []
  }
 ],
 "metadata": {
  "kernelspec": {
   "display_name": "Python 3 (ipykernel)",
   "language": "python",
   "name": "python3"
  },
  "language_info": {
   "codemirror_mode": {
    "name": "ipython",
    "version": 3
   },
   "file_extension": ".py",
   "mimetype": "text/x-python",
   "name": "python",
   "nbconvert_exporter": "python",
   "pygments_lexer": "ipython3",
   "version": "3.10.9"
  }
 },
 "nbformat": 4,
 "nbformat_minor": 5
}
